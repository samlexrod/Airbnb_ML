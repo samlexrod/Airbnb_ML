{
 "cells": [
  {
   "cell_type": "markdown",
   "metadata": {},
   "source": [
    "# Introduction to the Article Code:\n",
    "\n",
    "This is the code used for the article posted on Medium.com. If you would like to know more about it click the link: [CRISP-DM Regression Analysis in Python](https://medium.com/p/ade4b74bdc85/edit)"
   ]
  },
  {
   "cell_type": "code",
   "execution_count": 15,
   "metadata": {
    "run_control": {
     "marked": true
    }
   },
   "outputs": [],
   "source": [
    "import pandas as pd\n",
    "import os\n",
    "import matplotlib.pyplot as plt\n",
    "import seaborn as sns\n",
    "from helper import cleaning_dollar\n",
    "import matplotlib.pyplot as plt\n",
    "import pandas as pd\n",
    "from pandas.plotting import table\n",
    "from sklearn.preprocessing import OneHotEncoder\n",
    "from sklearn.linear_model import LinearRegression\n",
    "from sklearn.ensemble import RandomForestRegressor\n",
    "from sklearn.model_selection import TimeSeriesSplit\n",
    "from sklearn.preprocessing import StandardScaler\n",
    "from sklearn.preprocessing import MinMaxScaler\n",
    "from sklearn.metrics import mean_squared_error\n",
    "from statsmodels.stats.stattools import durbin_watson\n",
    "from helper import iqr_outlier_detect"
   ]
  },
  {
   "cell_type": "markdown",
   "metadata": {},
   "source": [
    "<a id=\"extract\"></a>"
   ]
  },
  {
   "cell_type": "markdown",
   "metadata": {},
   "source": [
    "# Extracting and Merging the data:"
   ]
  },
  {
   "cell_type": "markdown",
   "metadata": {},
   "source": [
    "## Calendar"
   ]
  },
  {
   "cell_type": "code",
   "execution_count": 16,
   "metadata": {},
   "outputs": [
    {
     "data": {
      "text/plain": [
       "'D:\\\\GitHub\\\\Airbnb_ML'"
      ]
     },
     "execution_count": 16,
     "metadata": {},
     "output_type": "execute_result"
    }
   ],
   "source": [
    "os.getcwd()"
   ]
  },
  {
   "cell_type": "code",
   "execution_count": 10,
   "metadata": {},
   "outputs": [
    {
     "data": {
      "image/png": "[encoded data removed]",
      "text/plain": [
       "<Figure size 432x288 with 1 Axes>"
      ]
     },
     "metadata": {
      "needs_background": "light"
     },
     "output_type": "display_data"
    }
   ],
   "source": [
    "# Extracting the calendar dataset\n",
    "df_calendar = pd.read_csv('data\\calendar.csv')\n",
    "\n",
    "# Extracting the listings dataset\n",
    "target_col = ['id', 'accommodates', 'bedrooms', 'cleaning_fee', 'property_type']\n",
    "df_listings = pd.read_csv('data\\listings.csv')[target_col]\n",
    "\n",
    "# Calculating null values\n",
    "null_calendar = df_calendar.isnull().sum()\n",
    "null_listings = df_listings.isnull().sum()\n",
    "\n",
    "# Show Nulls on Graph\n",
    "null_calendar.plot.barh(title='Calendar Null Counts');"
   ]
  },
  {
   "cell_type": "code",
   "execution_count": 13,
   "metadata": {},
   "outputs": [
    {
     "data": {
      "text/plain": [
       "count                 1393570\n",
       "unique                    365\n",
       "top       2016-12-27 00:00:00\n",
       "freq                     3818\n",
       "first     2016-01-04 00:00:00\n",
       "last      2017-01-02 00:00:00\n",
       "Name: date, dtype: object"
      ]
     },
     "execution_count": 13,
     "metadata": {},
     "output_type": "execute_result"
    }
   ],
   "source": [
    "pd.to_datetime(df_calendar.date).describe()"
   ]
  },
  {
   "cell_type": "markdown",
   "metadata": {},
   "source": [
    "The only feature in the calendar dataset having nulls is price."
   ]
  },
  {
   "cell_type": "markdown",
   "metadata": {},
   "source": [
    "## Listings"
   ]
  },
  {
   "cell_type": "code",
   "execution_count": 4,
   "metadata": {},
   "outputs": [
    {
     "data": {
      "image/png": "[encoded data removed]",
      "text/plain": [
       "<Figure size 720x288 with 1 Axes>"
      ]
     },
     "metadata": {
      "needs_background": "light"
     },
     "output_type": "display_data"
    }
   ],
   "source": [
    "# Plot settings\n",
    "ax = plt.subplot(111, frame_on=True) # no visible frame\n",
    "ax.xaxis.set_visible(False)  # hide the x axis\n",
    "ax.yaxis.set_visible(False)  # hide the y axis\n",
    "\n",
    "# Adding Table\n",
    "table(ax, null_listings)\n",
    "\n",
    "# Showing Graph\n",
    "null_listings.plot.barh(title='Listings Null Counts', figsize=(10,4));"
   ]
  },
  {
   "cell_type": "markdown",
   "metadata": {},
   "source": [
    "The most noticeable feature having nulls is the cleaning fee. Bedrooms and property types have insignificant null values. However, instead of just removing these, we are imputing them for the sake of example. "
   ]
  },
  {
   "cell_type": "markdown",
   "metadata": {},
   "source": [
    "<a id=\"tran\"></a>"
   ]
  },
  {
   "cell_type": "markdown",
   "metadata": {},
   "source": [
    "# Transforming and Cleaning the data:"
   ]
  },
  {
   "cell_type": "markdown",
   "metadata": {},
   "source": [
    "## Calendar"
   ]
  },
  {
   "cell_type": "code",
   "execution_count": 5,
   "metadata": {},
   "outputs": [
    {
     "data": {
      "image/png": "[encoded data removed]",
      "text/plain": [
       "<Figure size 432x288 with 1 Axes>"
      ]
     },
     "metadata": {
      "needs_background": "light"
     },
     "output_type": "display_data"
    }
   ],
   "source": [
    "# Cleaning price\n",
    "df_calendar.loc[:, 'price'] = df_calendar.price.str.findall(\n",
    "    '[^$,]').str.join('').astype(float)\n",
    "\n",
    "# Grouping prices by the available feature\n",
    "df_calendar.groupby('available').count()[['price']].plot.barh(\n",
    "    title=\"Calendar Value Counts by Availability\");"
   ]
  },
  {
   "cell_type": "markdown",
   "metadata": {},
   "source": [
    "Where the prices are null in the calendar dataset, the availability is false (f). This means that the unavailable listings have no price at all. The nulls here are meaningful."
   ]
  },
  {
   "cell_type": "code",
   "execution_count": 6,
   "metadata": {},
   "outputs": [],
   "source": [
    "# Dropping where available is f\n",
    "df_calendar = df_calendar.where(lambda x: x.available=='t').dropna()\n",
    "\n",
    "# Kepp only usefull features for the analysis\n",
    "df_calendar = df_calendar[['listing_id', 'price', 'date']]"
   ]
  },
  {
   "cell_type": "markdown",
   "metadata": {},
   "source": [
    "We ended up dropping the null prices because we will waste our time predicting $0 prices when the listing is not available. Thus, the availability feature ended populated with just True conditions (t). So we dropped it."
   ]
  },
  {
   "cell_type": "code",
   "execution_count": 7,
   "metadata": {},
   "outputs": [
    {
     "data": {
      "image/png": "[encoded data removed]",
      "text/plain": [
       "<Figure size 792x360 with 2 Axes>"
      ]
     },
     "metadata": {
      "needs_background": "light"
     },
     "output_type": "display_data"
    }
   ],
   "source": [
    "# Converting date to date time\n",
    "df_calendar.loc[:, 'date'] = df_calendar.date.apply(pd.to_datetime)\n",
    "\n",
    "# Adding the months ot sort on Graph\n",
    "month_format = lambda x: f\"#{x.month:0>2}\" + ': ' + x.month_name() + ' ' +str(x.year)\n",
    "month_func = lambda x: x.date.apply(month_format)\n",
    "df_calendar = df_calendar.assign(month=month_func)\n",
    "\n",
    "# Plotting settings\n",
    "fig, ax = plt.subplots(ncols=2, nrows=1, figsize=(11, 5))\n",
    "\n",
    "plt.suptitle('Distributions by Month (No Overall Outlier)')\n",
    "plt.subplots_adjust(wspace=.7)\n",
    "\n",
    "# Statistical outlier removal\n",
    "upper_quartile = df_calendar.price.quantile(.75)\n",
    "lower_quartile = df_calendar.price.quantile(.25)\n",
    "interquartile =  upper_quartile - lower_quartile\n",
    "lower_whisker = lower_quartile - interquartile * 1.5\n",
    "upper_whisker = upper_quartile + interquartile * 1.5\n",
    "\n",
    "# Data without outlier to plot\n",
    "df_calendar_noout = df_calendar.query(\n",
    "    f\"price<={upper_whisker} and price>={lower_whisker}\")\n",
    "\n",
    "# Plotting \n",
    "ax[0].set_title('Price Distributions')\n",
    "sns.boxplot(x='price', y='month', data=df_calendar_noout, ax=ax[0]);\n",
    "\n",
    "ax[1].set_title('Listing Count Distributions')\n",
    "sns.countplot(y='month', data=df_calendar_noout, ax=ax[1]);"
   ]
  },
  {
   "cell_type": "code",
   "execution_count": 8,
   "metadata": {
    "scrolled": true
   },
   "outputs": [
    {
     "data": {
      "text/plain": [
       "count                  934542\n",
       "unique                    365\n",
       "top       2017-01-01 00:00:00\n",
       "freq                     2922\n",
       "first     2016-01-04 00:00:00\n",
       "last      2017-01-02 00:00:00\n",
       "Name: date, dtype: object"
      ]
     },
     "execution_count": 8,
     "metadata": {},
     "output_type": "execute_result"
    }
   ],
   "source": [
    "df_calendar.date.describe()"
   ]
  },
  {
   "cell_type": "markdown",
   "metadata": {},
   "source": [
    "We answered the first business question with this graphs. Which months have higher prices? Here, we are talking about the listing prices. Thus, to show each particular prices by month (not aggregates), the best way is to provide their distributions. However, to know how complete is the data, we needed to check the listing counts per month. For example, January 2017 is definitely not completed. In fact it only has 2 days of data. Perhaps after completing the month, January 2017 ends up being higher than December 2016. Thus, we cannot use January 2017 to compare."
   ]
  },
  {
   "cell_type": "code",
   "execution_count": null,
   "metadata": {
    "run_control": {
     "marked": true
    }
   },
   "outputs": [],
   "source": [
    "# Save date references\n",
    "dates = pd.Series(df_calendar.date.unique())\n",
    "date_order = pd.Series(df_calendar.date.unique()).rank()\n",
    "date_ref_df = pd.concat([dates, date_order], axis=1)\n",
    "date_ref_df.columns = ['dates', 'date_order']\n",
    "\n",
    "# Transforming dates to ordered values\n",
    "df_calendar.loc[:, 'date'] = df_calendar.date.rank(method='dense')\n",
    "\n",
    "# Dropping irrelevant columns\n",
    "df_calendar.drop('month', axis=1, inplace=True)"
   ]
  },
  {
   "cell_type": "markdown",
   "metadata": {},
   "source": [
    "We saved the original dates and the related ranking for reference."
   ]
  },
  {
   "cell_type": "markdown",
   "metadata": {},
   "source": [
    "## Listings "
   ]
  },
  {
   "cell_type": "code",
   "execution_count": null,
   "metadata": {},
   "outputs": [],
   "source": [
    "# Cleaning cleaning fee\n",
    "df_listings.loc[:, 'cleaning_fee'] = df_listings.cleaning_fee.str.findall(\n",
    "    '[^$,]').str.join('').astype(float)"
   ]
  },
  {
   "cell_type": "markdown",
   "metadata": {},
   "source": [
    "The only field needing cleanup is the cleaning fee."
   ]
  },
  {
   "cell_type": "markdown",
   "metadata": {},
   "source": [
    "<a id=\"impute\"></a>"
   ]
  },
  {
   "cell_type": "markdown",
   "metadata": {},
   "source": [
    "# Imputation of the Data:"
   ]
  },
  {
   "cell_type": "markdown",
   "metadata": {},
   "source": [
    "## Bedroom Imputations"
   ]
  },
  {
   "cell_type": "code",
   "execution_count": null,
   "metadata": {},
   "outputs": [],
   "source": [
    "# Get mode by group into dictionary\n",
    "mode = df_listings.groupby('property_type').bedrooms.apply(\n",
    "    lambda x: x.value_counts().index[0]).to_dict()\n",
    "\n",
    "# Assign the mode by mapping\n",
    "mode_fill = df_listings.assign(\n",
    "    bedrooms=lambda x: x.property_type.map(mode)).bedrooms\n",
    "\n",
    "# Fill the nulls with respective modes by property_type\n",
    "df_listings.bedrooms.fillna(mode_fill, inplace=True)\n",
    "\n",
    "# Show modes by category\n",
    "pd.DataFrame(mode, index=[0]).T.rename(columns={0: 'Mode'})"
   ]
  },
  {
   "cell_type": "markdown",
   "metadata": {},
   "source": [
    "By chance, most of property type's most common number of bedrooms is 1."
   ]
  },
  {
   "cell_type": "markdown",
   "metadata": {},
   "source": [
    "## Cleaning Fees Imputations"
   ]
  },
  {
   "cell_type": "code",
   "execution_count": null,
   "metadata": {},
   "outputs": [],
   "source": [
    "df_listings.cleaning_fee.fillna(0, inplace=True)"
   ]
  },
  {
   "cell_type": "markdown",
   "metadata": {},
   "source": [
    "We are assuming null cleaning fees are just $0 cleaning fees."
   ]
  },
  {
   "cell_type": "markdown",
   "metadata": {},
   "source": [
    "## Property Type Sparsity Groupings"
   ]
  },
  {
   "cell_type": "code",
   "execution_count": null,
   "metadata": {},
   "outputs": [],
   "source": [
    "df_listings.property_type.value_counts(\n",
    "    normalize=True, dropna=False, ascending=True\n",
    "    ).plot.barh(title='Sparsity of Property Types');"
   ]
  },
  {
   "cell_type": "code",
   "execution_count": null,
   "metadata": {
    "run_control": {
     "marked": true
    }
   },
   "outputs": [],
   "source": [
    "# Leaving relevant classes and assigning all other to Other\n",
    "fn_keep_labels = lambda x: x.str.contains('House|Apartment')\n",
    "df_listings.loc[:, 'property_type'] = df_listings.property_type.where(\n",
    "    fn_keep_labels).fillna('Other')\n",
    "\n",
    "# Plotting new classes\n",
    "df_listings.property_type.value_counts(\n",
    "    normalize=True, dropna=False, ascending=True\n",
    "    ).plot.barh(title='New Classes of Property Types');"
   ]
  },
  {
   "cell_type": "markdown",
   "metadata": {},
   "source": [
    "<a id=\"encode\"></a>"
   ]
  },
  {
   "cell_type": "markdown",
   "metadata": {},
   "source": [
    "# Encoding the Data:"
   ]
  },
  {
   "cell_type": "code",
   "execution_count": null,
   "metadata": {},
   "outputs": [],
   "source": [
    "# Instantiating Encoder\n",
    "encoder = OneHotEncoder()\n",
    "\n",
    "# Encoding property types\n",
    "encode_matrix = encoder.fit_transform(df_listings[['property_type']])\n",
    "\n",
    "# Dropping original column\n",
    "df_listings.drop('property_type', axis=1, inplace=True)\n",
    "\n",
    "# Converting encoded data to dataframe\n",
    "endoce_df = pd.DataFrame(encode_matrix.toarray(), columns=encoder.categories_[0])\n",
    "\n",
    "# Adding columns to dataframe\n",
    "df_listings = pd.concat([df_listings, endoce_df], axis=1)"
   ]
  },
  {
   "cell_type": "code",
   "execution_count": null,
   "metadata": {
    "scrolled": true
   },
   "outputs": [],
   "source": [
    "endoce_df.head()"
   ]
  },
  {
   "cell_type": "code",
   "execution_count": null,
   "metadata": {},
   "outputs": [],
   "source": [
    "df_listings.head()"
   ]
  },
  {
   "cell_type": "markdown",
   "metadata": {},
   "source": [
    "The property type was encoded as dummy variables so the model can run."
   ]
  },
  {
   "cell_type": "markdown",
   "metadata": {},
   "source": [
    "<a id=\"assess\"></a>"
   ]
  },
  {
   "cell_type": "markdown",
   "metadata": {},
   "source": [
    "#  Assessing the Data Model"
   ]
  },
  {
   "cell_type": "code",
   "execution_count": null,
   "metadata": {},
   "outputs": [],
   "source": [
    "# Creating the final Seattle data\n",
    "df_seattle = df_calendar.merge(df_listings, \n",
    "                               left_on='listing_id',\n",
    "                               right_on='id', \n",
    "                               how='left')\n",
    "\n",
    "# Dropping keys\n",
    "df_seattle.drop(['id', 'listing_id'], axis=1, inplace=True)\n",
    "\n",
    "# Plotting correlations\n",
    "plt.figure(figsize=(10, 10))\n",
    "plt.title(\"Correlation with Price and Multicollinearity within Predictors\")\n",
    "sns.heatmap(df_seattle.corr(), annot=True);"
   ]
  },
  {
   "cell_type": "markdown",
   "metadata": {},
   "source": [
    "The encoded columns ended up not providing any value to the model. In addition, two of them have high multicollinearity. Thus, we are removing them."
   ]
  },
  {
   "cell_type": "code",
   "execution_count": null,
   "metadata": {
    "scrolled": false
   },
   "outputs": [],
   "source": [
    "# Droping encoded columns\n",
    "df_seattle.drop(['Apartment', 'House', 'Other'], axis=1, inplace=True)"
   ]
  },
  {
   "cell_type": "markdown",
   "metadata": {},
   "source": [
    "<a id=\"models\"></a>"
   ]
  },
  {
   "cell_type": "markdown",
   "metadata": {},
   "source": [
    "# Applying and Evaluating Model"
   ]
  },
  {
   "cell_type": "code",
   "execution_count": null,
   "metadata": {},
   "outputs": [],
   "source": [
    "def apply_model(dataframe):\n",
    "    \"\"\"\n",
    "    There are two models applying here:\n",
    "        - Linear Regression\n",
    "        - Random Forest Regression with 1000 n_estimators\n",
    "    \n",
    "    parameter\n",
    "    ---------\n",
    "    dataframe : the dataframe containing both the dependent and independent variables\n",
    "    \"\"\"\n",
    "    # Instantiating model and cv\n",
    "    lr = LinearRegression()\n",
    "    rf = RandomForestRegressor(n_estimators=1000)\n",
    "    tss = TimeSeriesSplit(n_splits=5)\n",
    "    \n",
    "    # Resetting index for the cross validation\n",
    "    dataframe.reset_index(drop=True, inplace=True)\n",
    "\n",
    "    # Sorting time series\n",
    "    dataframe = dataframe.sort_values('date')\n",
    "\n",
    "    # Separating predictors and dependent variable\n",
    "    X = dataframe.drop('price', axis=1)\n",
    "    y = dataframe[['price']]\n",
    "    \n",
    "    score_dict = {}\n",
    "\n",
    "    # Magic\n",
    "    for test_num, split_index in enumerate(tss.split(X), 1):\n",
    "        train_index, test_index = split_index \n",
    "\n",
    "        # Split descriptors\n",
    "        min_train_idx, max_train_idx = train_index.min(), train_index.max()\n",
    "        min_test_idx, max_test_idx = test_index.min(), test_index.max()\n",
    "        train_pct = max_train_idx / X.shape[0]\n",
    "        test_pct = (max_test_idx - min_test_idx) / X.shape[0]\n",
    "\n",
    "        print(f\"SPLIT {test_num}:\", \n",
    "              f\"TRAIN {min_train_idx} to {max_train_idx} or {train_pct:2.2%} |\",\n",
    "              f\"TEST {min_test_idx} to {max_test_idx} or {test_pct:2.2%}\")\n",
    "\n",
    "        # Time series split\n",
    "        X_train, X_test = X.iloc[train_index], X.iloc[test_index] \n",
    "        y_train, y_test = y.iloc[train_index], y.iloc[test_index]\n",
    "\n",
    "        # Fit\n",
    "        lr.fit(X_train, y_train)    \n",
    "        rf.fit(X_train, y_train.values.ravel())    \n",
    "\n",
    "        # Linear Predict\n",
    "        y_hat_linear = lr.predict(X_test)       \n",
    "\n",
    "        # Forest Predict\n",
    "        y_hat_forest = rf.predict(X_test)\n",
    "\n",
    "        def evaluate_model(model, model_name, y_pred):\n",
    "            \"\"\"\n",
    "\n",
    "            \"\"\"\n",
    "            score = model.score(X_test, y_test)\n",
    "            score_dict.setdefault(model_name, [])\n",
    "            score_dict[model_name].append(score)\n",
    "            residuals = y_test - y_pred.reshape(-1, 1)\n",
    "            MSE = mean_squared_error(y_test, y_pred)\n",
    "            d_w = durbin_watson(residuals)[0] \n",
    "\n",
    "            print('-'*70)\n",
    "            print(f\"\\tModel: {model_name}\")\n",
    "            print(f\"\\tCoefficient of Determinaion: {score:2.2%}\",\n",
    "                  f\"\\n\\tMean Squared Errors: {MSE:2,.2f}\",\n",
    "                  f\"\\n\\tDurbin-Watson: {d_w:2.1f}\")            \n",
    "\n",
    "        linear_model_name = 'Linear Regression'\n",
    "        evaluate_model(lr, linear_model_name, y_hat_linear)\n",
    "\n",
    "        forest_model_name = 'Random Forest Regressor'\n",
    "        evaluate_model(rf, forest_model_name, y_hat_forest)\n",
    "\n",
    "        print('_'*70)\n",
    "\n",
    "    print(f\"The linear average score is {np.mean(score_dict[linear_model_name]):2.2%}\")\n",
    "    print(f\"The forest average score is {np.mean(score_dict[forest_model_name]):2.2%}\")"
   ]
  },
  {
   "cell_type": "code",
   "execution_count": null,
   "metadata": {
    "scrolled": false
   },
   "outputs": [],
   "source": [
    "apply_model(df_seattle)"
   ]
  },
  {
   "cell_type": "markdown",
   "metadata": {},
   "source": [
    "The score is better for the Random Forest Regression. However, we can do better by removing outliers."
   ]
  },
  {
   "cell_type": "markdown",
   "metadata": {},
   "source": [
    "## Outlier Analysis"
   ]
  },
  {
   "cell_type": "code",
   "execution_count": null,
   "metadata": {},
   "outputs": [],
   "source": [
    "iqr_outlier_detect(df_seattle.price)"
   ]
  },
  {
   "cell_type": "markdown",
   "metadata": {},
   "source": [
    "Indeed, there are many outliers in this dataset. However, let's start by looking for patterns in the top outliers."
   ]
  },
  {
   "cell_type": "code",
   "execution_count": null,
   "metadata": {},
   "outputs": [],
   "source": [
    "df_calendar.query(\"price>1100\").groupby(['listing_id', 'price']).size().to_frame('ListingCount')"
   ]
  },
  {
   "cell_type": "markdown",
   "metadata": {},
   "source": [
    "We can quickly observe that most of the outliers are concentrated in one listing for the same host. "
   ]
  },
  {
   "cell_type": "code",
   "execution_count": null,
   "metadata": {},
   "outputs": [],
   "source": [
    "plt.figure(figsize=(10, 10));\n",
    "\n",
    "data = df_calendar \n",
    "plt.title(\"Seattle Listing Prices Over Date Numbers\")\n",
    "sns.scatterplot(x='date', \n",
    "                y='price', \n",
    "                data=data,\n",
    "                color='black',\n",
    "                alpha=.1, \n",
    "                label='Other Listings');\n",
    "\n",
    "data = df_calendar.query(\"listing_id == '3308979'\")\n",
    "plt.title(\"Seattle Listing for Host with Outliers\")\n",
    "sns.scatterplot(x='date', \n",
    "                y='price', \n",
    "                data=data,\n",
    "                color='red',\n",
    "                label='Listing# 3308979');\n",
    "\n",
    "data = df_calendar.query(\"listing_id == '7733192'\")\n",
    "plt.title(\"Seattle Listing for Host with Outliers\")\n",
    "sns.scatterplot(x='date', \n",
    "                y='price', \n",
    "                data=data,\n",
    "                color='blue',\n",
    "                label='Listing# 7733192');"
   ]
  },
  {
   "cell_type": "markdown",
   "metadata": {},
   "source": [
    "We can see the density is at the bottom of the graph and there are some listings unlikely to happen at the top. In fact, these points at the top are concentrated in two listings. This is unlikely to happen in general, so it is bad for prediction. We are removing those ones."
   ]
  },
  {
   "cell_type": "code",
   "execution_count": null,
   "metadata": {},
   "outputs": [],
   "source": [
    "df_seattle = df_seattle.query(\"price < 1100\")"
   ]
  },
  {
   "cell_type": "code",
   "execution_count": null,
   "metadata": {},
   "outputs": [],
   "source": [
    "iqr_outlier_detect(df_seattle.price)"
   ]
  },
  {
   "cell_type": "code",
   "execution_count": null,
   "metadata": {},
   "outputs": [],
   "source": [
    "plt.figure(figsize=(10, 10));\n",
    "\n",
    "sns.scatterplot(x='date', \n",
    "                y='price', \n",
    "                data=df_seattle,\n",
    "                color='black',\n",
    "                alpha=.1);"
   ]
  },
  {
   "cell_type": "markdown",
   "metadata": {},
   "source": [
    "We still observe some outliers, but these outliers are part of the noise and valid for the analysis."
   ]
  },
  {
   "cell_type": "markdown",
   "metadata": {},
   "source": [
    "## Re-run Model with Outliers Removed"
   ]
  },
  {
   "cell_type": "code",
   "execution_count": null,
   "metadata": {
    "scrolled": false
   },
   "outputs": [],
   "source": [
    "apply_model(df_seattle)"
   ]
  },
  {
   "cell_type": "markdown",
   "metadata": {},
   "source": [
    "We don't see substantial improvement in the models to justify the removal of the outliers. With them or without them, the model performs about the same."
   ]
  },
  {
   "cell_type": "code",
   "execution_count": null,
   "metadata": {},
   "outputs": [],
   "source": []
  }
 ],
 "metadata": {
  "hide_input": false,
  "kernelspec": {
   "display_name": "Python 3",
   "language": "python",
   "name": "python3"
  },
  "toc": {
   "base_numbering": 1,
   "nav_menu": {},
   "number_sections": true,
   "sideBar": true,
   "skip_h1_title": false,
   "title_cell": "Table of Contents",
   "title_sidebar": "Contents",
   "toc_cell": false,
   "toc_position": {},
   "toc_section_display": true,
   "toc_window_display": false
  },
  "varInspector": {
   "cols": {
    "lenName": 16,
    "lenType": 16,
    "lenVar": 40
   },
   "kernels_config": {
    "python": {
     "delete_cmd_postfix": "",
     "delete_cmd_prefix": "del ",
     "library": "var_list.py",
     "varRefreshCmd": "print(var_dic_list())"
    },
    "r": {
     "delete_cmd_postfix": ") ",
     "delete_cmd_prefix": "rm(",
     "library": "var_list.r",
     "varRefreshCmd": "cat(var_dic_list()) "
    }
   },
   "types_to_exclude": [
    "module",
    "function",
    "builtin_function_or_method",
    "instance",
    "_Feature"
   ],
   "window_display": false
  }
 },
 "nbformat": 4,
 "nbformat_minor": 2
}
