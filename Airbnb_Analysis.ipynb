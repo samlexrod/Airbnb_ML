{
 "cells": [
  {
   "cell_type": "markdown",
   "metadata": {},
   "source": [
    "# Introduction"
   ]
  },
  {
   "cell_type": "markdown",
   "metadata": {},
   "source": [
    "Key takeaways\n",
    "* Installing packages\n",
    "* Handling data with pandas\n",
    "* Unzipping Files with Python\n",
    "* Using seaborn for vizualization\n",
    "* Using matplotlib for vizualization\n",
    "* Creating Lambda functions\n",
    "* Deploying machine learning models\n",
    "* Evaluating machine learning results\n",
    "* Validating aggregates"
   ]
  },
  {
   "cell_type": "markdown",
   "metadata": {},
   "source": [
    "# The CRISP-DM Process"
   ]
  },
  {
   "cell_type": "markdown",
   "metadata": {},
   "source": [
    "For this project, I will be following the CRISP-DM (Cross-industry standard process for data mining) process.\n",
    "\n",
    "![alt text](https://codesachin.files.wordpress.com/2015/09/crisp-dm.gif)\n",
    "The process follows these steps:\n",
    "    1. Pick a dataset\n",
    "    2. Generate business questions\n",
    "    3. Obtain data understanding\n",
    "    4. Prepare the data\n",
    "    5. Analyze, Model, and Visualize\n",
    "    6. Evaluate your analysis\n",
    "    7. Communicate business insights   \n",
    " \n",
    " \n",
    "    \n",
    "This project approaches these steps in the following way:\n",
    "    1. Boston & Seattle Airbnb Open Data \n",
    "    2. I am starting with these business questions.\n",
    "        a. What is the mission of Airbnb?\n",
    "        b. What is more likely to cause bad reviews?\n",
    "        c. What is the cost of bad reviews?\n",
    "        d. What is the value of good reviews?\n",
    "    3. Steps 3 to 6 will be conducted using a Jupyter notebook, and some Python 3 magic!"
   ]
  },
  {
   "cell_type": "markdown",
   "metadata": {},
   "source": [
    "# Data Handling"
   ]
  },
  {
   "cell_type": "code",
   "execution_count": 1,
   "metadata": {},
   "outputs": [],
   "source": [
    "import pandas as pd\n",
    "import numpy as np\n",
    "import seaborn as sns\n",
    "import matplotlib.pyplot as plt\n",
    "from zipfile import ZipFile\n",
    "import os"
   ]
  },
  {
   "cell_type": "code",
   "execution_count": 2,
   "metadata": {},
   "outputs": [],
   "source": [
    "def unzip_files(zip_filename_list, folder=None):\n",
    "    \"\"\"\n",
    "    Unzipping the datasets\n",
    "    \"\"\"\n",
    "    folder_names = []\n",
    "    for file in zip_filename_list:\n",
    "        \n",
    "        # paths\n",
    "        filename_path = os.path.join('data', file)\n",
    "        folder_name = filename_path[:-4].replace(\"-\", \"_\")\n",
    "        \n",
    "        # extracting\n",
    "        try:\n",
    "            zip_ref = ZipFile(filename_path)\n",
    "            zip_ref.extractall(folder_name)\n",
    "            zip_ref.close()\n",
    "        except:\n",
    "            print('File already extracted!')\n",
    "        \n",
    "        # appending folder names\n",
    "        if filename_path.find('.') >= 0:\n",
    "            folder_names.append(folder_name)\n",
    "        \n",
    "    return folder_names"
   ]
  },
  {
   "cell_type": "code",
   "execution_count": 3,
   "metadata": {},
   "outputs": [],
   "source": [
    "def read_concat(folder_names, target_file_name):\n",
    "    \"\"\"\n",
    "    Reading files of different folders with same naming convention\n",
    "    \"\"\"\n",
    "    df_con = pd.DataFrame()\n",
    "    for folder in folder_names:\n",
    "        target = os.path.join(folder, target_file_name)\n",
    "        df = pd.read_csv(target)\n",
    "        df['rowsource'] = target\n",
    "        \n",
    "        df_con = pd.concat([df_con, df], axis=0, sort=True)\n",
    "    return df_con"
   ]
  },
  {
   "cell_type": "markdown",
   "metadata": {},
   "source": [
    "## - Extracting Data"
   ]
  },
  {
   "cell_type": "code",
   "execution_count": 4,
   "metadata": {},
   "outputs": [
    {
     "data": {
      "text/plain": [
       "['boston-airbnb-open-data.zip', 'seattle.zip']"
      ]
     },
     "execution_count": 4,
     "metadata": {},
     "output_type": "execute_result"
    }
   ],
   "source": [
    "# getting zip file names\n",
    "data_zip = os.listdir('data')\n",
    "data_zip"
   ]
  },
  {
   "cell_type": "code",
   "execution_count": 5,
   "metadata": {},
   "outputs": [
    {
     "data": {
      "text/plain": [
       "['data\\\\boston_airbnb_open_data', 'data\\\\seattle']"
      ]
     },
     "execution_count": 5,
     "metadata": {},
     "output_type": "execute_result"
    }
   ],
   "source": [
    "# extracting datasets\n",
    "folder_names = unzip_files(data_zip)\n",
    "folder_names"
   ]
  },
  {
   "cell_type": "code",
   "execution_count": 6,
   "metadata": {},
   "outputs": [
    {
     "data": {
      "text/plain": [
       "[['calendar.csv', 'listings.csv', 'reviews.csv'],\n",
       " ['calendar.csv', 'listings.csv', 'reviews.csv']]"
      ]
     },
     "execution_count": 6,
     "metadata": {},
     "output_type": "execute_result"
    }
   ],
   "source": [
    "[os.listdir(folder_name) for folder_name in folder_names]"
   ]
  },
  {
   "cell_type": "markdown",
   "metadata": {},
   "source": [
    "## - Importing Data"
   ]
  },
  {
   "cell_type": "markdown",
   "metadata": {},
   "source": [
    "---\n",
    "First, we are importing the calendar dataset."
   ]
  },
  {
   "cell_type": "code",
   "execution_count": 7,
   "metadata": {},
   "outputs": [],
   "source": [
    "calendar = read_concat(folder_names, 'calendar.csv')"
   ]
  },
  {
   "cell_type": "code",
   "execution_count": 8,
   "metadata": {},
   "outputs": [
    {
     "data": {
      "image/png": "[encoded data removed]",
      "text/plain": [
       "<Figure size 432x288 with 1 Axes>"
      ]
     },
     "metadata": {},
     "output_type": "display_data"
    }
   ],
   "source": [
    "calendar.groupby('rowsource').count().plot.barh();\n",
    "plt.legend(bbox_to_anchor=(1.01, 1), loc='upper left');"
   ]
  },
  {
   "cell_type": "markdown",
   "metadata": {},
   "source": [
    "---\n",
    "Second, we are importing the listings dataset."
   ]
  },
  {
   "cell_type": "code",
   "execution_count": 9,
   "metadata": {},
   "outputs": [],
   "source": [
    "listings = read_concat(folder_names, 'listings.csv')"
   ]
  },
  {
   "cell_type": "code",
   "execution_count": 10,
   "metadata": {},
   "outputs": [
    {
     "data": {
      "image/png": "[encoded data removed]",
      "text/plain": [
       "<Figure size 1008x360 with 1 Axes>"
      ]
     },
     "metadata": {},
     "output_type": "display_data"
    }
   ],
   "source": [
    "listings\\\n",
    "    .groupby('rowsource')\\\n",
    "    .count()\\\n",
    "    .plot.bar(legend=False, figsize=(14, 5), rot=0, width=.9);"
   ]
  },
  {
   "cell_type": "code",
   "execution_count": 11,
   "metadata": {},
   "outputs": [
    {
     "data": {
      "image/png": "[encoded data removed]",
      "text/plain": [
       "<Figure size 720x720 with 1 Axes>"
      ]
     },
     "metadata": {},
     "output_type": "display_data"
    }
   ],
   "source": [
    "listings.isnull().sum()\\\n",
    "    .where(lambda x: x>0)\\\n",
    "    .dropna()\\\n",
    "    .sort_values(ascending=True)\\\n",
    "    .plot.barh(figsize=(10, 10), title=\"Missing Value Counts\");"
   ]
  },
  {
   "cell_type": "code",
   "execution_count": 12,
   "metadata": {},
   "outputs": [
    {
     "data": {
      "text/plain": [
       "(7403, 96)"
      ]
     },
     "execution_count": 12,
     "metadata": {},
     "output_type": "execute_result"
    }
   ],
   "source": [
    "listings.shape"
   ]
  },
  {
   "cell_type": "code",
   "execution_count": 13,
   "metadata": {},
   "outputs": [
    {
     "data": {
      "image/png": "[encoded data removed]",
      "text/plain": [
       "<Figure size 432x288 with 1 Axes>"
      ]
     },
     "metadata": {},
     "output_type": "display_data"
    }
   ],
   "source": [
    "non_complete_listings = listings.groupby('rowsource')\\\n",
    "    .count()\\\n",
    "    .div(listings.rowsource.value_counts(), axis=0)\\\n",
    "    .reset_index()\\\n",
    "    .melt(id_vars='index')\n",
    "\n",
    "non_complete_listings\\\n",
    "    .groupby(['index', pd.cut(non_complete_listings.value, bins=10)])\\\n",
    "    .size()\\\n",
    "    .plot.barh();"
   ]
  },
  {
   "cell_type": "markdown",
   "metadata": {},
   "source": [
    "---\n",
    "Third, we are importing the reviews dataset."
   ]
  },
  {
   "cell_type": "code",
   "execution_count": 14,
   "metadata": {},
   "outputs": [],
   "source": [
    "reviews = read_concat(folder_names, 'reviews.csv')"
   ]
  },
  {
   "cell_type": "code",
   "execution_count": 15,
   "metadata": {},
   "outputs": [
    {
     "data": {
      "image/png": "[encoded data removed]",
      "text/plain": [
       "<Figure size 432x288 with 1 Axes>"
      ]
     },
     "metadata": {},
     "output_type": "display_data"
    }
   ],
   "source": [
    "reviews.groupby('rowsource').count().plot.barh();\n",
    "plt.legend(bbox_to_anchor=(1.01, 1), loc='upper left');"
   ]
  },
  {
   "cell_type": "markdown",
   "metadata": {},
   "source": [
    "**Data Import Findings:**\n",
    "* It is clear that calendar has missing prices.\n",
    "* It is clear that there are multiple columns with missing values on both datasets.\n",
    "* On the contrary, reviews are all complete."
   ]
  },
  {
   "cell_type": "markdown",
   "metadata": {},
   "source": [
    "## Data Understanding"
   ]
  },
  {
   "cell_type": "markdown",
   "metadata": {},
   "source": [
    "### <li> Calendar"
   ]
  },
  {
   "cell_type": "code",
   "execution_count": 16,
   "metadata": {
    "scrolled": true
   },
   "outputs": [
    {
     "data": {
      "text/html": [
       "<div>\n",
       "<style scoped>\n",
       "    .dataframe tbody tr th:only-of-type {\n",
       "        vertical-align: middle;\n",
       "    }\n",
       "\n",
       "    .dataframe tbody tr th {\n",
       "        vertical-align: top;\n",
       "    }\n",
       "\n",
       "    .dataframe thead th {\n",
       "        text-align: right;\n",
       "    }\n",
       "</style>\n",
       "<table border=\"1\" class=\"dataframe\">\n",
       "  <thead>\n",
       "    <tr style=\"text-align: right;\">\n",
       "      <th></th>\n",
       "      <th>available</th>\n",
       "      <th>date</th>\n",
       "      <th>listing_id</th>\n",
       "      <th>price</th>\n",
       "      <th>rowsource</th>\n",
       "    </tr>\n",
       "  </thead>\n",
       "  <tbody>\n",
       "    <tr>\n",
       "      <th>0</th>\n",
       "      <td>f</td>\n",
       "      <td>2017-09-05</td>\n",
       "      <td>12147973</td>\n",
       "      <td>NaN</td>\n",
       "      <td>data\\boston_airbnb_open_data\\calendar.csv</td>\n",
       "    </tr>\n",
       "    <tr>\n",
       "      <th>1</th>\n",
       "      <td>f</td>\n",
       "      <td>2017-09-04</td>\n",
       "      <td>12147973</td>\n",
       "      <td>NaN</td>\n",
       "      <td>data\\boston_airbnb_open_data\\calendar.csv</td>\n",
       "    </tr>\n",
       "    <tr>\n",
       "      <th>2</th>\n",
       "      <td>f</td>\n",
       "      <td>2017-09-03</td>\n",
       "      <td>12147973</td>\n",
       "      <td>NaN</td>\n",
       "      <td>data\\boston_airbnb_open_data\\calendar.csv</td>\n",
       "    </tr>\n",
       "    <tr>\n",
       "      <th>3</th>\n",
       "      <td>f</td>\n",
       "      <td>2017-09-02</td>\n",
       "      <td>12147973</td>\n",
       "      <td>NaN</td>\n",
       "      <td>data\\boston_airbnb_open_data\\calendar.csv</td>\n",
       "    </tr>\n",
       "    <tr>\n",
       "      <th>4</th>\n",
       "      <td>f</td>\n",
       "      <td>2017-09-01</td>\n",
       "      <td>12147973</td>\n",
       "      <td>NaN</td>\n",
       "      <td>data\\boston_airbnb_open_data\\calendar.csv</td>\n",
       "    </tr>\n",
       "  </tbody>\n",
       "</table>\n",
       "</div>"
      ],
      "text/plain": [
       "  available        date  listing_id price  \\\n",
       "0         f  2017-09-05    12147973   NaN   \n",
       "1         f  2017-09-04    12147973   NaN   \n",
       "2         f  2017-09-03    12147973   NaN   \n",
       "3         f  2017-09-02    12147973   NaN   \n",
       "4         f  2017-09-01    12147973   NaN   \n",
       "\n",
       "                                   rowsource  \n",
       "0  data\\boston_airbnb_open_data\\calendar.csv  \n",
       "1  data\\boston_airbnb_open_data\\calendar.csv  \n",
       "2  data\\boston_airbnb_open_data\\calendar.csv  \n",
       "3  data\\boston_airbnb_open_data\\calendar.csv  \n",
       "4  data\\boston_airbnb_open_data\\calendar.csv  "
      ]
     },
     "execution_count": 16,
     "metadata": {},
     "output_type": "execute_result"
    }
   ],
   "source": [
    "# calendar first 5 lines\n",
    "calendar.head()"
   ]
  },
  {
   "cell_type": "code",
   "execution_count": 17,
   "metadata": {},
   "outputs": [
    {
     "data": {
      "image/png": "[encoded data removed]",
      "text/plain": [
       "<Figure size 432x288 with 1 Axes>"
      ]
     },
     "metadata": {},
     "output_type": "display_data"
    }
   ],
   "source": [
    "calendar.isnull().sum().plot.barh(title=\"Missing Values in Calendar\");"
   ]
  },
  {
   "cell_type": "markdown",
   "metadata": {},
   "source": [
    "#### Available Feature"
   ]
  },
  {
   "cell_type": "code",
   "execution_count": 18,
   "metadata": {},
   "outputs": [
    {
     "data": {
      "image/png": "[encoded data removed]",
      "text/plain": [
       "<Figure size 720x72 with 1 Axes>"
      ]
     },
     "metadata": {},
     "output_type": "display_data"
    }
   ],
   "source": [
    "calendar.available.value_counts().plot.barh(figsize=(10, 1), title='available');"
   ]
  },
  {
   "cell_type": "markdown",
   "metadata": {},
   "source": [
    "#### Price Feature"
   ]
  },
  {
   "cell_type": "code",
   "execution_count": 19,
   "metadata": {},
   "outputs": [
    {
     "data": {
      "text/plain": [
       "array([nan, '$65.00', '$75.00', ..., '$10.00', '$24.00', '$817.00'],\n",
       "      dtype=object)"
      ]
     },
     "execution_count": 19,
     "metadata": {},
     "output_type": "execute_result"
    }
   ],
   "source": [
    "calendar.price.unique()"
   ]
  },
  {
   "cell_type": "code",
   "execution_count": 20,
   "metadata": {},
   "outputs": [],
   "source": [
    "# Data conversions\n",
    "calendar.price = calendar.price.str.replace('$', '')\n",
    "calendar.price = calendar.price.str.replace(',', '').astype(float)\n",
    "calendar.date = pd.to_datetime(calendar.date)"
   ]
  },
  {
   "cell_type": "code",
   "execution_count": 21,
   "metadata": {},
   "outputs": [
    {
     "data": {
      "image/png": "[encoded data removed]",
      "text/plain": [
       "<Figure size 864x720 with 1 Axes>"
      ]
     },
     "metadata": {},
     "output_type": "display_data"
    }
   ],
   "source": [
    "calendar.groupby(['rowsource', 'date'])\\\n",
    "    .agg({'price':'sum'})\\\n",
    "    .reset_index()\\\n",
    "    .pivot(index='date', columns='rowsource', values='price')\\\n",
    "    .plot.line(figsize=(12, 10), lw=3);"
   ]
  },
  {
   "cell_type": "code",
   "execution_count": 22,
   "metadata": {},
   "outputs": [],
   "source": [
    "calendar['nan_grp'] = calendar.price.fillna('MissingValue')"
   ]
  },
  {
   "cell_type": "code",
   "execution_count": 23,
   "metadata": {},
   "outputs": [],
   "source": [
    "calendar.loc[calendar.nan_grp!='MissingValue', 'nan_grp'] = 'ProvidedValue'"
   ]
  },
  {
   "cell_type": "code",
   "execution_count": 24,
   "metadata": {},
   "outputs": [],
   "source": [
    "calendar['source_grp'] = calendar.rowsource.str.cat(calendar.nan_grp, sep=' - ')"
   ]
  },
  {
   "cell_type": "code",
   "execution_count": 25,
   "metadata": {},
   "outputs": [
    {
     "data": {
      "image/png": "[encoded data removed]",
      "text/plain": [
       "<Figure size 864x720 with 1 Axes>"
      ]
     },
     "metadata": {},
     "output_type": "display_data"
    }
   ],
   "source": [
    "calendar.groupby(['source_grp', 'date'])\\\n",
    "    .agg({'price':'sum'})\\\n",
    "    .reset_index()\\\n",
    "    .pivot(index='date', columns='source_grp', values='price')\\\n",
    "    .plot.line(figsize=(12, 10), lw=3, alpha=.5);"
   ]
  },
  {
   "cell_type": "code",
   "execution_count": 26,
   "metadata": {
    "scrolled": true
   },
   "outputs": [
    {
     "data": {
      "text/html": [
       "<div>\n",
       "<style scoped>\n",
       "    .dataframe tbody tr th:only-of-type {\n",
       "        vertical-align: middle;\n",
       "    }\n",
       "\n",
       "    .dataframe tbody tr th {\n",
       "        vertical-align: top;\n",
       "    }\n",
       "\n",
       "    .dataframe thead tr th {\n",
       "        text-align: left;\n",
       "    }\n",
       "\n",
       "    .dataframe thead tr:last-of-type th {\n",
       "        text-align: right;\n",
       "    }\n",
       "</style>\n",
       "<table border=\"1\" class=\"dataframe\">\n",
       "  <thead>\n",
       "    <tr>\n",
       "      <th></th>\n",
       "      <th colspan=\"2\" halign=\"left\">date</th>\n",
       "    </tr>\n",
       "    <tr>\n",
       "      <th></th>\n",
       "      <th>min</th>\n",
       "      <th>max</th>\n",
       "    </tr>\n",
       "    <tr>\n",
       "      <th>source_grp</th>\n",
       "      <th></th>\n",
       "      <th></th>\n",
       "    </tr>\n",
       "  </thead>\n",
       "  <tbody>\n",
       "    <tr>\n",
       "      <th>data\\boston_airbnb_open_data\\calendar.csv - MissingValue</th>\n",
       "      <td>2016-09-06</td>\n",
       "      <td>2017-09-05</td>\n",
       "    </tr>\n",
       "    <tr>\n",
       "      <th>data\\boston_airbnb_open_data\\calendar.csv - ProvidedValue</th>\n",
       "      <td>2016-09-06</td>\n",
       "      <td>2017-09-05</td>\n",
       "    </tr>\n",
       "    <tr>\n",
       "      <th>data\\seattle\\calendar.csv - MissingValue</th>\n",
       "      <td>2016-01-04</td>\n",
       "      <td>2017-01-02</td>\n",
       "    </tr>\n",
       "    <tr>\n",
       "      <th>data\\seattle\\calendar.csv - ProvidedValue</th>\n",
       "      <td>2016-01-04</td>\n",
       "      <td>2017-01-02</td>\n",
       "    </tr>\n",
       "  </tbody>\n",
       "</table>\n",
       "</div>"
      ],
      "text/plain": [
       "                                                         date           \n",
       "                                                          min        max\n",
       "source_grp                                                              \n",
       "data\\boston_airbnb_open_data\\calendar.csv - Mis... 2016-09-06 2017-09-05\n",
       "data\\boston_airbnb_open_data\\calendar.csv - Pro... 2016-09-06 2017-09-05\n",
       "data\\seattle\\calendar.csv - MissingValue           2016-01-04 2017-01-02\n",
       "data\\seattle\\calendar.csv - ProvidedValue          2016-01-04 2017-01-02"
      ]
     },
     "execution_count": 26,
     "metadata": {},
     "output_type": "execute_result"
    }
   ],
   "source": [
    "calendar.groupby('source_grp').agg({'date': ['min', 'max']})"
   ]
  },
  {
   "cell_type": "code",
   "execution_count": 27,
   "metadata": {},
   "outputs": [
    {
     "data": {
      "text/html": [
       "<div>\n",
       "<style scoped>\n",
       "    .dataframe tbody tr th:only-of-type {\n",
       "        vertical-align: middle;\n",
       "    }\n",
       "\n",
       "    .dataframe tbody tr th {\n",
       "        vertical-align: top;\n",
       "    }\n",
       "\n",
       "    .dataframe thead th {\n",
       "        text-align: right;\n",
       "    }\n",
       "</style>\n",
       "<table border=\"1\" class=\"dataframe\">\n",
       "  <thead>\n",
       "    <tr style=\"text-align: right;\">\n",
       "      <th></th>\n",
       "      <th>max_date</th>\n",
       "      <th>delta_month</th>\n",
       "      <th>delta_days</th>\n",
       "    </tr>\n",
       "    <tr>\n",
       "      <th>rowsource</th>\n",
       "      <th></th>\n",
       "      <th></th>\n",
       "      <th></th>\n",
       "    </tr>\n",
       "  </thead>\n",
       "  <tbody>\n",
       "    <tr>\n",
       "      <th>data\\boston_airbnb_open_data\\calendar.csv</th>\n",
       "      <td>2017-09-05</td>\n",
       "      <td></td>\n",
       "      <td></td>\n",
       "    </tr>\n",
       "    <tr>\n",
       "      <th>data\\seattle\\calendar.csv</th>\n",
       "      <td>2017-01-02</td>\n",
       "      <td>8</td>\n",
       "      <td>246 days 00:00:00</td>\n",
       "    </tr>\n",
       "  </tbody>\n",
       "</table>\n",
       "</div>"
      ],
      "text/plain": [
       "                                            max_date delta_month  \\\n",
       "rowsource                                                          \n",
       "data\\boston_airbnb_open_data\\calendar.csv 2017-09-05               \n",
       "data\\seattle\\calendar.csv                 2017-01-02           8   \n",
       "\n",
       "                                                  delta_days  \n",
       "rowsource                                                     \n",
       "data\\boston_airbnb_open_data\\calendar.csv                     \n",
       "data\\seattle\\calendar.csv                  246 days 00:00:00  "
      ]
     },
     "execution_count": 27,
     "metadata": {},
     "output_type": "execute_result"
    }
   ],
   "source": [
    "month_func = lambda x: x.month\n",
    "delta_month_func = lambda x: x.max_date.shift(1).apply(month_func)- x.max_date.apply(month_func)\n",
    "delta_days_func = lambda x: x.max_date.shift(1)- x.max_date\n",
    "\n",
    "calendar.groupby('rowsource').agg({'date': 'max'})\\\n",
    "    .rename(columns={'date':'max_date'})\\\n",
    "    .assign(delta_month=delta_month_func,\n",
    "            delta_days=delta_days_func)\\\n",
    "    .fillna('')"
   ]
  },
  {
   "cell_type": "markdown",
   "metadata": {},
   "source": [
    "**Calendar Data Findings:**\n",
    "\n",
    "Informational:\n",
    "* Records of availability and price at a date and listing id level.\n",
    "* Only missing values are in prices. Some listings have no prices.\n",
    "* Dates of datasets do not match.\n",
    "    * It seems that seattle was service before boston.\n",
    "    * Seattle has no data from 2017-01-02 to 2017-09-05, 8 months or 246 days.\n",
    "Transformation:\n",
    "* Prices have to be cleaned. They include $ sign and comma separators."
   ]
  },
  {
   "cell_type": "markdown",
   "metadata": {},
   "source": [
    "### <li> Listings"
   ]
  },
  {
   "cell_type": "code",
   "execution_count": 28,
   "metadata": {},
   "outputs": [],
   "source": [
    "missing_pct = listings.isnull().sum()/listings.shape[0]"
   ]
  },
  {
   "cell_type": "markdown",
   "metadata": {},
   "source": [
    "#### Object Features"
   ]
  },
  {
   "cell_type": "code",
   "execution_count": 29,
   "metadata": {
    "scrolled": false
   },
   "outputs": [
    {
     "data": {
      "text/html": [
       "<style  type=\"text/css\" >\n",
       "    #T_dc42bb64_588e_11e9_8cd9_c49deda6369arow0_col0 {\n",
       "            width:  10em;\n",
       "             height:  80%;\n",
       "            background:  linear-gradient(90deg,#d65f5f 100.0%, transparent 0%);\n",
       "        }    #T_dc42bb64_588e_11e9_8cd9_c49deda6369arow1_col0 {\n",
       "            width:  10em;\n",
       "             height:  80%;\n",
       "            background:  linear-gradient(90deg,#d65f5f 98.8%, transparent 0%);\n",
       "        }    #T_dc42bb64_588e_11e9_8cd9_c49deda6369arow2_col0 {\n",
       "            width:  10em;\n",
       "             height:  80%;\n",
       "            background:  linear-gradient(90deg,#d65f5f 93.3%, transparent 0%);\n",
       "        }    #T_dc42bb64_588e_11e9_8cd9_c49deda6369arow3_col0 {\n",
       "            width:  10em;\n",
       "             height:  80%;\n",
       "            background:  linear-gradient(90deg,#d65f5f 93.0%, transparent 0%);\n",
       "        }    #T_dc42bb64_588e_11e9_8cd9_c49deda6369arow4_col0 {\n",
       "            width:  10em;\n",
       "             height:  80%;\n",
       "            background:  linear-gradient(90deg,#d65f5f 83.8%, transparent 0%);\n",
       "        }    #T_dc42bb64_588e_11e9_8cd9_c49deda6369arow5_col0 {\n",
       "            width:  10em;\n",
       "             height:  80%;\n",
       "            background:  linear-gradient(90deg,#d65f5f 78.1%, transparent 0%);\n",
       "        }    #T_dc42bb64_588e_11e9_8cd9_c49deda6369arow6_col0 {\n",
       "            width:  10em;\n",
       "             height:  80%;\n",
       "            background:  linear-gradient(90deg,#d65f5f 66.7%, transparent 0%);\n",
       "        }    #T_dc42bb64_588e_11e9_8cd9_c49deda6369arow7_col0 {\n",
       "            width:  10em;\n",
       "             height:  80%;\n",
       "            background:  linear-gradient(90deg,#d65f5f 66.7%, transparent 0%);\n",
       "        }    #T_dc42bb64_588e_11e9_8cd9_c49deda6369arow8_col0 {\n",
       "            width:  10em;\n",
       "             height:  80%;\n",
       "            background:  linear-gradient(90deg,#d65f5f 66.7%, transparent 0%);\n",
       "        }    #T_dc42bb64_588e_11e9_8cd9_c49deda6369arow9_col0 {\n",
       "            width:  10em;\n",
       "             height:  80%;\n",
       "            background:  linear-gradient(90deg,#d65f5f 66.7%, transparent 0%);\n",
       "        }    #T_dc42bb64_588e_11e9_8cd9_c49deda6369arow10_col0 {\n",
       "            width:  10em;\n",
       "             height:  80%;\n",
       "            background:  linear-gradient(90deg,#d65f5f 45.6%, transparent 0%);\n",
       "        }    #T_dc42bb64_588e_11e9_8cd9_c49deda6369arow11_col0 {\n",
       "            width:  10em;\n",
       "             height:  80%;\n",
       "            background:  linear-gradient(90deg,#d65f5f 41.4%, transparent 0%);\n",
       "        }    #T_dc42bb64_588e_11e9_8cd9_c49deda6369arow12_col0 {\n",
       "            width:  10em;\n",
       "             height:  80%;\n",
       "            background:  linear-gradient(90deg,#d65f5f 40.4%, transparent 0%);\n",
       "        }    #T_dc42bb64_588e_11e9_8cd9_c49deda6369arow13_col0 {\n",
       "            width:  10em;\n",
       "             height:  80%;\n",
       "            background:  linear-gradient(90deg,#d65f5f 39.8%, transparent 0%);\n",
       "        }    #T_dc42bb64_588e_11e9_8cd9_c49deda6369arow14_col0 {\n",
       "            width:  10em;\n",
       "             height:  80%;\n",
       "            background:  linear-gradient(90deg,#d65f5f 30.3%, transparent 0%);\n",
       "        }    #T_dc42bb64_588e_11e9_8cd9_c49deda6369arow15_col0 {\n",
       "            width:  10em;\n",
       "             height:  80%;\n",
       "            background:  linear-gradient(90deg,#d65f5f 25.7%, transparent 0%);\n",
       "        }    #T_dc42bb64_588e_11e9_8cd9_c49deda6369arow16_col0 {\n",
       "            width:  10em;\n",
       "             height:  80%;\n",
       "            background:  linear-gradient(90deg,#d65f5f 25.7%, transparent 0%);\n",
       "        }    #T_dc42bb64_588e_11e9_8cd9_c49deda6369arow17_col0 {\n",
       "            width:  10em;\n",
       "             height:  80%;\n",
       "            background:  linear-gradient(90deg,#d65f5f 23.2%, transparent 0%);\n",
       "        }    #T_dc42bb64_588e_11e9_8cd9_c49deda6369arow18_col0 {\n",
       "            width:  10em;\n",
       "             height:  80%;\n",
       "            background:  linear-gradient(90deg,#d65f5f 18.5%, transparent 0%);\n",
       "        }    #T_dc42bb64_588e_11e9_8cd9_c49deda6369arow19_col0 {\n",
       "            width:  10em;\n",
       "             height:  80%;\n",
       "            background:  linear-gradient(90deg,#d65f5f 18.5%, transparent 0%);\n",
       "        }    #T_dc42bb64_588e_11e9_8cd9_c49deda6369arow20_col0 {\n",
       "            width:  10em;\n",
       "             height:  80%;\n",
       "            background:  linear-gradient(90deg,#d65f5f 17.9%, transparent 0%);\n",
       "        }    #T_dc42bb64_588e_11e9_8cd9_c49deda6369arow21_col0 {\n",
       "            width:  10em;\n",
       "             height:  80%;\n",
       "            background:  linear-gradient(90deg,#d65f5f 17.1%, transparent 0%);\n",
       "        }    #T_dc42bb64_588e_11e9_8cd9_c49deda6369arow22_col0 {\n",
       "            width:  10em;\n",
       "             height:  80%;\n",
       "            background:  linear-gradient(90deg,#d65f5f 17.1%, transparent 0%);\n",
       "        }    #T_dc42bb64_588e_11e9_8cd9_c49deda6369arow23_col0 {\n",
       "            width:  10em;\n",
       "             height:  80%;\n",
       "            background:  linear-gradient(90deg,#d65f5f 17.1%, transparent 0%);\n",
       "        }    #T_dc42bb64_588e_11e9_8cd9_c49deda6369arow24_col0 {\n",
       "            width:  10em;\n",
       "             height:  80%;\n",
       "            background:  linear-gradient(90deg,#d65f5f 11.9%, transparent 0%);\n",
       "        }    #T_dc42bb64_588e_11e9_8cd9_c49deda6369arow25_col0 {\n",
       "            width:  10em;\n",
       "             height:  80%;\n",
       "            background:  linear-gradient(90deg,#d65f5f 6.0%, transparent 0%);\n",
       "        }    #T_dc42bb64_588e_11e9_8cd9_c49deda6369arow26_col0 {\n",
       "            width:  10em;\n",
       "             height:  80%;\n",
       "            background:  linear-gradient(90deg,#d65f5f 0.8%, transparent 0%);\n",
       "        }    #T_dc42bb64_588e_11e9_8cd9_c49deda6369arow27_col0 {\n",
       "            width:  10em;\n",
       "             height:  80%;\n",
       "            background:  linear-gradient(90deg,#d65f5f 0.4%, transparent 0%);\n",
       "        }    #T_dc42bb64_588e_11e9_8cd9_c49deda6369arow28_col0 {\n",
       "            width:  10em;\n",
       "             height:  80%;\n",
       "            background:  linear-gradient(90deg,#d65f5f 0.3%, transparent 0%);\n",
       "        }    #T_dc42bb64_588e_11e9_8cd9_c49deda6369arow29_col0 {\n",
       "            width:  10em;\n",
       "             height:  80%;\n",
       "            background:  linear-gradient(90deg,#d65f5f 0.1%, transparent 0%);\n",
       "        }    #T_dc42bb64_588e_11e9_8cd9_c49deda6369arow30_col0 {\n",
       "            width:  10em;\n",
       "             height:  80%;\n",
       "            background:  linear-gradient(90deg,#d65f5f 0.0%, transparent 0%);\n",
       "        }    #T_dc42bb64_588e_11e9_8cd9_c49deda6369arow31_col0 {\n",
       "            width:  10em;\n",
       "             height:  80%;\n",
       "            background:  linear-gradient(90deg,#d65f5f 0.0%, transparent 0%);\n",
       "        }    #T_dc42bb64_588e_11e9_8cd9_c49deda6369arow32_col0 {\n",
       "            width:  10em;\n",
       "             height:  80%;\n",
       "            background:  linear-gradient(90deg,#d65f5f 0.0%, transparent 0%);\n",
       "        }    #T_dc42bb64_588e_11e9_8cd9_c49deda6369arow33_col0 {\n",
       "            width:  10em;\n",
       "             height:  80%;\n",
       "            background:  linear-gradient(90deg,#d65f5f 0.0%, transparent 0%);\n",
       "        }    #T_dc42bb64_588e_11e9_8cd9_c49deda6369arow34_col0 {\n",
       "            width:  10em;\n",
       "             height:  80%;\n",
       "            background:  linear-gradient(90deg,#d65f5f 0.0%, transparent 0%);\n",
       "        }    #T_dc42bb64_588e_11e9_8cd9_c49deda6369arow35_col0 {\n",
       "            width:  10em;\n",
       "             height:  80%;\n",
       "            background:  linear-gradient(90deg,#d65f5f 0.0%, transparent 0%);\n",
       "        }    #T_dc42bb64_588e_11e9_8cd9_c49deda6369arow36_col0 {\n",
       "            width:  10em;\n",
       "             height:  80%;\n",
       "            background:  linear-gradient(90deg,#d65f5f 0.0%, transparent 0%);\n",
       "        }    #T_dc42bb64_588e_11e9_8cd9_c49deda6369arow37_col0 {\n",
       "            width:  10em;\n",
       "             height:  80%;\n",
       "            background:  linear-gradient(90deg,#d65f5f 0.0%, transparent 0%);\n",
       "        }    #T_dc42bb64_588e_11e9_8cd9_c49deda6369arow38_col0 {\n",
       "            width:  10em;\n",
       "             height:  80%;\n",
       "        }    #T_dc42bb64_588e_11e9_8cd9_c49deda6369arow39_col0 {\n",
       "            width:  10em;\n",
       "             height:  80%;\n",
       "        }    #T_dc42bb64_588e_11e9_8cd9_c49deda6369arow40_col0 {\n",
       "            width:  10em;\n",
       "             height:  80%;\n",
       "        }    #T_dc42bb64_588e_11e9_8cd9_c49deda6369arow41_col0 {\n",
       "            width:  10em;\n",
       "             height:  80%;\n",
       "        }    #T_dc42bb64_588e_11e9_8cd9_c49deda6369arow42_col0 {\n",
       "            width:  10em;\n",
       "             height:  80%;\n",
       "        }    #T_dc42bb64_588e_11e9_8cd9_c49deda6369arow43_col0 {\n",
       "            width:  10em;\n",
       "             height:  80%;\n",
       "        }    #T_dc42bb64_588e_11e9_8cd9_c49deda6369arow44_col0 {\n",
       "            width:  10em;\n",
       "             height:  80%;\n",
       "        }    #T_dc42bb64_588e_11e9_8cd9_c49deda6369arow45_col0 {\n",
       "            width:  10em;\n",
       "             height:  80%;\n",
       "        }    #T_dc42bb64_588e_11e9_8cd9_c49deda6369arow46_col0 {\n",
       "            width:  10em;\n",
       "             height:  80%;\n",
       "        }    #T_dc42bb64_588e_11e9_8cd9_c49deda6369arow47_col0 {\n",
       "            width:  10em;\n",
       "             height:  80%;\n",
       "        }    #T_dc42bb64_588e_11e9_8cd9_c49deda6369arow48_col0 {\n",
       "            width:  10em;\n",
       "             height:  80%;\n",
       "        }    #T_dc42bb64_588e_11e9_8cd9_c49deda6369arow49_col0 {\n",
       "            width:  10em;\n",
       "             height:  80%;\n",
       "        }    #T_dc42bb64_588e_11e9_8cd9_c49deda6369arow50_col0 {\n",
       "            width:  10em;\n",
       "             height:  80%;\n",
       "        }    #T_dc42bb64_588e_11e9_8cd9_c49deda6369arow51_col0 {\n",
       "            width:  10em;\n",
       "             height:  80%;\n",
       "        }    #T_dc42bb64_588e_11e9_8cd9_c49deda6369arow52_col0 {\n",
       "            width:  10em;\n",
       "             height:  80%;\n",
       "        }    #T_dc42bb64_588e_11e9_8cd9_c49deda6369arow53_col0 {\n",
       "            width:  10em;\n",
       "             height:  80%;\n",
       "        }    #T_dc42bb64_588e_11e9_8cd9_c49deda6369arow54_col0 {\n",
       "            width:  10em;\n",
       "             height:  80%;\n",
       "        }    #T_dc42bb64_588e_11e9_8cd9_c49deda6369arow55_col0 {\n",
       "            width:  10em;\n",
       "             height:  80%;\n",
       "        }    #T_dc42bb64_588e_11e9_8cd9_c49deda6369arow56_col0 {\n",
       "            width:  10em;\n",
       "             height:  80%;\n",
       "        }    #T_dc42bb64_588e_11e9_8cd9_c49deda6369arow57_col0 {\n",
       "            width:  10em;\n",
       "             height:  80%;\n",
       "        }    #T_dc42bb64_588e_11e9_8cd9_c49deda6369arow58_col0 {\n",
       "            width:  10em;\n",
       "             height:  80%;\n",
       "        }    #T_dc42bb64_588e_11e9_8cd9_c49deda6369arow59_col0 {\n",
       "            width:  10em;\n",
       "             height:  80%;\n",
       "        }    #T_dc42bb64_588e_11e9_8cd9_c49deda6369arow60_col0 {\n",
       "            width:  10em;\n",
       "             height:  80%;\n",
       "        }    #T_dc42bb64_588e_11e9_8cd9_c49deda6369arow61_col0 {\n",
       "            width:  10em;\n",
       "             height:  80%;\n",
       "        }    #T_dc42bb64_588e_11e9_8cd9_c49deda6369arow62_col0 {\n",
       "            width:  10em;\n",
       "             height:  80%;\n",
       "        }    #T_dc42bb64_588e_11e9_8cd9_c49deda6369arow63_col0 {\n",
       "            width:  10em;\n",
       "             height:  80%;\n",
       "        }    #T_dc42bb64_588e_11e9_8cd9_c49deda6369arow64_col0 {\n",
       "            width:  10em;\n",
       "             height:  80%;\n",
       "        }    #T_dc42bb64_588e_11e9_8cd9_c49deda6369arow65_col0 {\n",
       "            width:  10em;\n",
       "             height:  80%;\n",
       "        }</style>  \n",
       "<table id=\"T_dc42bb64_588e_11e9_8cd9_c49deda6369a\" > \n",
       "<thead>    <tr> \n",
       "        <th class=\"blank level0\" ></th> \n",
       "        <th class=\"col_heading level0 col0\" >missing</th> \n",
       "        <th class=\"col_heading level0 col1\" >2814</th> \n",
       "        <th class=\"col_heading level0 col2\" >1720</th> \n",
       "    </tr></thead> \n",
       "<tbody>    <tr> \n",
       "        <th id=\"T_dc42bb64_588e_11e9_8cd9_c49deda6369alevel0_row0\" class=\"row_heading level0 row0\" >interaction</th> \n",
       "        <td id=\"T_dc42bb64_588e_11e9_8cd9_c49deda6369arow0_col0\" class=\"data row0 col0\" >0.725652</td> \n",
       "        <td id=\"T_dc42bb64_588e_11e9_8cd9_c49deda6369arow0_col1\" class=\"data row0 col1\" >nan</td> \n",
       "        <td id=\"T_dc42bb64_588e_11e9_8cd9_c49deda6369arow0_col2\" class=\"data row0 col2\" >nan</td> \n",
       "    </tr>    <tr> \n",
       "        <th id=\"T_dc42bb64_588e_11e9_8cd9_c49deda6369alevel0_row1\" class=\"row_heading level0 row1\" >access</th> \n",
       "        <td id=\"T_dc42bb64_588e_11e9_8cd9_c49deda6369arow1_col0\" class=\"data row1 col0\" >0.716872</td> \n",
       "        <td id=\"T_dc42bb64_588e_11e9_8cd9_c49deda6369arow1_col1\" class=\"data row1 col1\" >nan</td> \n",
       "        <td id=\"T_dc42bb64_588e_11e9_8cd9_c49deda6369arow1_col2\" class=\"data row1 col2\" >nan</td> \n",
       "    </tr>    <tr> \n",
       "        <th id=\"T_dc42bb64_588e_11e9_8cd9_c49deda6369alevel0_row2\" class=\"row_heading level0 row2\" >house_rules</th> \n",
       "        <td id=\"T_dc42bb64_588e_11e9_8cd9_c49deda6369arow2_col0\" class=\"data row2 col0\" >0.676753</td> \n",
       "        <td id=\"T_dc42bb64_588e_11e9_8cd9_c49deda6369arow2_col1\" class=\"data row2 col1\" >nan</td> \n",
       "        <td id=\"T_dc42bb64_588e_11e9_8cd9_c49deda6369arow2_col2\" class=\"data row2 col2\" >nan</td> \n",
       "    </tr>    <tr> \n",
       "        <th id=\"T_dc42bb64_588e_11e9_8cd9_c49deda6369alevel0_row3\" class=\"row_heading level0 row3\" >monthly_price</th> \n",
       "        <td id=\"T_dc42bb64_588e_11e9_8cd9_c49deda6369arow3_col0\" class=\"data row3 col0\" >0.675132</td> \n",
       "        <td id=\"T_dc42bb64_588e_11e9_8cd9_c49deda6369arow3_col1\" class=\"data row3 col1\" >$2,200.00</td> \n",
       "        <td id=\"T_dc42bb64_588e_11e9_8cd9_c49deda6369arow3_col2\" class=\"data row3 col2\" >nan</td> \n",
       "    </tr>    <tr> \n",
       "        <th id=\"T_dc42bb64_588e_11e9_8cd9_c49deda6369alevel0_row4\" class=\"row_heading level0 row4\" >weekly_price</th> \n",
       "        <td id=\"T_dc42bb64_588e_11e9_8cd9_c49deda6369arow4_col0\" class=\"data row4 col0\" >0.608132</td> \n",
       "        <td id=\"T_dc42bb64_588e_11e9_8cd9_c49deda6369arow4_col1\" class=\"data row4 col1\" >$800.00</td> \n",
       "        <td id=\"T_dc42bb64_588e_11e9_8cd9_c49deda6369arow4_col2\" class=\"data row4 col2\" >nan</td> \n",
       "    </tr>    <tr> \n",
       "        <th id=\"T_dc42bb64_588e_11e9_8cd9_c49deda6369alevel0_row5\" class=\"row_heading level0 row5\" >security_deposit</th> \n",
       "        <td id=\"T_dc42bb64_588e_11e9_8cd9_c49deda6369arow5_col0\" class=\"data row5 col0\" >0.566662</td> \n",
       "        <td id=\"T_dc42bb64_588e_11e9_8cd9_c49deda6369arow5_col1\" class=\"data row5 col1\" >$100.00</td> \n",
       "        <td id=\"T_dc42bb64_588e_11e9_8cd9_c49deda6369arow5_col2\" class=\"data row5 col2\" >$300.00</td> \n",
       "    </tr>    <tr> \n",
       "        <th id=\"T_dc42bb64_588e_11e9_8cd9_c49deda6369alevel0_row6\" class=\"row_heading level0 row6\" >jurisdiction_names</th> \n",
       "        <td id=\"T_dc42bb64_588e_11e9_8cd9_c49deda6369arow6_col0\" class=\"data row6 col0\" >0.484263</td> \n",
       "        <td id=\"T_dc42bb64_588e_11e9_8cd9_c49deda6369arow6_col1\" class=\"data row6 col1\" >WASHINGTON</td> \n",
       "        <td id=\"T_dc42bb64_588e_11e9_8cd9_c49deda6369arow6_col2\" class=\"data row6 col2\" >WASHINGTON</td> \n",
       "    </tr>    <tr> \n",
       "        <th id=\"T_dc42bb64_588e_11e9_8cd9_c49deda6369alevel0_row7\" class=\"row_heading level0 row7\" >neighbourhood_group_cleansed</th> \n",
       "        <td id=\"T_dc42bb64_588e_11e9_8cd9_c49deda6369arow7_col0\" class=\"data row7 col0\" >0.484263</td> \n",
       "        <td id=\"T_dc42bb64_588e_11e9_8cd9_c49deda6369arow7_col1\" class=\"data row7 col1\" >Capitol Hill</td> \n",
       "        <td id=\"T_dc42bb64_588e_11e9_8cd9_c49deda6369arow7_col2\" class=\"data row7 col2\" >West Seattle</td> \n",
       "    </tr>    <tr> \n",
       "        <th id=\"T_dc42bb64_588e_11e9_8cd9_c49deda6369alevel0_row8\" class=\"row_heading level0 row8\" >has_availability</th> \n",
       "        <td id=\"T_dc42bb64_588e_11e9_8cd9_c49deda6369arow8_col0\" class=\"data row8 col0\" >0.484263</td> \n",
       "        <td id=\"T_dc42bb64_588e_11e9_8cd9_c49deda6369arow8_col1\" class=\"data row8 col1\" >t</td> \n",
       "        <td id=\"T_dc42bb64_588e_11e9_8cd9_c49deda6369arow8_col2\" class=\"data row8 col2\" >t</td> \n",
       "    </tr>    <tr> \n",
       "        <th id=\"T_dc42bb64_588e_11e9_8cd9_c49deda6369alevel0_row9\" class=\"row_heading level0 row9\" >notes</th> \n",
       "        <td id=\"T_dc42bb64_588e_11e9_8cd9_c49deda6369arow9_col0\" class=\"data row9 col0\" >0.483723</td> \n",
       "        <td id=\"T_dc42bb64_588e_11e9_8cd9_c49deda6369arow9_col1\" class=\"data row9 col1\" >nan</td> \n",
       "        <td id=\"T_dc42bb64_588e_11e9_8cd9_c49deda6369arow9_col2\" class=\"data row9 col2\" >nan</td> \n",
       "    </tr>    <tr> \n",
       "        <th id=\"T_dc42bb64_588e_11e9_8cd9_c49deda6369alevel0_row10\" class=\"row_heading level0 row10\" >neighborhood_overview</th> \n",
       "        <td id=\"T_dc42bb64_588e_11e9_8cd9_c49deda6369arow10_col0\" class=\"data row10 col0\" >0.330542</td> \n",
       "        <td id=\"T_dc42bb64_588e_11e9_8cd9_c49deda6369arow10_col1\" class=\"data row10 col1\" >nan</td> \n",
       "        <td id=\"T_dc42bb64_588e_11e9_8cd9_c49deda6369arow10_col2\" class=\"data row10 col2\" >nan</td> \n",
       "    </tr>    <tr> \n",
       "        <th id=\"T_dc42bb64_588e_11e9_8cd9_c49deda6369alevel0_row11\" class=\"row_heading level0 row11\" >transit</th> \n",
       "        <td id=\"T_dc42bb64_588e_11e9_8cd9_c49deda6369arow11_col0\" class=\"data row11 col0\" >0.300419</td> \n",
       "        <td id=\"T_dc42bb64_588e_11e9_8cd9_c49deda6369arow11_col1\" class=\"data row11 col1\" >nan</td> \n",
       "        <td id=\"T_dc42bb64_588e_11e9_8cd9_c49deda6369arow11_col2\" class=\"data row11 col2\" >nan</td> \n",
       "    </tr>    <tr> \n",
       "        <th id=\"T_dc42bb64_588e_11e9_8cd9_c49deda6369alevel0_row12\" class=\"row_heading level0 row12\" >host_about</th> \n",
       "        <td id=\"T_dc42bb64_588e_11e9_8cd9_c49deda6369arow12_col0\" class=\"data row12 col0\" >0.292854</td> \n",
       "        <td id=\"T_dc42bb64_588e_11e9_8cd9_c49deda6369arow12_col1\" class=\"data row12 col1\" >Hi! We are a married couple who are constantly traveling the world, as we are full time performers in the burlesque/drag/theater world. We are responsibile, non-smoking, in our 30's, love to travel, eat delicious food, meet new people, and buy fancy vintage clothes and furniture!  We love experiencing a city through a local's eyes, and love giving other people that opportunity as well!</td> \n",
       "        <td id=\"T_dc42bb64_588e_11e9_8cd9_c49deda6369arow12_col2\" class=\"data row12 col2\" >I love cooking, eating and cocktail napkins.  We live in Spokane, but Seattle is home. We are hooked on Seattle's scenery, parks and restaurants. We want to create a place where you can relax after a long day of work or play!</td> \n",
       "    </tr>    <tr> \n",
       "        <th id=\"T_dc42bb64_588e_11e9_8cd9_c49deda6369alevel0_row13\" class=\"row_heading level0 row13\" >cleaning_fee</th> \n",
       "        <td id=\"T_dc42bb64_588e_11e9_8cd9_c49deda6369arow13_col0\" class=\"data row13 col0\" >0.288667</td> \n",
       "        <td id=\"T_dc42bb64_588e_11e9_8cd9_c49deda6369arow13_col1\" class=\"data row13 col1\" >$50.00</td> \n",
       "        <td id=\"T_dc42bb64_588e_11e9_8cd9_c49deda6369arow13_col2\" class=\"data row13 col2\" >$90.00</td> \n",
       "    </tr>    <tr> \n",
       "        <th id=\"T_dc42bb64_588e_11e9_8cd9_c49deda6369alevel0_row14\" class=\"row_heading level0 row14\" >space</th> \n",
       "        <td id=\"T_dc42bb64_588e_11e9_8cd9_c49deda6369arow14_col0\" class=\"data row14 col0\" >0.219641</td> \n",
       "        <td id=\"T_dc42bb64_588e_11e9_8cd9_c49deda6369arow14_col1\" class=\"data row14 col1\" >Welcome to your perfect Seattle home-away-from home, perfect for a quick getaway or a longer stay! Located in a stunning and exquisitely maintained turn-of-the-century building just one block off of the endless shops, restaurants, nightlife, and coffee shops on Broadway, in the heart of Capitol Hill. Be in the center of everything that's fabulous about Seattle, while still enjoying the quiet tree-lined serenity of our lovely block, in a place that has charm in spades. Our hip, cozy, clean, quiet, and charming apartment features hardwood floors, beautiful high beamed ceilings, gorgeous antique woodworking, HUGE clawfoot tub, walls of large windows with tons of light, deluxe organic latex queen sized bed... the works. It's a real showstopper, people usually gasp when they walk in!  Our place offers a full kitchen with fridge, gas stove, toaster, blender, and juicer. There is a large living room with a cute dining nook, all furnished in stylish vintage and mid-century furniture. You'll sl</td> \n",
       "        <td id=\"T_dc42bb64_588e_11e9_8cd9_c49deda6369arow14_col2\" class=\"data row14 col2\" >Please note: You have full access to the entire main house (two bedroom and full amenities)  but there may be other airbnb guests occupying the basement unit during your stay. We rent out the basement as an independent listing on airbnb! The Space There are separate entrances and the spaces are not shared nor are there any communal areas so you can still enjoy your privacy! We just ask you be courteous and aware of other guests in a nearby space :) Our charming house makes for a super-relaxing getaway in the city. The big picture windows frame a terrific, wide view of the Puget Sound from the well-appointed kitchen, living room, and upstairs master suite. Or, get out and enjoy the nice view from the new, large deck. At 1600 square feet, with two bedrooms and two queen-sized beds, there's plenty of room for you and your guests to spread out and be comfortable. The living room and dining room are adjacent in our open floor plan. Take note that there may be other guests staying in the bas</td> \n",
       "    </tr>    <tr> \n",
       "        <th id=\"T_dc42bb64_588e_11e9_8cd9_c49deda6369alevel0_row15\" class=\"row_heading level0 row15\" >last_review</th> \n",
       "        <td id=\"T_dc42bb64_588e_11e9_8cd9_c49deda6369arow15_col0\" class=\"data row15 col0\" >0.186816</td> \n",
       "        <td id=\"T_dc42bb64_588e_11e9_8cd9_c49deda6369arow15_col1\" class=\"data row15 col1\" >2015-10-28</td> \n",
       "        <td id=\"T_dc42bb64_588e_11e9_8cd9_c49deda6369arow15_col2\" class=\"data row15 col2\" >nan</td> \n",
       "    </tr>    <tr> \n",
       "        <th id=\"T_dc42bb64_588e_11e9_8cd9_c49deda6369alevel0_row16\" class=\"row_heading level0 row16\" >first_review</th> \n",
       "        <td id=\"T_dc42bb64_588e_11e9_8cd9_c49deda6369arow16_col0\" class=\"data row16 col0\" >0.186816</td> \n",
       "        <td id=\"T_dc42bb64_588e_11e9_8cd9_c49deda6369arow16_col1\" class=\"data row16 col1\" >2013-06-02</td> \n",
       "        <td id=\"T_dc42bb64_588e_11e9_8cd9_c49deda6369arow16_col2\" class=\"data row16 col2\" >nan</td> \n",
       "    </tr>    <tr> \n",
       "        <th id=\"T_dc42bb64_588e_11e9_8cd9_c49deda6369alevel0_row17\" class=\"row_heading level0 row17\" >host_acceptance_rate</th> \n",
       "        <td id=\"T_dc42bb64_588e_11e9_8cd9_c49deda6369arow17_col0\" class=\"data row17 col0\" >0.16804</td> \n",
       "        <td id=\"T_dc42bb64_588e_11e9_8cd9_c49deda6369arow17_col1\" class=\"data row17 col1\" >100%</td> \n",
       "        <td id=\"T_dc42bb64_588e_11e9_8cd9_c49deda6369arow17_col2\" class=\"data row17 col2\" >100%</td> \n",
       "    </tr>    <tr> \n",
       "        <th id=\"T_dc42bb64_588e_11e9_8cd9_c49deda6369alevel0_row18\" class=\"row_heading level0 row18\" >host_response_rate</th> \n",
       "        <td id=\"T_dc42bb64_588e_11e9_8cd9_c49deda6369arow18_col0\" class=\"data row18 col0\" >0.13427</td> \n",
       "        <td id=\"T_dc42bb64_588e_11e9_8cd9_c49deda6369arow18_col1\" class=\"data row18 col1\" >53%</td> \n",
       "        <td id=\"T_dc42bb64_588e_11e9_8cd9_c49deda6369arow18_col2\" class=\"data row18 col2\" >100%</td> \n",
       "    </tr>    <tr> \n",
       "        <th id=\"T_dc42bb64_588e_11e9_8cd9_c49deda6369alevel0_row19\" class=\"row_heading level0 row19\" >host_response_time</th> \n",
       "        <td id=\"T_dc42bb64_588e_11e9_8cd9_c49deda6369arow19_col0\" class=\"data row19 col0\" >0.13427</td> \n",
       "        <td id=\"T_dc42bb64_588e_11e9_8cd9_c49deda6369arow19_col1\" class=\"data row19 col1\" >within a few hours</td> \n",
       "        <td id=\"T_dc42bb64_588e_11e9_8cd9_c49deda6369arow19_col2\" class=\"data row19 col2\" >within an hour</td> \n",
       "    </tr>    <tr> \n",
       "        <th id=\"T_dc42bb64_588e_11e9_8cd9_c49deda6369alevel0_row20\" class=\"row_heading level0 row20\" >neighbourhood</th> \n",
       "        <td id=\"T_dc42bb64_588e_11e9_8cd9_c49deda6369arow20_col0\" class=\"data row20 col0\" >0.129542</td> \n",
       "        <td id=\"T_dc42bb64_588e_11e9_8cd9_c49deda6369arow20_col1\" class=\"data row20 col1\" >Capitol Hill</td> \n",
       "        <td id=\"T_dc42bb64_588e_11e9_8cd9_c49deda6369arow20_col2\" class=\"data row20 col2\" >The Junction</td> \n",
       "    </tr>    <tr> \n",
       "        <th id=\"T_dc42bb64_588e_11e9_8cd9_c49deda6369alevel0_row21\" class=\"row_heading level0 row21\" >medium_url</th> \n",
       "        <td id=\"T_dc42bb64_588e_11e9_8cd9_c49deda6369arow21_col0\" class=\"data row21 col0\" >0.124139</td> \n",
       "        <td id=\"T_dc42bb64_588e_11e9_8cd9_c49deda6369arow21_col1\" class=\"data row21 col1\" >https://a1.muscache.com/im/pictures/29590087/a2db482e_original.jpg?aki_policy=medium</td> \n",
       "        <td id=\"T_dc42bb64_588e_11e9_8cd9_c49deda6369arow21_col2\" class=\"data row21 col2\" >https://a2.muscache.com/im/pictures/28588391-88c8-47b4-ae6e-3f849c3230e0.jpg?aki_policy=medium</td> \n",
       "    </tr>    <tr> \n",
       "        <th id=\"T_dc42bb64_588e_11e9_8cd9_c49deda6369alevel0_row22\" class=\"row_heading level0 row22\" >thumbnail_url</th> \n",
       "        <td id=\"T_dc42bb64_588e_11e9_8cd9_c49deda6369arow22_col0\" class=\"data row22 col0\" >0.124139</td> \n",
       "        <td id=\"T_dc42bb64_588e_11e9_8cd9_c49deda6369arow22_col1\" class=\"data row22 col1\" >https://a1.muscache.com/ac/pictures/29590087/a2db482e_original.jpg?interpolation=lanczos-none&size=small&output-format=jpg&output-quality=70</td> \n",
       "        <td id=\"T_dc42bb64_588e_11e9_8cd9_c49deda6369arow22_col2\" class=\"data row22 col2\" >https://a2.muscache.com/ac/pictures/28588391-88c8-47b4-ae6e-3f849c3230e0.jpg?interpolation=lanczos-none&size=small&output-format=jpg&output-quality=70</td> \n",
       "    </tr>    <tr> \n",
       "        <th id=\"T_dc42bb64_588e_11e9_8cd9_c49deda6369alevel0_row23\" class=\"row_heading level0 row23\" >xl_picture_url</th> \n",
       "        <td id=\"T_dc42bb64_588e_11e9_8cd9_c49deda6369arow23_col0\" class=\"data row23 col0\" >0.124139</td> \n",
       "        <td id=\"T_dc42bb64_588e_11e9_8cd9_c49deda6369arow23_col1\" class=\"data row23 col1\" >https://a1.muscache.com/ac/pictures/29590087/a2db482e_original.jpg?interpolation=lanczos-none&size=x_large_cover&output-format=jpg&output-quality=70</td> \n",
       "        <td id=\"T_dc42bb64_588e_11e9_8cd9_c49deda6369arow23_col2\" class=\"data row23 col2\" >https://a2.muscache.com/ac/pictures/28588391-88c8-47b4-ae6e-3f849c3230e0.jpg?interpolation=lanczos-none&size=x_large_cover&output-format=jpg&output-quality=70</td> \n",
       "    </tr>    <tr> \n",
       "        <th id=\"T_dc42bb64_588e_11e9_8cd9_c49deda6369alevel0_row24\" class=\"row_heading level0 row24\" >host_neighbourhood</th> \n",
       "        <td id=\"T_dc42bb64_588e_11e9_8cd9_c49deda6369arow24_col0\" class=\"data row24 col0\" >0.0863164</td> \n",
       "        <td id=\"T_dc42bb64_588e_11e9_8cd9_c49deda6369arow24_col1\" class=\"data row24 col1\" >Capitol Hill</td> \n",
       "        <td id=\"T_dc42bb64_588e_11e9_8cd9_c49deda6369arow24_col2\" class=\"data row24 col2\" >The Junction</td> \n",
       "    </tr>    <tr> \n",
       "        <th id=\"T_dc42bb64_588e_11e9_8cd9_c49deda6369alevel0_row25\" class=\"row_heading level0 row25\" >summary</th> \n",
       "        <td id=\"T_dc42bb64_588e_11e9_8cd9_c49deda6369arow25_col0\" class=\"data row25 col0\" >0.0432257</td> \n",
       "        <td id=\"T_dc42bb64_588e_11e9_8cd9_c49deda6369arow25_col1\" class=\"data row25 col1\" >nan</td> \n",
       "        <td id=\"T_dc42bb64_588e_11e9_8cd9_c49deda6369arow25_col2\" class=\"data row25 col2\" >Charming brick home boasts large windows and deck with Puget Sound views. Chef's kitchen for your convenience. In Seattle's best neighborhood, West Seattle, with great shopping and dining. Walk to coffee & grocery store. Easy ride downtown.</td> \n",
       "    </tr>    <tr> \n",
       "        <th id=\"T_dc42bb64_588e_11e9_8cd9_c49deda6369alevel0_row26\" class=\"row_heading level0 row26\" >zipcode</th> \n",
       "        <td id=\"T_dc42bb64_588e_11e9_8cd9_c49deda6369arow26_col0\" class=\"data row26 col0\" >0.00607862</td> \n",
       "        <td id=\"T_dc42bb64_588e_11e9_8cd9_c49deda6369arow26_col1\" class=\"data row26 col1\" >98102</td> \n",
       "        <td id=\"T_dc42bb64_588e_11e9_8cd9_c49deda6369arow26_col2\" class=\"data row26 col2\" >98136</td> \n",
       "    </tr>    <tr> \n",
       "        <th id=\"T_dc42bb64_588e_11e9_8cd9_c49deda6369alevel0_row27\" class=\"row_heading level0 row27\" >host_location</th> \n",
       "        <td id=\"T_dc42bb64_588e_11e9_8cd9_c49deda6369arow27_col0\" class=\"data row27 col0\" >0.00256653</td> \n",
       "        <td id=\"T_dc42bb64_588e_11e9_8cd9_c49deda6369arow27_col1\" class=\"data row27 col1\" >Seattle, Washington, United States</td> \n",
       "        <td id=\"T_dc42bb64_588e_11e9_8cd9_c49deda6369arow27_col2\" class=\"data row27 col2\" >Spokane, Washington, United States</td> \n",
       "    </tr>    <tr> \n",
       "        <th id=\"T_dc42bb64_588e_11e9_8cd9_c49deda6369alevel0_row28\" class=\"row_heading level0 row28\" >market</th> \n",
       "        <td id=\"T_dc42bb64_588e_11e9_8cd9_c49deda6369arow28_col0\" class=\"data row28 col0\" >0.00189113</td> \n",
       "        <td id=\"T_dc42bb64_588e_11e9_8cd9_c49deda6369arow28_col1\" class=\"data row28 col1\" >Seattle</td> \n",
       "        <td id=\"T_dc42bb64_588e_11e9_8cd9_c49deda6369arow28_col2\" class=\"data row28 col2\" >Seattle</td> \n",
       "    </tr>    <tr> \n",
       "        <th id=\"T_dc42bb64_588e_11e9_8cd9_c49deda6369alevel0_row29\" class=\"row_heading level0 row29\" >property_type</th> \n",
       "        <td id=\"T_dc42bb64_588e_11e9_8cd9_c49deda6369arow29_col0\" class=\"data row29 col0\" >0.000540321</td> \n",
       "        <td id=\"T_dc42bb64_588e_11e9_8cd9_c49deda6369arow29_col1\" class=\"data row29 col1\" >Apartment</td> \n",
       "        <td id=\"T_dc42bb64_588e_11e9_8cd9_c49deda6369arow29_col2\" class=\"data row29 col2\" >House</td> \n",
       "    </tr>    <tr> \n",
       "        <th id=\"T_dc42bb64_588e_11e9_8cd9_c49deda6369alevel0_row30\" class=\"row_heading level0 row30\" >host_thumbnail_url</th> \n",
       "        <td id=\"T_dc42bb64_588e_11e9_8cd9_c49deda6369arow30_col0\" class=\"data row30 col0\" >0.000270161</td> \n",
       "        <td id=\"T_dc42bb64_588e_11e9_8cd9_c49deda6369arow30_col1\" class=\"data row30 col1\" >https://a1.muscache.com/ac/users/3896863/profile_pic/1350465015/original.jpg?interpolation=lanczos-none&crop=w:w;*,*&crop=h:h;*,*&resize=50:*&output-format=jpg&output-quality=70</td> \n",
       "        <td id=\"T_dc42bb64_588e_11e9_8cd9_c49deda6369arow30_col2\" class=\"data row30 col2\" >https://a2.muscache.com/ac/pictures/2d78bb16-f187-4acb-8736-f4a5c79eeca6.jpg?interpolation=lanczos-none&crop=w:w;*,*&crop=h:h;*,*&resize=50:*&output-format=jpg&output-quality=70</td> \n",
       "    </tr>    <tr> \n",
       "        <th id=\"T_dc42bb64_588e_11e9_8cd9_c49deda6369alevel0_row31\" class=\"row_heading level0 row31\" >host_has_profile_pic</th> \n",
       "        <td id=\"T_dc42bb64_588e_11e9_8cd9_c49deda6369arow31_col0\" class=\"data row31 col0\" >0.000270161</td> \n",
       "        <td id=\"T_dc42bb64_588e_11e9_8cd9_c49deda6369arow31_col1\" class=\"data row31 col1\" >t</td> \n",
       "        <td id=\"T_dc42bb64_588e_11e9_8cd9_c49deda6369arow31_col2\" class=\"data row31 col2\" >t</td> \n",
       "    </tr>    <tr> \n",
       "        <th id=\"T_dc42bb64_588e_11e9_8cd9_c49deda6369alevel0_row32\" class=\"row_heading level0 row32\" >host_identity_verified</th> \n",
       "        <td id=\"T_dc42bb64_588e_11e9_8cd9_c49deda6369arow32_col0\" class=\"data row32 col0\" >0.000270161</td> \n",
       "        <td id=\"T_dc42bb64_588e_11e9_8cd9_c49deda6369arow32_col1\" class=\"data row32 col1\" >t</td> \n",
       "        <td id=\"T_dc42bb64_588e_11e9_8cd9_c49deda6369arow32_col2\" class=\"data row32 col2\" >t</td> \n",
       "    </tr>    <tr> \n",
       "        <th id=\"T_dc42bb64_588e_11e9_8cd9_c49deda6369alevel0_row33\" class=\"row_heading level0 row33\" >city</th> \n",
       "        <td id=\"T_dc42bb64_588e_11e9_8cd9_c49deda6369arow33_col0\" class=\"data row33 col0\" >0.000270161</td> \n",
       "        <td id=\"T_dc42bb64_588e_11e9_8cd9_c49deda6369arow33_col1\" class=\"data row33 col1\" >Seattle</td> \n",
       "        <td id=\"T_dc42bb64_588e_11e9_8cd9_c49deda6369arow33_col2\" class=\"data row33 col2\" >Seattle</td> \n",
       "    </tr>    <tr> \n",
       "        <th id=\"T_dc42bb64_588e_11e9_8cd9_c49deda6369alevel0_row34\" class=\"row_heading level0 row34\" >host_is_superhost</th> \n",
       "        <td id=\"T_dc42bb64_588e_11e9_8cd9_c49deda6369arow34_col0\" class=\"data row34 col0\" >0.000270161</td> \n",
       "        <td id=\"T_dc42bb64_588e_11e9_8cd9_c49deda6369arow34_col1\" class=\"data row34 col1\" >f</td> \n",
       "        <td id=\"T_dc42bb64_588e_11e9_8cd9_c49deda6369arow34_col2\" class=\"data row34 col2\" >f</td> \n",
       "    </tr>    <tr> \n",
       "        <th id=\"T_dc42bb64_588e_11e9_8cd9_c49deda6369alevel0_row35\" class=\"row_heading level0 row35\" >host_name</th> \n",
       "        <td id=\"T_dc42bb64_588e_11e9_8cd9_c49deda6369arow35_col0\" class=\"data row35 col0\" >0.000270161</td> \n",
       "        <td id=\"T_dc42bb64_588e_11e9_8cd9_c49deda6369arow35_col1\" class=\"data row35 col1\" >Susanna And Ricki</td> \n",
       "        <td id=\"T_dc42bb64_588e_11e9_8cd9_c49deda6369arow35_col2\" class=\"data row35 col2\" >Jane</td> \n",
       "    </tr>    <tr> \n",
       "        <th id=\"T_dc42bb64_588e_11e9_8cd9_c49deda6369alevel0_row36\" class=\"row_heading level0 row36\" >host_picture_url</th> \n",
       "        <td id=\"T_dc42bb64_588e_11e9_8cd9_c49deda6369arow36_col0\" class=\"data row36 col0\" >0.000270161</td> \n",
       "        <td id=\"T_dc42bb64_588e_11e9_8cd9_c49deda6369arow36_col1\" class=\"data row36 col1\" >https://a1.muscache.com/ac/users/3896863/profile_pic/1350465015/original.jpg?interpolation=lanczos-none&crop=w:w;*,*&crop=h:h;*,*&resize=225:*&output-format=jpg&output-quality=70</td> \n",
       "        <td id=\"T_dc42bb64_588e_11e9_8cd9_c49deda6369arow36_col2\" class=\"data row36 col2\" >https://a2.muscache.com/ac/pictures/2d78bb16-f187-4acb-8736-f4a5c79eeca6.jpg?interpolation=lanczos-none&crop=w:w;*,*&crop=h:h;*,*&resize=225:*&output-format=jpg&output-quality=70</td> \n",
       "    </tr>    <tr> \n",
       "        <th id=\"T_dc42bb64_588e_11e9_8cd9_c49deda6369alevel0_row37\" class=\"row_heading level0 row37\" >host_since</th> \n",
       "        <td id=\"T_dc42bb64_588e_11e9_8cd9_c49deda6369arow37_col0\" class=\"data row37 col0\" >0.000270161</td> \n",
       "        <td id=\"T_dc42bb64_588e_11e9_8cd9_c49deda6369arow37_col1\" class=\"data row37 col1\" >2012-10-17</td> \n",
       "        <td id=\"T_dc42bb64_588e_11e9_8cd9_c49deda6369arow37_col2\" class=\"data row37 col2\" >2015-10-16</td> \n",
       "    </tr>    <tr> \n",
       "        <th id=\"T_dc42bb64_588e_11e9_8cd9_c49deda6369alevel0_row38\" class=\"row_heading level0 row38\" >cancellation_policy</th> \n",
       "        <td id=\"T_dc42bb64_588e_11e9_8cd9_c49deda6369arow38_col0\" class=\"data row38 col0\" >0</td> \n",
       "        <td id=\"T_dc42bb64_588e_11e9_8cd9_c49deda6369arow38_col1\" class=\"data row38 col1\" >moderate</td> \n",
       "        <td id=\"T_dc42bb64_588e_11e9_8cd9_c49deda6369arow38_col2\" class=\"data row38 col2\" >moderate</td> \n",
       "    </tr>    <tr> \n",
       "        <th id=\"T_dc42bb64_588e_11e9_8cd9_c49deda6369alevel0_row39\" class=\"row_heading level0 row39\" >calendar_updated</th> \n",
       "        <td id=\"T_dc42bb64_588e_11e9_8cd9_c49deda6369arow39_col0\" class=\"data row39 col0\" >0</td> \n",
       "        <td id=\"T_dc42bb64_588e_11e9_8cd9_c49deda6369arow39_col1\" class=\"data row39 col1\" >today</td> \n",
       "        <td id=\"T_dc42bb64_588e_11e9_8cd9_c49deda6369arow39_col2\" class=\"data row39 col2\" >yesterday</td> \n",
       "    </tr>    <tr> \n",
       "        <th id=\"T_dc42bb64_588e_11e9_8cd9_c49deda6369alevel0_row40\" class=\"row_heading level0 row40\" >require_guest_profile_picture</th> \n",
       "        <td id=\"T_dc42bb64_588e_11e9_8cd9_c49deda6369arow40_col0\" class=\"data row40 col0\" >0</td> \n",
       "        <td id=\"T_dc42bb64_588e_11e9_8cd9_c49deda6369arow40_col1\" class=\"data row40 col1\" >t</td> \n",
       "        <td id=\"T_dc42bb64_588e_11e9_8cd9_c49deda6369arow40_col2\" class=\"data row40 col2\" >f</td> \n",
       "    </tr>    <tr> \n",
       "        <th id=\"T_dc42bb64_588e_11e9_8cd9_c49deda6369alevel0_row41\" class=\"row_heading level0 row41\" >calendar_last_scraped</th> \n",
       "        <td id=\"T_dc42bb64_588e_11e9_8cd9_c49deda6369arow41_col0\" class=\"data row41 col0\" >0</td> \n",
       "        <td id=\"T_dc42bb64_588e_11e9_8cd9_c49deda6369arow41_col1\" class=\"data row41 col1\" >2016-01-04</td> \n",
       "        <td id=\"T_dc42bb64_588e_11e9_8cd9_c49deda6369arow41_col2\" class=\"data row41 col2\" >2016-01-04</td> \n",
       "    </tr>    <tr> \n",
       "        <th id=\"T_dc42bb64_588e_11e9_8cd9_c49deda6369alevel0_row42\" class=\"row_heading level0 row42\" >street</th> \n",
       "        <td id=\"T_dc42bb64_588e_11e9_8cd9_c49deda6369arow42_col0\" class=\"data row42 col0\" >0</td> \n",
       "        <td id=\"T_dc42bb64_588e_11e9_8cd9_c49deda6369arow42_col1\" class=\"data row42 col1\" >10th Avenue East, Seattle, WA 98102, United States</td> \n",
       "        <td id=\"T_dc42bb64_588e_11e9_8cd9_c49deda6369arow42_col2\" class=\"data row42 col2\" >39th Avenue Southwest, Seattle, WA 98136, United States</td> \n",
       "    </tr>    <tr> \n",
       "        <th id=\"T_dc42bb64_588e_11e9_8cd9_c49deda6369alevel0_row43\" class=\"row_heading level0 row43\" >state</th> \n",
       "        <td id=\"T_dc42bb64_588e_11e9_8cd9_c49deda6369arow43_col0\" class=\"data row43 col0\" >0</td> \n",
       "        <td id=\"T_dc42bb64_588e_11e9_8cd9_c49deda6369arow43_col1\" class=\"data row43 col1\" >WA</td> \n",
       "        <td id=\"T_dc42bb64_588e_11e9_8cd9_c49deda6369arow43_col2\" class=\"data row43 col2\" >WA</td> \n",
       "    </tr>    <tr> \n",
       "        <th id=\"T_dc42bb64_588e_11e9_8cd9_c49deda6369alevel0_row44\" class=\"row_heading level0 row44\" >country</th> \n",
       "        <td id=\"T_dc42bb64_588e_11e9_8cd9_c49deda6369arow44_col0\" class=\"data row44 col0\" >0</td> \n",
       "        <td id=\"T_dc42bb64_588e_11e9_8cd9_c49deda6369arow44_col1\" class=\"data row44 col1\" >United States</td> \n",
       "        <td id=\"T_dc42bb64_588e_11e9_8cd9_c49deda6369arow44_col2\" class=\"data row44 col2\" >United States</td> \n",
       "    </tr>    <tr> \n",
       "        <th id=\"T_dc42bb64_588e_11e9_8cd9_c49deda6369alevel0_row45\" class=\"row_heading level0 row45\" >smart_location</th> \n",
       "        <td id=\"T_dc42bb64_588e_11e9_8cd9_c49deda6369arow45_col0\" class=\"data row45 col0\" >0</td> \n",
       "        <td id=\"T_dc42bb64_588e_11e9_8cd9_c49deda6369arow45_col1\" class=\"data row45 col1\" >Seattle, WA</td> \n",
       "        <td id=\"T_dc42bb64_588e_11e9_8cd9_c49deda6369arow45_col2\" class=\"data row45 col2\" >Seattle, WA</td> \n",
       "    </tr>    <tr> \n",
       "        <th id=\"T_dc42bb64_588e_11e9_8cd9_c49deda6369alevel0_row46\" class=\"row_heading level0 row46\" >country_code</th> \n",
       "        <td id=\"T_dc42bb64_588e_11e9_8cd9_c49deda6369arow46_col0\" class=\"data row46 col0\" >0</td> \n",
       "        <td id=\"T_dc42bb64_588e_11e9_8cd9_c49deda6369arow46_col1\" class=\"data row46 col1\" >US</td> \n",
       "        <td id=\"T_dc42bb64_588e_11e9_8cd9_c49deda6369arow46_col2\" class=\"data row46 col2\" >US</td> \n",
       "    </tr>    <tr> \n",
       "        <th id=\"T_dc42bb64_588e_11e9_8cd9_c49deda6369alevel0_row47\" class=\"row_heading level0 row47\" >rowsource</th> \n",
       "        <td id=\"T_dc42bb64_588e_11e9_8cd9_c49deda6369arow47_col0\" class=\"data row47 col0\" >0</td> \n",
       "        <td id=\"T_dc42bb64_588e_11e9_8cd9_c49deda6369arow47_col1\" class=\"data row47 col1\" >data\\seattle\\listings.csv</td> \n",
       "        <td id=\"T_dc42bb64_588e_11e9_8cd9_c49deda6369arow47_col2\" class=\"data row47 col2\" >data\\seattle\\listings.csv</td> \n",
       "    </tr>    <tr> \n",
       "        <th id=\"T_dc42bb64_588e_11e9_8cd9_c49deda6369alevel0_row48\" class=\"row_heading level0 row48\" >room_type</th> \n",
       "        <td id=\"T_dc42bb64_588e_11e9_8cd9_c49deda6369arow48_col0\" class=\"data row48 col0\" >0</td> \n",
       "        <td id=\"T_dc42bb64_588e_11e9_8cd9_c49deda6369arow48_col1\" class=\"data row48 col1\" >Entire home/apt</td> \n",
       "        <td id=\"T_dc42bb64_588e_11e9_8cd9_c49deda6369arow48_col2\" class=\"data row48 col2\" >Entire home/apt</td> \n",
       "    </tr>    <tr> \n",
       "        <th id=\"T_dc42bb64_588e_11e9_8cd9_c49deda6369alevel0_row49\" class=\"row_heading level0 row49\" >bed_type</th> \n",
       "        <td id=\"T_dc42bb64_588e_11e9_8cd9_c49deda6369arow49_col0\" class=\"data row49 col0\" >0</td> \n",
       "        <td id=\"T_dc42bb64_588e_11e9_8cd9_c49deda6369arow49_col1\" class=\"data row49 col1\" >Real Bed</td> \n",
       "        <td id=\"T_dc42bb64_588e_11e9_8cd9_c49deda6369arow49_col2\" class=\"data row49 col2\" >Real Bed</td> \n",
       "    </tr>    <tr> \n",
       "        <th id=\"T_dc42bb64_588e_11e9_8cd9_c49deda6369alevel0_row50\" class=\"row_heading level0 row50\" >requires_license</th> \n",
       "        <td id=\"T_dc42bb64_588e_11e9_8cd9_c49deda6369arow50_col0\" class=\"data row50 col0\" >0</td> \n",
       "        <td id=\"T_dc42bb64_588e_11e9_8cd9_c49deda6369arow50_col1\" class=\"data row50 col1\" >f</td> \n",
       "        <td id=\"T_dc42bb64_588e_11e9_8cd9_c49deda6369arow50_col2\" class=\"data row50 col2\" >f</td> \n",
       "    </tr>    <tr> \n",
       "        <th id=\"T_dc42bb64_588e_11e9_8cd9_c49deda6369alevel0_row51\" class=\"row_heading level0 row51\" >description</th> \n",
       "        <td id=\"T_dc42bb64_588e_11e9_8cd9_c49deda6369arow51_col0\" class=\"data row51 col0\" >0</td> \n",
       "        <td id=\"T_dc42bb64_588e_11e9_8cd9_c49deda6369arow51_col1\" class=\"data row51 col1\" >Welcome to your perfect Seattle home-away-from home, perfect for a quick getaway or a longer stay! Located in a stunning and exquisitely maintained turn-of-the-century building just one block off of the endless shops, restaurants, nightlife, and coffee shops on Broadway, in the heart of Capitol Hill. Be in the center of everything that's fabulous about Seattle, while still enjoying the quiet tree-lined serenity of our lovely block, in a place that has charm in spades. Our hip, cozy, clean, quiet, and charming apartment features hardwood floors, beautiful high beamed ceilings, gorgeous antique woodworking, HUGE clawfoot tub, walls of large windows with tons of light, deluxe organic latex queen sized bed... the works. It's a real showstopper, people usually gasp when they walk in!  Our place offers a full kitchen with fridge, gas stove, toaster, blender, and juicer. There is a large living room with a cute dining nook, all furnished in stylish vintage and mid-century furniture. You'll sl</td> \n",
       "        <td id=\"T_dc42bb64_588e_11e9_8cd9_c49deda6369arow51_col2\" class=\"data row51 col2\" >Charming brick home boasts large windows and deck with Puget Sound views. Chef's kitchen for your convenience. In Seattle's best neighborhood, West Seattle, with great shopping and dining. Walk to coffee & grocery store. Easy ride downtown. Please note: You have full access to the entire main house (two bedroom and full amenities)  but there may be other airbnb guests occupying the basement unit during your stay. We rent out the basement as an independent listing on airbnb! The Space There are separate entrances and the spaces are not shared nor are there any communal areas so you can still enjoy your privacy! We just ask you be courteous and aware of other guests in a nearby space :) Our charming house makes for a super-relaxing getaway in the city. The big picture windows frame a terrific, wide view of the Puget Sound from the well-appointed kitchen, living room, and upstairs master suite. Or, get out and enjoy the nice view from the new, large deck. At 1600 square feet, with two bed</td> \n",
       "    </tr>    <tr> \n",
       "        <th id=\"T_dc42bb64_588e_11e9_8cd9_c49deda6369alevel0_row52\" class=\"row_heading level0 row52\" >require_guest_phone_verification</th> \n",
       "        <td id=\"T_dc42bb64_588e_11e9_8cd9_c49deda6369arow52_col0\" class=\"data row52 col0\" >0</td> \n",
       "        <td id=\"T_dc42bb64_588e_11e9_8cd9_c49deda6369arow52_col1\" class=\"data row52 col1\" >t</td> \n",
       "        <td id=\"T_dc42bb64_588e_11e9_8cd9_c49deda6369arow52_col2\" class=\"data row52 col2\" >f</td> \n",
       "    </tr>    <tr> \n",
       "        <th id=\"T_dc42bb64_588e_11e9_8cd9_c49deda6369alevel0_row53\" class=\"row_heading level0 row53\" >price</th> \n",
       "        <td id=\"T_dc42bb64_588e_11e9_8cd9_c49deda6369arow53_col0\" class=\"data row53 col0\" >0</td> \n",
       "        <td id=\"T_dc42bb64_588e_11e9_8cd9_c49deda6369arow53_col1\" class=\"data row53 col1\" >$138.00</td> \n",
       "        <td id=\"T_dc42bb64_588e_11e9_8cd9_c49deda6369arow53_col2\" class=\"data row53 col2\" >$150.00</td> \n",
       "    </tr>    <tr> \n",
       "        <th id=\"T_dc42bb64_588e_11e9_8cd9_c49deda6369alevel0_row54\" class=\"row_heading level0 row54\" >picture_url</th> \n",
       "        <td id=\"T_dc42bb64_588e_11e9_8cd9_c49deda6369arow54_col0\" class=\"data row54 col0\" >0</td> \n",
       "        <td id=\"T_dc42bb64_588e_11e9_8cd9_c49deda6369arow54_col1\" class=\"data row54 col1\" >https://a1.muscache.com/ac/pictures/29590087/a2db482e_original.jpg?interpolation=lanczos-none&size=large_cover&output-format=jpg&output-quality=70</td> \n",
       "        <td id=\"T_dc42bb64_588e_11e9_8cd9_c49deda6369arow54_col2\" class=\"data row54 col2\" >https://a2.muscache.com/ac/pictures/28588391-88c8-47b4-ae6e-3f849c3230e0.jpg?interpolation=lanczos-none&size=large_cover&output-format=jpg&output-quality=70</td> \n",
       "    </tr>    <tr> \n",
       "        <th id=\"T_dc42bb64_588e_11e9_8cd9_c49deda6369alevel0_row55\" class=\"row_heading level0 row55\" >host_url</th> \n",
       "        <td id=\"T_dc42bb64_588e_11e9_8cd9_c49deda6369arow55_col0\" class=\"data row55 col0\" >0</td> \n",
       "        <td id=\"T_dc42bb64_588e_11e9_8cd9_c49deda6369arow55_col1\" class=\"data row55 col1\" >https://www.airbnb.com/users/show/3896863</td> \n",
       "        <td id=\"T_dc42bb64_588e_11e9_8cd9_c49deda6369arow55_col2\" class=\"data row55 col2\" >https://www.airbnb.com/users/show/46678624</td> \n",
       "    </tr>    <tr> \n",
       "        <th id=\"T_dc42bb64_588e_11e9_8cd9_c49deda6369alevel0_row56\" class=\"row_heading level0 row56\" >experiences_offered</th> \n",
       "        <td id=\"T_dc42bb64_588e_11e9_8cd9_c49deda6369arow56_col0\" class=\"data row56 col0\" >0</td> \n",
       "        <td id=\"T_dc42bb64_588e_11e9_8cd9_c49deda6369arow56_col1\" class=\"data row56 col1\" >none</td> \n",
       "        <td id=\"T_dc42bb64_588e_11e9_8cd9_c49deda6369arow56_col2\" class=\"data row56 col2\" >none</td> \n",
       "    </tr>    <tr> \n",
       "        <th id=\"T_dc42bb64_588e_11e9_8cd9_c49deda6369alevel0_row57\" class=\"row_heading level0 row57\" >neighbourhood_cleansed</th> \n",
       "        <td id=\"T_dc42bb64_588e_11e9_8cd9_c49deda6369arow57_col0\" class=\"data row57 col0\" >0</td> \n",
       "        <td id=\"T_dc42bb64_588e_11e9_8cd9_c49deda6369arow57_col1\" class=\"data row57 col1\" >Broadway</td> \n",
       "        <td id=\"T_dc42bb64_588e_11e9_8cd9_c49deda6369arow57_col2\" class=\"data row57 col2\" >Gatewood</td> \n",
       "    </tr>    <tr> \n",
       "        <th id=\"T_dc42bb64_588e_11e9_8cd9_c49deda6369alevel0_row58\" class=\"row_heading level0 row58\" >extra_people</th> \n",
       "        <td id=\"T_dc42bb64_588e_11e9_8cd9_c49deda6369arow58_col0\" class=\"data row58 col0\" >0</td> \n",
       "        <td id=\"T_dc42bb64_588e_11e9_8cd9_c49deda6369arow58_col1\" class=\"data row58 col1\" >$0.00</td> \n",
       "        <td id=\"T_dc42bb64_588e_11e9_8cd9_c49deda6369arow58_col2\" class=\"data row58 col2\" >$50.00</td> \n",
       "    </tr>    <tr> \n",
       "        <th id=\"T_dc42bb64_588e_11e9_8cd9_c49deda6369alevel0_row59\" class=\"row_heading level0 row59\" >name</th> \n",
       "        <td id=\"T_dc42bb64_588e_11e9_8cd9_c49deda6369arow59_col0\" class=\"data row59 col0\" >0</td> \n",
       "        <td id=\"T_dc42bb64_588e_11e9_8cd9_c49deda6369arow59_col1\" class=\"data row59 col1\" >Charming and cozy on Capitol Hill!</td> \n",
       "        <td id=\"T_dc42bb64_588e_11e9_8cd9_c49deda6369arow59_col2\" class=\"data row59 col2\" >Seattle Water View Home</td> \n",
       "    </tr>    <tr> \n",
       "        <th id=\"T_dc42bb64_588e_11e9_8cd9_c49deda6369alevel0_row60\" class=\"row_heading level0 row60\" >listing_url</th> \n",
       "        <td id=\"T_dc42bb64_588e_11e9_8cd9_c49deda6369arow60_col0\" class=\"data row60 col0\" >0</td> \n",
       "        <td id=\"T_dc42bb64_588e_11e9_8cd9_c49deda6369arow60_col1\" class=\"data row60 col1\" >https://www.airbnb.com/rooms/1204142</td> \n",
       "        <td id=\"T_dc42bb64_588e_11e9_8cd9_c49deda6369arow60_col2\" class=\"data row60 col2\" >https://www.airbnb.com/rooms/9846066</td> \n",
       "    </tr>    <tr> \n",
       "        <th id=\"T_dc42bb64_588e_11e9_8cd9_c49deda6369alevel0_row61\" class=\"row_heading level0 row61\" >last_scraped</th> \n",
       "        <td id=\"T_dc42bb64_588e_11e9_8cd9_c49deda6369arow61_col0\" class=\"data row61 col0\" >0</td> \n",
       "        <td id=\"T_dc42bb64_588e_11e9_8cd9_c49deda6369arow61_col1\" class=\"data row61 col1\" >2016-01-04</td> \n",
       "        <td id=\"T_dc42bb64_588e_11e9_8cd9_c49deda6369arow61_col2\" class=\"data row61 col2\" >2016-01-04</td> \n",
       "    </tr>    <tr> \n",
       "        <th id=\"T_dc42bb64_588e_11e9_8cd9_c49deda6369alevel0_row62\" class=\"row_heading level0 row62\" >amenities</th> \n",
       "        <td id=\"T_dc42bb64_588e_11e9_8cd9_c49deda6369arow62_col0\" class=\"data row62 col0\" >0</td> \n",
       "        <td id=\"T_dc42bb64_588e_11e9_8cd9_c49deda6369arow62_col1\" class=\"data row62 col1\" >{Internet,\"Wireless Internet\",Kitchen,Breakfast,Heating,Washer,Dryer,\"Smoke Detector\",\"Carbon Monoxide Detector\",Essentials}</td> \n",
       "        <td id=\"T_dc42bb64_588e_11e9_8cd9_c49deda6369arow62_col2\" class=\"data row62 col2\" >{TV,\"Cable TV\",Internet,\"Wireless Internet\",Kitchen,\"Free Parking on Premises\",\"Pets Allowed\",Heating,\"Family/Kid Friendly\",\"Smoke Detector\",\"Carbon Monoxide Detector\",\"Fire Extinguisher\",Essentials}</td> \n",
       "    </tr>    <tr> \n",
       "        <th id=\"T_dc42bb64_588e_11e9_8cd9_c49deda6369alevel0_row63\" class=\"row_heading level0 row63\" >instant_bookable</th> \n",
       "        <td id=\"T_dc42bb64_588e_11e9_8cd9_c49deda6369arow63_col0\" class=\"data row63 col0\" >0</td> \n",
       "        <td id=\"T_dc42bb64_588e_11e9_8cd9_c49deda6369arow63_col1\" class=\"data row63 col1\" >f</td> \n",
       "        <td id=\"T_dc42bb64_588e_11e9_8cd9_c49deda6369arow63_col2\" class=\"data row63 col2\" >f</td> \n",
       "    </tr>    <tr> \n",
       "        <th id=\"T_dc42bb64_588e_11e9_8cd9_c49deda6369alevel0_row64\" class=\"row_heading level0 row64\" >host_verifications</th> \n",
       "        <td id=\"T_dc42bb64_588e_11e9_8cd9_c49deda6369arow64_col0\" class=\"data row64 col0\" >0</td> \n",
       "        <td id=\"T_dc42bb64_588e_11e9_8cd9_c49deda6369arow64_col1\" class=\"data row64 col1\" >['email', 'phone', 'manual_online', 'facebook', 'reviews', 'manual_offline', 'sent_id']</td> \n",
       "        <td id=\"T_dc42bb64_588e_11e9_8cd9_c49deda6369arow64_col2\" class=\"data row64 col2\" >['email', 'phone', 'facebook', 'linkedin', 'jumio']</td> \n",
       "    </tr>    <tr> \n",
       "        <th id=\"T_dc42bb64_588e_11e9_8cd9_c49deda6369alevel0_row65\" class=\"row_heading level0 row65\" >is_location_exact</th> \n",
       "        <td id=\"T_dc42bb64_588e_11e9_8cd9_c49deda6369arow65_col0\" class=\"data row65 col0\" >0</td> \n",
       "        <td id=\"T_dc42bb64_588e_11e9_8cd9_c49deda6369arow65_col1\" class=\"data row65 col1\" >t</td> \n",
       "        <td id=\"T_dc42bb64_588e_11e9_8cd9_c49deda6369arow65_col2\" class=\"data row65 col2\" >t</td> \n",
       "    </tr></tbody> \n",
       "</table> "
      ],
      "text/plain": [
       "<pandas.io.formats.style.Styler at 0x1e83d232898>"
      ]
     },
     "execution_count": 29,
     "metadata": {},
     "output_type": "execute_result"
    }
   ],
   "source": [
    "# listings first 5 lines\n",
    "pd.options.display.max_rows = 100\n",
    "listings.select_dtypes(include=object).dropna(axis=0, how='all').sample(2).T\\\n",
    "    .merge(missing_pct.to_frame('missing'), left_index=True, right_index=True, how='left')\\\n",
    "    .iloc[:, [2,0,1]].sort_values('missing', ascending=False).style.bar()"
   ]
  },
  {
   "cell_type": "markdown",
   "metadata": {},
   "source": [
    "#### Non-Object Features"
   ]
  },
  {
   "cell_type": "code",
   "execution_count": 31,
   "metadata": {},
   "outputs": [
    {
     "data": {
      "text/html": [
       "<style  type=\"text/css\" >\n",
       "    #T_9a36980a_5887_11e9_a06f_bc14ef731001row0_col0 {\n",
       "            width:  10em;\n",
       "             height:  80%;\n",
       "            background:  linear-gradient(90deg,#d65f5f 100.0%, transparent 0%);\n",
       "        }    #T_9a36980a_5887_11e9_a06f_bc14ef731001row1_col0 {\n",
       "            width:  10em;\n",
       "             height:  80%;\n",
       "            background:  linear-gradient(90deg,#d65f5f 97.9%, transparent 0%);\n",
       "        }    #T_9a36980a_5887_11e9_a06f_bc14ef731001row2_col0 {\n",
       "            width:  10em;\n",
       "             height:  80%;\n",
       "            background:  linear-gradient(90deg,#d65f5f 20.0%, transparent 0%);\n",
       "        }    #T_9a36980a_5887_11e9_a06f_bc14ef731001row3_col0 {\n",
       "            width:  10em;\n",
       "             height:  80%;\n",
       "            background:  linear-gradient(90deg,#d65f5f 20.0%, transparent 0%);\n",
       "        }    #T_9a36980a_5887_11e9_a06f_bc14ef731001row4_col0 {\n",
       "            width:  10em;\n",
       "             height:  80%;\n",
       "            background:  linear-gradient(90deg,#d65f5f 20.0%, transparent 0%);\n",
       "        }    #T_9a36980a_5887_11e9_a06f_bc14ef731001row5_col0 {\n",
       "            width:  10em;\n",
       "             height:  80%;\n",
       "            background:  linear-gradient(90deg,#d65f5f 20.0%, transparent 0%);\n",
       "        }    #T_9a36980a_5887_11e9_a06f_bc14ef731001row6_col0 {\n",
       "            width:  10em;\n",
       "             height:  80%;\n",
       "            background:  linear-gradient(90deg,#d65f5f 19.9%, transparent 0%);\n",
       "        }    #T_9a36980a_5887_11e9_a06f_bc14ef731001row7_col0 {\n",
       "            width:  10em;\n",
       "             height:  80%;\n",
       "            background:  linear-gradient(90deg,#d65f5f 19.8%, transparent 0%);\n",
       "        }    #T_9a36980a_5887_11e9_a06f_bc14ef731001row8_col0 {\n",
       "            width:  10em;\n",
       "             height:  80%;\n",
       "            background:  linear-gradient(90deg,#d65f5f 19.7%, transparent 0%);\n",
       "        }    #T_9a36980a_5887_11e9_a06f_bc14ef731001row9_col0 {\n",
       "            width:  10em;\n",
       "             height:  80%;\n",
       "            background:  linear-gradient(90deg,#d65f5f 18.7%, transparent 0%);\n",
       "        }    #T_9a36980a_5887_11e9_a06f_bc14ef731001row10_col0 {\n",
       "            width:  10em;\n",
       "             height:  80%;\n",
       "            background:  linear-gradient(90deg,#d65f5f 0.4%, transparent 0%);\n",
       "        }    #T_9a36980a_5887_11e9_a06f_bc14ef731001row11_col0 {\n",
       "            width:  10em;\n",
       "             height:  80%;\n",
       "            background:  linear-gradient(90deg,#d65f5f 0.2%, transparent 0%);\n",
       "        }    #T_9a36980a_5887_11e9_a06f_bc14ef731001row12_col0 {\n",
       "            width:  10em;\n",
       "             height:  80%;\n",
       "            background:  linear-gradient(90deg,#d65f5f 0.1%, transparent 0%);\n",
       "        }    #T_9a36980a_5887_11e9_a06f_bc14ef731001row13_col0 {\n",
       "            width:  10em;\n",
       "             height:  80%;\n",
       "            background:  linear-gradient(90deg,#d65f5f 0.0%, transparent 0%);\n",
       "        }    #T_9a36980a_5887_11e9_a06f_bc14ef731001row14_col0 {\n",
       "            width:  10em;\n",
       "             height:  80%;\n",
       "            background:  linear-gradient(90deg,#d65f5f 0.0%, transparent 0%);\n",
       "        }    #T_9a36980a_5887_11e9_a06f_bc14ef731001row15_col0 {\n",
       "            width:  10em;\n",
       "             height:  80%;\n",
       "        }    #T_9a36980a_5887_11e9_a06f_bc14ef731001row16_col0 {\n",
       "            width:  10em;\n",
       "             height:  80%;\n",
       "        }    #T_9a36980a_5887_11e9_a06f_bc14ef731001row17_col0 {\n",
       "            width:  10em;\n",
       "             height:  80%;\n",
       "        }    #T_9a36980a_5887_11e9_a06f_bc14ef731001row18_col0 {\n",
       "            width:  10em;\n",
       "             height:  80%;\n",
       "        }    #T_9a36980a_5887_11e9_a06f_bc14ef731001row19_col0 {\n",
       "            width:  10em;\n",
       "             height:  80%;\n",
       "        }    #T_9a36980a_5887_11e9_a06f_bc14ef731001row20_col0 {\n",
       "            width:  10em;\n",
       "             height:  80%;\n",
       "        }    #T_9a36980a_5887_11e9_a06f_bc14ef731001row21_col0 {\n",
       "            width:  10em;\n",
       "             height:  80%;\n",
       "        }    #T_9a36980a_5887_11e9_a06f_bc14ef731001row22_col0 {\n",
       "            width:  10em;\n",
       "             height:  80%;\n",
       "        }    #T_9a36980a_5887_11e9_a06f_bc14ef731001row23_col0 {\n",
       "            width:  10em;\n",
       "             height:  80%;\n",
       "        }    #T_9a36980a_5887_11e9_a06f_bc14ef731001row24_col0 {\n",
       "            width:  10em;\n",
       "             height:  80%;\n",
       "        }    #T_9a36980a_5887_11e9_a06f_bc14ef731001row25_col0 {\n",
       "            width:  10em;\n",
       "             height:  80%;\n",
       "        }    #T_9a36980a_5887_11e9_a06f_bc14ef731001row26_col0 {\n",
       "            width:  10em;\n",
       "             height:  80%;\n",
       "        }    #T_9a36980a_5887_11e9_a06f_bc14ef731001row27_col0 {\n",
       "            width:  10em;\n",
       "             height:  80%;\n",
       "        }    #T_9a36980a_5887_11e9_a06f_bc14ef731001row28_col0 {\n",
       "            width:  10em;\n",
       "             height:  80%;\n",
       "        }    #T_9a36980a_5887_11e9_a06f_bc14ef731001row29_col0 {\n",
       "            width:  10em;\n",
       "             height:  80%;\n",
       "        }</style>  \n",
       "<table id=\"T_9a36980a_5887_11e9_a06f_bc14ef731001\" > \n",
       "<thead>    <tr> \n",
       "        <th class=\"blank level0\" ></th> \n",
       "        <th class=\"col_heading level0 col0\" >missing</th> \n",
       "        <th class=\"col_heading level0 col1\" >2032</th> \n",
       "        <th class=\"col_heading level0 col2\" >3688</th> \n",
       "        <th class=\"col_heading level0 col3\" >517</th> \n",
       "        <th class=\"col_heading level0 col4\" >1</th> \n",
       "    </tr></thead> \n",
       "<tbody>    <tr> \n",
       "        <th id=\"T_9a36980a_5887_11e9_a06f_bc14ef731001level0_row0\" class=\"row_heading level0 row0\" >license</th> \n",
       "        <td id=\"T_9a36980a_5887_11e9_a06f_bc14ef731001row0_col0\" class=\"data row0 col0\" >1.00</td> \n",
       "        <td id=\"T_9a36980a_5887_11e9_a06f_bc14ef731001row0_col1\" class=\"data row0 col1\" >nan</td> \n",
       "        <td id=\"T_9a36980a_5887_11e9_a06f_bc14ef731001row0_col2\" class=\"data row0 col2\" >nan</td> \n",
       "        <td id=\"T_9a36980a_5887_11e9_a06f_bc14ef731001row0_col3\" class=\"data row0 col3\" >nan</td> \n",
       "        <td id=\"T_9a36980a_5887_11e9_a06f_bc14ef731001row0_col4\" class=\"data row0 col4\" >nan</td> \n",
       "    </tr>    <tr> \n",
       "        <th id=\"T_9a36980a_5887_11e9_a06f_bc14ef731001level0_row1\" class=\"row_heading level0 row1\" >square_feet</th> \n",
       "        <td id=\"T_9a36980a_5887_11e9_a06f_bc14ef731001row1_col0\" class=\"data row1 col0\" >0.98</td> \n",
       "        <td id=\"T_9a36980a_5887_11e9_a06f_bc14ef731001row1_col1\" class=\"data row1 col1\" >nan</td> \n",
       "        <td id=\"T_9a36980a_5887_11e9_a06f_bc14ef731001row1_col2\" class=\"data row1 col2\" >nan</td> \n",
       "        <td id=\"T_9a36980a_5887_11e9_a06f_bc14ef731001row1_col3\" class=\"data row1 col3\" >nan</td> \n",
       "        <td id=\"T_9a36980a_5887_11e9_a06f_bc14ef731001row1_col4\" class=\"data row1 col4\" >nan</td> \n",
       "    </tr>    <tr> \n",
       "        <th id=\"T_9a36980a_5887_11e9_a06f_bc14ef731001level0_row2\" class=\"row_heading level0 row2\" >review_scores_accuracy</th> \n",
       "        <td id=\"T_9a36980a_5887_11e9_a06f_bc14ef731001row2_col0\" class=\"data row2 col0\" >0.20</td> \n",
       "        <td id=\"T_9a36980a_5887_11e9_a06f_bc14ef731001row2_col1\" class=\"data row2 col1\" >nan</td> \n",
       "        <td id=\"T_9a36980a_5887_11e9_a06f_bc14ef731001row2_col2\" class=\"data row2 col2\" >9.00</td> \n",
       "        <td id=\"T_9a36980a_5887_11e9_a06f_bc14ef731001row2_col3\" class=\"data row2 col3\" >10.00</td> \n",
       "        <td id=\"T_9a36980a_5887_11e9_a06f_bc14ef731001row2_col4\" class=\"data row2 col4\" >10.00</td> \n",
       "    </tr>    <tr> \n",
       "        <th id=\"T_9a36980a_5887_11e9_a06f_bc14ef731001level0_row3\" class=\"row_heading level0 row3\" >review_scores_checkin</th> \n",
       "        <td id=\"T_9a36980a_5887_11e9_a06f_bc14ef731001row3_col0\" class=\"data row3 col0\" >0.20</td> \n",
       "        <td id=\"T_9a36980a_5887_11e9_a06f_bc14ef731001row3_col1\" class=\"data row3 col1\" >nan</td> \n",
       "        <td id=\"T_9a36980a_5887_11e9_a06f_bc14ef731001row3_col2\" class=\"data row3 col2\" >10.00</td> \n",
       "        <td id=\"T_9a36980a_5887_11e9_a06f_bc14ef731001row3_col3\" class=\"data row3 col3\" >9.00</td> \n",
       "        <td id=\"T_9a36980a_5887_11e9_a06f_bc14ef731001row3_col4\" class=\"data row3 col4\" >10.00</td> \n",
       "    </tr>    <tr> \n",
       "        <th id=\"T_9a36980a_5887_11e9_a06f_bc14ef731001level0_row4\" class=\"row_heading level0 row4\" >review_scores_value</th> \n",
       "        <td id=\"T_9a36980a_5887_11e9_a06f_bc14ef731001row4_col0\" class=\"data row4 col0\" >0.20</td> \n",
       "        <td id=\"T_9a36980a_5887_11e9_a06f_bc14ef731001row4_col1\" class=\"data row4 col1\" >nan</td> \n",
       "        <td id=\"T_9a36980a_5887_11e9_a06f_bc14ef731001row4_col2\" class=\"data row4 col2\" >9.00</td> \n",
       "        <td id=\"T_9a36980a_5887_11e9_a06f_bc14ef731001row4_col3\" class=\"data row4 col3\" >10.00</td> \n",
       "        <td id=\"T_9a36980a_5887_11e9_a06f_bc14ef731001row4_col4\" class=\"data row4 col4\" >9.00</td> \n",
       "    </tr>    <tr> \n",
       "        <th id=\"T_9a36980a_5887_11e9_a06f_bc14ef731001level0_row5\" class=\"row_heading level0 row5\" >review_scores_location</th> \n",
       "        <td id=\"T_9a36980a_5887_11e9_a06f_bc14ef731001row5_col0\" class=\"data row5 col0\" >0.20</td> \n",
       "        <td id=\"T_9a36980a_5887_11e9_a06f_bc14ef731001row5_col1\" class=\"data row5 col1\" >nan</td> \n",
       "        <td id=\"T_9a36980a_5887_11e9_a06f_bc14ef731001row5_col2\" class=\"data row5 col2\" >10.00</td> \n",
       "        <td id=\"T_9a36980a_5887_11e9_a06f_bc14ef731001row5_col3\" class=\"data row5 col3\" >9.00</td> \n",
       "        <td id=\"T_9a36980a_5887_11e9_a06f_bc14ef731001row5_col4\" class=\"data row5 col4\" >9.00</td> \n",
       "    </tr>    <tr> \n",
       "        <th id=\"T_9a36980a_5887_11e9_a06f_bc14ef731001level0_row6\" class=\"row_heading level0 row6\" >review_scores_cleanliness</th> \n",
       "        <td id=\"T_9a36980a_5887_11e9_a06f_bc14ef731001row6_col0\" class=\"data row6 col0\" >0.20</td> \n",
       "        <td id=\"T_9a36980a_5887_11e9_a06f_bc14ef731001row6_col1\" class=\"data row6 col1\" >nan</td> \n",
       "        <td id=\"T_9a36980a_5887_11e9_a06f_bc14ef731001row6_col2\" class=\"data row6 col2\" >9.00</td> \n",
       "        <td id=\"T_9a36980a_5887_11e9_a06f_bc14ef731001row6_col3\" class=\"data row6 col3\" >9.00</td> \n",
       "        <td id=\"T_9a36980a_5887_11e9_a06f_bc14ef731001row6_col4\" class=\"data row6 col4\" >9.00</td> \n",
       "    </tr>    <tr> \n",
       "        <th id=\"T_9a36980a_5887_11e9_a06f_bc14ef731001level0_row7\" class=\"row_heading level0 row7\" >review_scores_communication</th> \n",
       "        <td id=\"T_9a36980a_5887_11e9_a06f_bc14ef731001row7_col0\" class=\"data row7 col0\" >0.20</td> \n",
       "        <td id=\"T_9a36980a_5887_11e9_a06f_bc14ef731001row7_col1\" class=\"data row7 col1\" >nan</td> \n",
       "        <td id=\"T_9a36980a_5887_11e9_a06f_bc14ef731001row7_col2\" class=\"data row7 col2\" >10.00</td> \n",
       "        <td id=\"T_9a36980a_5887_11e9_a06f_bc14ef731001row7_col3\" class=\"data row7 col3\" >10.00</td> \n",
       "        <td id=\"T_9a36980a_5887_11e9_a06f_bc14ef731001row7_col4\" class=\"data row7 col4\" >10.00</td> \n",
       "    </tr>    <tr> \n",
       "        <th id=\"T_9a36980a_5887_11e9_a06f_bc14ef731001level0_row8\" class=\"row_heading level0 row8\" >review_scores_rating</th> \n",
       "        <td id=\"T_9a36980a_5887_11e9_a06f_bc14ef731001row8_col0\" class=\"data row8 col0\" >0.20</td> \n",
       "        <td id=\"T_9a36980a_5887_11e9_a06f_bc14ef731001row8_col1\" class=\"data row8 col1\" >nan</td> \n",
       "        <td id=\"T_9a36980a_5887_11e9_a06f_bc14ef731001row8_col2\" class=\"data row8 col2\" >94.00</td> \n",
       "        <td id=\"T_9a36980a_5887_11e9_a06f_bc14ef731001row8_col3\" class=\"data row8 col3\" >96.00</td> \n",
       "        <td id=\"T_9a36980a_5887_11e9_a06f_bc14ef731001row8_col4\" class=\"data row8 col4\" >94.00</td> \n",
       "    </tr>    <tr> \n",
       "        <th id=\"T_9a36980a_5887_11e9_a06f_bc14ef731001level0_row9\" class=\"row_heading level0 row9\" >reviews_per_month</th> \n",
       "        <td id=\"T_9a36980a_5887_11e9_a06f_bc14ef731001row9_col0\" class=\"data row9 col0\" >0.19</td> \n",
       "        <td id=\"T_9a36980a_5887_11e9_a06f_bc14ef731001row9_col1\" class=\"data row9 col1\" >nan</td> \n",
       "        <td id=\"T_9a36980a_5887_11e9_a06f_bc14ef731001row9_col2\" class=\"data row9 col2\" >2.39</td> \n",
       "        <td id=\"T_9a36980a_5887_11e9_a06f_bc14ef731001row9_col3\" class=\"data row9 col3\" >3.00</td> \n",
       "        <td id=\"T_9a36980a_5887_11e9_a06f_bc14ef731001row9_col4\" class=\"data row9 col4\" >1.30</td> \n",
       "    </tr>    <tr> \n",
       "        <th id=\"T_9a36980a_5887_11e9_a06f_bc14ef731001level0_row10\" class=\"row_heading level0 row10\" >bathrooms</th> \n",
       "        <td id=\"T_9a36980a_5887_11e9_a06f_bc14ef731001row10_col0\" class=\"data row10 col0\" >0.00</td> \n",
       "        <td id=\"T_9a36980a_5887_11e9_a06f_bc14ef731001row10_col1\" class=\"data row10 col1\" >1.00</td> \n",
       "        <td id=\"T_9a36980a_5887_11e9_a06f_bc14ef731001row10_col2\" class=\"data row10 col2\" >1.00</td> \n",
       "        <td id=\"T_9a36980a_5887_11e9_a06f_bc14ef731001row10_col3\" class=\"data row10 col3\" >1.00</td> \n",
       "        <td id=\"T_9a36980a_5887_11e9_a06f_bc14ef731001row10_col4\" class=\"data row10 col4\" >1.00</td> \n",
       "    </tr>    <tr> \n",
       "        <th id=\"T_9a36980a_5887_11e9_a06f_bc14ef731001level0_row11\" class=\"row_heading level0 row11\" >bedrooms</th> \n",
       "        <td id=\"T_9a36980a_5887_11e9_a06f_bc14ef731001row11_col0\" class=\"data row11 col0\" >0.00</td> \n",
       "        <td id=\"T_9a36980a_5887_11e9_a06f_bc14ef731001row11_col1\" class=\"data row11 col1\" >3.00</td> \n",
       "        <td id=\"T_9a36980a_5887_11e9_a06f_bc14ef731001row11_col2\" class=\"data row11 col2\" >1.00</td> \n",
       "        <td id=\"T_9a36980a_5887_11e9_a06f_bc14ef731001row11_col3\" class=\"data row11 col3\" >1.00</td> \n",
       "        <td id=\"T_9a36980a_5887_11e9_a06f_bc14ef731001row11_col4\" class=\"data row11 col4\" >1.00</td> \n",
       "    </tr>    <tr> \n",
       "        <th id=\"T_9a36980a_5887_11e9_a06f_bc14ef731001level0_row12\" class=\"row_heading level0 row12\" >beds</th> \n",
       "        <td id=\"T_9a36980a_5887_11e9_a06f_bc14ef731001row12_col0\" class=\"data row12 col0\" >0.00</td> \n",
       "        <td id=\"T_9a36980a_5887_11e9_a06f_bc14ef731001row12_col1\" class=\"data row12 col1\" >3.00</td> \n",
       "        <td id=\"T_9a36980a_5887_11e9_a06f_bc14ef731001row12_col2\" class=\"data row12 col2\" >1.00</td> \n",
       "        <td id=\"T_9a36980a_5887_11e9_a06f_bc14ef731001row12_col3\" class=\"data row12 col3\" >3.00</td> \n",
       "        <td id=\"T_9a36980a_5887_11e9_a06f_bc14ef731001row12_col4\" class=\"data row12 col4\" >1.00</td> \n",
       "    </tr>    <tr> \n",
       "        <th id=\"T_9a36980a_5887_11e9_a06f_bc14ef731001level0_row13\" class=\"row_heading level0 row13\" >host_listings_count</th> \n",
       "        <td id=\"T_9a36980a_5887_11e9_a06f_bc14ef731001row13_col0\" class=\"data row13 col0\" >0.00</td> \n",
       "        <td id=\"T_9a36980a_5887_11e9_a06f_bc14ef731001row13_col1\" class=\"data row13 col1\" >1.00</td> \n",
       "        <td id=\"T_9a36980a_5887_11e9_a06f_bc14ef731001row13_col2\" class=\"data row13 col2\" >2.00</td> \n",
       "        <td id=\"T_9a36980a_5887_11e9_a06f_bc14ef731001row13_col3\" class=\"data row13 col3\" >2.00</td> \n",
       "        <td id=\"T_9a36980a_5887_11e9_a06f_bc14ef731001row13_col4\" class=\"data row13 col4\" >1.00</td> \n",
       "    </tr>    <tr> \n",
       "        <th id=\"T_9a36980a_5887_11e9_a06f_bc14ef731001level0_row14\" class=\"row_heading level0 row14\" >host_total_listings_count</th> \n",
       "        <td id=\"T_9a36980a_5887_11e9_a06f_bc14ef731001row14_col0\" class=\"data row14 col0\" >0.00</td> \n",
       "        <td id=\"T_9a36980a_5887_11e9_a06f_bc14ef731001row14_col1\" class=\"data row14 col1\" >1.00</td> \n",
       "        <td id=\"T_9a36980a_5887_11e9_a06f_bc14ef731001row14_col2\" class=\"data row14 col2\" >2.00</td> \n",
       "        <td id=\"T_9a36980a_5887_11e9_a06f_bc14ef731001row14_col3\" class=\"data row14 col3\" >2.00</td> \n",
       "        <td id=\"T_9a36980a_5887_11e9_a06f_bc14ef731001row14_col4\" class=\"data row14 col4\" >1.00</td> \n",
       "    </tr>    <tr> \n",
       "        <th id=\"T_9a36980a_5887_11e9_a06f_bc14ef731001level0_row15\" class=\"row_heading level0 row15\" >availability_365</th> \n",
       "        <td id=\"T_9a36980a_5887_11e9_a06f_bc14ef731001row15_col0\" class=\"data row15 col0\" >0.00</td> \n",
       "        <td id=\"T_9a36980a_5887_11e9_a06f_bc14ef731001row15_col1\" class=\"data row15 col1\" >100.00</td> \n",
       "        <td id=\"T_9a36980a_5887_11e9_a06f_bc14ef731001row15_col2\" class=\"data row15 col2\" >336.00</td> \n",
       "        <td id=\"T_9a36980a_5887_11e9_a06f_bc14ef731001row15_col3\" class=\"data row15 col3\" >255.00</td> \n",
       "        <td id=\"T_9a36980a_5887_11e9_a06f_bc14ef731001row15_col4\" class=\"data row15 col4\" >359.00</td> \n",
       "    </tr>    <tr> \n",
       "        <th id=\"T_9a36980a_5887_11e9_a06f_bc14ef731001level0_row16\" class=\"row_heading level0 row16\" >number_of_reviews</th> \n",
       "        <td id=\"T_9a36980a_5887_11e9_a06f_bc14ef731001row16_col0\" class=\"data row16 col0\" >0.00</td> \n",
       "        <td id=\"T_9a36980a_5887_11e9_a06f_bc14ef731001row16_col1\" class=\"data row16 col1\" >0.00</td> \n",
       "        <td id=\"T_9a36980a_5887_11e9_a06f_bc14ef731001row16_col2\" class=\"data row16 col2\" >77.00</td> \n",
       "        <td id=\"T_9a36980a_5887_11e9_a06f_bc14ef731001row16_col3\" class=\"data row16 col3\" >10.00</td> \n",
       "        <td id=\"T_9a36980a_5887_11e9_a06f_bc14ef731001row16_col4\" class=\"data row16 col4\" >36.00</td> \n",
       "    </tr>    <tr> \n",
       "        <th id=\"T_9a36980a_5887_11e9_a06f_bc14ef731001level0_row17\" class=\"row_heading level0 row17\" >scrape_id</th> \n",
       "        <td id=\"T_9a36980a_5887_11e9_a06f_bc14ef731001row17_col0\" class=\"data row17 col0\" >0.00</td> \n",
       "        <td id=\"T_9a36980a_5887_11e9_a06f_bc14ef731001row17_col1\" class=\"data row17 col1\" >20,160,104,002,432.00</td> \n",
       "        <td id=\"T_9a36980a_5887_11e9_a06f_bc14ef731001row17_col2\" class=\"data row17 col2\" >20,160,104,002,432.00</td> \n",
       "        <td id=\"T_9a36980a_5887_11e9_a06f_bc14ef731001row17_col3\" class=\"data row17 col3\" >20,160,906,204,935.00</td> \n",
       "        <td id=\"T_9a36980a_5887_11e9_a06f_bc14ef731001row17_col4\" class=\"data row17 col4\" >20,160,906,204,935.00</td> \n",
       "    </tr>    <tr> \n",
       "        <th id=\"T_9a36980a_5887_11e9_a06f_bc14ef731001level0_row18\" class=\"row_heading level0 row18\" >longitude</th> \n",
       "        <td id=\"T_9a36980a_5887_11e9_a06f_bc14ef731001row18_col0\" class=\"data row18 col0\" >0.00</td> \n",
       "        <td id=\"T_9a36980a_5887_11e9_a06f_bc14ef731001row18_col1\" class=\"data row18 col1\" >-122.35</td> \n",
       "        <td id=\"T_9a36980a_5887_11e9_a06f_bc14ef731001row18_col2\" class=\"data row18 col2\" >-122.35</td> \n",
       "        <td id=\"T_9a36980a_5887_11e9_a06f_bc14ef731001row18_col3\" class=\"data row18 col3\" >-71.11</td> \n",
       "        <td id=\"T_9a36980a_5887_11e9_a06f_bc14ef731001row18_col4\" class=\"data row18 col4\" >-71.13</td> \n",
       "    </tr>    <tr> \n",
       "        <th id=\"T_9a36980a_5887_11e9_a06f_bc14ef731001level0_row19\" class=\"row_heading level0 row19\" >minimum_nights</th> \n",
       "        <td id=\"T_9a36980a_5887_11e9_a06f_bc14ef731001row19_col0\" class=\"data row19 col0\" >0.00</td> \n",
       "        <td id=\"T_9a36980a_5887_11e9_a06f_bc14ef731001row19_col1\" class=\"data row19 col1\" >2.00</td> \n",
       "        <td id=\"T_9a36980a_5887_11e9_a06f_bc14ef731001row19_col2\" class=\"data row19 col2\" >1.00</td> \n",
       "        <td id=\"T_9a36980a_5887_11e9_a06f_bc14ef731001row19_col3\" class=\"data row19 col3\" >1.00</td> \n",
       "        <td id=\"T_9a36980a_5887_11e9_a06f_bc14ef731001row19_col4\" class=\"data row19 col4\" >2.00</td> \n",
       "    </tr>    <tr> \n",
       "        <th id=\"T_9a36980a_5887_11e9_a06f_bc14ef731001level0_row20\" class=\"row_heading level0 row20\" >maximum_nights</th> \n",
       "        <td id=\"T_9a36980a_5887_11e9_a06f_bc14ef731001row20_col0\" class=\"data row20 col0\" >0.00</td> \n",
       "        <td id=\"T_9a36980a_5887_11e9_a06f_bc14ef731001row20_col1\" class=\"data row20 col1\" >60.00</td> \n",
       "        <td id=\"T_9a36980a_5887_11e9_a06f_bc14ef731001row20_col2\" class=\"data row20 col2\" >60.00</td> \n",
       "        <td id=\"T_9a36980a_5887_11e9_a06f_bc14ef731001row20_col3\" class=\"data row20 col3\" >1,125.00</td> \n",
       "        <td id=\"T_9a36980a_5887_11e9_a06f_bc14ef731001row20_col4\" class=\"data row20 col4\" >15.00</td> \n",
       "    </tr>    <tr> \n",
       "        <th id=\"T_9a36980a_5887_11e9_a06f_bc14ef731001level0_row21\" class=\"row_heading level0 row21\" >availability_60</th> \n",
       "        <td id=\"T_9a36980a_5887_11e9_a06f_bc14ef731001row21_col0\" class=\"data row21 col0\" >0.00</td> \n",
       "        <td id=\"T_9a36980a_5887_11e9_a06f_bc14ef731001row21_col1\" class=\"data row21 col1\" >0.00</td> \n",
       "        <td id=\"T_9a36980a_5887_11e9_a06f_bc14ef731001row21_col2\" class=\"data row21 col2\" >36.00</td> \n",
       "        <td id=\"T_9a36980a_5887_11e9_a06f_bc14ef731001row21_col3\" class=\"data row21 col3\" >0.00</td> \n",
       "        <td id=\"T_9a36980a_5887_11e9_a06f_bc14ef731001row21_col4\" class=\"data row21 col4\" >54.00</td> \n",
       "    </tr>    <tr> \n",
       "        <th id=\"T_9a36980a_5887_11e9_a06f_bc14ef731001level0_row22\" class=\"row_heading level0 row22\" >availability_30</th> \n",
       "        <td id=\"T_9a36980a_5887_11e9_a06f_bc14ef731001row22_col0\" class=\"data row22 col0\" >0.00</td> \n",
       "        <td id=\"T_9a36980a_5887_11e9_a06f_bc14ef731001row22_col1\" class=\"data row22 col1\" >0.00</td> \n",
       "        <td id=\"T_9a36980a_5887_11e9_a06f_bc14ef731001row22_col2\" class=\"data row22 col2\" >17.00</td> \n",
       "        <td id=\"T_9a36980a_5887_11e9_a06f_bc14ef731001row22_col3\" class=\"data row22 col3\" >0.00</td> \n",
       "        <td id=\"T_9a36980a_5887_11e9_a06f_bc14ef731001row22_col4\" class=\"data row22 col4\" >26.00</td> \n",
       "    </tr>    <tr> \n",
       "        <th id=\"T_9a36980a_5887_11e9_a06f_bc14ef731001level0_row23\" class=\"row_heading level0 row23\" >latitude</th> \n",
       "        <td id=\"T_9a36980a_5887_11e9_a06f_bc14ef731001row23_col0\" class=\"data row23 col0\" >0.00</td> \n",
       "        <td id=\"T_9a36980a_5887_11e9_a06f_bc14ef731001row23_col1\" class=\"data row23 col1\" >47.70</td> \n",
       "        <td id=\"T_9a36980a_5887_11e9_a06f_bc14ef731001row23_col2\" class=\"data row23 col2\" >47.66</td> \n",
       "        <td id=\"T_9a36980a_5887_11e9_a06f_bc14ef731001row23_col3\" class=\"data row23 col3\" >42.33</td> \n",
       "        <td id=\"T_9a36980a_5887_11e9_a06f_bc14ef731001row23_col4\" class=\"data row23 col4\" >42.29</td> \n",
       "    </tr>    <tr> \n",
       "        <th id=\"T_9a36980a_5887_11e9_a06f_bc14ef731001level0_row24\" class=\"row_heading level0 row24\" >id</th> \n",
       "        <td id=\"T_9a36980a_5887_11e9_a06f_bc14ef731001row24_col0\" class=\"data row24 col0\" >0.00</td> \n",
       "        <td id=\"T_9a36980a_5887_11e9_a06f_bc14ef731001row24_col1\" class=\"data row24 col1\" >8,129,537.00</td> \n",
       "        <td id=\"T_9a36980a_5887_11e9_a06f_bc14ef731001row24_col2\" class=\"data row24 col2\" >1,118,153.00</td> \n",
       "        <td id=\"T_9a36980a_5887_11e9_a06f_bc14ef731001row24_col3\" class=\"data row24 col3\" >13,028,092.00</td> \n",
       "        <td id=\"T_9a36980a_5887_11e9_a06f_bc14ef731001row24_col4\" class=\"data row24 col4\" >3,075,044.00</td> \n",
       "    </tr>    <tr> \n",
       "        <th id=\"T_9a36980a_5887_11e9_a06f_bc14ef731001level0_row25\" class=\"row_heading level0 row25\" >host_id</th> \n",
       "        <td id=\"T_9a36980a_5887_11e9_a06f_bc14ef731001row25_col0\" class=\"data row25 col0\" >0.00</td> \n",
       "        <td id=\"T_9a36980a_5887_11e9_a06f_bc14ef731001row25_col1\" class=\"data row25 col1\" >32,725,444.00</td> \n",
       "        <td id=\"T_9a36980a_5887_11e9_a06f_bc14ef731001row25_col2\" class=\"data row25 col2\" >6,137,030.00</td> \n",
       "        <td id=\"T_9a36980a_5887_11e9_a06f_bc14ef731001row25_col3\" class=\"data row25 col3\" >9,039,817.00</td> \n",
       "        <td id=\"T_9a36980a_5887_11e9_a06f_bc14ef731001row25_col4\" class=\"data row25 col4\" >2,572,247.00</td> \n",
       "    </tr>    <tr> \n",
       "        <th id=\"T_9a36980a_5887_11e9_a06f_bc14ef731001level0_row26\" class=\"row_heading level0 row26\" >guests_included</th> \n",
       "        <td id=\"T_9a36980a_5887_11e9_a06f_bc14ef731001row26_col0\" class=\"data row26 col0\" >0.00</td> \n",
       "        <td id=\"T_9a36980a_5887_11e9_a06f_bc14ef731001row26_col1\" class=\"data row26 col1\" >1.00</td> \n",
       "        <td id=\"T_9a36980a_5887_11e9_a06f_bc14ef731001row26_col2\" class=\"data row26 col2\" >2.00</td> \n",
       "        <td id=\"T_9a36980a_5887_11e9_a06f_bc14ef731001row26_col3\" class=\"data row26 col3\" >2.00</td> \n",
       "        <td id=\"T_9a36980a_5887_11e9_a06f_bc14ef731001row26_col4\" class=\"data row26 col4\" >0.00</td> \n",
       "    </tr>    <tr> \n",
       "        <th id=\"T_9a36980a_5887_11e9_a06f_bc14ef731001level0_row27\" class=\"row_heading level0 row27\" >calculated_host_listings_count</th> \n",
       "        <td id=\"T_9a36980a_5887_11e9_a06f_bc14ef731001row27_col0\" class=\"data row27 col0\" >0.00</td> \n",
       "        <td id=\"T_9a36980a_5887_11e9_a06f_bc14ef731001row27_col1\" class=\"data row27 col1\" >1.00</td> \n",
       "        <td id=\"T_9a36980a_5887_11e9_a06f_bc14ef731001row27_col2\" class=\"data row27 col2\" >2.00</td> \n",
       "        <td id=\"T_9a36980a_5887_11e9_a06f_bc14ef731001row27_col3\" class=\"data row27 col3\" >2.00</td> \n",
       "        <td id=\"T_9a36980a_5887_11e9_a06f_bc14ef731001row27_col4\" class=\"data row27 col4\" >1.00</td> \n",
       "    </tr>    <tr> \n",
       "        <th id=\"T_9a36980a_5887_11e9_a06f_bc14ef731001level0_row28\" class=\"row_heading level0 row28\" >availability_90</th> \n",
       "        <td id=\"T_9a36980a_5887_11e9_a06f_bc14ef731001row28_col0\" class=\"data row28 col0\" >0.00</td> \n",
       "        <td id=\"T_9a36980a_5887_11e9_a06f_bc14ef731001row28_col1\" class=\"data row28 col1\" >0.00</td> \n",
       "        <td id=\"T_9a36980a_5887_11e9_a06f_bc14ef731001row28_col2\" class=\"data row28 col2\" >61.00</td> \n",
       "        <td id=\"T_9a36980a_5887_11e9_a06f_bc14ef731001row28_col3\" class=\"data row28 col3\" >0.00</td> \n",
       "        <td id=\"T_9a36980a_5887_11e9_a06f_bc14ef731001row28_col4\" class=\"data row28 col4\" >84.00</td> \n",
       "    </tr>    <tr> \n",
       "        <th id=\"T_9a36980a_5887_11e9_a06f_bc14ef731001level0_row29\" class=\"row_heading level0 row29\" >accommodates</th> \n",
       "        <td id=\"T_9a36980a_5887_11e9_a06f_bc14ef731001row29_col0\" class=\"data row29 col0\" >0.00</td> \n",
       "        <td id=\"T_9a36980a_5887_11e9_a06f_bc14ef731001row29_col1\" class=\"data row29 col1\" >5.00</td> \n",
       "        <td id=\"T_9a36980a_5887_11e9_a06f_bc14ef731001row29_col2\" class=\"data row29 col2\" >2.00</td> \n",
       "        <td id=\"T_9a36980a_5887_11e9_a06f_bc14ef731001row29_col3\" class=\"data row29 col3\" >3.00</td> \n",
       "        <td id=\"T_9a36980a_5887_11e9_a06f_bc14ef731001row29_col4\" class=\"data row29 col4\" >2.00</td> \n",
       "    </tr></tbody> \n",
       "</table> "
      ],
      "text/plain": [
       "<pandas.io.formats.style.Styler at 0x12dd6721b70>"
      ]
     },
     "execution_count": 31,
     "metadata": {},
     "output_type": "execute_result"
    }
   ],
   "source": [
    "listings.filter(regex='id')\n",
    "listings.select_dtypes(exclude=object).sample(4).T\\\n",
    "    .merge(missing_pct.to_frame('missing'), left_index=True, right_index=True, how='left')\\\n",
    "    .iloc[:, [-1, 0, 1, 2, 3]]\\\n",
    "    .sort_values('missing', ascending=False)\\\n",
    "    .style.format(\"{:2,.2f}\").bar(subset=['missing'])"
   ]
  },
  {
   "cell_type": "markdown",
   "metadata": {},
   "source": [
    "### <li> Reviews"
   ]
  },
  {
   "cell_type": "code",
   "execution_count": 32,
   "metadata": {},
   "outputs": [
    {
     "data": {
      "text/html": [
       "<div>\n",
       "<style scoped>\n",
       "    .dataframe tbody tr th:only-of-type {\n",
       "        vertical-align: middle;\n",
       "    }\n",
       "\n",
       "    .dataframe tbody tr th {\n",
       "        vertical-align: top;\n",
       "    }\n",
       "\n",
       "    .dataframe thead th {\n",
       "        text-align: right;\n",
       "    }\n",
       "</style>\n",
       "<table border=\"1\" class=\"dataframe\">\n",
       "  <thead>\n",
       "    <tr style=\"text-align: right;\">\n",
       "      <th></th>\n",
       "      <th>comments</th>\n",
       "      <th>date</th>\n",
       "      <th>id</th>\n",
       "      <th>listing_id</th>\n",
       "      <th>reviewer_id</th>\n",
       "      <th>reviewer_name</th>\n",
       "      <th>rowsource</th>\n",
       "    </tr>\n",
       "  </thead>\n",
       "  <tbody>\n",
       "    <tr>\n",
       "      <th>0</th>\n",
       "      <td>My stay at islam's place was really cool! Good...</td>\n",
       "      <td>2013-05-21</td>\n",
       "      <td>4724140</td>\n",
       "      <td>1178162</td>\n",
       "      <td>4298113</td>\n",
       "      <td>Olivier</td>\n",
       "      <td>data\\boston_airbnb_open_data\\reviews.csv</td>\n",
       "    </tr>\n",
       "    <tr>\n",
       "      <th>1</th>\n",
       "      <td>Great location for both airport and city - gre...</td>\n",
       "      <td>2013-05-29</td>\n",
       "      <td>4869189</td>\n",
       "      <td>1178162</td>\n",
       "      <td>6452964</td>\n",
       "      <td>Charlotte</td>\n",
       "      <td>data\\boston_airbnb_open_data\\reviews.csv</td>\n",
       "    </tr>\n",
       "    <tr>\n",
       "      <th>2</th>\n",
       "      <td>We really enjoyed our stay at Islams house. Fr...</td>\n",
       "      <td>2013-06-06</td>\n",
       "      <td>5003196</td>\n",
       "      <td>1178162</td>\n",
       "      <td>6449554</td>\n",
       "      <td>Sebastian</td>\n",
       "      <td>data\\boston_airbnb_open_data\\reviews.csv</td>\n",
       "    </tr>\n",
       "    <tr>\n",
       "      <th>3</th>\n",
       "      <td>The room was nice and clean and so were the co...</td>\n",
       "      <td>2013-06-15</td>\n",
       "      <td>5150351</td>\n",
       "      <td>1178162</td>\n",
       "      <td>2215611</td>\n",
       "      <td>Marine</td>\n",
       "      <td>data\\boston_airbnb_open_data\\reviews.csv</td>\n",
       "    </tr>\n",
       "    <tr>\n",
       "      <th>4</th>\n",
       "      <td>Great location. Just 5 mins walk from the Airp...</td>\n",
       "      <td>2013-06-16</td>\n",
       "      <td>5171140</td>\n",
       "      <td>1178162</td>\n",
       "      <td>6848427</td>\n",
       "      <td>Andrew</td>\n",
       "      <td>data\\boston_airbnb_open_data\\reviews.csv</td>\n",
       "    </tr>\n",
       "  </tbody>\n",
       "</table>\n",
       "</div>"
      ],
      "text/plain": [
       "                                            comments        date       id  \\\n",
       "0  My stay at islam's place was really cool! Good...  2013-05-21  4724140   \n",
       "1  Great location for both airport and city - gre...  2013-05-29  4869189   \n",
       "2  We really enjoyed our stay at Islams house. Fr...  2013-06-06  5003196   \n",
       "3  The room was nice and clean and so were the co...  2013-06-15  5150351   \n",
       "4  Great location. Just 5 mins walk from the Airp...  2013-06-16  5171140   \n",
       "\n",
       "   listing_id  reviewer_id reviewer_name  \\\n",
       "0     1178162      4298113       Olivier   \n",
       "1     1178162      6452964     Charlotte   \n",
       "2     1178162      6449554     Sebastian   \n",
       "3     1178162      2215611        Marine   \n",
       "4     1178162      6848427        Andrew   \n",
       "\n",
       "                                  rowsource  \n",
       "0  data\\boston_airbnb_open_data\\reviews.csv  \n",
       "1  data\\boston_airbnb_open_data\\reviews.csv  \n",
       "2  data\\boston_airbnb_open_data\\reviews.csv  \n",
       "3  data\\boston_airbnb_open_data\\reviews.csv  \n",
       "4  data\\boston_airbnb_open_data\\reviews.csv  "
      ]
     },
     "execution_count": 32,
     "metadata": {},
     "output_type": "execute_result"
    }
   ],
   "source": [
    "reviews.head()"
   ]
  },
  {
   "cell_type": "markdown",
   "metadata": {},
   "source": [
    "### <li> Id Relationships"
   ]
  },
  {
   "cell_type": "code",
   "execution_count": 47,
   "metadata": {},
   "outputs": [],
   "source": [
    "len_func = lambda x: x.str.len()"
   ]
  },
  {
   "cell_type": "code",
   "execution_count": 53,
   "metadata": {},
   "outputs": [
    {
     "data": {
      "image/png": "[encoded data removed]",
      "text/plain": [
       "<Figure size 720x72 with 1 Axes>"
      ]
     },
     "metadata": {},
     "output_type": "display_data"
    }
   ],
   "source": [
    "calendar.listing_id.astype(str).str.len()\\\n",
    "    .plot.box(vert=False, figsize=(10, 1), title=\"Calendar ID Len\");"
   ]
  },
  {
   "cell_type": "code",
   "execution_count": 54,
   "metadata": {},
   "outputs": [
    {
     "data": {
      "image/png": "[encoded data removed]",
      "text/plain": [
       "<Figure size 720x72 with 1 Axes>"
      ]
     },
     "metadata": {},
     "output_type": "display_data"
    }
   ],
   "source": [
    "listings.filter(regex='id').select_dtypes(exclude=object).astype(str).apply(len_func)\\\n",
    "    .plot.box(vert=False, figsize=(10, 1), title=\"Listing IDs Len\");"
   ]
  },
  {
   "cell_type": "code",
   "execution_count": 55,
   "metadata": {},
   "outputs": [
    {
     "data": {
      "image/png": "[encoded data removed]",
      "text/plain": [
       "<Figure size 720x72 with 1 Axes>"
      ]
     },
     "metadata": {},
     "output_type": "display_data"
    }
   ],
   "source": [
    "reviews.filter(regex='id').apply(lambda x: x.astype(str).str.len())\\\n",
    "    .plot.box(vert=False, figsize=(10, 1), title=\"Reviews IDs Len\");"
   ]
  },
  {
   "cell_type": "markdown",
   "metadata": {},
   "source": [
    "**ID Findings**\n",
    "* The listing dataset id is the primary key that relates to the listing_id of the calendar dataset.\n",
    "* The scrape_id does not relate to anything in the downloaded dataset, so therefore si irrelevant for the analysis.\n",
    "* The host_id in the listing dataset seems to be related to the reviewer_d of the reviews dataset.\n",
    "* Given that there are reviewer-ids with length of 2 and 3 in the reviwers dataset and not in the listings dataset, we can assume that the listings don't inlcude stays (missing records) for those host with 2 and 3 lenght-ids, but those host have reviews for the listings in the reviewer dataset."
   ]
  },
  {
   "cell_type": "markdown",
   "metadata": {},
   "source": [
    "### <li> Granularity of Datasets"
   ]
  },
  {
   "cell_type": "markdown",
   "metadata": {},
   "source": [
    "#### Calendar Granularity"
   ]
  },
  {
   "cell_type": "code",
   "execution_count": 93,
   "metadata": {
    "scrolled": false
   },
   "outputs": [],
   "source": [
    "duplicates = calendar.groupby(['date', 'listing_id', 'rowsource', 'available'])\\\n",
    "    .size().to_frame('duplicates').query(\"duplicates>1\").head()"
   ]
  },
  {
   "cell_type": "markdown",
   "metadata": {},
   "source": [
    "##### <ol> Examples of Calendar Duplicates"
   ]
  },
  {
   "cell_type": "code",
   "execution_count": 104,
   "metadata": {},
   "outputs": [
    {
     "name": "stdout",
     "output_type": "stream",
     "text": [
      "These are the id of price duplicates: \n",
      " 12898806\n"
     ]
    }
   ],
   "source": [
    "calendar_price_dups = duplicates.reset_index().listing_id.unique()[0]\n",
    "print(f\"These are the id of price duplicates: \\n {listing_dups}\")"
   ]
  },
  {
   "cell_type": "code",
   "execution_count": 101,
   "metadata": {},
   "outputs": [
    {
     "data": {
      "text/html": [
       "<div>\n",
       "<style scoped>\n",
       "    .dataframe tbody tr th:only-of-type {\n",
       "        vertical-align: middle;\n",
       "    }\n",
       "\n",
       "    .dataframe tbody tr th {\n",
       "        vertical-align: top;\n",
       "    }\n",
       "\n",
       "    .dataframe thead th {\n",
       "        text-align: right;\n",
       "    }\n",
       "</style>\n",
       "<table border=\"1\" class=\"dataframe\">\n",
       "  <thead>\n",
       "    <tr style=\"text-align: right;\">\n",
       "      <th></th>\n",
       "      <th>available</th>\n",
       "      <th>date</th>\n",
       "      <th>listing_id</th>\n",
       "      <th>price</th>\n",
       "      <th>rowsource</th>\n",
       "      <th>nan_grp</th>\n",
       "      <th>source_grp</th>\n",
       "    </tr>\n",
       "  </thead>\n",
       "  <tbody>\n",
       "    <tr>\n",
       "      <th>748850</th>\n",
       "      <td>t</td>\n",
       "      <td>2016-09-06</td>\n",
       "      <td>12898806</td>\n",
       "      <td>220.0</td>\n",
       "      <td>data\\boston_airbnb_open_data\\calendar.csv</td>\n",
       "      <td>ProvidedValue</td>\n",
       "      <td>data\\boston_airbnb_open_data\\calendar.csv - Pr...</td>\n",
       "    </tr>\n",
       "    <tr>\n",
       "      <th>748873</th>\n",
       "      <td>t</td>\n",
       "      <td>2016-09-06</td>\n",
       "      <td>12898806</td>\n",
       "      <td>220.0</td>\n",
       "      <td>data\\boston_airbnb_open_data\\calendar.csv</td>\n",
       "      <td>ProvidedValue</td>\n",
       "      <td>data\\boston_airbnb_open_data\\calendar.csv - Pr...</td>\n",
       "    </tr>\n",
       "    <tr>\n",
       "      <th>748849</th>\n",
       "      <td>t</td>\n",
       "      <td>2016-09-07</td>\n",
       "      <td>12898806</td>\n",
       "      <td>220.0</td>\n",
       "      <td>data\\boston_airbnb_open_data\\calendar.csv</td>\n",
       "      <td>ProvidedValue</td>\n",
       "      <td>data\\boston_airbnb_open_data\\calendar.csv - Pr...</td>\n",
       "    </tr>\n",
       "    <tr>\n",
       "      <th>748872</th>\n",
       "      <td>t</td>\n",
       "      <td>2016-09-07</td>\n",
       "      <td>12898806</td>\n",
       "      <td>220.0</td>\n",
       "      <td>data\\boston_airbnb_open_data\\calendar.csv</td>\n",
       "      <td>ProvidedValue</td>\n",
       "      <td>data\\boston_airbnb_open_data\\calendar.csv - Pr...</td>\n",
       "    </tr>\n",
       "    <tr>\n",
       "      <th>748848</th>\n",
       "      <td>t</td>\n",
       "      <td>2016-09-08</td>\n",
       "      <td>12898806</td>\n",
       "      <td>220.0</td>\n",
       "      <td>data\\boston_airbnb_open_data\\calendar.csv</td>\n",
       "      <td>ProvidedValue</td>\n",
       "      <td>data\\boston_airbnb_open_data\\calendar.csv - Pr...</td>\n",
       "    </tr>\n",
       "  </tbody>\n",
       "</table>\n",
       "</div>"
      ],
      "text/plain": [
       "       available       date  listing_id  price  \\\n",
       "748850         t 2016-09-06    12898806  220.0   \n",
       "748873         t 2016-09-06    12898806  220.0   \n",
       "748849         t 2016-09-07    12898806  220.0   \n",
       "748872         t 2016-09-07    12898806  220.0   \n",
       "748848         t 2016-09-08    12898806  220.0   \n",
       "\n",
       "                                        rowsource        nan_grp  \\\n",
       "748850  data\\boston_airbnb_open_data\\calendar.csv  ProvidedValue   \n",
       "748873  data\\boston_airbnb_open_data\\calendar.csv  ProvidedValue   \n",
       "748849  data\\boston_airbnb_open_data\\calendar.csv  ProvidedValue   \n",
       "748872  data\\boston_airbnb_open_data\\calendar.csv  ProvidedValue   \n",
       "748848  data\\boston_airbnb_open_data\\calendar.csv  ProvidedValue   \n",
       "\n",
       "                                               source_grp  \n",
       "748850  data\\boston_airbnb_open_data\\calendar.csv - Pr...  \n",
       "748873  data\\boston_airbnb_open_data\\calendar.csv - Pr...  \n",
       "748849  data\\boston_airbnb_open_data\\calendar.csv - Pr...  \n",
       "748872  data\\boston_airbnb_open_data\\calendar.csv - Pr...  \n",
       "748848  data\\boston_airbnb_open_data\\calendar.csv - Pr...  "
      ]
     },
     "execution_count": 101,
     "metadata": {},
     "output_type": "execute_result"
    }
   ],
   "source": [
    "filter_cond = (calendar.listing_id == 12898806)\n",
    "calendar.loc[filter_cond, :].sort_values(['date', 'listing_id']).head()"
   ]
  },
  {
   "cell_type": "markdown",
   "metadata": {},
   "source": [
    "### Listing Granularity"
   ]
  },
  {
   "cell_type": "code",
   "execution_count": 109,
   "metadata": {},
   "outputs": [
    {
     "data": {
      "text/plain": [
       "1"
      ]
     },
     "execution_count": 109,
     "metadata": {},
     "output_type": "execute_result"
    }
   ],
   "source": [
    "listings.groupby(['id']).size().max()"
   ]
  },
  {
   "cell_type": "code",
   "execution_count": 128,
   "metadata": {},
   "outputs": [
    {
     "ename": "TypeError",
     "evalue": "data type not understood",
     "output_type": "error",
     "traceback": [
      "\u001b[1;31m---------------------------------------------------------------------------\u001b[0m",
      "\u001b[1;31mTypeError\u001b[0m                                 Traceback (most recent call last)",
      "\u001b[1;32m<ipython-input-128-15bc5558b4aa>\u001b[0m in \u001b[0;36m<module>\u001b[1;34m()\u001b[0m\n\u001b[1;32m----> 1\u001b[1;33m \u001b[0mlistings\u001b[0m\u001b[1;33m.\u001b[0m\u001b[0mselect_dtypes\u001b[0m\u001b[1;33m(\u001b[0m\u001b[0mexclude\u001b[0m\u001b[1;33m=\u001b[0m\u001b[0mnp\u001b[0m\u001b[1;33m.\u001b[0m\u001b[0mdatetime_as_string\u001b[0m\u001b[1;33m)\u001b[0m\u001b[1;33m\u001b[0m\u001b[0m\n\u001b[0m",
      "\u001b[1;32m~\\Anaconda3\\lib\\site-packages\\pandas\\core\\frame.py\u001b[0m in \u001b[0;36mselect_dtypes\u001b[1;34m(self, include, exclude)\u001b[0m\n\u001b[0;32m   3052\u001b[0m         \u001b[1;31m# convert the myriad valid dtypes object to a single representation\u001b[0m\u001b[1;33m\u001b[0m\u001b[1;33m\u001b[0m\u001b[0m\n\u001b[0;32m   3053\u001b[0m         include, exclude = map(\n\u001b[1;32m-> 3054\u001b[1;33m             lambda x: frozenset(map(_get_dtype_from_object, x)), selection)\n\u001b[0m\u001b[0;32m   3055\u001b[0m         \u001b[1;32mfor\u001b[0m \u001b[0mdtypes\u001b[0m \u001b[1;32min\u001b[0m \u001b[1;33m(\u001b[0m\u001b[0minclude\u001b[0m\u001b[1;33m,\u001b[0m \u001b[0mexclude\u001b[0m\u001b[1;33m)\u001b[0m\u001b[1;33m:\u001b[0m\u001b[1;33m\u001b[0m\u001b[0m\n\u001b[0;32m   3056\u001b[0m             \u001b[0minvalidate_string_dtypes\u001b[0m\u001b[1;33m(\u001b[0m\u001b[0mdtypes\u001b[0m\u001b[1;33m)\u001b[0m\u001b[1;33m\u001b[0m\u001b[0m\n",
      "\u001b[1;32m~\\Anaconda3\\lib\\site-packages\\pandas\\core\\frame.py\u001b[0m in \u001b[0;36m<lambda>\u001b[1;34m(x)\u001b[0m\n\u001b[0;32m   3052\u001b[0m         \u001b[1;31m# convert the myriad valid dtypes object to a single representation\u001b[0m\u001b[1;33m\u001b[0m\u001b[1;33m\u001b[0m\u001b[0m\n\u001b[0;32m   3053\u001b[0m         include, exclude = map(\n\u001b[1;32m-> 3054\u001b[1;33m             lambda x: frozenset(map(_get_dtype_from_object, x)), selection)\n\u001b[0m\u001b[0;32m   3055\u001b[0m         \u001b[1;32mfor\u001b[0m \u001b[0mdtypes\u001b[0m \u001b[1;32min\u001b[0m \u001b[1;33m(\u001b[0m\u001b[0minclude\u001b[0m\u001b[1;33m,\u001b[0m \u001b[0mexclude\u001b[0m\u001b[1;33m)\u001b[0m\u001b[1;33m:\u001b[0m\u001b[1;33m\u001b[0m\u001b[0m\n\u001b[0;32m   3056\u001b[0m             \u001b[0minvalidate_string_dtypes\u001b[0m\u001b[1;33m(\u001b[0m\u001b[0mdtypes\u001b[0m\u001b[1;33m)\u001b[0m\u001b[1;33m\u001b[0m\u001b[0m\n",
      "\u001b[1;32m~\\Anaconda3\\lib\\site-packages\\pandas\\core\\dtypes\\common.py\u001b[0m in \u001b[0;36m_get_dtype_from_object\u001b[1;34m(dtype)\u001b[0m\n\u001b[0;32m   1931\u001b[0m             \u001b[1;32mpass\u001b[0m\u001b[1;33m\u001b[0m\u001b[0m\n\u001b[0;32m   1932\u001b[0m \u001b[1;33m\u001b[0m\u001b[0m\n\u001b[1;32m-> 1933\u001b[1;33m     \u001b[1;32mreturn\u001b[0m \u001b[0m_get_dtype_from_object\u001b[0m\u001b[1;33m(\u001b[0m\u001b[0mnp\u001b[0m\u001b[1;33m.\u001b[0m\u001b[0mdtype\u001b[0m\u001b[1;33m(\u001b[0m\u001b[0mdtype\u001b[0m\u001b[1;33m)\u001b[0m\u001b[1;33m)\u001b[0m\u001b[1;33m\u001b[0m\u001b[0m\n\u001b[0m\u001b[0;32m   1934\u001b[0m \u001b[1;33m\u001b[0m\u001b[0m\n\u001b[0;32m   1935\u001b[0m \u001b[1;33m\u001b[0m\u001b[0m\n",
      "\u001b[1;31mTypeError\u001b[0m: data type not understood"
     ]
    }
   ],
   "source": [
    "listings.select_dtypes(exclude=np.datetime_as_string)"
   ]
  },
  {
   "cell_type": "markdown",
   "metadata": {},
   "source": [
    "### <li> Testing Relationships"
   ]
  },
  {
   "cell_type": "markdown",
   "metadata": {},
   "source": [
    "#### Prices for Listings"
   ]
  },
  {
   "cell_type": "code",
   "execution_count": null,
   "metadata": {},
   "outputs": [],
   "source": [
    "listings"
   ]
  },
  {
   "cell_type": "code",
   "execution_count": 1,
   "metadata": {},
   "outputs": [
    {
     "ename": "NameError",
     "evalue": "name 'os' is not defined",
     "output_type": "error",
     "traceback": [
      "\u001b[1;31m---------------------------------------------------------------------------\u001b[0m",
      "\u001b[1;31mNameError\u001b[0m                                 Traceback (most recent call last)",
      "\u001b[1;32m<ipython-input-1-f094fa816791>\u001b[0m in \u001b[0;36m<module>\u001b[1;34m\u001b[0m\n\u001b[1;32m----> 1\u001b[1;33m \u001b[0mos\u001b[0m\u001b[1;33m.\u001b[0m\u001b[0msystem\u001b[0m\u001b[1;33m(\u001b[0m\u001b[1;34m\"git add .\"\u001b[0m\u001b[1;33m)\u001b[0m\u001b[1;33m\u001b[0m\u001b[1;33m\u001b[0m\u001b[0m\n\u001b[0m",
      "\u001b[1;31mNameError\u001b[0m: name 'os' is not defined"
     ]
    }
   ],
   "source": [
    "os.system(\"git add .\")"
   ]
  },
  {
   "cell_type": "code",
   "execution_count": 307,
   "metadata": {},
   "outputs": [
    {
     "data": {
      "text/plain": [
       "0"
      ]
     },
     "execution_count": 307,
     "metadata": {},
     "output_type": "execute_result"
    }
   ],
   "source": [
    "os.system('git commit -m \"Understading Listing Data\"')"
   ]
  },
  {
   "cell_type": "code",
   "execution_count": 308,
   "metadata": {},
   "outputs": [
    {
     "data": {
      "text/plain": [
       "0"
      ]
     },
     "execution_count": 308,
     "metadata": {},
     "output_type": "execute_result"
    }
   ],
   "source": [
    "os.system(\"git push\")"
   ]
  },
  {
   "cell_type": "markdown",
   "metadata": {},
   "source": [
    "## Preparing Data for Analysis"
   ]
  },
  {
   "cell_type": "markdown",
   "metadata": {},
   "source": [
    "# Analysis & Visualizations"
   ]
  },
  {
   "cell_type": "markdown",
   "metadata": {},
   "source": [
    "# Modeling & Visualizations"
   ]
  },
  {
   "cell_type": "markdown",
   "metadata": {},
   "source": [
    "# Evaluating Results"
   ]
  },
  {
   "cell_type": "markdown",
   "metadata": {},
   "source": [
    "# Conclussion"
   ]
  },
  {
   "cell_type": "code",
   "execution_count": null,
   "metadata": {},
   "outputs": [],
   "source": []
  }
 ],
 "metadata": {
  "kernelspec": {
   "display_name": "Python 3",
   "language": "python",
   "name": "python3"
  },
  "language_info": {
   "codemirror_mode": {
    "name": "ipython",
    "version": 3
   },
   "file_extension": ".py",
   "mimetype": "text/x-python",
   "name": "python",
   "nbconvert_exporter": "python",
   "pygments_lexer": "ipython3",
   "version": "3.6.5"
  }
 },
 "nbformat": 4,
 "nbformat_minor": 2
}
