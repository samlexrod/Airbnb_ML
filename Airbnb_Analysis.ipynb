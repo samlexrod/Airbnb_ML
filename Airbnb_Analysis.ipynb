{
 "cells": [
  {
   "cell_type": "markdown",
   "metadata": {},
   "source": [
    "# Introduction"
   ]
  },
  {
   "cell_type": "markdown",
   "metadata": {},
   "source": [
    "Key takeaways\n",
    "* Installing packages\n",
    "* Handling data with pandas\n",
    "* Unzipping Files with Python\n",
    "* Using seaborn for vizualization\n",
    "* Using matplotlib for vizualization\n",
    "* Creating Lambda functions\n",
    "* Deploying machine learning models\n",
    "* Evaluating machine learning results\n",
    "* Validating aggregates"
   ]
  },
  {
   "cell_type": "markdown",
   "metadata": {},
   "source": [
    "# The CRISP-DM Process"
   ]
  },
  {
   "cell_type": "markdown",
   "metadata": {},
   "source": [
    "For this project, I will be following the CRISP-DM (Cross-industry standard process for data mining) process.\n",
    "\n",
    "![alt text](https://codesachin.files.wordpress.com/2015/09/crisp-dm.gif)\n",
    "The process follows these steps:\n",
    "    1. Pick a dataset\n",
    "    2. Generate business questions\n",
    "    3. Obtain data understanding\n",
    "    4. Prepare the data\n",
    "    5. Analyze, Model, and Visualize\n",
    "    6. Evaluate your analysis\n",
    "    7. Communicate business insights   \n",
    " \n",
    " \n",
    "    \n",
    "This project approaches these steps in the following way:\n",
    "    1. Boston & Seattle Airbnb Open Data \n",
    "    2. I am starting with these business questions.\n",
    "        a. What is the mission of Airbnb?\n",
    "        b. What is more likely to cause bad reviews?\n",
    "        c. What is the cost of bad reviews?\n",
    "        d. What is the value of good reviews?\n",
    "    3. Steps 3 to 6 will be conducted using a Jupyter notebook, and some Python 3 magic!"
   ]
  },
  {
   "cell_type": "markdown",
   "metadata": {},
   "source": [
    "# Data Handling"
   ]
  },
  {
   "cell_type": "code",
   "execution_count": 2,
   "metadata": {},
   "outputs": [],
   "source": [
    "import pandas as pd\n",
    "import numpy as np\n",
    "import seaborn as sns\n",
    "import matplotlib.pyplot as plt\n",
    "from zipfile import ZipFile\n",
    "import os\n",
    "%matplotlib inline\n",
    "plt.style.use('ggplot')"
   ]
  },
  {
   "cell_type": "code",
   "execution_count": 3,
   "metadata": {},
   "outputs": [],
   "source": [
    "def unzip_files(zip_filename_list, folder=None):\n",
    "    \"\"\"\n",
    "    Unzipping the datasets\n",
    "    \"\"\"\n",
    "    folder_names = []\n",
    "    for file in zip_filename_list:\n",
    "        \n",
    "        # paths\n",
    "        filename_path = os.path.join('data', file)\n",
    "        folder_name = filename_path[:-4].replace(\"-\", \"_\")\n",
    "        \n",
    "        # extracting\n",
    "        try:\n",
    "            zip_ref = ZipFile(filename_path)\n",
    "            zip_ref.extractall(folder_name)\n",
    "            zip_ref.close()\n",
    "        except:\n",
    "            print('File already extracted!')\n",
    "        \n",
    "        # appending folder names\n",
    "        if filename_path.find('.') >= 0:\n",
    "            folder_names.append(folder_name)\n",
    "        \n",
    "    return folder_names"
   ]
  },
  {
   "cell_type": "code",
   "execution_count": 4,
   "metadata": {},
   "outputs": [],
   "source": [
    "def read_concat(folder_names, target_file_name):\n",
    "    \"\"\"\n",
    "    Reading files of different folders with same naming convention\n",
    "    \"\"\"\n",
    "    df_con = pd.DataFrame()\n",
    "    for folder in folder_names:\n",
    "        target = os.path.join(folder, target_file_name)\n",
    "        df = pd.read_csv(target)\n",
    "        df['rowsource'] = target\n",
    "        \n",
    "        df_con = pd.concat([df_con, df], axis=0, sort=True).reset_index(drop=True)\n",
    "    return df_con"
   ]
  },
  {
   "cell_type": "markdown",
   "metadata": {},
   "source": [
    "## - Extracting Data"
   ]
  },
  {
   "cell_type": "code",
   "execution_count": 5,
   "metadata": {},
   "outputs": [
    {
     "data": {
      "text/plain": [
       "['boston-airbnb-open-data.zip',\n",
       " 'boston_airbnb_open_data',\n",
       " 'seattle',\n",
       " 'seattle.zip']"
      ]
     },
     "execution_count": 5,
     "metadata": {},
     "output_type": "execute_result"
    }
   ],
   "source": [
    "# getting zip file names\n",
    "data_zip = os.listdir('data')\n",
    "data_zip"
   ]
  },
  {
   "cell_type": "code",
   "execution_count": 6,
   "metadata": {},
   "outputs": [
    {
     "name": "stdout",
     "output_type": "stream",
     "text": [
      "File already extracted!\n",
      "File already extracted!\n"
     ]
    },
    {
     "data": {
      "text/plain": [
       "['data\\\\boston_airbnb_open_data', 'data\\\\seattle']"
      ]
     },
     "execution_count": 6,
     "metadata": {},
     "output_type": "execute_result"
    }
   ],
   "source": [
    "# extracting datasets\n",
    "folder_names = unzip_files(data_zip)\n",
    "folder_names"
   ]
  },
  {
   "cell_type": "code",
   "execution_count": 7,
   "metadata": {},
   "outputs": [
    {
     "data": {
      "text/plain": [
       "[['calendar.csv', 'listings.csv', 'reviews.csv'],\n",
       " ['calendar.csv', 'listings.csv', 'reviews.csv']]"
      ]
     },
     "execution_count": 7,
     "metadata": {},
     "output_type": "execute_result"
    }
   ],
   "source": [
    "[os.listdir(folder_name) for folder_name in folder_names]"
   ]
  },
  {
   "cell_type": "markdown",
   "metadata": {},
   "source": [
    "## - Importing Data"
   ]
  },
  {
   "cell_type": "markdown",
   "metadata": {},
   "source": [
    "---\n",
    "First, we are importing the calendar dataset."
   ]
  },
  {
   "cell_type": "code",
   "execution_count": 8,
   "metadata": {},
   "outputs": [],
   "source": [
    "calendar = read_concat(folder_names, 'calendar.csv')"
   ]
  },
  {
   "cell_type": "code",
   "execution_count": 9,
   "metadata": {},
   "outputs": [
    {
     "data": {
      "image/png": "[encoded data removed]",
      "text/plain": [
       "<Figure size 432x288 with 1 Axes>"
      ]
     },
     "metadata": {},
     "output_type": "display_data"
    }
   ],
   "source": [
    "calendar.groupby('rowsource').count().plot.barh();\n",
    "plt.legend(bbox_to_anchor=(1.01, 1), loc='upper left');"
   ]
  },
  {
   "cell_type": "markdown",
   "metadata": {},
   "source": [
    "---\n",
    "Second, we are importing the listings dataset."
   ]
  },
  {
   "cell_type": "code",
   "execution_count": 10,
   "metadata": {},
   "outputs": [],
   "source": [
    "listings = read_concat(folder_names, 'listings.csv')"
   ]
  },
  {
   "cell_type": "code",
   "execution_count": 11,
   "metadata": {},
   "outputs": [
    {
     "data": {
      "image/png": "[encoded data removed]",
      "text/plain": [
       "<Figure size 1008x360 with 1 Axes>"
      ]
     },
     "metadata": {},
     "output_type": "display_data"
    }
   ],
   "source": [
    "listings\\\n",
    "    .groupby('rowsource')\\\n",
    "    .count()\\\n",
    "    .plot.bar(legend=False, figsize=(14, 5), rot=0, width=.9);"
   ]
  },
  {
   "cell_type": "code",
   "execution_count": 12,
   "metadata": {},
   "outputs": [
    {
     "data": {
      "image/png": "[encoded data removed]",
      "text/plain": [
       "<Figure size 720x720 with 1 Axes>"
      ]
     },
     "metadata": {},
     "output_type": "display_data"
    }
   ],
   "source": [
    "listing_nulls = listings.isnull().sum()\\\n",
    "    .where(lambda x: x>0)\\\n",
    "    .dropna()\\\n",
    "    .sort_values(ascending=True)\n",
    "\n",
    "listing_nulls\\\n",
    "    .plot.barh(figsize=(10, 10), title=\"Missing Value Counts\");"
   ]
  },
  {
   "cell_type": "code",
   "execution_count": 13,
   "metadata": {},
   "outputs": [
    {
     "data": {
      "text/plain": [
       "(7403, 96)"
      ]
     },
     "execution_count": 13,
     "metadata": {},
     "output_type": "execute_result"
    }
   ],
   "source": [
    "listings.shape"
   ]
  },
  {
   "cell_type": "code",
   "execution_count": 14,
   "metadata": {},
   "outputs": [
    {
     "data": {
      "image/png": "[encoded data removed]",
      "text/plain": [
       "<Figure size 432x288 with 1 Axes>"
      ]
     },
     "metadata": {},
     "output_type": "display_data"
    }
   ],
   "source": [
    "non_complete_listings = listings.groupby('rowsource')\\\n",
    "    .count()\\\n",
    "    .div(listings.rowsource.value_counts(), axis=0)\\\n",
    "    .reset_index()\\\n",
    "    .melt(id_vars='index')\n",
    "\n",
    "non_complete_listings\\\n",
    "    .groupby(['index', pd.cut(non_complete_listings.value, bins=10)])\\\n",
    "    .size()\\\n",
    "    .plot.barh();"
   ]
  },
  {
   "cell_type": "markdown",
   "metadata": {},
   "source": [
    "---\n",
    "Third, we are importing the reviews dataset."
   ]
  },
  {
   "cell_type": "code",
   "execution_count": 15,
   "metadata": {},
   "outputs": [],
   "source": [
    "reviews = read_concat(folder_names, 'reviews.csv')"
   ]
  },
  {
   "cell_type": "code",
   "execution_count": 16,
   "metadata": {},
   "outputs": [
    {
     "data": {
      "image/png": "[encoded data removed]",
      "text/plain": [
       "<Figure size 432x288 with 1 Axes>"
      ]
     },
     "metadata": {},
     "output_type": "display_data"
    }
   ],
   "source": [
    "reviews.groupby('rowsource').count().plot.barh();\n",
    "plt.legend(bbox_to_anchor=(1.01, 1), loc='upper left');"
   ]
  },
  {
   "cell_type": "markdown",
   "metadata": {},
   "source": [
    "**Data Import Findings:**\n",
    "* It is clear that calendar has missing prices.\n",
    "* It is clear that there are multiple columns with missing values on both datasets.\n",
    "* On the contrary, reviews are all complete."
   ]
  },
  {
   "cell_type": "markdown",
   "metadata": {},
   "source": [
    "## Data Handling: Data Understanding"
   ]
  },
  {
   "cell_type": "markdown",
   "metadata": {},
   "source": [
    "### <li> Data Understanding: Calendar"
   ]
  },
  {
   "cell_type": "code",
   "execution_count": 17,
   "metadata": {
    "scrolled": true
   },
   "outputs": [
    {
     "data": {
      "text/html": [
       "<div>\n",
       "<style scoped>\n",
       "    .dataframe tbody tr th:only-of-type {\n",
       "        vertical-align: middle;\n",
       "    }\n",
       "\n",
       "    .dataframe tbody tr th {\n",
       "        vertical-align: top;\n",
       "    }\n",
       "\n",
       "    .dataframe thead th {\n",
       "        text-align: right;\n",
       "    }\n",
       "</style>\n",
       "<table border=\"1\" class=\"dataframe\">\n",
       "  <thead>\n",
       "    <tr style=\"text-align: right;\">\n",
       "      <th></th>\n",
       "      <th>available</th>\n",
       "      <th>date</th>\n",
       "      <th>listing_id</th>\n",
       "      <th>price</th>\n",
       "      <th>rowsource</th>\n",
       "    </tr>\n",
       "  </thead>\n",
       "  <tbody>\n",
       "    <tr>\n",
       "      <th>0</th>\n",
       "      <td>f</td>\n",
       "      <td>2017-09-05</td>\n",
       "      <td>12147973</td>\n",
       "      <td>NaN</td>\n",
       "      <td>data\\boston_airbnb_open_data\\calendar.csv</td>\n",
       "    </tr>\n",
       "    <tr>\n",
       "      <th>1</th>\n",
       "      <td>f</td>\n",
       "      <td>2017-09-04</td>\n",
       "      <td>12147973</td>\n",
       "      <td>NaN</td>\n",
       "      <td>data\\boston_airbnb_open_data\\calendar.csv</td>\n",
       "    </tr>\n",
       "    <tr>\n",
       "      <th>2</th>\n",
       "      <td>f</td>\n",
       "      <td>2017-09-03</td>\n",
       "      <td>12147973</td>\n",
       "      <td>NaN</td>\n",
       "      <td>data\\boston_airbnb_open_data\\calendar.csv</td>\n",
       "    </tr>\n",
       "    <tr>\n",
       "      <th>3</th>\n",
       "      <td>f</td>\n",
       "      <td>2017-09-02</td>\n",
       "      <td>12147973</td>\n",
       "      <td>NaN</td>\n",
       "      <td>data\\boston_airbnb_open_data\\calendar.csv</td>\n",
       "    </tr>\n",
       "    <tr>\n",
       "      <th>4</th>\n",
       "      <td>f</td>\n",
       "      <td>2017-09-01</td>\n",
       "      <td>12147973</td>\n",
       "      <td>NaN</td>\n",
       "      <td>data\\boston_airbnb_open_data\\calendar.csv</td>\n",
       "    </tr>\n",
       "  </tbody>\n",
       "</table>\n",
       "</div>"
      ],
      "text/plain": [
       "  available        date  listing_id price  \\\n",
       "0         f  2017-09-05    12147973   NaN   \n",
       "1         f  2017-09-04    12147973   NaN   \n",
       "2         f  2017-09-03    12147973   NaN   \n",
       "3         f  2017-09-02    12147973   NaN   \n",
       "4         f  2017-09-01    12147973   NaN   \n",
       "\n",
       "                                   rowsource  \n",
       "0  data\\boston_airbnb_open_data\\calendar.csv  \n",
       "1  data\\boston_airbnb_open_data\\calendar.csv  \n",
       "2  data\\boston_airbnb_open_data\\calendar.csv  \n",
       "3  data\\boston_airbnb_open_data\\calendar.csv  \n",
       "4  data\\boston_airbnb_open_data\\calendar.csv  "
      ]
     },
     "execution_count": 17,
     "metadata": {},
     "output_type": "execute_result"
    }
   ],
   "source": [
    "# calendar first 5 lines\n",
    "calendar.head()"
   ]
  },
  {
   "cell_type": "code",
   "execution_count": 18,
   "metadata": {},
   "outputs": [
    {
     "data": {
      "image/png": "[encoded data removed]",
      "text/plain": [
       "<Figure size 432x288 with 1 Axes>"
      ]
     },
     "metadata": {},
     "output_type": "display_data"
    }
   ],
   "source": [
    "calendar.isnull().sum().plot.barh(title=\"Missing Values in Calendar\");"
   ]
  },
  {
   "cell_type": "markdown",
   "metadata": {},
   "source": [
    "#### Calendar: Available Feature"
   ]
  },
  {
   "cell_type": "code",
   "execution_count": 19,
   "metadata": {},
   "outputs": [
    {
     "data": {
      "image/png": "[encoded data removed]",
      "text/plain": [
       "<Figure size 720x72 with 1 Axes>"
      ]
     },
     "metadata": {},
     "output_type": "display_data"
    }
   ],
   "source": [
    "calendar.available.value_counts().plot.barh(figsize=(10, 1), title='available');"
   ]
  },
  {
   "cell_type": "markdown",
   "metadata": {},
   "source": [
    "#### Calendar: Price Feature"
   ]
  },
  {
   "cell_type": "code",
   "execution_count": 20,
   "metadata": {},
   "outputs": [
    {
     "data": {
      "text/plain": [
       "array([nan, '$65.00', '$75.00', ..., '$10.00', '$24.00', '$817.00'],\n",
       "      dtype=object)"
      ]
     },
     "execution_count": 20,
     "metadata": {},
     "output_type": "execute_result"
    }
   ],
   "source": [
    "calendar.price.unique()"
   ]
  },
  {
   "cell_type": "code",
   "execution_count": 21,
   "metadata": {},
   "outputs": [],
   "source": [
    "# Data conversions\n",
    "calendar.price = calendar.price.str.replace('$', '')\n",
    "calendar.price = calendar.price.str.replace(',', '').astype(float)\n",
    "calendar.date = pd.to_datetime(calendar.date)"
   ]
  },
  {
   "cell_type": "code",
   "execution_count": 22,
   "metadata": {},
   "outputs": [
    {
     "data": {
      "image/png": "[encoded data removed]",
      "text/plain": [
       "<Figure size 864x720 with 1 Axes>"
      ]
     },
     "metadata": {},
     "output_type": "display_data"
    }
   ],
   "source": [
    "calendar.groupby(['rowsource', 'date'])\\\n",
    "    .agg({'price':'sum'})\\\n",
    "    .reset_index()\\\n",
    "    .pivot(index='date', columns='rowsource', values='price')\\\n",
    "    .plot.line(figsize=(12, 10), lw=3);"
   ]
  },
  {
   "cell_type": "code",
   "execution_count": 23,
   "metadata": {},
   "outputs": [],
   "source": [
    "calendar['nan_grp'] = calendar.price.fillna('MissingValue')"
   ]
  },
  {
   "cell_type": "code",
   "execution_count": 24,
   "metadata": {},
   "outputs": [],
   "source": [
    "calendar.loc[calendar.nan_grp!='MissingValue', 'nan_grp'] = 'ProvidedValue'"
   ]
  },
  {
   "cell_type": "code",
   "execution_count": 25,
   "metadata": {},
   "outputs": [],
   "source": [
    "calendar['source_grp'] = calendar.rowsource.str.cat(calendar.nan_grp, sep=' - ')"
   ]
  },
  {
   "cell_type": "code",
   "execution_count": 26,
   "metadata": {},
   "outputs": [
    {
     "data": {
      "image/png": "[encoded data removed]",
      "text/plain": [
       "<Figure size 864x720 with 1 Axes>"
      ]
     },
     "metadata": {},
     "output_type": "display_data"
    }
   ],
   "source": [
    "calendar.groupby(['source_grp', 'date'])\\\n",
    "    .agg({'price':'sum'})\\\n",
    "    .reset_index()\\\n",
    "    .pivot(index='date', columns='source_grp', values='price')\\\n",
    "    .plot.line(figsize=(12, 10), lw=3, alpha=.5);"
   ]
  },
  {
   "cell_type": "code",
   "execution_count": 27,
   "metadata": {
    "scrolled": true
   },
   "outputs": [
    {
     "data": {
      "text/html": [
       "<div>\n",
       "<style scoped>\n",
       "    .dataframe tbody tr th:only-of-type {\n",
       "        vertical-align: middle;\n",
       "    }\n",
       "\n",
       "    .dataframe tbody tr th {\n",
       "        vertical-align: top;\n",
       "    }\n",
       "\n",
       "    .dataframe thead tr th {\n",
       "        text-align: left;\n",
       "    }\n",
       "\n",
       "    .dataframe thead tr:last-of-type th {\n",
       "        text-align: right;\n",
       "    }\n",
       "</style>\n",
       "<table border=\"1\" class=\"dataframe\">\n",
       "  <thead>\n",
       "    <tr>\n",
       "      <th></th>\n",
       "      <th colspan=\"2\" halign=\"left\">date</th>\n",
       "    </tr>\n",
       "    <tr>\n",
       "      <th></th>\n",
       "      <th>min</th>\n",
       "      <th>max</th>\n",
       "    </tr>\n",
       "    <tr>\n",
       "      <th>source_grp</th>\n",
       "      <th></th>\n",
       "      <th></th>\n",
       "    </tr>\n",
       "  </thead>\n",
       "  <tbody>\n",
       "    <tr>\n",
       "      <th>data\\boston_airbnb_open_data\\calendar.csv - MissingValue</th>\n",
       "      <td>2016-09-06</td>\n",
       "      <td>2017-09-05</td>\n",
       "    </tr>\n",
       "    <tr>\n",
       "      <th>data\\boston_airbnb_open_data\\calendar.csv - ProvidedValue</th>\n",
       "      <td>2016-09-06</td>\n",
       "      <td>2017-09-05</td>\n",
       "    </tr>\n",
       "    <tr>\n",
       "      <th>data\\seattle\\calendar.csv - MissingValue</th>\n",
       "      <td>2016-01-04</td>\n",
       "      <td>2017-01-02</td>\n",
       "    </tr>\n",
       "    <tr>\n",
       "      <th>data\\seattle\\calendar.csv - ProvidedValue</th>\n",
       "      <td>2016-01-04</td>\n",
       "      <td>2017-01-02</td>\n",
       "    </tr>\n",
       "  </tbody>\n",
       "</table>\n",
       "</div>"
      ],
      "text/plain": [
       "                                                         date           \n",
       "                                                          min        max\n",
       "source_grp                                                              \n",
       "data\\boston_airbnb_open_data\\calendar.csv - Mis... 2016-09-06 2017-09-05\n",
       "data\\boston_airbnb_open_data\\calendar.csv - Pro... 2016-09-06 2017-09-05\n",
       "data\\seattle\\calendar.csv - MissingValue           2016-01-04 2017-01-02\n",
       "data\\seattle\\calendar.csv - ProvidedValue          2016-01-04 2017-01-02"
      ]
     },
     "execution_count": 27,
     "metadata": {},
     "output_type": "execute_result"
    }
   ],
   "source": [
    "calendar.groupby('source_grp').agg({'date': ['min', 'max']})"
   ]
  },
  {
   "cell_type": "code",
   "execution_count": 28,
   "metadata": {},
   "outputs": [
    {
     "data": {
      "text/html": [
       "<div>\n",
       "<style scoped>\n",
       "    .dataframe tbody tr th:only-of-type {\n",
       "        vertical-align: middle;\n",
       "    }\n",
       "\n",
       "    .dataframe tbody tr th {\n",
       "        vertical-align: top;\n",
       "    }\n",
       "\n",
       "    .dataframe thead th {\n",
       "        text-align: right;\n",
       "    }\n",
       "</style>\n",
       "<table border=\"1\" class=\"dataframe\">\n",
       "  <thead>\n",
       "    <tr style=\"text-align: right;\">\n",
       "      <th></th>\n",
       "      <th>max_date</th>\n",
       "      <th>delta_month</th>\n",
       "      <th>delta_days</th>\n",
       "    </tr>\n",
       "    <tr>\n",
       "      <th>rowsource</th>\n",
       "      <th></th>\n",
       "      <th></th>\n",
       "      <th></th>\n",
       "    </tr>\n",
       "  </thead>\n",
       "  <tbody>\n",
       "    <tr>\n",
       "      <th>data\\boston_airbnb_open_data\\calendar.csv</th>\n",
       "      <td>2017-09-05</td>\n",
       "      <td></td>\n",
       "      <td></td>\n",
       "    </tr>\n",
       "    <tr>\n",
       "      <th>data\\seattle\\calendar.csv</th>\n",
       "      <td>2017-01-02</td>\n",
       "      <td>8</td>\n",
       "      <td>246 days 00:00:00</td>\n",
       "    </tr>\n",
       "  </tbody>\n",
       "</table>\n",
       "</div>"
      ],
      "text/plain": [
       "                                            max_date delta_month  \\\n",
       "rowsource                                                          \n",
       "data\\boston_airbnb_open_data\\calendar.csv 2017-09-05               \n",
       "data\\seattle\\calendar.csv                 2017-01-02           8   \n",
       "\n",
       "                                                  delta_days  \n",
       "rowsource                                                     \n",
       "data\\boston_airbnb_open_data\\calendar.csv                     \n",
       "data\\seattle\\calendar.csv                  246 days 00:00:00  "
      ]
     },
     "execution_count": 28,
     "metadata": {},
     "output_type": "execute_result"
    }
   ],
   "source": [
    "month_func = lambda x: x.month\n",
    "delta_month_func = lambda x: x.max_date.shift(1).apply(month_func)- x.max_date.apply(month_func)\n",
    "delta_days_func = lambda x: x.max_date.shift(1)- x.max_date\n",
    "\n",
    "calendar.groupby('rowsource').agg({'date': 'max'})\\\n",
    "    .rename(columns={'date':'max_date'})\\\n",
    "    .assign(delta_month=delta_month_func,\n",
    "            delta_days=delta_days_func)\\\n",
    "    .fillna('')"
   ]
  },
  {
   "cell_type": "markdown",
   "metadata": {},
   "source": [
    "**Calendar Data Findings:**\n",
    "\n",
    "Informational:\n",
    "* Records of availability and price at a date and listing id level.\n",
    "* Only missing values are in prices. Some listings have no prices.\n",
    "* Dates of datasets do not match.\n",
    "    * It seems that seattle was service before boston.\n",
    "    * Seattle has no data from 2017-01-02 to 2017-09-05, 8 months or 246 days.\n",
    "Transformation:\n",
    "* Prices have to be cleaned. They include $ sign and comma separators."
   ]
  },
  {
   "cell_type": "markdown",
   "metadata": {},
   "source": [
    "### <li> Data Understanding: Listings"
   ]
  },
  {
   "cell_type": "code",
   "execution_count": 29,
   "metadata": {},
   "outputs": [],
   "source": [
    "missing_pct = listings.isnull().sum()/listings.shape[0]"
   ]
  },
  {
   "cell_type": "markdown",
   "metadata": {},
   "source": [
    "#### Listings: Object Features"
   ]
  },
  {
   "cell_type": "code",
   "execution_count": 30,
   "metadata": {
    "scrolled": false
   },
   "outputs": [
    {
     "data": {
      "text/html": [
       "<style  type=\"text/css\" >\n",
       "    #T_eb4b859a_5a1c_11e9_8eb9_c49deda6369arow0_col0 {\n",
       "            width:  10em;\n",
       "             height:  80%;\n",
       "            background:  linear-gradient(90deg,#d65f5f 100.0%, transparent 0%);\n",
       "        }    #T_eb4b859a_5a1c_11e9_8eb9_c49deda6369arow1_col0 {\n",
       "            width:  10em;\n",
       "             height:  80%;\n",
       "            background:  linear-gradient(90deg,#d65f5f 98.8%, transparent 0%);\n",
       "        }    #T_eb4b859a_5a1c_11e9_8eb9_c49deda6369arow2_col0 {\n",
       "            width:  10em;\n",
       "             height:  80%;\n",
       "            background:  linear-gradient(90deg,#d65f5f 93.3%, transparent 0%);\n",
       "        }    #T_eb4b859a_5a1c_11e9_8eb9_c49deda6369arow3_col0 {\n",
       "            width:  10em;\n",
       "             height:  80%;\n",
       "            background:  linear-gradient(90deg,#d65f5f 93.0%, transparent 0%);\n",
       "        }    #T_eb4b859a_5a1c_11e9_8eb9_c49deda6369arow4_col0 {\n",
       "            width:  10em;\n",
       "             height:  80%;\n",
       "            background:  linear-gradient(90deg,#d65f5f 83.8%, transparent 0%);\n",
       "        }    #T_eb4b859a_5a1c_11e9_8eb9_c49deda6369arow5_col0 {\n",
       "            width:  10em;\n",
       "             height:  80%;\n",
       "            background:  linear-gradient(90deg,#d65f5f 78.1%, transparent 0%);\n",
       "        }    #T_eb4b859a_5a1c_11e9_8eb9_c49deda6369arow6_col0 {\n",
       "            width:  10em;\n",
       "             height:  80%;\n",
       "            background:  linear-gradient(90deg,#d65f5f 66.7%, transparent 0%);\n",
       "        }    #T_eb4b859a_5a1c_11e9_8eb9_c49deda6369arow7_col0 {\n",
       "            width:  10em;\n",
       "             height:  80%;\n",
       "            background:  linear-gradient(90deg,#d65f5f 66.7%, transparent 0%);\n",
       "        }    #T_eb4b859a_5a1c_11e9_8eb9_c49deda6369arow8_col0 {\n",
       "            width:  10em;\n",
       "             height:  80%;\n",
       "            background:  linear-gradient(90deg,#d65f5f 66.7%, transparent 0%);\n",
       "        }    #T_eb4b859a_5a1c_11e9_8eb9_c49deda6369arow9_col0 {\n",
       "            width:  10em;\n",
       "             height:  80%;\n",
       "            background:  linear-gradient(90deg,#d65f5f 66.7%, transparent 0%);\n",
       "        }    #T_eb4b859a_5a1c_11e9_8eb9_c49deda6369arow10_col0 {\n",
       "            width:  10em;\n",
       "             height:  80%;\n",
       "            background:  linear-gradient(90deg,#d65f5f 45.6%, transparent 0%);\n",
       "        }    #T_eb4b859a_5a1c_11e9_8eb9_c49deda6369arow11_col0 {\n",
       "            width:  10em;\n",
       "             height:  80%;\n",
       "            background:  linear-gradient(90deg,#d65f5f 41.4%, transparent 0%);\n",
       "        }    #T_eb4b859a_5a1c_11e9_8eb9_c49deda6369arow12_col0 {\n",
       "            width:  10em;\n",
       "             height:  80%;\n",
       "            background:  linear-gradient(90deg,#d65f5f 40.4%, transparent 0%);\n",
       "        }    #T_eb4b859a_5a1c_11e9_8eb9_c49deda6369arow13_col0 {\n",
       "            width:  10em;\n",
       "             height:  80%;\n",
       "            background:  linear-gradient(90deg,#d65f5f 39.8%, transparent 0%);\n",
       "        }    #T_eb4b859a_5a1c_11e9_8eb9_c49deda6369arow14_col0 {\n",
       "            width:  10em;\n",
       "             height:  80%;\n",
       "            background:  linear-gradient(90deg,#d65f5f 30.3%, transparent 0%);\n",
       "        }    #T_eb4b859a_5a1c_11e9_8eb9_c49deda6369arow15_col0 {\n",
       "            width:  10em;\n",
       "             height:  80%;\n",
       "            background:  linear-gradient(90deg,#d65f5f 25.7%, transparent 0%);\n",
       "        }    #T_eb4b859a_5a1c_11e9_8eb9_c49deda6369arow16_col0 {\n",
       "            width:  10em;\n",
       "             height:  80%;\n",
       "            background:  linear-gradient(90deg,#d65f5f 25.7%, transparent 0%);\n",
       "        }    #T_eb4b859a_5a1c_11e9_8eb9_c49deda6369arow17_col0 {\n",
       "            width:  10em;\n",
       "             height:  80%;\n",
       "            background:  linear-gradient(90deg,#d65f5f 23.2%, transparent 0%);\n",
       "        }    #T_eb4b859a_5a1c_11e9_8eb9_c49deda6369arow18_col0 {\n",
       "            width:  10em;\n",
       "             height:  80%;\n",
       "            background:  linear-gradient(90deg,#d65f5f 18.5%, transparent 0%);\n",
       "        }    #T_eb4b859a_5a1c_11e9_8eb9_c49deda6369arow19_col0 {\n",
       "            width:  10em;\n",
       "             height:  80%;\n",
       "            background:  linear-gradient(90deg,#d65f5f 18.5%, transparent 0%);\n",
       "        }    #T_eb4b859a_5a1c_11e9_8eb9_c49deda6369arow20_col0 {\n",
       "            width:  10em;\n",
       "             height:  80%;\n",
       "            background:  linear-gradient(90deg,#d65f5f 17.9%, transparent 0%);\n",
       "        }    #T_eb4b859a_5a1c_11e9_8eb9_c49deda6369arow21_col0 {\n",
       "            width:  10em;\n",
       "             height:  80%;\n",
       "            background:  linear-gradient(90deg,#d65f5f 17.1%, transparent 0%);\n",
       "        }    #T_eb4b859a_5a1c_11e9_8eb9_c49deda6369arow22_col0 {\n",
       "            width:  10em;\n",
       "             height:  80%;\n",
       "            background:  linear-gradient(90deg,#d65f5f 17.1%, transparent 0%);\n",
       "        }    #T_eb4b859a_5a1c_11e9_8eb9_c49deda6369arow23_col0 {\n",
       "            width:  10em;\n",
       "             height:  80%;\n",
       "            background:  linear-gradient(90deg,#d65f5f 17.1%, transparent 0%);\n",
       "        }    #T_eb4b859a_5a1c_11e9_8eb9_c49deda6369arow24_col0 {\n",
       "            width:  10em;\n",
       "             height:  80%;\n",
       "            background:  linear-gradient(90deg,#d65f5f 11.9%, transparent 0%);\n",
       "        }    #T_eb4b859a_5a1c_11e9_8eb9_c49deda6369arow25_col0 {\n",
       "            width:  10em;\n",
       "             height:  80%;\n",
       "            background:  linear-gradient(90deg,#d65f5f 6.0%, transparent 0%);\n",
       "        }    #T_eb4b859a_5a1c_11e9_8eb9_c49deda6369arow26_col0 {\n",
       "            width:  10em;\n",
       "             height:  80%;\n",
       "            background:  linear-gradient(90deg,#d65f5f 0.8%, transparent 0%);\n",
       "        }    #T_eb4b859a_5a1c_11e9_8eb9_c49deda6369arow27_col0 {\n",
       "            width:  10em;\n",
       "             height:  80%;\n",
       "            background:  linear-gradient(90deg,#d65f5f 0.4%, transparent 0%);\n",
       "        }    #T_eb4b859a_5a1c_11e9_8eb9_c49deda6369arow28_col0 {\n",
       "            width:  10em;\n",
       "             height:  80%;\n",
       "            background:  linear-gradient(90deg,#d65f5f 0.3%, transparent 0%);\n",
       "        }    #T_eb4b859a_5a1c_11e9_8eb9_c49deda6369arow29_col0 {\n",
       "            width:  10em;\n",
       "             height:  80%;\n",
       "            background:  linear-gradient(90deg,#d65f5f 0.1%, transparent 0%);\n",
       "        }    #T_eb4b859a_5a1c_11e9_8eb9_c49deda6369arow30_col0 {\n",
       "            width:  10em;\n",
       "             height:  80%;\n",
       "            background:  linear-gradient(90deg,#d65f5f 0.0%, transparent 0%);\n",
       "        }    #T_eb4b859a_5a1c_11e9_8eb9_c49deda6369arow31_col0 {\n",
       "            width:  10em;\n",
       "             height:  80%;\n",
       "            background:  linear-gradient(90deg,#d65f5f 0.0%, transparent 0%);\n",
       "        }    #T_eb4b859a_5a1c_11e9_8eb9_c49deda6369arow32_col0 {\n",
       "            width:  10em;\n",
       "             height:  80%;\n",
       "            background:  linear-gradient(90deg,#d65f5f 0.0%, transparent 0%);\n",
       "        }    #T_eb4b859a_5a1c_11e9_8eb9_c49deda6369arow33_col0 {\n",
       "            width:  10em;\n",
       "             height:  80%;\n",
       "            background:  linear-gradient(90deg,#d65f5f 0.0%, transparent 0%);\n",
       "        }    #T_eb4b859a_5a1c_11e9_8eb9_c49deda6369arow34_col0 {\n",
       "            width:  10em;\n",
       "             height:  80%;\n",
       "            background:  linear-gradient(90deg,#d65f5f 0.0%, transparent 0%);\n",
       "        }    #T_eb4b859a_5a1c_11e9_8eb9_c49deda6369arow35_col0 {\n",
       "            width:  10em;\n",
       "             height:  80%;\n",
       "            background:  linear-gradient(90deg,#d65f5f 0.0%, transparent 0%);\n",
       "        }    #T_eb4b859a_5a1c_11e9_8eb9_c49deda6369arow36_col0 {\n",
       "            width:  10em;\n",
       "             height:  80%;\n",
       "            background:  linear-gradient(90deg,#d65f5f 0.0%, transparent 0%);\n",
       "        }    #T_eb4b859a_5a1c_11e9_8eb9_c49deda6369arow37_col0 {\n",
       "            width:  10em;\n",
       "             height:  80%;\n",
       "            background:  linear-gradient(90deg,#d65f5f 0.0%, transparent 0%);\n",
       "        }    #T_eb4b859a_5a1c_11e9_8eb9_c49deda6369arow38_col0 {\n",
       "            width:  10em;\n",
       "             height:  80%;\n",
       "        }    #T_eb4b859a_5a1c_11e9_8eb9_c49deda6369arow39_col0 {\n",
       "            width:  10em;\n",
       "             height:  80%;\n",
       "        }    #T_eb4b859a_5a1c_11e9_8eb9_c49deda6369arow40_col0 {\n",
       "            width:  10em;\n",
       "             height:  80%;\n",
       "        }    #T_eb4b859a_5a1c_11e9_8eb9_c49deda6369arow41_col0 {\n",
       "            width:  10em;\n",
       "             height:  80%;\n",
       "        }    #T_eb4b859a_5a1c_11e9_8eb9_c49deda6369arow42_col0 {\n",
       "            width:  10em;\n",
       "             height:  80%;\n",
       "        }    #T_eb4b859a_5a1c_11e9_8eb9_c49deda6369arow43_col0 {\n",
       "            width:  10em;\n",
       "             height:  80%;\n",
       "        }    #T_eb4b859a_5a1c_11e9_8eb9_c49deda6369arow44_col0 {\n",
       "            width:  10em;\n",
       "             height:  80%;\n",
       "        }    #T_eb4b859a_5a1c_11e9_8eb9_c49deda6369arow45_col0 {\n",
       "            width:  10em;\n",
       "             height:  80%;\n",
       "        }    #T_eb4b859a_5a1c_11e9_8eb9_c49deda6369arow46_col0 {\n",
       "            width:  10em;\n",
       "             height:  80%;\n",
       "        }    #T_eb4b859a_5a1c_11e9_8eb9_c49deda6369arow47_col0 {\n",
       "            width:  10em;\n",
       "             height:  80%;\n",
       "        }    #T_eb4b859a_5a1c_11e9_8eb9_c49deda6369arow48_col0 {\n",
       "            width:  10em;\n",
       "             height:  80%;\n",
       "        }    #T_eb4b859a_5a1c_11e9_8eb9_c49deda6369arow49_col0 {\n",
       "            width:  10em;\n",
       "             height:  80%;\n",
       "        }    #T_eb4b859a_5a1c_11e9_8eb9_c49deda6369arow50_col0 {\n",
       "            width:  10em;\n",
       "             height:  80%;\n",
       "        }    #T_eb4b859a_5a1c_11e9_8eb9_c49deda6369arow51_col0 {\n",
       "            width:  10em;\n",
       "             height:  80%;\n",
       "        }    #T_eb4b859a_5a1c_11e9_8eb9_c49deda6369arow52_col0 {\n",
       "            width:  10em;\n",
       "             height:  80%;\n",
       "        }    #T_eb4b859a_5a1c_11e9_8eb9_c49deda6369arow53_col0 {\n",
       "            width:  10em;\n",
       "             height:  80%;\n",
       "        }    #T_eb4b859a_5a1c_11e9_8eb9_c49deda6369arow54_col0 {\n",
       "            width:  10em;\n",
       "             height:  80%;\n",
       "        }    #T_eb4b859a_5a1c_11e9_8eb9_c49deda6369arow55_col0 {\n",
       "            width:  10em;\n",
       "             height:  80%;\n",
       "        }    #T_eb4b859a_5a1c_11e9_8eb9_c49deda6369arow56_col0 {\n",
       "            width:  10em;\n",
       "             height:  80%;\n",
       "        }    #T_eb4b859a_5a1c_11e9_8eb9_c49deda6369arow57_col0 {\n",
       "            width:  10em;\n",
       "             height:  80%;\n",
       "        }    #T_eb4b859a_5a1c_11e9_8eb9_c49deda6369arow58_col0 {\n",
       "            width:  10em;\n",
       "             height:  80%;\n",
       "        }    #T_eb4b859a_5a1c_11e9_8eb9_c49deda6369arow59_col0 {\n",
       "            width:  10em;\n",
       "             height:  80%;\n",
       "        }    #T_eb4b859a_5a1c_11e9_8eb9_c49deda6369arow60_col0 {\n",
       "            width:  10em;\n",
       "             height:  80%;\n",
       "        }    #T_eb4b859a_5a1c_11e9_8eb9_c49deda6369arow61_col0 {\n",
       "            width:  10em;\n",
       "             height:  80%;\n",
       "        }    #T_eb4b859a_5a1c_11e9_8eb9_c49deda6369arow62_col0 {\n",
       "            width:  10em;\n",
       "             height:  80%;\n",
       "        }    #T_eb4b859a_5a1c_11e9_8eb9_c49deda6369arow63_col0 {\n",
       "            width:  10em;\n",
       "             height:  80%;\n",
       "        }    #T_eb4b859a_5a1c_11e9_8eb9_c49deda6369arow64_col0 {\n",
       "            width:  10em;\n",
       "             height:  80%;\n",
       "        }    #T_eb4b859a_5a1c_11e9_8eb9_c49deda6369arow65_col0 {\n",
       "            width:  10em;\n",
       "             height:  80%;\n",
       "        }</style>  \n",
       "<table id=\"T_eb4b859a_5a1c_11e9_8eb9_c49deda6369a\" > \n",
       "<thead>    <tr> \n",
       "        <th class=\"blank level0\" ></th> \n",
       "        <th class=\"col_heading level0 col0\" >missing</th> \n",
       "        <th class=\"col_heading level0 col1\" >4590</th> \n",
       "        <th class=\"col_heading level0 col2\" >5271</th> \n",
       "    </tr></thead> \n",
       "<tbody>    <tr> \n",
       "        <th id=\"T_eb4b859a_5a1c_11e9_8eb9_c49deda6369alevel0_row0\" class=\"row_heading level0 row0\" >interaction</th> \n",
       "        <td id=\"T_eb4b859a_5a1c_11e9_8eb9_c49deda6369arow0_col0\" class=\"data row0 col0\" >0.725652</td> \n",
       "        <td id=\"T_eb4b859a_5a1c_11e9_8eb9_c49deda6369arow0_col1\" class=\"data row0 col1\" >nan</td> \n",
       "        <td id=\"T_eb4b859a_5a1c_11e9_8eb9_c49deda6369arow0_col2\" class=\"data row0 col2\" >nan</td> \n",
       "    </tr>    <tr> \n",
       "        <th id=\"T_eb4b859a_5a1c_11e9_8eb9_c49deda6369alevel0_row1\" class=\"row_heading level0 row1\" >access</th> \n",
       "        <td id=\"T_eb4b859a_5a1c_11e9_8eb9_c49deda6369arow1_col0\" class=\"data row1 col0\" >0.716872</td> \n",
       "        <td id=\"T_eb4b859a_5a1c_11e9_8eb9_c49deda6369arow1_col1\" class=\"data row1 col1\" >nan</td> \n",
       "        <td id=\"T_eb4b859a_5a1c_11e9_8eb9_c49deda6369arow1_col2\" class=\"data row1 col2\" >nan</td> \n",
       "    </tr>    <tr> \n",
       "        <th id=\"T_eb4b859a_5a1c_11e9_8eb9_c49deda6369alevel0_row2\" class=\"row_heading level0 row2\" >house_rules</th> \n",
       "        <td id=\"T_eb4b859a_5a1c_11e9_8eb9_c49deda6369arow2_col0\" class=\"data row2 col0\" >0.676753</td> \n",
       "        <td id=\"T_eb4b859a_5a1c_11e9_8eb9_c49deda6369arow2_col1\" class=\"data row2 col1\" >nan</td> \n",
       "        <td id=\"T_eb4b859a_5a1c_11e9_8eb9_c49deda6369arow2_col2\" class=\"data row2 col2\" >nan</td> \n",
       "    </tr>    <tr> \n",
       "        <th id=\"T_eb4b859a_5a1c_11e9_8eb9_c49deda6369alevel0_row3\" class=\"row_heading level0 row3\" >monthly_price</th> \n",
       "        <td id=\"T_eb4b859a_5a1c_11e9_8eb9_c49deda6369arow3_col0\" class=\"data row3 col0\" >0.675132</td> \n",
       "        <td id=\"T_eb4b859a_5a1c_11e9_8eb9_c49deda6369arow3_col1\" class=\"data row3 col1\" >nan</td> \n",
       "        <td id=\"T_eb4b859a_5a1c_11e9_8eb9_c49deda6369arow3_col2\" class=\"data row3 col2\" >nan</td> \n",
       "    </tr>    <tr> \n",
       "        <th id=\"T_eb4b859a_5a1c_11e9_8eb9_c49deda6369alevel0_row4\" class=\"row_heading level0 row4\" >weekly_price</th> \n",
       "        <td id=\"T_eb4b859a_5a1c_11e9_8eb9_c49deda6369arow4_col0\" class=\"data row4 col0\" >0.608132</td> \n",
       "        <td id=\"T_eb4b859a_5a1c_11e9_8eb9_c49deda6369arow4_col1\" class=\"data row4 col1\" >nan</td> \n",
       "        <td id=\"T_eb4b859a_5a1c_11e9_8eb9_c49deda6369arow4_col2\" class=\"data row4 col2\" >nan</td> \n",
       "    </tr>    <tr> \n",
       "        <th id=\"T_eb4b859a_5a1c_11e9_8eb9_c49deda6369alevel0_row5\" class=\"row_heading level0 row5\" >security_deposit</th> \n",
       "        <td id=\"T_eb4b859a_5a1c_11e9_8eb9_c49deda6369arow5_col0\" class=\"data row5 col0\" >0.566662</td> \n",
       "        <td id=\"T_eb4b859a_5a1c_11e9_8eb9_c49deda6369arow5_col1\" class=\"data row5 col1\" >nan</td> \n",
       "        <td id=\"T_eb4b859a_5a1c_11e9_8eb9_c49deda6369arow5_col2\" class=\"data row5 col2\" >nan</td> \n",
       "    </tr>    <tr> \n",
       "        <th id=\"T_eb4b859a_5a1c_11e9_8eb9_c49deda6369alevel0_row6\" class=\"row_heading level0 row6\" >jurisdiction_names</th> \n",
       "        <td id=\"T_eb4b859a_5a1c_11e9_8eb9_c49deda6369arow6_col0\" class=\"data row6 col0\" >0.484263</td> \n",
       "        <td id=\"T_eb4b859a_5a1c_11e9_8eb9_c49deda6369arow6_col1\" class=\"data row6 col1\" >WASHINGTON</td> \n",
       "        <td id=\"T_eb4b859a_5a1c_11e9_8eb9_c49deda6369arow6_col2\" class=\"data row6 col2\" >WASHINGTON</td> \n",
       "    </tr>    <tr> \n",
       "        <th id=\"T_eb4b859a_5a1c_11e9_8eb9_c49deda6369alevel0_row7\" class=\"row_heading level0 row7\" >neighbourhood_group_cleansed</th> \n",
       "        <td id=\"T_eb4b859a_5a1c_11e9_8eb9_c49deda6369arow7_col0\" class=\"data row7 col0\" >0.484263</td> \n",
       "        <td id=\"T_eb4b859a_5a1c_11e9_8eb9_c49deda6369arow7_col1\" class=\"data row7 col1\" >Central Area</td> \n",
       "        <td id=\"T_eb4b859a_5a1c_11e9_8eb9_c49deda6369arow7_col2\" class=\"data row7 col2\" >Downtown</td> \n",
       "    </tr>    <tr> \n",
       "        <th id=\"T_eb4b859a_5a1c_11e9_8eb9_c49deda6369alevel0_row8\" class=\"row_heading level0 row8\" >has_availability</th> \n",
       "        <td id=\"T_eb4b859a_5a1c_11e9_8eb9_c49deda6369arow8_col0\" class=\"data row8 col0\" >0.484263</td> \n",
       "        <td id=\"T_eb4b859a_5a1c_11e9_8eb9_c49deda6369arow8_col1\" class=\"data row8 col1\" >t</td> \n",
       "        <td id=\"T_eb4b859a_5a1c_11e9_8eb9_c49deda6369arow8_col2\" class=\"data row8 col2\" >t</td> \n",
       "    </tr>    <tr> \n",
       "        <th id=\"T_eb4b859a_5a1c_11e9_8eb9_c49deda6369alevel0_row9\" class=\"row_heading level0 row9\" >notes</th> \n",
       "        <td id=\"T_eb4b859a_5a1c_11e9_8eb9_c49deda6369arow9_col0\" class=\"data row9 col0\" >0.483723</td> \n",
       "        <td id=\"T_eb4b859a_5a1c_11e9_8eb9_c49deda6369arow9_col1\" class=\"data row9 col1\" >nan</td> \n",
       "        <td id=\"T_eb4b859a_5a1c_11e9_8eb9_c49deda6369arow9_col2\" class=\"data row9 col2\" >nan</td> \n",
       "    </tr>    <tr> \n",
       "        <th id=\"T_eb4b859a_5a1c_11e9_8eb9_c49deda6369alevel0_row10\" class=\"row_heading level0 row10\" >neighborhood_overview</th> \n",
       "        <td id=\"T_eb4b859a_5a1c_11e9_8eb9_c49deda6369arow10_col0\" class=\"data row10 col0\" >0.330542</td> \n",
       "        <td id=\"T_eb4b859a_5a1c_11e9_8eb9_c49deda6369arow10_col1\" class=\"data row10 col1\" >Our house is located in Leschi, a beautiful neighborhood of Seattle. The street we live on is a very quiet cul-de-sac, and we are on top of the hill. Just a short walk down the hill (3 short blocks, about 5 minutes), will take you to Lakeside Avenue with several restaurants (BluWater Bistro serves food until 1 AM!), Starbucks, yoga studio, crossfit studio, local market with a great selection of wine, and Lake Washington with a magnificent view of Mt. Rainier.  You can enjoy the beauty of the Pacific Northwest by jogging or walking alongside Lake Washington, or go for an easy hike in one of the nearby parks. If you are a fan of Nirvana, our house is only 1.4 miles from the former house of Kurt Cobain. A half hour walk (or a 5 minute drive) will take you to a memorial bench in front of his house.</td> \n",
       "        <td id=\"T_eb4b859a_5a1c_11e9_8eb9_c49deda6369arow10_col2\" class=\"data row10 col2\" >In the middle of everything. Walking distance to the stadiums, the International District, Pike Market, and Capitol Hill.</td> \n",
       "    </tr>    <tr> \n",
       "        <th id=\"T_eb4b859a_5a1c_11e9_8eb9_c49deda6369alevel0_row11\" class=\"row_heading level0 row11\" >transit</th> \n",
       "        <td id=\"T_eb4b859a_5a1c_11e9_8eb9_c49deda6369arow11_col0\" class=\"data row11 col0\" >0.300419</td> \n",
       "        <td id=\"T_eb4b859a_5a1c_11e9_8eb9_c49deda6369arow11_col1\" class=\"data row11 col1\" >The bus stop for metro bus #27 is on Lakeside Avenue, 3 short blocks down the hill from our house. The bus runs about every half hour and gets to downtown Seattle in 15 minutes. Each ride costs $2.75 and you can get a transfer ticket from the bus driver valid for other metro buses that day.  Taxi and Uber cars are also available. We are within a Car2Go zone and there is usually one parked either on our street or down the hill by the shopping/restaurant area on Lakeside Avenue.</td> \n",
       "        <td id=\"T_eb4b859a_5a1c_11e9_8eb9_c49deda6369arow11_col2\" class=\"data row11 col2\" >Very close to the light rail station which goes straight to the airport. Uber is your friend. Unfortunately, parking can be a pain on weekdays, especially in the morning. There is some free public parking right in front of the building on the south side of Yesler as well as on the West side of 6th. The rest of the nearby street parking has time restrictions.</td> \n",
       "    </tr>    <tr> \n",
       "        <th id=\"T_eb4b859a_5a1c_11e9_8eb9_c49deda6369alevel0_row12\" class=\"row_heading level0 row12\" >host_about</th> \n",
       "        <td id=\"T_eb4b859a_5a1c_11e9_8eb9_c49deda6369arow12_col0\" class=\"data row12 col0\" >0.292854</td> \n",
       "        <td id=\"T_eb4b859a_5a1c_11e9_8eb9_c49deda6369arow12_col1\" class=\"data row12 col1\" >nan</td> \n",
       "        <td id=\"T_eb4b859a_5a1c_11e9_8eb9_c49deda6369arow12_col2\" class=\"data row12 col2\" >nan</td> \n",
       "    </tr>    <tr> \n",
       "        <th id=\"T_eb4b859a_5a1c_11e9_8eb9_c49deda6369alevel0_row13\" class=\"row_heading level0 row13\" >cleaning_fee</th> \n",
       "        <td id=\"T_eb4b859a_5a1c_11e9_8eb9_c49deda6369arow13_col0\" class=\"data row13 col0\" >0.288667</td> \n",
       "        <td id=\"T_eb4b859a_5a1c_11e9_8eb9_c49deda6369arow13_col1\" class=\"data row13 col1\" >$25.00</td> \n",
       "        <td id=\"T_eb4b859a_5a1c_11e9_8eb9_c49deda6369arow13_col2\" class=\"data row13 col2\" >nan</td> \n",
       "    </tr>    <tr> \n",
       "        <th id=\"T_eb4b859a_5a1c_11e9_8eb9_c49deda6369alevel0_row14\" class=\"row_heading level0 row14\" >space</th> \n",
       "        <td id=\"T_eb4b859a_5a1c_11e9_8eb9_c49deda6369arow14_col0\" class=\"data row14 col0\" >0.219641</td> \n",
       "        <td id=\"T_eb4b859a_5a1c_11e9_8eb9_c49deda6369arow14_col1\" class=\"data row14 col1\" >It's a cozy 1 bedroom apartment with a private entrance and free parking space. The living room has a pull out couch, table with chairs, a comfy arm chair, piano, TV. The bedroom has a queen size bed, closet, dresser, and a small sofa. The apartment is on a lower level/basement of our house, it has 8' ceilings, plenty of light, lots of windows facing the garden. The bathroom has a shower, no tub. Laundry room has a washer and dryer. The living room has a studio kitchen with full size fridge, sink, stove, cabinets. Make yourself at home!</td> \n",
       "        <td id=\"T_eb4b859a_5a1c_11e9_8eb9_c49deda6369arow14_col2\" class=\"data row14 col2\" >It's a nice remodeled one bedroom apartment with high ceilings. There is a full kitchen with brand new appliances. The bedroom itself is large with a king sized bed. The living room has a large bean bag chair and a TV and Roku attached(Netflix, Amazon Prime, WatchESPN). There is an air mattress available if required (This is the second bed). Also, while there is no air conditioning, I do have a standing fan that does a pretty good job.</td> \n",
       "    </tr>    <tr> \n",
       "        <th id=\"T_eb4b859a_5a1c_11e9_8eb9_c49deda6369alevel0_row15\" class=\"row_heading level0 row15\" >last_review</th> \n",
       "        <td id=\"T_eb4b859a_5a1c_11e9_8eb9_c49deda6369arow15_col0\" class=\"data row15 col0\" >0.186816</td> \n",
       "        <td id=\"T_eb4b859a_5a1c_11e9_8eb9_c49deda6369arow15_col1\" class=\"data row15 col1\" >2015-12-22</td> \n",
       "        <td id=\"T_eb4b859a_5a1c_11e9_8eb9_c49deda6369arow15_col2\" class=\"data row15 col2\" >2015-12-27</td> \n",
       "    </tr>    <tr> \n",
       "        <th id=\"T_eb4b859a_5a1c_11e9_8eb9_c49deda6369alevel0_row16\" class=\"row_heading level0 row16\" >first_review</th> \n",
       "        <td id=\"T_eb4b859a_5a1c_11e9_8eb9_c49deda6369arow16_col0\" class=\"data row16 col0\" >0.186816</td> \n",
       "        <td id=\"T_eb4b859a_5a1c_11e9_8eb9_c49deda6369arow16_col1\" class=\"data row16 col1\" >2015-12-14</td> \n",
       "        <td id=\"T_eb4b859a_5a1c_11e9_8eb9_c49deda6369arow16_col2\" class=\"data row16 col2\" >2015-05-31</td> \n",
       "    </tr>    <tr> \n",
       "        <th id=\"T_eb4b859a_5a1c_11e9_8eb9_c49deda6369alevel0_row17\" class=\"row_heading level0 row17\" >host_acceptance_rate</th> \n",
       "        <td id=\"T_eb4b859a_5a1c_11e9_8eb9_c49deda6369arow17_col0\" class=\"data row17 col0\" >0.16804</td> \n",
       "        <td id=\"T_eb4b859a_5a1c_11e9_8eb9_c49deda6369arow17_col1\" class=\"data row17 col1\" >100%</td> \n",
       "        <td id=\"T_eb4b859a_5a1c_11e9_8eb9_c49deda6369arow17_col2\" class=\"data row17 col2\" >100%</td> \n",
       "    </tr>    <tr> \n",
       "        <th id=\"T_eb4b859a_5a1c_11e9_8eb9_c49deda6369alevel0_row18\" class=\"row_heading level0 row18\" >host_response_rate</th> \n",
       "        <td id=\"T_eb4b859a_5a1c_11e9_8eb9_c49deda6369arow18_col0\" class=\"data row18 col0\" >0.13427</td> \n",
       "        <td id=\"T_eb4b859a_5a1c_11e9_8eb9_c49deda6369arow18_col1\" class=\"data row18 col1\" >100%</td> \n",
       "        <td id=\"T_eb4b859a_5a1c_11e9_8eb9_c49deda6369arow18_col2\" class=\"data row18 col2\" >100%</td> \n",
       "    </tr>    <tr> \n",
       "        <th id=\"T_eb4b859a_5a1c_11e9_8eb9_c49deda6369alevel0_row19\" class=\"row_heading level0 row19\" >host_response_time</th> \n",
       "        <td id=\"T_eb4b859a_5a1c_11e9_8eb9_c49deda6369arow19_col0\" class=\"data row19 col0\" >0.13427</td> \n",
       "        <td id=\"T_eb4b859a_5a1c_11e9_8eb9_c49deda6369arow19_col1\" class=\"data row19 col1\" >within an hour</td> \n",
       "        <td id=\"T_eb4b859a_5a1c_11e9_8eb9_c49deda6369arow19_col2\" class=\"data row19 col2\" >within a few hours</td> \n",
       "    </tr>    <tr> \n",
       "        <th id=\"T_eb4b859a_5a1c_11e9_8eb9_c49deda6369alevel0_row20\" class=\"row_heading level0 row20\" >neighbourhood</th> \n",
       "        <td id=\"T_eb4b859a_5a1c_11e9_8eb9_c49deda6369arow20_col0\" class=\"data row20 col0\" >0.129542</td> \n",
       "        <td id=\"T_eb4b859a_5a1c_11e9_8eb9_c49deda6369arow20_col1\" class=\"data row20 col1\" >Leschi</td> \n",
       "        <td id=\"T_eb4b859a_5a1c_11e9_8eb9_c49deda6369arow20_col2\" class=\"data row20 col2\" >International District</td> \n",
       "    </tr>    <tr> \n",
       "        <th id=\"T_eb4b859a_5a1c_11e9_8eb9_c49deda6369alevel0_row21\" class=\"row_heading level0 row21\" >medium_url</th> \n",
       "        <td id=\"T_eb4b859a_5a1c_11e9_8eb9_c49deda6369arow21_col0\" class=\"data row21 col0\" >0.124139</td> \n",
       "        <td id=\"T_eb4b859a_5a1c_11e9_8eb9_c49deda6369arow21_col1\" class=\"data row21 col1\" >https://a2.muscache.com/im/pictures/c20da659-81ab-4e3e-af3a-ef4fb69e8767.jpg?aki_policy=medium</td> \n",
       "        <td id=\"T_eb4b859a_5a1c_11e9_8eb9_c49deda6369arow21_col2\" class=\"data row21 col2\" >https://a0.muscache.com/im/pictures/83736492/479c84a0_original.jpg?aki_policy=medium</td> \n",
       "    </tr>    <tr> \n",
       "        <th id=\"T_eb4b859a_5a1c_11e9_8eb9_c49deda6369alevel0_row22\" class=\"row_heading level0 row22\" >thumbnail_url</th> \n",
       "        <td id=\"T_eb4b859a_5a1c_11e9_8eb9_c49deda6369arow22_col0\" class=\"data row22 col0\" >0.124139</td> \n",
       "        <td id=\"T_eb4b859a_5a1c_11e9_8eb9_c49deda6369arow22_col1\" class=\"data row22 col1\" >https://a2.muscache.com/ac/pictures/c20da659-81ab-4e3e-af3a-ef4fb69e8767.jpg?interpolation=lanczos-none&size=small&output-format=jpg&output-quality=70</td> \n",
       "        <td id=\"T_eb4b859a_5a1c_11e9_8eb9_c49deda6369arow22_col2\" class=\"data row22 col2\" >https://a0.muscache.com/ac/pictures/83736492/479c84a0_original.jpg?interpolation=lanczos-none&size=small&output-format=jpg&output-quality=70</td> \n",
       "    </tr>    <tr> \n",
       "        <th id=\"T_eb4b859a_5a1c_11e9_8eb9_c49deda6369alevel0_row23\" class=\"row_heading level0 row23\" >xl_picture_url</th> \n",
       "        <td id=\"T_eb4b859a_5a1c_11e9_8eb9_c49deda6369arow23_col0\" class=\"data row23 col0\" >0.124139</td> \n",
       "        <td id=\"T_eb4b859a_5a1c_11e9_8eb9_c49deda6369arow23_col1\" class=\"data row23 col1\" >https://a2.muscache.com/ac/pictures/c20da659-81ab-4e3e-af3a-ef4fb69e8767.jpg?interpolation=lanczos-none&size=x_large_cover&output-format=jpg&output-quality=70</td> \n",
       "        <td id=\"T_eb4b859a_5a1c_11e9_8eb9_c49deda6369arow23_col2\" class=\"data row23 col2\" >https://a0.muscache.com/ac/pictures/83736492/479c84a0_original.jpg?interpolation=lanczos-none&size=x_large_cover&output-format=jpg&output-quality=70</td> \n",
       "    </tr>    <tr> \n",
       "        <th id=\"T_eb4b859a_5a1c_11e9_8eb9_c49deda6369alevel0_row24\" class=\"row_heading level0 row24\" >host_neighbourhood</th> \n",
       "        <td id=\"T_eb4b859a_5a1c_11e9_8eb9_c49deda6369arow24_col0\" class=\"data row24 col0\" >0.0863164</td> \n",
       "        <td id=\"T_eb4b859a_5a1c_11e9_8eb9_c49deda6369arow24_col1\" class=\"data row24 col1\" >Leschi</td> \n",
       "        <td id=\"T_eb4b859a_5a1c_11e9_8eb9_c49deda6369arow24_col2\" class=\"data row24 col2\" >International District</td> \n",
       "    </tr>    <tr> \n",
       "        <th id=\"T_eb4b859a_5a1c_11e9_8eb9_c49deda6369alevel0_row25\" class=\"row_heading level0 row25\" >summary</th> \n",
       "        <td id=\"T_eb4b859a_5a1c_11e9_8eb9_c49deda6369arow25_col0\" class=\"data row25 col0\" >0.0432257</td> \n",
       "        <td id=\"T_eb4b859a_5a1c_11e9_8eb9_c49deda6369arow25_col1\" class=\"data row25 col1\" >Cozy 1 bedroom apartment at a lower level of our house in a beautiful area of Leschi. Just a short walk to Lake Washington, local restaurants, Starbucks, Leschi Market, marina, and the bus to downtown Seattle. Private entrance, free parking space.</td> \n",
       "        <td id=\"T_eb4b859a_5a1c_11e9_8eb9_c49deda6369arow25_col2\" class=\"data row25 col2\" >Newly renovated 1 bedroom. Walking Distance to everything: Light Rail, Stadiums, International District, Pike Market, and Capital Hill! I live here, but I'm gone so often that I can't enjoy it as much as I should. Everything is kept super clean.</td> \n",
       "    </tr>    <tr> \n",
       "        <th id=\"T_eb4b859a_5a1c_11e9_8eb9_c49deda6369alevel0_row26\" class=\"row_heading level0 row26\" >zipcode</th> \n",
       "        <td id=\"T_eb4b859a_5a1c_11e9_8eb9_c49deda6369arow26_col0\" class=\"data row26 col0\" >0.00607862</td> \n",
       "        <td id=\"T_eb4b859a_5a1c_11e9_8eb9_c49deda6369arow26_col1\" class=\"data row26 col1\" >98122</td> \n",
       "        <td id=\"T_eb4b859a_5a1c_11e9_8eb9_c49deda6369arow26_col2\" class=\"data row26 col2\" >98104</td> \n",
       "    </tr>    <tr> \n",
       "        <th id=\"T_eb4b859a_5a1c_11e9_8eb9_c49deda6369alevel0_row27\" class=\"row_heading level0 row27\" >host_location</th> \n",
       "        <td id=\"T_eb4b859a_5a1c_11e9_8eb9_c49deda6369arow27_col0\" class=\"data row27 col0\" >0.00256653</td> \n",
       "        <td id=\"T_eb4b859a_5a1c_11e9_8eb9_c49deda6369arow27_col1\" class=\"data row27 col1\" >Seattle, Washington, United States</td> \n",
       "        <td id=\"T_eb4b859a_5a1c_11e9_8eb9_c49deda6369arow27_col2\" class=\"data row27 col2\" >Seattle, Washington, United States</td> \n",
       "    </tr>    <tr> \n",
       "        <th id=\"T_eb4b859a_5a1c_11e9_8eb9_c49deda6369alevel0_row28\" class=\"row_heading level0 row28\" >market</th> \n",
       "        <td id=\"T_eb4b859a_5a1c_11e9_8eb9_c49deda6369arow28_col0\" class=\"data row28 col0\" >0.00189113</td> \n",
       "        <td id=\"T_eb4b859a_5a1c_11e9_8eb9_c49deda6369arow28_col1\" class=\"data row28 col1\" >Seattle</td> \n",
       "        <td id=\"T_eb4b859a_5a1c_11e9_8eb9_c49deda6369arow28_col2\" class=\"data row28 col2\" >Seattle</td> \n",
       "    </tr>    <tr> \n",
       "        <th id=\"T_eb4b859a_5a1c_11e9_8eb9_c49deda6369alevel0_row29\" class=\"row_heading level0 row29\" >property_type</th> \n",
       "        <td id=\"T_eb4b859a_5a1c_11e9_8eb9_c49deda6369arow29_col0\" class=\"data row29 col0\" >0.000540321</td> \n",
       "        <td id=\"T_eb4b859a_5a1c_11e9_8eb9_c49deda6369arow29_col1\" class=\"data row29 col1\" >House</td> \n",
       "        <td id=\"T_eb4b859a_5a1c_11e9_8eb9_c49deda6369arow29_col2\" class=\"data row29 col2\" >Apartment</td> \n",
       "    </tr>    <tr> \n",
       "        <th id=\"T_eb4b859a_5a1c_11e9_8eb9_c49deda6369alevel0_row30\" class=\"row_heading level0 row30\" >host_thumbnail_url</th> \n",
       "        <td id=\"T_eb4b859a_5a1c_11e9_8eb9_c49deda6369arow30_col0\" class=\"data row30 col0\" >0.000270161</td> \n",
       "        <td id=\"T_eb4b859a_5a1c_11e9_8eb9_c49deda6369arow30_col1\" class=\"data row30 col1\" >https://a2.muscache.com/ac/pictures/932227bb-5b65-4811-a213-3bea316d0771.jpg?interpolation=lanczos-none&crop=w:w;*,*&crop=h:h;*,*&resize=50:*&output-format=jpg&output-quality=70</td> \n",
       "        <td id=\"T_eb4b859a_5a1c_11e9_8eb9_c49deda6369arow30_col2\" class=\"data row30 col2\" >https://a0.muscache.com/ac/users/9858405/profile_pic/1418877900/original.jpg?interpolation=lanczos-none&crop=w:w;*,*&crop=h:h;*,*&resize=50:*&output-format=jpg&output-quality=70</td> \n",
       "    </tr>    <tr> \n",
       "        <th id=\"T_eb4b859a_5a1c_11e9_8eb9_c49deda6369alevel0_row31\" class=\"row_heading level0 row31\" >host_has_profile_pic</th> \n",
       "        <td id=\"T_eb4b859a_5a1c_11e9_8eb9_c49deda6369arow31_col0\" class=\"data row31 col0\" >0.000270161</td> \n",
       "        <td id=\"T_eb4b859a_5a1c_11e9_8eb9_c49deda6369arow31_col1\" class=\"data row31 col1\" >t</td> \n",
       "        <td id=\"T_eb4b859a_5a1c_11e9_8eb9_c49deda6369arow31_col2\" class=\"data row31 col2\" >t</td> \n",
       "    </tr>    <tr> \n",
       "        <th id=\"T_eb4b859a_5a1c_11e9_8eb9_c49deda6369alevel0_row32\" class=\"row_heading level0 row32\" >host_identity_verified</th> \n",
       "        <td id=\"T_eb4b859a_5a1c_11e9_8eb9_c49deda6369arow32_col0\" class=\"data row32 col0\" >0.000270161</td> \n",
       "        <td id=\"T_eb4b859a_5a1c_11e9_8eb9_c49deda6369arow32_col1\" class=\"data row32 col1\" >t</td> \n",
       "        <td id=\"T_eb4b859a_5a1c_11e9_8eb9_c49deda6369arow32_col2\" class=\"data row32 col2\" >t</td> \n",
       "    </tr>    <tr> \n",
       "        <th id=\"T_eb4b859a_5a1c_11e9_8eb9_c49deda6369alevel0_row33\" class=\"row_heading level0 row33\" >city</th> \n",
       "        <td id=\"T_eb4b859a_5a1c_11e9_8eb9_c49deda6369arow33_col0\" class=\"data row33 col0\" >0.000270161</td> \n",
       "        <td id=\"T_eb4b859a_5a1c_11e9_8eb9_c49deda6369arow33_col1\" class=\"data row33 col1\" >Seattle</td> \n",
       "        <td id=\"T_eb4b859a_5a1c_11e9_8eb9_c49deda6369arow33_col2\" class=\"data row33 col2\" >Seattle</td> \n",
       "    </tr>    <tr> \n",
       "        <th id=\"T_eb4b859a_5a1c_11e9_8eb9_c49deda6369alevel0_row34\" class=\"row_heading level0 row34\" >host_is_superhost</th> \n",
       "        <td id=\"T_eb4b859a_5a1c_11e9_8eb9_c49deda6369arow34_col0\" class=\"data row34 col0\" >0.000270161</td> \n",
       "        <td id=\"T_eb4b859a_5a1c_11e9_8eb9_c49deda6369arow34_col1\" class=\"data row34 col1\" >f</td> \n",
       "        <td id=\"T_eb4b859a_5a1c_11e9_8eb9_c49deda6369arow34_col2\" class=\"data row34 col2\" >f</td> \n",
       "    </tr>    <tr> \n",
       "        <th id=\"T_eb4b859a_5a1c_11e9_8eb9_c49deda6369alevel0_row35\" class=\"row_heading level0 row35\" >host_name</th> \n",
       "        <td id=\"T_eb4b859a_5a1c_11e9_8eb9_c49deda6369arow35_col0\" class=\"data row35 col0\" >0.000270161</td> \n",
       "        <td id=\"T_eb4b859a_5a1c_11e9_8eb9_c49deda6369arow35_col1\" class=\"data row35 col1\" >Paul & Izabela</td> \n",
       "        <td id=\"T_eb4b859a_5a1c_11e9_8eb9_c49deda6369arow35_col2\" class=\"data row35 col2\" >Kahyee</td> \n",
       "    </tr>    <tr> \n",
       "        <th id=\"T_eb4b859a_5a1c_11e9_8eb9_c49deda6369alevel0_row36\" class=\"row_heading level0 row36\" >host_picture_url</th> \n",
       "        <td id=\"T_eb4b859a_5a1c_11e9_8eb9_c49deda6369arow36_col0\" class=\"data row36 col0\" >0.000270161</td> \n",
       "        <td id=\"T_eb4b859a_5a1c_11e9_8eb9_c49deda6369arow36_col1\" class=\"data row36 col1\" >https://a2.muscache.com/ac/pictures/932227bb-5b65-4811-a213-3bea316d0771.jpg?interpolation=lanczos-none&crop=w:w;*,*&crop=h:h;*,*&resize=225:*&output-format=jpg&output-quality=70</td> \n",
       "        <td id=\"T_eb4b859a_5a1c_11e9_8eb9_c49deda6369arow36_col2\" class=\"data row36 col2\" >https://a0.muscache.com/ac/users/9858405/profile_pic/1418877900/original.jpg?interpolation=lanczos-none&crop=w:w;*,*&crop=h:h;*,*&resize=225:*&output-format=jpg&output-quality=70</td> \n",
       "    </tr>    <tr> \n",
       "        <th id=\"T_eb4b859a_5a1c_11e9_8eb9_c49deda6369alevel0_row37\" class=\"row_heading level0 row37\" >host_since</th> \n",
       "        <td id=\"T_eb4b859a_5a1c_11e9_8eb9_c49deda6369arow37_col0\" class=\"data row37 col0\" >0.000270161</td> \n",
       "        <td id=\"T_eb4b859a_5a1c_11e9_8eb9_c49deda6369arow37_col1\" class=\"data row37 col1\" >2015-11-17</td> \n",
       "        <td id=\"T_eb4b859a_5a1c_11e9_8eb9_c49deda6369arow37_col2\" class=\"data row37 col2\" >2013-11-06</td> \n",
       "    </tr>    <tr> \n",
       "        <th id=\"T_eb4b859a_5a1c_11e9_8eb9_c49deda6369alevel0_row38\" class=\"row_heading level0 row38\" >cancellation_policy</th> \n",
       "        <td id=\"T_eb4b859a_5a1c_11e9_8eb9_c49deda6369arow38_col0\" class=\"data row38 col0\" >0</td> \n",
       "        <td id=\"T_eb4b859a_5a1c_11e9_8eb9_c49deda6369arow38_col1\" class=\"data row38 col1\" >flexible</td> \n",
       "        <td id=\"T_eb4b859a_5a1c_11e9_8eb9_c49deda6369arow38_col2\" class=\"data row38 col2\" >flexible</td> \n",
       "    </tr>    <tr> \n",
       "        <th id=\"T_eb4b859a_5a1c_11e9_8eb9_c49deda6369alevel0_row39\" class=\"row_heading level0 row39\" >calendar_updated</th> \n",
       "        <td id=\"T_eb4b859a_5a1c_11e9_8eb9_c49deda6369arow39_col0\" class=\"data row39 col0\" >0</td> \n",
       "        <td id=\"T_eb4b859a_5a1c_11e9_8eb9_c49deda6369arow39_col1\" class=\"data row39 col1\" >2 days ago</td> \n",
       "        <td id=\"T_eb4b859a_5a1c_11e9_8eb9_c49deda6369arow39_col2\" class=\"data row39 col2\" >3 weeks ago</td> \n",
       "    </tr>    <tr> \n",
       "        <th id=\"T_eb4b859a_5a1c_11e9_8eb9_c49deda6369alevel0_row40\" class=\"row_heading level0 row40\" >require_guest_profile_picture</th> \n",
       "        <td id=\"T_eb4b859a_5a1c_11e9_8eb9_c49deda6369arow40_col0\" class=\"data row40 col0\" >0</td> \n",
       "        <td id=\"T_eb4b859a_5a1c_11e9_8eb9_c49deda6369arow40_col1\" class=\"data row40 col1\" >f</td> \n",
       "        <td id=\"T_eb4b859a_5a1c_11e9_8eb9_c49deda6369arow40_col2\" class=\"data row40 col2\" >f</td> \n",
       "    </tr>    <tr> \n",
       "        <th id=\"T_eb4b859a_5a1c_11e9_8eb9_c49deda6369alevel0_row41\" class=\"row_heading level0 row41\" >calendar_last_scraped</th> \n",
       "        <td id=\"T_eb4b859a_5a1c_11e9_8eb9_c49deda6369arow41_col0\" class=\"data row41 col0\" >0</td> \n",
       "        <td id=\"T_eb4b859a_5a1c_11e9_8eb9_c49deda6369arow41_col1\" class=\"data row41 col1\" >2016-01-04</td> \n",
       "        <td id=\"T_eb4b859a_5a1c_11e9_8eb9_c49deda6369arow41_col2\" class=\"data row41 col2\" >2016-01-04</td> \n",
       "    </tr>    <tr> \n",
       "        <th id=\"T_eb4b859a_5a1c_11e9_8eb9_c49deda6369alevel0_row42\" class=\"row_heading level0 row42\" >street</th> \n",
       "        <td id=\"T_eb4b859a_5a1c_11e9_8eb9_c49deda6369arow42_col0\" class=\"data row42 col0\" >0</td> \n",
       "        <td id=\"T_eb4b859a_5a1c_11e9_8eb9_c49deda6369arow42_col1\" class=\"data row42 col1\" >Euclid Avenue, Seattle, WA 98122, United States</td> \n",
       "        <td id=\"T_eb4b859a_5a1c_11e9_8eb9_c49deda6369arow42_col2\" class=\"data row42 col2\" >6th Avenue South, Seattle, WA 98104, United States</td> \n",
       "    </tr>    <tr> \n",
       "        <th id=\"T_eb4b859a_5a1c_11e9_8eb9_c49deda6369alevel0_row43\" class=\"row_heading level0 row43\" >state</th> \n",
       "        <td id=\"T_eb4b859a_5a1c_11e9_8eb9_c49deda6369arow43_col0\" class=\"data row43 col0\" >0</td> \n",
       "        <td id=\"T_eb4b859a_5a1c_11e9_8eb9_c49deda6369arow43_col1\" class=\"data row43 col1\" >WA</td> \n",
       "        <td id=\"T_eb4b859a_5a1c_11e9_8eb9_c49deda6369arow43_col2\" class=\"data row43 col2\" >WA</td> \n",
       "    </tr>    <tr> \n",
       "        <th id=\"T_eb4b859a_5a1c_11e9_8eb9_c49deda6369alevel0_row44\" class=\"row_heading level0 row44\" >country</th> \n",
       "        <td id=\"T_eb4b859a_5a1c_11e9_8eb9_c49deda6369arow44_col0\" class=\"data row44 col0\" >0</td> \n",
       "        <td id=\"T_eb4b859a_5a1c_11e9_8eb9_c49deda6369arow44_col1\" class=\"data row44 col1\" >United States</td> \n",
       "        <td id=\"T_eb4b859a_5a1c_11e9_8eb9_c49deda6369arow44_col2\" class=\"data row44 col2\" >United States</td> \n",
       "    </tr>    <tr> \n",
       "        <th id=\"T_eb4b859a_5a1c_11e9_8eb9_c49deda6369alevel0_row45\" class=\"row_heading level0 row45\" >smart_location</th> \n",
       "        <td id=\"T_eb4b859a_5a1c_11e9_8eb9_c49deda6369arow45_col0\" class=\"data row45 col0\" >0</td> \n",
       "        <td id=\"T_eb4b859a_5a1c_11e9_8eb9_c49deda6369arow45_col1\" class=\"data row45 col1\" >Seattle, WA</td> \n",
       "        <td id=\"T_eb4b859a_5a1c_11e9_8eb9_c49deda6369arow45_col2\" class=\"data row45 col2\" >Seattle, WA</td> \n",
       "    </tr>    <tr> \n",
       "        <th id=\"T_eb4b859a_5a1c_11e9_8eb9_c49deda6369alevel0_row46\" class=\"row_heading level0 row46\" >country_code</th> \n",
       "        <td id=\"T_eb4b859a_5a1c_11e9_8eb9_c49deda6369arow46_col0\" class=\"data row46 col0\" >0</td> \n",
       "        <td id=\"T_eb4b859a_5a1c_11e9_8eb9_c49deda6369arow46_col1\" class=\"data row46 col1\" >US</td> \n",
       "        <td id=\"T_eb4b859a_5a1c_11e9_8eb9_c49deda6369arow46_col2\" class=\"data row46 col2\" >US</td> \n",
       "    </tr>    <tr> \n",
       "        <th id=\"T_eb4b859a_5a1c_11e9_8eb9_c49deda6369alevel0_row47\" class=\"row_heading level0 row47\" >rowsource</th> \n",
       "        <td id=\"T_eb4b859a_5a1c_11e9_8eb9_c49deda6369arow47_col0\" class=\"data row47 col0\" >0</td> \n",
       "        <td id=\"T_eb4b859a_5a1c_11e9_8eb9_c49deda6369arow47_col1\" class=\"data row47 col1\" >data\\seattle\\listings.csv</td> \n",
       "        <td id=\"T_eb4b859a_5a1c_11e9_8eb9_c49deda6369arow47_col2\" class=\"data row47 col2\" >data\\seattle\\listings.csv</td> \n",
       "    </tr>    <tr> \n",
       "        <th id=\"T_eb4b859a_5a1c_11e9_8eb9_c49deda6369alevel0_row48\" class=\"row_heading level0 row48\" >room_type</th> \n",
       "        <td id=\"T_eb4b859a_5a1c_11e9_8eb9_c49deda6369arow48_col0\" class=\"data row48 col0\" >0</td> \n",
       "        <td id=\"T_eb4b859a_5a1c_11e9_8eb9_c49deda6369arow48_col1\" class=\"data row48 col1\" >Entire home/apt</td> \n",
       "        <td id=\"T_eb4b859a_5a1c_11e9_8eb9_c49deda6369arow48_col2\" class=\"data row48 col2\" >Entire home/apt</td> \n",
       "    </tr>    <tr> \n",
       "        <th id=\"T_eb4b859a_5a1c_11e9_8eb9_c49deda6369alevel0_row49\" class=\"row_heading level0 row49\" >bed_type</th> \n",
       "        <td id=\"T_eb4b859a_5a1c_11e9_8eb9_c49deda6369arow49_col0\" class=\"data row49 col0\" >0</td> \n",
       "        <td id=\"T_eb4b859a_5a1c_11e9_8eb9_c49deda6369arow49_col1\" class=\"data row49 col1\" >Real Bed</td> \n",
       "        <td id=\"T_eb4b859a_5a1c_11e9_8eb9_c49deda6369arow49_col2\" class=\"data row49 col2\" >Real Bed</td> \n",
       "    </tr>    <tr> \n",
       "        <th id=\"T_eb4b859a_5a1c_11e9_8eb9_c49deda6369alevel0_row50\" class=\"row_heading level0 row50\" >requires_license</th> \n",
       "        <td id=\"T_eb4b859a_5a1c_11e9_8eb9_c49deda6369arow50_col0\" class=\"data row50 col0\" >0</td> \n",
       "        <td id=\"T_eb4b859a_5a1c_11e9_8eb9_c49deda6369arow50_col1\" class=\"data row50 col1\" >f</td> \n",
       "        <td id=\"T_eb4b859a_5a1c_11e9_8eb9_c49deda6369arow50_col2\" class=\"data row50 col2\" >f</td> \n",
       "    </tr>    <tr> \n",
       "        <th id=\"T_eb4b859a_5a1c_11e9_8eb9_c49deda6369alevel0_row51\" class=\"row_heading level0 row51\" >description</th> \n",
       "        <td id=\"T_eb4b859a_5a1c_11e9_8eb9_c49deda6369arow51_col0\" class=\"data row51 col0\" >0</td> \n",
       "        <td id=\"T_eb4b859a_5a1c_11e9_8eb9_c49deda6369arow51_col1\" class=\"data row51 col1\" >Cozy 1 bedroom apartment at a lower level of our house in a beautiful area of Leschi. Just a short walk to Lake Washington, local restaurants, Starbucks, Leschi Market, marina, and the bus to downtown Seattle. Private entrance, free parking space. It's a cozy 1 bedroom apartment with a private entrance and free parking space. The living room has a pull out couch, table with chairs, a comfy arm chair, piano, TV. The bedroom has a queen size bed, closet, dresser, and a small sofa. The apartment is on a lower level/basement of our house, it has 8' ceilings, plenty of light, lots of windows facing the garden. The bathroom has a shower, no tub. Laundry room has a washer and dryer. The living room has a studio kitchen with full size fridge, sink, stove, cabinets. Make yourself at home! Enjoy the apartment downstairs as well as our garden and patio in the backyard. We'll be happy to answer any questions you might have, give you directions and suggest interesting places to visit in Seattle and</td> \n",
       "        <td id=\"T_eb4b859a_5a1c_11e9_8eb9_c49deda6369arow51_col2\" class=\"data row51 col2\" >Newly renovated 1 bedroom. Walking Distance to everything: Light Rail, Stadiums, International District, Pike Market, and Capital Hill! I live here, but I'm gone so often that I can't enjoy it as much as I should. Everything is kept super clean. It's a nice remodeled one bedroom apartment with high ceilings. There is a full kitchen with brand new appliances. The bedroom itself is large with a king sized bed. The living room has a large bean bag chair and a TV and Roku attached(Netflix, Amazon Prime, WatchESPN). There is an air mattress available if required (This is the second bed). Also, while there is no air conditioning, I do have a standing fan that does a pretty good job. I will not be in the apartment, but I will make sure to be accessible via text or phone call. Don't hesitate to ask  me if you need anything! In the middle of everything. Walking distance to the stadiums, the International District, Pike Market, and Capitol Hill. Very close to the light rail station which goes st</td> \n",
       "    </tr>    <tr> \n",
       "        <th id=\"T_eb4b859a_5a1c_11e9_8eb9_c49deda6369alevel0_row52\" class=\"row_heading level0 row52\" >require_guest_phone_verification</th> \n",
       "        <td id=\"T_eb4b859a_5a1c_11e9_8eb9_c49deda6369arow52_col0\" class=\"data row52 col0\" >0</td> \n",
       "        <td id=\"T_eb4b859a_5a1c_11e9_8eb9_c49deda6369arow52_col1\" class=\"data row52 col1\" >f</td> \n",
       "        <td id=\"T_eb4b859a_5a1c_11e9_8eb9_c49deda6369arow52_col2\" class=\"data row52 col2\" >f</td> \n",
       "    </tr>    <tr> \n",
       "        <th id=\"T_eb4b859a_5a1c_11e9_8eb9_c49deda6369alevel0_row53\" class=\"row_heading level0 row53\" >price</th> \n",
       "        <td id=\"T_eb4b859a_5a1c_11e9_8eb9_c49deda6369arow53_col0\" class=\"data row53 col0\" >0</td> \n",
       "        <td id=\"T_eb4b859a_5a1c_11e9_8eb9_c49deda6369arow53_col1\" class=\"data row53 col1\" >$66.00</td> \n",
       "        <td id=\"T_eb4b859a_5a1c_11e9_8eb9_c49deda6369arow53_col2\" class=\"data row53 col2\" >$160.00</td> \n",
       "    </tr>    <tr> \n",
       "        <th id=\"T_eb4b859a_5a1c_11e9_8eb9_c49deda6369alevel0_row54\" class=\"row_heading level0 row54\" >picture_url</th> \n",
       "        <td id=\"T_eb4b859a_5a1c_11e9_8eb9_c49deda6369arow54_col0\" class=\"data row54 col0\" >0</td> \n",
       "        <td id=\"T_eb4b859a_5a1c_11e9_8eb9_c49deda6369arow54_col1\" class=\"data row54 col1\" >https://a2.muscache.com/ac/pictures/c20da659-81ab-4e3e-af3a-ef4fb69e8767.jpg?interpolation=lanczos-none&size=large_cover&output-format=jpg&output-quality=70</td> \n",
       "        <td id=\"T_eb4b859a_5a1c_11e9_8eb9_c49deda6369arow54_col2\" class=\"data row54 col2\" >https://a0.muscache.com/ac/pictures/83736492/479c84a0_original.jpg?interpolation=lanczos-none&size=large_cover&output-format=jpg&output-quality=70</td> \n",
       "    </tr>    <tr> \n",
       "        <th id=\"T_eb4b859a_5a1c_11e9_8eb9_c49deda6369alevel0_row55\" class=\"row_heading level0 row55\" >host_url</th> \n",
       "        <td id=\"T_eb4b859a_5a1c_11e9_8eb9_c49deda6369arow55_col0\" class=\"data row55 col0\" >0</td> \n",
       "        <td id=\"T_eb4b859a_5a1c_11e9_8eb9_c49deda6369arow55_col1\" class=\"data row55 col1\" >https://www.airbnb.com/users/show/49292151</td> \n",
       "        <td id=\"T_eb4b859a_5a1c_11e9_8eb9_c49deda6369arow55_col2\" class=\"data row55 col2\" >https://www.airbnb.com/users/show/9858405</td> \n",
       "    </tr>    <tr> \n",
       "        <th id=\"T_eb4b859a_5a1c_11e9_8eb9_c49deda6369alevel0_row56\" class=\"row_heading level0 row56\" >experiences_offered</th> \n",
       "        <td id=\"T_eb4b859a_5a1c_11e9_8eb9_c49deda6369arow56_col0\" class=\"data row56 col0\" >0</td> \n",
       "        <td id=\"T_eb4b859a_5a1c_11e9_8eb9_c49deda6369arow56_col1\" class=\"data row56 col1\" >none</td> \n",
       "        <td id=\"T_eb4b859a_5a1c_11e9_8eb9_c49deda6369arow56_col2\" class=\"data row56 col2\" >none</td> \n",
       "    </tr>    <tr> \n",
       "        <th id=\"T_eb4b859a_5a1c_11e9_8eb9_c49deda6369alevel0_row57\" class=\"row_heading level0 row57\" >neighbourhood_cleansed</th> \n",
       "        <td id=\"T_eb4b859a_5a1c_11e9_8eb9_c49deda6369arow57_col0\" class=\"data row57 col0\" >0</td> \n",
       "        <td id=\"T_eb4b859a_5a1c_11e9_8eb9_c49deda6369arow57_col1\" class=\"data row57 col1\" >Leschi</td> \n",
       "        <td id=\"T_eb4b859a_5a1c_11e9_8eb9_c49deda6369arow57_col2\" class=\"data row57 col2\" >Pioneer Square</td> \n",
       "    </tr>    <tr> \n",
       "        <th id=\"T_eb4b859a_5a1c_11e9_8eb9_c49deda6369alevel0_row58\" class=\"row_heading level0 row58\" >extra_people</th> \n",
       "        <td id=\"T_eb4b859a_5a1c_11e9_8eb9_c49deda6369arow58_col0\" class=\"data row58 col0\" >0</td> \n",
       "        <td id=\"T_eb4b859a_5a1c_11e9_8eb9_c49deda6369arow58_col1\" class=\"data row58 col1\" >$15.00</td> \n",
       "        <td id=\"T_eb4b859a_5a1c_11e9_8eb9_c49deda6369arow58_col2\" class=\"data row58 col2\" >$0.00</td> \n",
       "    </tr>    <tr> \n",
       "        <th id=\"T_eb4b859a_5a1c_11e9_8eb9_c49deda6369alevel0_row59\" class=\"row_heading level0 row59\" >name</th> \n",
       "        <td id=\"T_eb4b859a_5a1c_11e9_8eb9_c49deda6369arow59_col0\" class=\"data row59 col0\" >0</td> \n",
       "        <td id=\"T_eb4b859a_5a1c_11e9_8eb9_c49deda6369arow59_col1\" class=\"data row59 col1\" >1 bedroom apt in Seattle/Leschi</td> \n",
       "        <td id=\"T_eb4b859a_5a1c_11e9_8eb9_c49deda6369arow59_col2\" class=\"data row59 col2\" >Awesome Pioneer Square Apartment</td> \n",
       "    </tr>    <tr> \n",
       "        <th id=\"T_eb4b859a_5a1c_11e9_8eb9_c49deda6369alevel0_row60\" class=\"row_heading level0 row60\" >listing_url</th> \n",
       "        <td id=\"T_eb4b859a_5a1c_11e9_8eb9_c49deda6369arow60_col0\" class=\"data row60 col0\" >0</td> \n",
       "        <td id=\"T_eb4b859a_5a1c_11e9_8eb9_c49deda6369arow60_col1\" class=\"data row60 col1\" >https://www.airbnb.com/rooms/9512909</td> \n",
       "        <td id=\"T_eb4b859a_5a1c_11e9_8eb9_c49deda6369arow60_col2\" class=\"data row60 col2\" >https://www.airbnb.com/rooms/6555128</td> \n",
       "    </tr>    <tr> \n",
       "        <th id=\"T_eb4b859a_5a1c_11e9_8eb9_c49deda6369alevel0_row61\" class=\"row_heading level0 row61\" >last_scraped</th> \n",
       "        <td id=\"T_eb4b859a_5a1c_11e9_8eb9_c49deda6369arow61_col0\" class=\"data row61 col0\" >0</td> \n",
       "        <td id=\"T_eb4b859a_5a1c_11e9_8eb9_c49deda6369arow61_col1\" class=\"data row61 col1\" >2016-01-04</td> \n",
       "        <td id=\"T_eb4b859a_5a1c_11e9_8eb9_c49deda6369arow61_col2\" class=\"data row61 col2\" >2016-01-04</td> \n",
       "    </tr>    <tr> \n",
       "        <th id=\"T_eb4b859a_5a1c_11e9_8eb9_c49deda6369alevel0_row62\" class=\"row_heading level0 row62\" >amenities</th> \n",
       "        <td id=\"T_eb4b859a_5a1c_11e9_8eb9_c49deda6369arow62_col0\" class=\"data row62 col0\" >0</td> \n",
       "        <td id=\"T_eb4b859a_5a1c_11e9_8eb9_c49deda6369arow62_col1\" class=\"data row62 col1\" >{TV,\"Cable TV\",Internet,\"Wireless Internet\",Kitchen,\"Free Parking on Premises\",\"Pets live on this property\",Cat(s),Heating,\"Family/Kid Friendly\",Washer,Dryer,\"Smoke Detector\",\"Carbon Monoxide Detector\",\"First Aid Kit\",\"Safety Card\",\"Fire Extinguisher\",Essentials,Shampoo,Hangers,\"Hair Dryer\",Iron,\"Laptop Friendly Workspace\"}</td> \n",
       "        <td id=\"T_eb4b859a_5a1c_11e9_8eb9_c49deda6369arow62_col2\" class=\"data row62 col2\" >{TV,Internet,\"Wireless Internet\",Kitchen,\"Elevator in Building\",\"Buzzer/Wireless Intercom\",Heating,Washer,Dryer,\"Smoke Detector\",\"Carbon Monoxide Detector\",Essentials,Shampoo}</td> \n",
       "    </tr>    <tr> \n",
       "        <th id=\"T_eb4b859a_5a1c_11e9_8eb9_c49deda6369alevel0_row63\" class=\"row_heading level0 row63\" >instant_bookable</th> \n",
       "        <td id=\"T_eb4b859a_5a1c_11e9_8eb9_c49deda6369arow63_col0\" class=\"data row63 col0\" >0</td> \n",
       "        <td id=\"T_eb4b859a_5a1c_11e9_8eb9_c49deda6369arow63_col1\" class=\"data row63 col1\" >t</td> \n",
       "        <td id=\"T_eb4b859a_5a1c_11e9_8eb9_c49deda6369arow63_col2\" class=\"data row63 col2\" >f</td> \n",
       "    </tr>    <tr> \n",
       "        <th id=\"T_eb4b859a_5a1c_11e9_8eb9_c49deda6369alevel0_row64\" class=\"row_heading level0 row64\" >host_verifications</th> \n",
       "        <td id=\"T_eb4b859a_5a1c_11e9_8eb9_c49deda6369arow64_col0\" class=\"data row64 col0\" >0</td> \n",
       "        <td id=\"T_eb4b859a_5a1c_11e9_8eb9_c49deda6369arow64_col1\" class=\"data row64 col1\" >['email', 'phone', 'facebook', 'amex', 'reviews', 'jumio']</td> \n",
       "        <td id=\"T_eb4b859a_5a1c_11e9_8eb9_c49deda6369arow64_col2\" class=\"data row64 col2\" >['email', 'phone', 'reviews', 'jumio']</td> \n",
       "    </tr>    <tr> \n",
       "        <th id=\"T_eb4b859a_5a1c_11e9_8eb9_c49deda6369alevel0_row65\" class=\"row_heading level0 row65\" >is_location_exact</th> \n",
       "        <td id=\"T_eb4b859a_5a1c_11e9_8eb9_c49deda6369arow65_col0\" class=\"data row65 col0\" >0</td> \n",
       "        <td id=\"T_eb4b859a_5a1c_11e9_8eb9_c49deda6369arow65_col1\" class=\"data row65 col1\" >t</td> \n",
       "        <td id=\"T_eb4b859a_5a1c_11e9_8eb9_c49deda6369arow65_col2\" class=\"data row65 col2\" >t</td> \n",
       "    </tr></tbody> \n",
       "</table> "
      ],
      "text/plain": [
       "<pandas.io.formats.style.Styler at 0x180443b9b70>"
      ]
     },
     "execution_count": 30,
     "metadata": {},
     "output_type": "execute_result"
    }
   ],
   "source": [
    "# listings first 5 lines\n",
    "pd.options.display.max_rows = 100\n",
    "listings.select_dtypes(include=object).dropna(axis=0, how='all').sample(2).T\\\n",
    "    .merge(missing_pct.to_frame('missing'), left_index=True, right_index=True, how='left')\\\n",
    "    .iloc[:, [2,0,1]].sort_values('missing', ascending=False).style.bar()"
   ]
  },
  {
   "cell_type": "markdown",
   "metadata": {},
   "source": [
    "#### Listings: Non-Object Features"
   ]
  },
  {
   "cell_type": "code",
   "execution_count": 31,
   "metadata": {},
   "outputs": [
    {
     "data": {
      "text/html": [
       "<style  type=\"text/css\" >\n",
       "    #T_eb6a4074_5a1c_11e9_9b0a_c49deda6369arow0_col0 {\n",
       "            width:  10em;\n",
       "             height:  80%;\n",
       "            background:  linear-gradient(90deg,#d65f5f 100.0%, transparent 0%);\n",
       "        }    #T_eb6a4074_5a1c_11e9_9b0a_c49deda6369arow1_col0 {\n",
       "            width:  10em;\n",
       "             height:  80%;\n",
       "            background:  linear-gradient(90deg,#d65f5f 97.9%, transparent 0%);\n",
       "        }    #T_eb6a4074_5a1c_11e9_9b0a_c49deda6369arow2_col0 {\n",
       "            width:  10em;\n",
       "             height:  80%;\n",
       "            background:  linear-gradient(90deg,#d65f5f 20.0%, transparent 0%);\n",
       "        }    #T_eb6a4074_5a1c_11e9_9b0a_c49deda6369arow3_col0 {\n",
       "            width:  10em;\n",
       "             height:  80%;\n",
       "            background:  linear-gradient(90deg,#d65f5f 20.0%, transparent 0%);\n",
       "        }    #T_eb6a4074_5a1c_11e9_9b0a_c49deda6369arow4_col0 {\n",
       "            width:  10em;\n",
       "             height:  80%;\n",
       "            background:  linear-gradient(90deg,#d65f5f 20.0%, transparent 0%);\n",
       "        }    #T_eb6a4074_5a1c_11e9_9b0a_c49deda6369arow5_col0 {\n",
       "            width:  10em;\n",
       "             height:  80%;\n",
       "            background:  linear-gradient(90deg,#d65f5f 20.0%, transparent 0%);\n",
       "        }    #T_eb6a4074_5a1c_11e9_9b0a_c49deda6369arow6_col0 {\n",
       "            width:  10em;\n",
       "             height:  80%;\n",
       "            background:  linear-gradient(90deg,#d65f5f 19.9%, transparent 0%);\n",
       "        }    #T_eb6a4074_5a1c_11e9_9b0a_c49deda6369arow7_col0 {\n",
       "            width:  10em;\n",
       "             height:  80%;\n",
       "            background:  linear-gradient(90deg,#d65f5f 19.8%, transparent 0%);\n",
       "        }    #T_eb6a4074_5a1c_11e9_9b0a_c49deda6369arow8_col0 {\n",
       "            width:  10em;\n",
       "             height:  80%;\n",
       "            background:  linear-gradient(90deg,#d65f5f 19.7%, transparent 0%);\n",
       "        }    #T_eb6a4074_5a1c_11e9_9b0a_c49deda6369arow9_col0 {\n",
       "            width:  10em;\n",
       "             height:  80%;\n",
       "            background:  linear-gradient(90deg,#d65f5f 18.7%, transparent 0%);\n",
       "        }    #T_eb6a4074_5a1c_11e9_9b0a_c49deda6369arow10_col0 {\n",
       "            width:  10em;\n",
       "             height:  80%;\n",
       "            background:  linear-gradient(90deg,#d65f5f 0.4%, transparent 0%);\n",
       "        }    #T_eb6a4074_5a1c_11e9_9b0a_c49deda6369arow11_col0 {\n",
       "            width:  10em;\n",
       "             height:  80%;\n",
       "            background:  linear-gradient(90deg,#d65f5f 0.2%, transparent 0%);\n",
       "        }    #T_eb6a4074_5a1c_11e9_9b0a_c49deda6369arow12_col0 {\n",
       "            width:  10em;\n",
       "             height:  80%;\n",
       "            background:  linear-gradient(90deg,#d65f5f 0.1%, transparent 0%);\n",
       "        }    #T_eb6a4074_5a1c_11e9_9b0a_c49deda6369arow13_col0 {\n",
       "            width:  10em;\n",
       "             height:  80%;\n",
       "            background:  linear-gradient(90deg,#d65f5f 0.0%, transparent 0%);\n",
       "        }    #T_eb6a4074_5a1c_11e9_9b0a_c49deda6369arow14_col0 {\n",
       "            width:  10em;\n",
       "             height:  80%;\n",
       "            background:  linear-gradient(90deg,#d65f5f 0.0%, transparent 0%);\n",
       "        }    #T_eb6a4074_5a1c_11e9_9b0a_c49deda6369arow15_col0 {\n",
       "            width:  10em;\n",
       "             height:  80%;\n",
       "        }    #T_eb6a4074_5a1c_11e9_9b0a_c49deda6369arow16_col0 {\n",
       "            width:  10em;\n",
       "             height:  80%;\n",
       "        }    #T_eb6a4074_5a1c_11e9_9b0a_c49deda6369arow17_col0 {\n",
       "            width:  10em;\n",
       "             height:  80%;\n",
       "        }    #T_eb6a4074_5a1c_11e9_9b0a_c49deda6369arow18_col0 {\n",
       "            width:  10em;\n",
       "             height:  80%;\n",
       "        }    #T_eb6a4074_5a1c_11e9_9b0a_c49deda6369arow19_col0 {\n",
       "            width:  10em;\n",
       "             height:  80%;\n",
       "        }    #T_eb6a4074_5a1c_11e9_9b0a_c49deda6369arow20_col0 {\n",
       "            width:  10em;\n",
       "             height:  80%;\n",
       "        }    #T_eb6a4074_5a1c_11e9_9b0a_c49deda6369arow21_col0 {\n",
       "            width:  10em;\n",
       "             height:  80%;\n",
       "        }    #T_eb6a4074_5a1c_11e9_9b0a_c49deda6369arow22_col0 {\n",
       "            width:  10em;\n",
       "             height:  80%;\n",
       "        }    #T_eb6a4074_5a1c_11e9_9b0a_c49deda6369arow23_col0 {\n",
       "            width:  10em;\n",
       "             height:  80%;\n",
       "        }    #T_eb6a4074_5a1c_11e9_9b0a_c49deda6369arow24_col0 {\n",
       "            width:  10em;\n",
       "             height:  80%;\n",
       "        }    #T_eb6a4074_5a1c_11e9_9b0a_c49deda6369arow25_col0 {\n",
       "            width:  10em;\n",
       "             height:  80%;\n",
       "        }    #T_eb6a4074_5a1c_11e9_9b0a_c49deda6369arow26_col0 {\n",
       "            width:  10em;\n",
       "             height:  80%;\n",
       "        }    #T_eb6a4074_5a1c_11e9_9b0a_c49deda6369arow27_col0 {\n",
       "            width:  10em;\n",
       "             height:  80%;\n",
       "        }    #T_eb6a4074_5a1c_11e9_9b0a_c49deda6369arow28_col0 {\n",
       "            width:  10em;\n",
       "             height:  80%;\n",
       "        }    #T_eb6a4074_5a1c_11e9_9b0a_c49deda6369arow29_col0 {\n",
       "            width:  10em;\n",
       "             height:  80%;\n",
       "        }</style>  \n",
       "<table id=\"T_eb6a4074_5a1c_11e9_9b0a_c49deda6369a\" > \n",
       "<thead>    <tr> \n",
       "        <th class=\"blank level0\" ></th> \n",
       "        <th class=\"col_heading level0 col0\" >missing</th> \n",
       "        <th class=\"col_heading level0 col1\" >1695</th> \n",
       "        <th class=\"col_heading level0 col2\" >4566</th> \n",
       "        <th class=\"col_heading level0 col3\" >3441</th> \n",
       "        <th class=\"col_heading level0 col4\" >2710</th> \n",
       "    </tr></thead> \n",
       "<tbody>    <tr> \n",
       "        <th id=\"T_eb6a4074_5a1c_11e9_9b0a_c49deda6369alevel0_row0\" class=\"row_heading level0 row0\" >license</th> \n",
       "        <td id=\"T_eb6a4074_5a1c_11e9_9b0a_c49deda6369arow0_col0\" class=\"data row0 col0\" >1.00</td> \n",
       "        <td id=\"T_eb6a4074_5a1c_11e9_9b0a_c49deda6369arow0_col1\" class=\"data row0 col1\" >nan</td> \n",
       "        <td id=\"T_eb6a4074_5a1c_11e9_9b0a_c49deda6369arow0_col2\" class=\"data row0 col2\" >nan</td> \n",
       "        <td id=\"T_eb6a4074_5a1c_11e9_9b0a_c49deda6369arow0_col3\" class=\"data row0 col3\" >nan</td> \n",
       "        <td id=\"T_eb6a4074_5a1c_11e9_9b0a_c49deda6369arow0_col4\" class=\"data row0 col4\" >nan</td> \n",
       "    </tr>    <tr> \n",
       "        <th id=\"T_eb6a4074_5a1c_11e9_9b0a_c49deda6369alevel0_row1\" class=\"row_heading level0 row1\" >square_feet</th> \n",
       "        <td id=\"T_eb6a4074_5a1c_11e9_9b0a_c49deda6369arow1_col0\" class=\"data row1 col0\" >0.98</td> \n",
       "        <td id=\"T_eb6a4074_5a1c_11e9_9b0a_c49deda6369arow1_col1\" class=\"data row1 col1\" >nan</td> \n",
       "        <td id=\"T_eb6a4074_5a1c_11e9_9b0a_c49deda6369arow1_col2\" class=\"data row1 col2\" >nan</td> \n",
       "        <td id=\"T_eb6a4074_5a1c_11e9_9b0a_c49deda6369arow1_col3\" class=\"data row1 col3\" >nan</td> \n",
       "        <td id=\"T_eb6a4074_5a1c_11e9_9b0a_c49deda6369arow1_col4\" class=\"data row1 col4\" >nan</td> \n",
       "    </tr>    <tr> \n",
       "        <th id=\"T_eb6a4074_5a1c_11e9_9b0a_c49deda6369alevel0_row2\" class=\"row_heading level0 row2\" >review_scores_accuracy</th> \n",
       "        <td id=\"T_eb6a4074_5a1c_11e9_9b0a_c49deda6369arow2_col0\" class=\"data row2 col0\" >0.20</td> \n",
       "        <td id=\"T_eb6a4074_5a1c_11e9_9b0a_c49deda6369arow2_col1\" class=\"data row2 col1\" >9.00</td> \n",
       "        <td id=\"T_eb6a4074_5a1c_11e9_9b0a_c49deda6369arow2_col2\" class=\"data row2 col2\" >10.00</td> \n",
       "        <td id=\"T_eb6a4074_5a1c_11e9_9b0a_c49deda6369arow2_col3\" class=\"data row2 col3\" >nan</td> \n",
       "        <td id=\"T_eb6a4074_5a1c_11e9_9b0a_c49deda6369arow2_col4\" class=\"data row2 col4\" >9.00</td> \n",
       "    </tr>    <tr> \n",
       "        <th id=\"T_eb6a4074_5a1c_11e9_9b0a_c49deda6369alevel0_row3\" class=\"row_heading level0 row3\" >review_scores_checkin</th> \n",
       "        <td id=\"T_eb6a4074_5a1c_11e9_9b0a_c49deda6369arow3_col0\" class=\"data row3 col0\" >0.20</td> \n",
       "        <td id=\"T_eb6a4074_5a1c_11e9_9b0a_c49deda6369arow3_col1\" class=\"data row3 col1\" >8.00</td> \n",
       "        <td id=\"T_eb6a4074_5a1c_11e9_9b0a_c49deda6369arow3_col2\" class=\"data row3 col2\" >10.00</td> \n",
       "        <td id=\"T_eb6a4074_5a1c_11e9_9b0a_c49deda6369arow3_col3\" class=\"data row3 col3\" >nan</td> \n",
       "        <td id=\"T_eb6a4074_5a1c_11e9_9b0a_c49deda6369arow3_col4\" class=\"data row3 col4\" >10.00</td> \n",
       "    </tr>    <tr> \n",
       "        <th id=\"T_eb6a4074_5a1c_11e9_9b0a_c49deda6369alevel0_row4\" class=\"row_heading level0 row4\" >review_scores_value</th> \n",
       "        <td id=\"T_eb6a4074_5a1c_11e9_9b0a_c49deda6369arow4_col0\" class=\"data row4 col0\" >0.20</td> \n",
       "        <td id=\"T_eb6a4074_5a1c_11e9_9b0a_c49deda6369arow4_col1\" class=\"data row4 col1\" >8.00</td> \n",
       "        <td id=\"T_eb6a4074_5a1c_11e9_9b0a_c49deda6369arow4_col2\" class=\"data row4 col2\" >10.00</td> \n",
       "        <td id=\"T_eb6a4074_5a1c_11e9_9b0a_c49deda6369arow4_col3\" class=\"data row4 col3\" >nan</td> \n",
       "        <td id=\"T_eb6a4074_5a1c_11e9_9b0a_c49deda6369arow4_col4\" class=\"data row4 col4\" >9.00</td> \n",
       "    </tr>    <tr> \n",
       "        <th id=\"T_eb6a4074_5a1c_11e9_9b0a_c49deda6369alevel0_row5\" class=\"row_heading level0 row5\" >review_scores_location</th> \n",
       "        <td id=\"T_eb6a4074_5a1c_11e9_9b0a_c49deda6369arow5_col0\" class=\"data row5 col0\" >0.20</td> \n",
       "        <td id=\"T_eb6a4074_5a1c_11e9_9b0a_c49deda6369arow5_col1\" class=\"data row5 col1\" >9.00</td> \n",
       "        <td id=\"T_eb6a4074_5a1c_11e9_9b0a_c49deda6369arow5_col2\" class=\"data row5 col2\" >10.00</td> \n",
       "        <td id=\"T_eb6a4074_5a1c_11e9_9b0a_c49deda6369arow5_col3\" class=\"data row5 col3\" >nan</td> \n",
       "        <td id=\"T_eb6a4074_5a1c_11e9_9b0a_c49deda6369arow5_col4\" class=\"data row5 col4\" >9.00</td> \n",
       "    </tr>    <tr> \n",
       "        <th id=\"T_eb6a4074_5a1c_11e9_9b0a_c49deda6369alevel0_row6\" class=\"row_heading level0 row6\" >review_scores_cleanliness</th> \n",
       "        <td id=\"T_eb6a4074_5a1c_11e9_9b0a_c49deda6369arow6_col0\" class=\"data row6 col0\" >0.20</td> \n",
       "        <td id=\"T_eb6a4074_5a1c_11e9_9b0a_c49deda6369arow6_col1\" class=\"data row6 col1\" >8.00</td> \n",
       "        <td id=\"T_eb6a4074_5a1c_11e9_9b0a_c49deda6369arow6_col2\" class=\"data row6 col2\" >10.00</td> \n",
       "        <td id=\"T_eb6a4074_5a1c_11e9_9b0a_c49deda6369arow6_col3\" class=\"data row6 col3\" >nan</td> \n",
       "        <td id=\"T_eb6a4074_5a1c_11e9_9b0a_c49deda6369arow6_col4\" class=\"data row6 col4\" >9.00</td> \n",
       "    </tr>    <tr> \n",
       "        <th id=\"T_eb6a4074_5a1c_11e9_9b0a_c49deda6369alevel0_row7\" class=\"row_heading level0 row7\" >review_scores_communication</th> \n",
       "        <td id=\"T_eb6a4074_5a1c_11e9_9b0a_c49deda6369arow7_col0\" class=\"data row7 col0\" >0.20</td> \n",
       "        <td id=\"T_eb6a4074_5a1c_11e9_9b0a_c49deda6369arow7_col1\" class=\"data row7 col1\" >9.00</td> \n",
       "        <td id=\"T_eb6a4074_5a1c_11e9_9b0a_c49deda6369arow7_col2\" class=\"data row7 col2\" >10.00</td> \n",
       "        <td id=\"T_eb6a4074_5a1c_11e9_9b0a_c49deda6369arow7_col3\" class=\"data row7 col3\" >nan</td> \n",
       "        <td id=\"T_eb6a4074_5a1c_11e9_9b0a_c49deda6369arow7_col4\" class=\"data row7 col4\" >10.00</td> \n",
       "    </tr>    <tr> \n",
       "        <th id=\"T_eb6a4074_5a1c_11e9_9b0a_c49deda6369alevel0_row8\" class=\"row_heading level0 row8\" >review_scores_rating</th> \n",
       "        <td id=\"T_eb6a4074_5a1c_11e9_9b0a_c49deda6369arow8_col0\" class=\"data row8 col0\" >0.20</td> \n",
       "        <td id=\"T_eb6a4074_5a1c_11e9_9b0a_c49deda6369arow8_col1\" class=\"data row8 col1\" >83.00</td> \n",
       "        <td id=\"T_eb6a4074_5a1c_11e9_9b0a_c49deda6369arow8_col2\" class=\"data row8 col2\" >100.00</td> \n",
       "        <td id=\"T_eb6a4074_5a1c_11e9_9b0a_c49deda6369arow8_col3\" class=\"data row8 col3\" >nan</td> \n",
       "        <td id=\"T_eb6a4074_5a1c_11e9_9b0a_c49deda6369arow8_col4\" class=\"data row8 col4\" >91.00</td> \n",
       "    </tr>    <tr> \n",
       "        <th id=\"T_eb6a4074_5a1c_11e9_9b0a_c49deda6369alevel0_row9\" class=\"row_heading level0 row9\" >reviews_per_month</th> \n",
       "        <td id=\"T_eb6a4074_5a1c_11e9_9b0a_c49deda6369arow9_col0\" class=\"data row9 col0\" >0.19</td> \n",
       "        <td id=\"T_eb6a4074_5a1c_11e9_9b0a_c49deda6369arow9_col1\" class=\"data row9 col1\" >0.35</td> \n",
       "        <td id=\"T_eb6a4074_5a1c_11e9_9b0a_c49deda6369arow9_col2\" class=\"data row9 col2\" >2.83</td> \n",
       "        <td id=\"T_eb6a4074_5a1c_11e9_9b0a_c49deda6369arow9_col3\" class=\"data row9 col3\" >nan</td> \n",
       "        <td id=\"T_eb6a4074_5a1c_11e9_9b0a_c49deda6369arow9_col4\" class=\"data row9 col4\" >0.61</td> \n",
       "    </tr>    <tr> \n",
       "        <th id=\"T_eb6a4074_5a1c_11e9_9b0a_c49deda6369alevel0_row10\" class=\"row_heading level0 row10\" >bathrooms</th> \n",
       "        <td id=\"T_eb6a4074_5a1c_11e9_9b0a_c49deda6369arow10_col0\" class=\"data row10 col0\" >0.00</td> \n",
       "        <td id=\"T_eb6a4074_5a1c_11e9_9b0a_c49deda6369arow10_col1\" class=\"data row10 col1\" >1.00</td> \n",
       "        <td id=\"T_eb6a4074_5a1c_11e9_9b0a_c49deda6369arow10_col2\" class=\"data row10 col2\" >2.50</td> \n",
       "        <td id=\"T_eb6a4074_5a1c_11e9_9b0a_c49deda6369arow10_col3\" class=\"data row10 col3\" >1.00</td> \n",
       "        <td id=\"T_eb6a4074_5a1c_11e9_9b0a_c49deda6369arow10_col4\" class=\"data row10 col4\" >1.00</td> \n",
       "    </tr>    <tr> \n",
       "        <th id=\"T_eb6a4074_5a1c_11e9_9b0a_c49deda6369alevel0_row11\" class=\"row_heading level0 row11\" >bedrooms</th> \n",
       "        <td id=\"T_eb6a4074_5a1c_11e9_9b0a_c49deda6369arow11_col0\" class=\"data row11 col0\" >0.00</td> \n",
       "        <td id=\"T_eb6a4074_5a1c_11e9_9b0a_c49deda6369arow11_col1\" class=\"data row11 col1\" >1.00</td> \n",
       "        <td id=\"T_eb6a4074_5a1c_11e9_9b0a_c49deda6369arow11_col2\" class=\"data row11 col2\" >3.00</td> \n",
       "        <td id=\"T_eb6a4074_5a1c_11e9_9b0a_c49deda6369arow11_col3\" class=\"data row11 col3\" >2.00</td> \n",
       "        <td id=\"T_eb6a4074_5a1c_11e9_9b0a_c49deda6369arow11_col4\" class=\"data row11 col4\" >1.00</td> \n",
       "    </tr>    <tr> \n",
       "        <th id=\"T_eb6a4074_5a1c_11e9_9b0a_c49deda6369alevel0_row12\" class=\"row_heading level0 row12\" >beds</th> \n",
       "        <td id=\"T_eb6a4074_5a1c_11e9_9b0a_c49deda6369arow12_col0\" class=\"data row12 col0\" >0.00</td> \n",
       "        <td id=\"T_eb6a4074_5a1c_11e9_9b0a_c49deda6369arow12_col1\" class=\"data row12 col1\" >1.00</td> \n",
       "        <td id=\"T_eb6a4074_5a1c_11e9_9b0a_c49deda6369arow12_col2\" class=\"data row12 col2\" >3.00</td> \n",
       "        <td id=\"T_eb6a4074_5a1c_11e9_9b0a_c49deda6369arow12_col3\" class=\"data row12 col3\" >2.00</td> \n",
       "        <td id=\"T_eb6a4074_5a1c_11e9_9b0a_c49deda6369arow12_col4\" class=\"data row12 col4\" >1.00</td> \n",
       "    </tr>    <tr> \n",
       "        <th id=\"T_eb6a4074_5a1c_11e9_9b0a_c49deda6369alevel0_row13\" class=\"row_heading level0 row13\" >host_listings_count</th> \n",
       "        <td id=\"T_eb6a4074_5a1c_11e9_9b0a_c49deda6369arow13_col0\" class=\"data row13 col0\" >0.00</td> \n",
       "        <td id=\"T_eb6a4074_5a1c_11e9_9b0a_c49deda6369arow13_col1\" class=\"data row13 col1\" >2.00</td> \n",
       "        <td id=\"T_eb6a4074_5a1c_11e9_9b0a_c49deda6369arow13_col2\" class=\"data row13 col2\" >1.00</td> \n",
       "        <td id=\"T_eb6a4074_5a1c_11e9_9b0a_c49deda6369arow13_col3\" class=\"data row13 col3\" >1.00</td> \n",
       "        <td id=\"T_eb6a4074_5a1c_11e9_9b0a_c49deda6369arow13_col4\" class=\"data row13 col4\" >1.00</td> \n",
       "    </tr>    <tr> \n",
       "        <th id=\"T_eb6a4074_5a1c_11e9_9b0a_c49deda6369alevel0_row14\" class=\"row_heading level0 row14\" >host_total_listings_count</th> \n",
       "        <td id=\"T_eb6a4074_5a1c_11e9_9b0a_c49deda6369arow14_col0\" class=\"data row14 col0\" >0.00</td> \n",
       "        <td id=\"T_eb6a4074_5a1c_11e9_9b0a_c49deda6369arow14_col1\" class=\"data row14 col1\" >2.00</td> \n",
       "        <td id=\"T_eb6a4074_5a1c_11e9_9b0a_c49deda6369arow14_col2\" class=\"data row14 col2\" >1.00</td> \n",
       "        <td id=\"T_eb6a4074_5a1c_11e9_9b0a_c49deda6369arow14_col3\" class=\"data row14 col3\" >1.00</td> \n",
       "        <td id=\"T_eb6a4074_5a1c_11e9_9b0a_c49deda6369arow14_col4\" class=\"data row14 col4\" >1.00</td> \n",
       "    </tr>    <tr> \n",
       "        <th id=\"T_eb6a4074_5a1c_11e9_9b0a_c49deda6369alevel0_row15\" class=\"row_heading level0 row15\" >availability_365</th> \n",
       "        <td id=\"T_eb6a4074_5a1c_11e9_9b0a_c49deda6369arow15_col0\" class=\"data row15 col0\" >0.00</td> \n",
       "        <td id=\"T_eb6a4074_5a1c_11e9_9b0a_c49deda6369arow15_col1\" class=\"data row15 col1\" >363.00</td> \n",
       "        <td id=\"T_eb6a4074_5a1c_11e9_9b0a_c49deda6369arow15_col2\" class=\"data row15 col2\" >288.00</td> \n",
       "        <td id=\"T_eb6a4074_5a1c_11e9_9b0a_c49deda6369arow15_col3\" class=\"data row15 col3\" >0.00</td> \n",
       "        <td id=\"T_eb6a4074_5a1c_11e9_9b0a_c49deda6369arow15_col4\" class=\"data row15 col4\" >160.00</td> \n",
       "    </tr>    <tr> \n",
       "        <th id=\"T_eb6a4074_5a1c_11e9_9b0a_c49deda6369alevel0_row16\" class=\"row_heading level0 row16\" >number_of_reviews</th> \n",
       "        <td id=\"T_eb6a4074_5a1c_11e9_9b0a_c49deda6369arow16_col0\" class=\"data row16 col0\" >0.00</td> \n",
       "        <td id=\"T_eb6a4074_5a1c_11e9_9b0a_c49deda6369arow16_col1\" class=\"data row16 col1\" >21.00</td> \n",
       "        <td id=\"T_eb6a4074_5a1c_11e9_9b0a_c49deda6369arow16_col2\" class=\"data row16 col2\" >5.00</td> \n",
       "        <td id=\"T_eb6a4074_5a1c_11e9_9b0a_c49deda6369arow16_col3\" class=\"data row16 col3\" >0.00</td> \n",
       "        <td id=\"T_eb6a4074_5a1c_11e9_9b0a_c49deda6369arow16_col4\" class=\"data row16 col4\" >37.00</td> \n",
       "    </tr>    <tr> \n",
       "        <th id=\"T_eb6a4074_5a1c_11e9_9b0a_c49deda6369alevel0_row17\" class=\"row_heading level0 row17\" >scrape_id</th> \n",
       "        <td id=\"T_eb6a4074_5a1c_11e9_9b0a_c49deda6369arow17_col0\" class=\"data row17 col0\" >0.00</td> \n",
       "        <td id=\"T_eb6a4074_5a1c_11e9_9b0a_c49deda6369arow17_col1\" class=\"data row17 col1\" >20,160,906,204,935.00</td> \n",
       "        <td id=\"T_eb6a4074_5a1c_11e9_9b0a_c49deda6369arow17_col2\" class=\"data row17 col2\" >20,160,104,002,432.00</td> \n",
       "        <td id=\"T_eb6a4074_5a1c_11e9_9b0a_c49deda6369arow17_col3\" class=\"data row17 col3\" >20,160,906,204,935.00</td> \n",
       "        <td id=\"T_eb6a4074_5a1c_11e9_9b0a_c49deda6369arow17_col4\" class=\"data row17 col4\" >20,160,906,204,935.00</td> \n",
       "    </tr>    <tr> \n",
       "        <th id=\"T_eb6a4074_5a1c_11e9_9b0a_c49deda6369alevel0_row18\" class=\"row_heading level0 row18\" >longitude</th> \n",
       "        <td id=\"T_eb6a4074_5a1c_11e9_9b0a_c49deda6369arow18_col0\" class=\"data row18 col0\" >0.00</td> \n",
       "        <td id=\"T_eb6a4074_5a1c_11e9_9b0a_c49deda6369arow18_col1\" class=\"data row18 col1\" >-71.06</td> \n",
       "        <td id=\"T_eb6a4074_5a1c_11e9_9b0a_c49deda6369arow18_col2\" class=\"data row18 col2\" >-122.30</td> \n",
       "        <td id=\"T_eb6a4074_5a1c_11e9_9b0a_c49deda6369arow18_col3\" class=\"data row18 col3\" >-71.13</td> \n",
       "        <td id=\"T_eb6a4074_5a1c_11e9_9b0a_c49deda6369arow18_col4\" class=\"data row18 col4\" >-71.15</td> \n",
       "    </tr>    <tr> \n",
       "        <th id=\"T_eb6a4074_5a1c_11e9_9b0a_c49deda6369alevel0_row19\" class=\"row_heading level0 row19\" >minimum_nights</th> \n",
       "        <td id=\"T_eb6a4074_5a1c_11e9_9b0a_c49deda6369arow19_col0\" class=\"data row19 col0\" >0.00</td> \n",
       "        <td id=\"T_eb6a4074_5a1c_11e9_9b0a_c49deda6369arow19_col1\" class=\"data row19 col1\" >2.00</td> \n",
       "        <td id=\"T_eb6a4074_5a1c_11e9_9b0a_c49deda6369arow19_col2\" class=\"data row19 col2\" >2.00</td> \n",
       "        <td id=\"T_eb6a4074_5a1c_11e9_9b0a_c49deda6369arow19_col3\" class=\"data row19 col3\" >3.00</td> \n",
       "        <td id=\"T_eb6a4074_5a1c_11e9_9b0a_c49deda6369arow19_col4\" class=\"data row19 col4\" >2.00</td> \n",
       "    </tr>    <tr> \n",
       "        <th id=\"T_eb6a4074_5a1c_11e9_9b0a_c49deda6369alevel0_row20\" class=\"row_heading level0 row20\" >maximum_nights</th> \n",
       "        <td id=\"T_eb6a4074_5a1c_11e9_9b0a_c49deda6369arow20_col0\" class=\"data row20 col0\" >0.00</td> \n",
       "        <td id=\"T_eb6a4074_5a1c_11e9_9b0a_c49deda6369arow20_col1\" class=\"data row20 col1\" >730.00</td> \n",
       "        <td id=\"T_eb6a4074_5a1c_11e9_9b0a_c49deda6369arow20_col2\" class=\"data row20 col2\" >1,125.00</td> \n",
       "        <td id=\"T_eb6a4074_5a1c_11e9_9b0a_c49deda6369arow20_col3\" class=\"data row20 col3\" >1,125.00</td> \n",
       "        <td id=\"T_eb6a4074_5a1c_11e9_9b0a_c49deda6369arow20_col4\" class=\"data row20 col4\" >15.00</td> \n",
       "    </tr>    <tr> \n",
       "        <th id=\"T_eb6a4074_5a1c_11e9_9b0a_c49deda6369alevel0_row21\" class=\"row_heading level0 row21\" >availability_60</th> \n",
       "        <td id=\"T_eb6a4074_5a1c_11e9_9b0a_c49deda6369arow21_col0\" class=\"data row21 col0\" >0.00</td> \n",
       "        <td id=\"T_eb6a4074_5a1c_11e9_9b0a_c49deda6369arow21_col1\" class=\"data row21 col1\" >58.00</td> \n",
       "        <td id=\"T_eb6a4074_5a1c_11e9_9b0a_c49deda6369arow21_col2\" class=\"data row21 col2\" >44.00</td> \n",
       "        <td id=\"T_eb6a4074_5a1c_11e9_9b0a_c49deda6369arow21_col3\" class=\"data row21 col3\" >0.00</td> \n",
       "        <td id=\"T_eb6a4074_5a1c_11e9_9b0a_c49deda6369arow21_col4\" class=\"data row21 col4\" >53.00</td> \n",
       "    </tr>    <tr> \n",
       "        <th id=\"T_eb6a4074_5a1c_11e9_9b0a_c49deda6369alevel0_row22\" class=\"row_heading level0 row22\" >availability_30</th> \n",
       "        <td id=\"T_eb6a4074_5a1c_11e9_9b0a_c49deda6369arow22_col0\" class=\"data row22 col0\" >0.00</td> \n",
       "        <td id=\"T_eb6a4074_5a1c_11e9_9b0a_c49deda6369arow22_col1\" class=\"data row22 col1\" >30.00</td> \n",
       "        <td id=\"T_eb6a4074_5a1c_11e9_9b0a_c49deda6369arow22_col2\" class=\"data row22 col2\" >14.00</td> \n",
       "        <td id=\"T_eb6a4074_5a1c_11e9_9b0a_c49deda6369arow22_col3\" class=\"data row22 col3\" >0.00</td> \n",
       "        <td id=\"T_eb6a4074_5a1c_11e9_9b0a_c49deda6369arow22_col4\" class=\"data row22 col4\" >29.00</td> \n",
       "    </tr>    <tr> \n",
       "        <th id=\"T_eb6a4074_5a1c_11e9_9b0a_c49deda6369alevel0_row23\" class=\"row_heading level0 row23\" >latitude</th> \n",
       "        <td id=\"T_eb6a4074_5a1c_11e9_9b0a_c49deda6369arow23_col0\" class=\"data row23 col0\" >0.00</td> \n",
       "        <td id=\"T_eb6a4074_5a1c_11e9_9b0a_c49deda6369arow23_col1\" class=\"data row23 col1\" >42.38</td> \n",
       "        <td id=\"T_eb6a4074_5a1c_11e9_9b0a_c49deda6369arow23_col2\" class=\"data row23 col2\" >47.60</td> \n",
       "        <td id=\"T_eb6a4074_5a1c_11e9_9b0a_c49deda6369arow23_col3\" class=\"data row23 col3\" >42.36</td> \n",
       "        <td id=\"T_eb6a4074_5a1c_11e9_9b0a_c49deda6369arow23_col4\" class=\"data row23 col4\" >42.30</td> \n",
       "    </tr>    <tr> \n",
       "        <th id=\"T_eb6a4074_5a1c_11e9_9b0a_c49deda6369alevel0_row24\" class=\"row_heading level0 row24\" >id</th> \n",
       "        <td id=\"T_eb6a4074_5a1c_11e9_9b0a_c49deda6369arow24_col0\" class=\"data row24 col0\" >0.00</td> \n",
       "        <td id=\"T_eb6a4074_5a1c_11e9_9b0a_c49deda6369arow24_col1\" class=\"data row24 col1\" >77,681.00</td> \n",
       "        <td id=\"T_eb6a4074_5a1c_11e9_9b0a_c49deda6369arow24_col2\" class=\"data row24 col2\" >3,691,288.00</td> \n",
       "        <td id=\"T_eb6a4074_5a1c_11e9_9b0a_c49deda6369arow24_col3\" class=\"data row24 col3\" >9,593,141.00</td> \n",
       "        <td id=\"T_eb6a4074_5a1c_11e9_9b0a_c49deda6369arow24_col4\" class=\"data row24 col4\" >164,418.00</td> \n",
       "    </tr>    <tr> \n",
       "        <th id=\"T_eb6a4074_5a1c_11e9_9b0a_c49deda6369alevel0_row25\" class=\"row_heading level0 row25\" >host_id</th> \n",
       "        <td id=\"T_eb6a4074_5a1c_11e9_9b0a_c49deda6369arow25_col0\" class=\"data row25 col0\" >0.00</td> \n",
       "        <td id=\"T_eb6a4074_5a1c_11e9_9b0a_c49deda6369arow25_col1\" class=\"data row25 col1\" >416,912.00</td> \n",
       "        <td id=\"T_eb6a4074_5a1c_11e9_9b0a_c49deda6369arow25_col2\" class=\"data row25 col2\" >18,791,339.00</td> \n",
       "        <td id=\"T_eb6a4074_5a1c_11e9_9b0a_c49deda6369arow25_col3\" class=\"data row25 col3\" >49,651,994.00</td> \n",
       "        <td id=\"T_eb6a4074_5a1c_11e9_9b0a_c49deda6369arow25_col4\" class=\"data row25 col4\" >784,237.00</td> \n",
       "    </tr>    <tr> \n",
       "        <th id=\"T_eb6a4074_5a1c_11e9_9b0a_c49deda6369alevel0_row26\" class=\"row_heading level0 row26\" >guests_included</th> \n",
       "        <td id=\"T_eb6a4074_5a1c_11e9_9b0a_c49deda6369arow26_col0\" class=\"data row26 col0\" >0.00</td> \n",
       "        <td id=\"T_eb6a4074_5a1c_11e9_9b0a_c49deda6369arow26_col1\" class=\"data row26 col1\" >1.00</td> \n",
       "        <td id=\"T_eb6a4074_5a1c_11e9_9b0a_c49deda6369arow26_col2\" class=\"data row26 col2\" >4.00</td> \n",
       "        <td id=\"T_eb6a4074_5a1c_11e9_9b0a_c49deda6369arow26_col3\" class=\"data row26 col3\" >1.00</td> \n",
       "        <td id=\"T_eb6a4074_5a1c_11e9_9b0a_c49deda6369arow26_col4\" class=\"data row26 col4\" >1.00</td> \n",
       "    </tr>    <tr> \n",
       "        <th id=\"T_eb6a4074_5a1c_11e9_9b0a_c49deda6369alevel0_row27\" class=\"row_heading level0 row27\" >calculated_host_listings_count</th> \n",
       "        <td id=\"T_eb6a4074_5a1c_11e9_9b0a_c49deda6369arow27_col0\" class=\"data row27 col0\" >0.00</td> \n",
       "        <td id=\"T_eb6a4074_5a1c_11e9_9b0a_c49deda6369arow27_col1\" class=\"data row27 col1\" >2.00</td> \n",
       "        <td id=\"T_eb6a4074_5a1c_11e9_9b0a_c49deda6369arow27_col2\" class=\"data row27 col2\" >1.00</td> \n",
       "        <td id=\"T_eb6a4074_5a1c_11e9_9b0a_c49deda6369arow27_col3\" class=\"data row27 col3\" >1.00</td> \n",
       "        <td id=\"T_eb6a4074_5a1c_11e9_9b0a_c49deda6369arow27_col4\" class=\"data row27 col4\" >1.00</td> \n",
       "    </tr>    <tr> \n",
       "        <th id=\"T_eb6a4074_5a1c_11e9_9b0a_c49deda6369alevel0_row28\" class=\"row_heading level0 row28\" >availability_90</th> \n",
       "        <td id=\"T_eb6a4074_5a1c_11e9_9b0a_c49deda6369arow28_col0\" class=\"data row28 col0\" >0.00</td> \n",
       "        <td id=\"T_eb6a4074_5a1c_11e9_9b0a_c49deda6369arow28_col1\" class=\"data row28 col1\" >88.00</td> \n",
       "        <td id=\"T_eb6a4074_5a1c_11e9_9b0a_c49deda6369arow28_col2\" class=\"data row28 col2\" >51.00</td> \n",
       "        <td id=\"T_eb6a4074_5a1c_11e9_9b0a_c49deda6369arow28_col3\" class=\"data row28 col3\" >0.00</td> \n",
       "        <td id=\"T_eb6a4074_5a1c_11e9_9b0a_c49deda6369arow28_col4\" class=\"data row28 col4\" >83.00</td> \n",
       "    </tr>    <tr> \n",
       "        <th id=\"T_eb6a4074_5a1c_11e9_9b0a_c49deda6369alevel0_row29\" class=\"row_heading level0 row29\" >accommodates</th> \n",
       "        <td id=\"T_eb6a4074_5a1c_11e9_9b0a_c49deda6369arow29_col0\" class=\"data row29 col0\" >0.00</td> \n",
       "        <td id=\"T_eb6a4074_5a1c_11e9_9b0a_c49deda6369arow29_col1\" class=\"data row29 col1\" >2.00</td> \n",
       "        <td id=\"T_eb6a4074_5a1c_11e9_9b0a_c49deda6369arow29_col2\" class=\"data row29 col2\" >8.00</td> \n",
       "        <td id=\"T_eb6a4074_5a1c_11e9_9b0a_c49deda6369arow29_col3\" class=\"data row29 col3\" >4.00</td> \n",
       "        <td id=\"T_eb6a4074_5a1c_11e9_9b0a_c49deda6369arow29_col4\" class=\"data row29 col4\" >2.00</td> \n",
       "    </tr></tbody> \n",
       "</table> "
      ],
      "text/plain": [
       "<pandas.io.formats.style.Styler at 0x18041ee6278>"
      ]
     },
     "execution_count": 31,
     "metadata": {},
     "output_type": "execute_result"
    }
   ],
   "source": [
    "listings.filter(regex='id')\n",
    "listings.select_dtypes(exclude=object).sample(4).T\\\n",
    "    .merge(missing_pct.to_frame('missing'), left_index=True, right_index=True, how='left')\\\n",
    "    .iloc[:, [-1, 0, 1, 2, 3]]\\\n",
    "    .sort_values('missing', ascending=False)\\\n",
    "    .style.format(\"{:2,.2f}\").bar(subset=['missing'])"
   ]
  },
  {
   "cell_type": "markdown",
   "metadata": {},
   "source": [
    "### <li> Data Understanding: Reviews"
   ]
  },
  {
   "cell_type": "code",
   "execution_count": 32,
   "metadata": {},
   "outputs": [
    {
     "data": {
      "text/html": [
       "<div>\n",
       "<style scoped>\n",
       "    .dataframe tbody tr th:only-of-type {\n",
       "        vertical-align: middle;\n",
       "    }\n",
       "\n",
       "    .dataframe tbody tr th {\n",
       "        vertical-align: top;\n",
       "    }\n",
       "\n",
       "    .dataframe thead th {\n",
       "        text-align: right;\n",
       "    }\n",
       "</style>\n",
       "<table border=\"1\" class=\"dataframe\">\n",
       "  <thead>\n",
       "    <tr style=\"text-align: right;\">\n",
       "      <th></th>\n",
       "      <th>comments</th>\n",
       "      <th>date</th>\n",
       "      <th>id</th>\n",
       "      <th>listing_id</th>\n",
       "      <th>reviewer_id</th>\n",
       "      <th>reviewer_name</th>\n",
       "      <th>rowsource</th>\n",
       "    </tr>\n",
       "  </thead>\n",
       "  <tbody>\n",
       "    <tr>\n",
       "      <th>0</th>\n",
       "      <td>My stay at islam's place was really cool! Good...</td>\n",
       "      <td>2013-05-21</td>\n",
       "      <td>4724140</td>\n",
       "      <td>1178162</td>\n",
       "      <td>4298113</td>\n",
       "      <td>Olivier</td>\n",
       "      <td>data\\boston_airbnb_open_data\\reviews.csv</td>\n",
       "    </tr>\n",
       "    <tr>\n",
       "      <th>1</th>\n",
       "      <td>Great location for both airport and city - gre...</td>\n",
       "      <td>2013-05-29</td>\n",
       "      <td>4869189</td>\n",
       "      <td>1178162</td>\n",
       "      <td>6452964</td>\n",
       "      <td>Charlotte</td>\n",
       "      <td>data\\boston_airbnb_open_data\\reviews.csv</td>\n",
       "    </tr>\n",
       "    <tr>\n",
       "      <th>2</th>\n",
       "      <td>We really enjoyed our stay at Islams house. Fr...</td>\n",
       "      <td>2013-06-06</td>\n",
       "      <td>5003196</td>\n",
       "      <td>1178162</td>\n",
       "      <td>6449554</td>\n",
       "      <td>Sebastian</td>\n",
       "      <td>data\\boston_airbnb_open_data\\reviews.csv</td>\n",
       "    </tr>\n",
       "    <tr>\n",
       "      <th>3</th>\n",
       "      <td>The room was nice and clean and so were the co...</td>\n",
       "      <td>2013-06-15</td>\n",
       "      <td>5150351</td>\n",
       "      <td>1178162</td>\n",
       "      <td>2215611</td>\n",
       "      <td>Marine</td>\n",
       "      <td>data\\boston_airbnb_open_data\\reviews.csv</td>\n",
       "    </tr>\n",
       "    <tr>\n",
       "      <th>4</th>\n",
       "      <td>Great location. Just 5 mins walk from the Airp...</td>\n",
       "      <td>2013-06-16</td>\n",
       "      <td>5171140</td>\n",
       "      <td>1178162</td>\n",
       "      <td>6848427</td>\n",
       "      <td>Andrew</td>\n",
       "      <td>data\\boston_airbnb_open_data\\reviews.csv</td>\n",
       "    </tr>\n",
       "  </tbody>\n",
       "</table>\n",
       "</div>"
      ],
      "text/plain": [
       "                                            comments        date       id  \\\n",
       "0  My stay at islam's place was really cool! Good...  2013-05-21  4724140   \n",
       "1  Great location for both airport and city - gre...  2013-05-29  4869189   \n",
       "2  We really enjoyed our stay at Islams house. Fr...  2013-06-06  5003196   \n",
       "3  The room was nice and clean and so were the co...  2013-06-15  5150351   \n",
       "4  Great location. Just 5 mins walk from the Airp...  2013-06-16  5171140   \n",
       "\n",
       "   listing_id  reviewer_id reviewer_name  \\\n",
       "0     1178162      4298113       Olivier   \n",
       "1     1178162      6452964     Charlotte   \n",
       "2     1178162      6449554     Sebastian   \n",
       "3     1178162      2215611        Marine   \n",
       "4     1178162      6848427        Andrew   \n",
       "\n",
       "                                  rowsource  \n",
       "0  data\\boston_airbnb_open_data\\reviews.csv  \n",
       "1  data\\boston_airbnb_open_data\\reviews.csv  \n",
       "2  data\\boston_airbnb_open_data\\reviews.csv  \n",
       "3  data\\boston_airbnb_open_data\\reviews.csv  \n",
       "4  data\\boston_airbnb_open_data\\reviews.csv  "
      ]
     },
     "execution_count": 32,
     "metadata": {},
     "output_type": "execute_result"
    }
   ],
   "source": [
    "reviews.head()"
   ]
  },
  {
   "cell_type": "markdown",
   "metadata": {},
   "source": [
    "### <li> Data Understanding: Id Relationships"
   ]
  },
  {
   "cell_type": "code",
   "execution_count": 33,
   "metadata": {},
   "outputs": [],
   "source": [
    "len_func = lambda x: x.str.len()"
   ]
  },
  {
   "cell_type": "code",
   "execution_count": 34,
   "metadata": {},
   "outputs": [
    {
     "data": {
      "image/png": "[encoded data removed]",
      "text/plain": [
       "<Figure size 720x72 with 1 Axes>"
      ]
     },
     "metadata": {},
     "output_type": "display_data"
    }
   ],
   "source": [
    "calendar.listing_id.astype(str).str.len()\\\n",
    "    .plot.box(vert=False, figsize=(10, 1), title=\"Calendar ID Len\");"
   ]
  },
  {
   "cell_type": "code",
   "execution_count": 35,
   "metadata": {},
   "outputs": [
    {
     "data": {
      "image/png": "[encoded data removed]",
      "text/plain": [
       "<Figure size 720x72 with 1 Axes>"
      ]
     },
     "metadata": {},
     "output_type": "display_data"
    }
   ],
   "source": [
    "listings.filter(regex='id').select_dtypes(exclude=object).astype(str).apply(len_func)\\\n",
    "    .plot.box(vert=False, figsize=(10, 1), title=\"Listing IDs Len\");"
   ]
  },
  {
   "cell_type": "code",
   "execution_count": 36,
   "metadata": {},
   "outputs": [
    {
     "data": {
      "image/png": "[encoded data removed]",
      "text/plain": [
       "<Figure size 720x72 with 1 Axes>"
      ]
     },
     "metadata": {},
     "output_type": "display_data"
    }
   ],
   "source": [
    "reviews.filter(regex='id').apply(lambda x: x.astype(str).str.len())\\\n",
    "    .plot.box(vert=False, figsize=(10, 1), title=\"Reviews IDs Len\");"
   ]
  },
  {
   "cell_type": "markdown",
   "metadata": {},
   "source": [
    "**Id Relationships Findings**\n",
    "* The listing dataset id is the primary key that relates to the listing_id of the calendar dataset.\n",
    "* The scrape_id does not relate to anything in the downloaded dataset, so therefore si irrelevant for the analysis.\n",
    "* The host_id in the listing dataset seems to be related to the reviewer_d of the reviews dataset.\n",
    "* Given that there are reviewer-ids with length of 2 and 3 in the reviwers dataset and not in the listings dataset, we can assume that the listings don't inlcude stays (missing records) for those host with 2 and 3 lenght-ids, but those host have reviews for the listings in the reviewer dataset."
   ]
  },
  {
   "cell_type": "markdown",
   "metadata": {},
   "source": [
    "### <li> Data Understanding: Granularity of Datasets"
   ]
  },
  {
   "cell_type": "markdown",
   "metadata": {},
   "source": [
    "#### Calendar Granularity"
   ]
  },
  {
   "cell_type": "code",
   "execution_count": 37,
   "metadata": {
    "scrolled": false
   },
   "outputs": [],
   "source": [
    "duplicates = calendar.groupby(['date', 'listing_id', 'rowsource', 'available'])\\\n",
    "    .size().to_frame('duplicates').query(\"duplicates>1\").head()"
   ]
  },
  {
   "cell_type": "code",
   "execution_count": 38,
   "metadata": {},
   "outputs": [
    {
     "name": "stdout",
     "output_type": "stream",
     "text": [
      "These are the id of price duplicates: \n",
      " 12898806\n"
     ]
    }
   ],
   "source": [
    "calendar_price_dups = duplicates.reset_index().listing_id.unique()[0]\n",
    "print(f\"These are the id of price duplicates: \\n {calendar_price_dups}\")"
   ]
  },
  {
   "cell_type": "markdown",
   "metadata": {},
   "source": [
    "##### <ol> Examples of Calendar Duplicates"
   ]
  },
  {
   "cell_type": "code",
   "execution_count": 39,
   "metadata": {},
   "outputs": [
    {
     "data": {
      "text/html": [
       "<div>\n",
       "<style scoped>\n",
       "    .dataframe tbody tr th:only-of-type {\n",
       "        vertical-align: middle;\n",
       "    }\n",
       "\n",
       "    .dataframe tbody tr th {\n",
       "        vertical-align: top;\n",
       "    }\n",
       "\n",
       "    .dataframe thead th {\n",
       "        text-align: right;\n",
       "    }\n",
       "</style>\n",
       "<table border=\"1\" class=\"dataframe\">\n",
       "  <thead>\n",
       "    <tr style=\"text-align: right;\">\n",
       "      <th></th>\n",
       "      <th>available</th>\n",
       "      <th>date</th>\n",
       "      <th>listing_id</th>\n",
       "      <th>price</th>\n",
       "      <th>rowsource</th>\n",
       "      <th>nan_grp</th>\n",
       "      <th>source_grp</th>\n",
       "    </tr>\n",
       "  </thead>\n",
       "  <tbody>\n",
       "    <tr>\n",
       "      <th>748850</th>\n",
       "      <td>t</td>\n",
       "      <td>2016-09-06</td>\n",
       "      <td>12898806</td>\n",
       "      <td>220.0</td>\n",
       "      <td>data\\boston_airbnb_open_data\\calendar.csv</td>\n",
       "      <td>ProvidedValue</td>\n",
       "      <td>data\\boston_airbnb_open_data\\calendar.csv - Pr...</td>\n",
       "    </tr>\n",
       "    <tr>\n",
       "      <th>748873</th>\n",
       "      <td>t</td>\n",
       "      <td>2016-09-06</td>\n",
       "      <td>12898806</td>\n",
       "      <td>220.0</td>\n",
       "      <td>data\\boston_airbnb_open_data\\calendar.csv</td>\n",
       "      <td>ProvidedValue</td>\n",
       "      <td>data\\boston_airbnb_open_data\\calendar.csv - Pr...</td>\n",
       "    </tr>\n",
       "    <tr>\n",
       "      <th>748849</th>\n",
       "      <td>t</td>\n",
       "      <td>2016-09-07</td>\n",
       "      <td>12898806</td>\n",
       "      <td>220.0</td>\n",
       "      <td>data\\boston_airbnb_open_data\\calendar.csv</td>\n",
       "      <td>ProvidedValue</td>\n",
       "      <td>data\\boston_airbnb_open_data\\calendar.csv - Pr...</td>\n",
       "    </tr>\n",
       "    <tr>\n",
       "      <th>748872</th>\n",
       "      <td>t</td>\n",
       "      <td>2016-09-07</td>\n",
       "      <td>12898806</td>\n",
       "      <td>220.0</td>\n",
       "      <td>data\\boston_airbnb_open_data\\calendar.csv</td>\n",
       "      <td>ProvidedValue</td>\n",
       "      <td>data\\boston_airbnb_open_data\\calendar.csv - Pr...</td>\n",
       "    </tr>\n",
       "    <tr>\n",
       "      <th>748848</th>\n",
       "      <td>t</td>\n",
       "      <td>2016-09-08</td>\n",
       "      <td>12898806</td>\n",
       "      <td>220.0</td>\n",
       "      <td>data\\boston_airbnb_open_data\\calendar.csv</td>\n",
       "      <td>ProvidedValue</td>\n",
       "      <td>data\\boston_airbnb_open_data\\calendar.csv - Pr...</td>\n",
       "    </tr>\n",
       "  </tbody>\n",
       "</table>\n",
       "</div>"
      ],
      "text/plain": [
       "       available       date  listing_id  price  \\\n",
       "748850         t 2016-09-06    12898806  220.0   \n",
       "748873         t 2016-09-06    12898806  220.0   \n",
       "748849         t 2016-09-07    12898806  220.0   \n",
       "748872         t 2016-09-07    12898806  220.0   \n",
       "748848         t 2016-09-08    12898806  220.0   \n",
       "\n",
       "                                        rowsource        nan_grp  \\\n",
       "748850  data\\boston_airbnb_open_data\\calendar.csv  ProvidedValue   \n",
       "748873  data\\boston_airbnb_open_data\\calendar.csv  ProvidedValue   \n",
       "748849  data\\boston_airbnb_open_data\\calendar.csv  ProvidedValue   \n",
       "748872  data\\boston_airbnb_open_data\\calendar.csv  ProvidedValue   \n",
       "748848  data\\boston_airbnb_open_data\\calendar.csv  ProvidedValue   \n",
       "\n",
       "                                               source_grp  \n",
       "748850  data\\boston_airbnb_open_data\\calendar.csv - Pr...  \n",
       "748873  data\\boston_airbnb_open_data\\calendar.csv - Pr...  \n",
       "748849  data\\boston_airbnb_open_data\\calendar.csv - Pr...  \n",
       "748872  data\\boston_airbnb_open_data\\calendar.csv - Pr...  \n",
       "748848  data\\boston_airbnb_open_data\\calendar.csv - Pr...  "
      ]
     },
     "execution_count": 39,
     "metadata": {},
     "output_type": "execute_result"
    }
   ],
   "source": [
    "filter_cond = (calendar.listing_id == 12898806)\n",
    "calendar.loc[filter_cond, :].sort_values(['date', 'listing_id']).head()"
   ]
  },
  {
   "cell_type": "markdown",
   "metadata": {},
   "source": [
    "> Duplicates on one listing_id."
   ]
  },
  {
   "cell_type": "markdown",
   "metadata": {},
   "source": [
    "#### Listing Granularity"
   ]
  },
  {
   "cell_type": "code",
   "execution_count": 40,
   "metadata": {
    "scrolled": true
   },
   "outputs": [
    {
     "data": {
      "text/html": [
       "<div>\n",
       "<style scoped>\n",
       "    .dataframe tbody tr th:only-of-type {\n",
       "        vertical-align: middle;\n",
       "    }\n",
       "\n",
       "    .dataframe tbody tr th {\n",
       "        vertical-align: top;\n",
       "    }\n",
       "\n",
       "    .dataframe thead th {\n",
       "        text-align: right;\n",
       "    }\n",
       "</style>\n",
       "<table border=\"1\" class=\"dataframe\">\n",
       "  <thead>\n",
       "    <tr style=\"text-align: right;\">\n",
       "      <th></th>\n",
       "      <th>duplicates</th>\n",
       "    </tr>\n",
       "    <tr>\n",
       "      <th>id</th>\n",
       "      <th></th>\n",
       "    </tr>\n",
       "  </thead>\n",
       "  <tbody>\n",
       "  </tbody>\n",
       "</table>\n",
       "</div>"
      ],
      "text/plain": [
       "Empty DataFrame\n",
       "Columns: [duplicates]\n",
       "Index: []"
      ]
     },
     "execution_count": 40,
     "metadata": {},
     "output_type": "execute_result"
    }
   ],
   "source": [
    "listings.groupby(['id']).size().to_frame('duplicates').query(\"duplicates>1\")"
   ]
  },
  {
   "cell_type": "code",
   "execution_count": 41,
   "metadata": {},
   "outputs": [
    {
     "data": {
      "text/html": [
       "<div>\n",
       "<style scoped>\n",
       "    .dataframe tbody tr th:only-of-type {\n",
       "        vertical-align: middle;\n",
       "    }\n",
       "\n",
       "    .dataframe tbody tr th {\n",
       "        vertical-align: top;\n",
       "    }\n",
       "\n",
       "    .dataframe thead th {\n",
       "        text-align: right;\n",
       "    }\n",
       "</style>\n",
       "<table border=\"1\" class=\"dataframe\">\n",
       "  <thead>\n",
       "    <tr style=\"text-align: right;\">\n",
       "      <th></th>\n",
       "      <th>calendar_last_scraped</th>\n",
       "      <th>first_review</th>\n",
       "      <th>host_since</th>\n",
       "      <th>last_review</th>\n",
       "      <th>last_scraped</th>\n",
       "    </tr>\n",
       "  </thead>\n",
       "  <tbody>\n",
       "    <tr>\n",
       "      <th>0</th>\n",
       "      <td>2016-09-06</td>\n",
       "      <td>NaT</td>\n",
       "      <td>2015-04-15</td>\n",
       "      <td>NaT</td>\n",
       "      <td>2016-09-07</td>\n",
       "    </tr>\n",
       "    <tr>\n",
       "      <th>1</th>\n",
       "      <td>2016-09-06</td>\n",
       "      <td>2014-06-01</td>\n",
       "      <td>2012-06-07</td>\n",
       "      <td>2016-08-13</td>\n",
       "      <td>2016-09-07</td>\n",
       "    </tr>\n",
       "    <tr>\n",
       "      <th>2</th>\n",
       "      <td>2016-09-06</td>\n",
       "      <td>2009-07-19</td>\n",
       "      <td>2009-05-11</td>\n",
       "      <td>2016-08-05</td>\n",
       "      <td>2016-09-07</td>\n",
       "    </tr>\n",
       "    <tr>\n",
       "      <th>3</th>\n",
       "      <td>2016-09-06</td>\n",
       "      <td>2016-08-28</td>\n",
       "      <td>2013-04-21</td>\n",
       "      <td>2016-08-28</td>\n",
       "      <td>2016-09-07</td>\n",
       "    </tr>\n",
       "    <tr>\n",
       "      <th>4</th>\n",
       "      <td>2016-09-06</td>\n",
       "      <td>2015-08-18</td>\n",
       "      <td>2014-05-11</td>\n",
       "      <td>2016-09-01</td>\n",
       "      <td>2016-09-07</td>\n",
       "    </tr>\n",
       "  </tbody>\n",
       "</table>\n",
       "</div>"
      ],
      "text/plain": [
       "  calendar_last_scraped first_review host_since last_review last_scraped\n",
       "0            2016-09-06          NaT 2015-04-15         NaT   2016-09-07\n",
       "1            2016-09-06   2014-06-01 2012-06-07  2016-08-13   2016-09-07\n",
       "2            2016-09-06   2009-07-19 2009-05-11  2016-08-05   2016-09-07\n",
       "3            2016-09-06   2016-08-28 2013-04-21  2016-08-28   2016-09-07\n",
       "4            2016-09-06   2015-08-18 2014-05-11  2016-09-01   2016-09-07"
      ]
     },
     "execution_count": 41,
     "metadata": {},
     "output_type": "execute_result"
    }
   ],
   "source": [
    "listings.select_dtypes(include=object)\\\n",
    "    .apply(pd.to_datetime, errors='ignore')\\\n",
    "    .select_dtypes(include=np.datetime64).head()"
   ]
  },
  {
   "cell_type": "markdown",
   "metadata": {},
   "source": [
    "> No duplicates. Granulated by listing. Aggregated dates (first, last, since)."
   ]
  },
  {
   "cell_type": "markdown",
   "metadata": {},
   "source": [
    "#### Reviews Granularity"
   ]
  },
  {
   "cell_type": "code",
   "execution_count": 42,
   "metadata": {},
   "outputs": [
    {
     "data": {
      "text/html": [
       "<div>\n",
       "<style scoped>\n",
       "    .dataframe tbody tr th:only-of-type {\n",
       "        vertical-align: middle;\n",
       "    }\n",
       "\n",
       "    .dataframe tbody tr th {\n",
       "        vertical-align: top;\n",
       "    }\n",
       "\n",
       "    .dataframe thead th {\n",
       "        text-align: right;\n",
       "    }\n",
       "</style>\n",
       "<table border=\"1\" class=\"dataframe\">\n",
       "  <thead>\n",
       "    <tr style=\"text-align: right;\">\n",
       "      <th></th>\n",
       "      <th>comments</th>\n",
       "      <th>date</th>\n",
       "      <th>id</th>\n",
       "      <th>listing_id</th>\n",
       "      <th>reviewer_id</th>\n",
       "      <th>reviewer_name</th>\n",
       "      <th>rowsource</th>\n",
       "    </tr>\n",
       "  </thead>\n",
       "  <tbody>\n",
       "    <tr>\n",
       "      <th>0</th>\n",
       "      <td>My stay at islam's place was really cool! Good...</td>\n",
       "      <td>2013-05-21</td>\n",
       "      <td>4724140</td>\n",
       "      <td>1178162</td>\n",
       "      <td>4298113</td>\n",
       "      <td>Olivier</td>\n",
       "      <td>data\\boston_airbnb_open_data\\reviews.csv</td>\n",
       "    </tr>\n",
       "    <tr>\n",
       "      <th>1</th>\n",
       "      <td>Great location for both airport and city - gre...</td>\n",
       "      <td>2013-05-29</td>\n",
       "      <td>4869189</td>\n",
       "      <td>1178162</td>\n",
       "      <td>6452964</td>\n",
       "      <td>Charlotte</td>\n",
       "      <td>data\\boston_airbnb_open_data\\reviews.csv</td>\n",
       "    </tr>\n",
       "    <tr>\n",
       "      <th>2</th>\n",
       "      <td>We really enjoyed our stay at Islams house. Fr...</td>\n",
       "      <td>2013-06-06</td>\n",
       "      <td>5003196</td>\n",
       "      <td>1178162</td>\n",
       "      <td>6449554</td>\n",
       "      <td>Sebastian</td>\n",
       "      <td>data\\boston_airbnb_open_data\\reviews.csv</td>\n",
       "    </tr>\n",
       "    <tr>\n",
       "      <th>3</th>\n",
       "      <td>The room was nice and clean and so were the co...</td>\n",
       "      <td>2013-06-15</td>\n",
       "      <td>5150351</td>\n",
       "      <td>1178162</td>\n",
       "      <td>2215611</td>\n",
       "      <td>Marine</td>\n",
       "      <td>data\\boston_airbnb_open_data\\reviews.csv</td>\n",
       "    </tr>\n",
       "    <tr>\n",
       "      <th>4</th>\n",
       "      <td>Great location. Just 5 mins walk from the Airp...</td>\n",
       "      <td>2013-06-16</td>\n",
       "      <td>5171140</td>\n",
       "      <td>1178162</td>\n",
       "      <td>6848427</td>\n",
       "      <td>Andrew</td>\n",
       "      <td>data\\boston_airbnb_open_data\\reviews.csv</td>\n",
       "    </tr>\n",
       "  </tbody>\n",
       "</table>\n",
       "</div>"
      ],
      "text/plain": [
       "                                            comments        date       id  \\\n",
       "0  My stay at islam's place was really cool! Good...  2013-05-21  4724140   \n",
       "1  Great location for both airport and city - gre...  2013-05-29  4869189   \n",
       "2  We really enjoyed our stay at Islams house. Fr...  2013-06-06  5003196   \n",
       "3  The room was nice and clean and so were the co...  2013-06-15  5150351   \n",
       "4  Great location. Just 5 mins walk from the Airp...  2013-06-16  5171140   \n",
       "\n",
       "   listing_id  reviewer_id reviewer_name  \\\n",
       "0     1178162      4298113       Olivier   \n",
       "1     1178162      6452964     Charlotte   \n",
       "2     1178162      6449554     Sebastian   \n",
       "3     1178162      2215611        Marine   \n",
       "4     1178162      6848427        Andrew   \n",
       "\n",
       "                                  rowsource  \n",
       "0  data\\boston_airbnb_open_data\\reviews.csv  \n",
       "1  data\\boston_airbnb_open_data\\reviews.csv  \n",
       "2  data\\boston_airbnb_open_data\\reviews.csv  \n",
       "3  data\\boston_airbnb_open_data\\reviews.csv  \n",
       "4  data\\boston_airbnb_open_data\\reviews.csv  "
      ]
     },
     "execution_count": 42,
     "metadata": {},
     "output_type": "execute_result"
    }
   ],
   "source": [
    "reviews.head()"
   ]
  },
  {
   "cell_type": "code",
   "execution_count": 43,
   "metadata": {},
   "outputs": [
    {
     "data": {
      "text/html": [
       "<style  type=\"text/css\" >\n",
       "    #T_fc58c736_5a1c_11e9_abcd_c49deda6369arow0_col3 {\n",
       "            width:  10em;\n",
       "             height:  80%;\n",
       "        }    #T_fc58c736_5a1c_11e9_abcd_c49deda6369arow1_col3 {\n",
       "            width:  10em;\n",
       "             height:  80%;\n",
       "        }    #T_fc58c736_5a1c_11e9_abcd_c49deda6369arow2_col3 {\n",
       "            width:  10em;\n",
       "             height:  80%;\n",
       "        }    #T_fc58c736_5a1c_11e9_abcd_c49deda6369arow3_col3 {\n",
       "            width:  10em;\n",
       "             height:  80%;\n",
       "        }    #T_fc58c736_5a1c_11e9_abcd_c49deda6369arow4_col3 {\n",
       "            width:  10em;\n",
       "             height:  80%;\n",
       "        }    #T_fc58c736_5a1c_11e9_abcd_c49deda6369arow5_col3 {\n",
       "            width:  10em;\n",
       "             height:  80%;\n",
       "        }    #T_fc58c736_5a1c_11e9_abcd_c49deda6369arow6_col3 {\n",
       "            width:  10em;\n",
       "             height:  80%;\n",
       "        }    #T_fc58c736_5a1c_11e9_abcd_c49deda6369arow7_col3 {\n",
       "            width:  10em;\n",
       "             height:  80%;\n",
       "        }    #T_fc58c736_5a1c_11e9_abcd_c49deda6369arow8_col3 {\n",
       "            width:  10em;\n",
       "             height:  80%;\n",
       "        }    #T_fc58c736_5a1c_11e9_abcd_c49deda6369arow9_col3 {\n",
       "            width:  10em;\n",
       "             height:  80%;\n",
       "        }    #T_fc58c736_5a1c_11e9_abcd_c49deda6369arow10_col3 {\n",
       "            width:  10em;\n",
       "             height:  80%;\n",
       "            background:  linear-gradient(90deg,#d65f5f 100.0%, transparent 0%);\n",
       "        }</style>  \n",
       "<table id=\"T_fc58c736_5a1c_11e9_abcd_c49deda6369a\" > \n",
       "<thead>    <tr> \n",
       "        <th class=\"blank level0\" ></th> \n",
       "        <th class=\"col_heading level0 col0\" >listing_id</th> \n",
       "        <th class=\"col_heading level0 col1\" >reviewer_id</th> \n",
       "        <th class=\"col_heading level0 col2\" >date</th> \n",
       "        <th class=\"col_heading level0 col3\" >duplicates</th> \n",
       "    </tr></thead> \n",
       "<tbody>    <tr> \n",
       "        <th id=\"T_fc58c736_5a1c_11e9_abcd_c49deda6369alevel0_row0\" class=\"row_heading level0 row0\" >0</th> \n",
       "        <td id=\"T_fc58c736_5a1c_11e9_abcd_c49deda6369arow0_col0\" class=\"data row0 col0\" >447523</td> \n",
       "        <td id=\"T_fc58c736_5a1c_11e9_abcd_c49deda6369arow0_col1\" class=\"data row0 col1\" >35607120</td> \n",
       "        <td id=\"T_fc58c736_5a1c_11e9_abcd_c49deda6369arow0_col2\" class=\"data row0 col2\" >2015-07-06</td> \n",
       "        <td id=\"T_fc58c736_5a1c_11e9_abcd_c49deda6369arow0_col3\" class=\"data row0 col3\" >2</td> \n",
       "    </tr>    <tr> \n",
       "        <th id=\"T_fc58c736_5a1c_11e9_abcd_c49deda6369alevel0_row1\" class=\"row_heading level0 row1\" >1</th> \n",
       "        <td id=\"T_fc58c736_5a1c_11e9_abcd_c49deda6369arow1_col0\" class=\"data row1 col0\" >568234</td> \n",
       "        <td id=\"T_fc58c736_5a1c_11e9_abcd_c49deda6369arow1_col1\" class=\"data row1 col1\" >16199611</td> \n",
       "        <td id=\"T_fc58c736_5a1c_11e9_abcd_c49deda6369arow1_col2\" class=\"data row1 col2\" >2014-09-08</td> \n",
       "        <td id=\"T_fc58c736_5a1c_11e9_abcd_c49deda6369arow1_col3\" class=\"data row1 col3\" >2</td> \n",
       "    </tr>    <tr> \n",
       "        <th id=\"T_fc58c736_5a1c_11e9_abcd_c49deda6369alevel0_row2\" class=\"row_heading level0 row2\" >2</th> \n",
       "        <td id=\"T_fc58c736_5a1c_11e9_abcd_c49deda6369arow2_col0\" class=\"data row2 col0\" >1173306</td> \n",
       "        <td id=\"T_fc58c736_5a1c_11e9_abcd_c49deda6369arow2_col1\" class=\"data row2 col1\" >8492099</td> \n",
       "        <td id=\"T_fc58c736_5a1c_11e9_abcd_c49deda6369arow2_col2\" class=\"data row2 col2\" >2013-09-06</td> \n",
       "        <td id=\"T_fc58c736_5a1c_11e9_abcd_c49deda6369arow2_col3\" class=\"data row2 col3\" >2</td> \n",
       "    </tr>    <tr> \n",
       "        <th id=\"T_fc58c736_5a1c_11e9_abcd_c49deda6369alevel0_row3\" class=\"row_heading level0 row3\" >3</th> \n",
       "        <td id=\"T_fc58c736_5a1c_11e9_abcd_c49deda6369arow3_col0\" class=\"data row3 col0\" >1529321</td> \n",
       "        <td id=\"T_fc58c736_5a1c_11e9_abcd_c49deda6369arow3_col1\" class=\"data row3 col1\" >30877683</td> \n",
       "        <td id=\"T_fc58c736_5a1c_11e9_abcd_c49deda6369arow3_col2\" class=\"data row3 col2\" >2015-05-15</td> \n",
       "        <td id=\"T_fc58c736_5a1c_11e9_abcd_c49deda6369arow3_col3\" class=\"data row3 col3\" >2</td> \n",
       "    </tr>    <tr> \n",
       "        <th id=\"T_fc58c736_5a1c_11e9_abcd_c49deda6369alevel0_row4\" class=\"row_heading level0 row4\" >4</th> \n",
       "        <td id=\"T_fc58c736_5a1c_11e9_abcd_c49deda6369arow4_col0\" class=\"data row4 col0\" >3533224</td> \n",
       "        <td id=\"T_fc58c736_5a1c_11e9_abcd_c49deda6369arow4_col1\" class=\"data row4 col1\" >39668556</td> \n",
       "        <td id=\"T_fc58c736_5a1c_11e9_abcd_c49deda6369arow4_col2\" class=\"data row4 col2\" >2015-12-01</td> \n",
       "        <td id=\"T_fc58c736_5a1c_11e9_abcd_c49deda6369arow4_col3\" class=\"data row4 col3\" >2</td> \n",
       "    </tr>    <tr> \n",
       "        <th id=\"T_fc58c736_5a1c_11e9_abcd_c49deda6369alevel0_row5\" class=\"row_heading level0 row5\" >5</th> \n",
       "        <td id=\"T_fc58c736_5a1c_11e9_abcd_c49deda6369arow5_col0\" class=\"data row5 col0\" >3866526</td> \n",
       "        <td id=\"T_fc58c736_5a1c_11e9_abcd_c49deda6369arow5_col1\" class=\"data row5 col1\" >63239764</td> \n",
       "        <td id=\"T_fc58c736_5a1c_11e9_abcd_c49deda6369arow5_col2\" class=\"data row5 col2\" >2016-03-18</td> \n",
       "        <td id=\"T_fc58c736_5a1c_11e9_abcd_c49deda6369arow5_col3\" class=\"data row5 col3\" >2</td> \n",
       "    </tr>    <tr> \n",
       "        <th id=\"T_fc58c736_5a1c_11e9_abcd_c49deda6369alevel0_row6\" class=\"row_heading level0 row6\" >6</th> \n",
       "        <td id=\"T_fc58c736_5a1c_11e9_abcd_c49deda6369arow6_col0\" class=\"data row6 col0\" >3897963</td> \n",
       "        <td id=\"T_fc58c736_5a1c_11e9_abcd_c49deda6369arow6_col1\" class=\"data row6 col1\" >47193495</td> \n",
       "        <td id=\"T_fc58c736_5a1c_11e9_abcd_c49deda6369arow6_col2\" class=\"data row6 col2\" >2016-04-07</td> \n",
       "        <td id=\"T_fc58c736_5a1c_11e9_abcd_c49deda6369arow6_col3\" class=\"data row6 col3\" >2</td> \n",
       "    </tr>    <tr> \n",
       "        <th id=\"T_fc58c736_5a1c_11e9_abcd_c49deda6369alevel0_row7\" class=\"row_heading level0 row7\" >7</th> \n",
       "        <td id=\"T_fc58c736_5a1c_11e9_abcd_c49deda6369arow7_col0\" class=\"data row7 col0\" >3897995</td> \n",
       "        <td id=\"T_fc58c736_5a1c_11e9_abcd_c49deda6369arow7_col1\" class=\"data row7 col1\" >39441871</td> \n",
       "        <td id=\"T_fc58c736_5a1c_11e9_abcd_c49deda6369arow7_col2\" class=\"data row7 col2\" >2016-03-23</td> \n",
       "        <td id=\"T_fc58c736_5a1c_11e9_abcd_c49deda6369arow7_col3\" class=\"data row7 col3\" >2</td> \n",
       "    </tr>    <tr> \n",
       "        <th id=\"T_fc58c736_5a1c_11e9_abcd_c49deda6369alevel0_row8\" class=\"row_heading level0 row8\" >8</th> \n",
       "        <td id=\"T_fc58c736_5a1c_11e9_abcd_c49deda6369arow8_col0\" class=\"data row8 col0\" >3901439</td> \n",
       "        <td id=\"T_fc58c736_5a1c_11e9_abcd_c49deda6369arow8_col1\" class=\"data row8 col1\" >9618964</td> \n",
       "        <td id=\"T_fc58c736_5a1c_11e9_abcd_c49deda6369arow8_col2\" class=\"data row8 col2\" >2016-03-24</td> \n",
       "        <td id=\"T_fc58c736_5a1c_11e9_abcd_c49deda6369arow8_col3\" class=\"data row8 col3\" >2</td> \n",
       "    </tr>    <tr> \n",
       "        <th id=\"T_fc58c736_5a1c_11e9_abcd_c49deda6369alevel0_row9\" class=\"row_heading level0 row9\" >9</th> \n",
       "        <td id=\"T_fc58c736_5a1c_11e9_abcd_c49deda6369arow9_col0\" class=\"data row9 col0\" >4402209</td> \n",
       "        <td id=\"T_fc58c736_5a1c_11e9_abcd_c49deda6369arow9_col1\" class=\"data row9 col1\" >63239764</td> \n",
       "        <td id=\"T_fc58c736_5a1c_11e9_abcd_c49deda6369arow9_col2\" class=\"data row9 col2\" >2016-03-25</td> \n",
       "        <td id=\"T_fc58c736_5a1c_11e9_abcd_c49deda6369arow9_col3\" class=\"data row9 col3\" >2</td> \n",
       "    </tr>    <tr> \n",
       "        <th id=\"T_fc58c736_5a1c_11e9_abcd_c49deda6369alevel0_row10\" class=\"row_heading level0 row10\" >10</th> \n",
       "        <td id=\"T_fc58c736_5a1c_11e9_abcd_c49deda6369arow10_col0\" class=\"data row10 col0\" >11826815</td> \n",
       "        <td id=\"T_fc58c736_5a1c_11e9_abcd_c49deda6369arow10_col1\" class=\"data row10 col1\" >51343202</td> \n",
       "        <td id=\"T_fc58c736_5a1c_11e9_abcd_c49deda6369arow10_col2\" class=\"data row10 col2\" >2016-03-18</td> \n",
       "        <td id=\"T_fc58c736_5a1c_11e9_abcd_c49deda6369arow10_col3\" class=\"data row10 col3\" >3</td> \n",
       "    </tr></tbody> \n",
       "</table> "
      ],
      "text/plain": [
       "<pandas.io.formats.style.Styler at 0x180428a0e48>"
      ]
     },
     "execution_count": 43,
     "metadata": {},
     "output_type": "execute_result"
    }
   ],
   "source": [
    "reviews_duplicated = reviews\\\n",
    "    .groupby(['listing_id', 'reviewer_id', 'date'])\\\n",
    "    .size()\\\n",
    "    .to_frame(\"duplicates\")\\\n",
    "    .query(\"duplicates>1\")\\\n",
    "    .reset_index()\n",
    "reviews_duplicated.style.bar(subset=['duplicates'])"
   ]
  },
  {
   "cell_type": "markdown",
   "metadata": {},
   "source": [
    "##### <ol> Examples of Reviews Duplicates"
   ]
  },
  {
   "cell_type": "code",
   "execution_count": 44,
   "metadata": {
    "scrolled": false
   },
   "outputs": [
    {
     "data": {
      "text/html": [
       "<style  type=\"text/css\" >\n",
       "    #T_fcc4996e_5a1c_11e9_aef2_c49deda6369arow0_col4 {\n",
       "            background-color:  #bcc7e1;\n",
       "        }    #T_fcc4996e_5a1c_11e9_aef2_c49deda6369arow1_col4 {\n",
       "            background-color:  #bcc7e1;\n",
       "        }    #T_fcc4996e_5a1c_11e9_aef2_c49deda6369arow2_col4 {\n",
       "            background-color:  #fff7fb;\n",
       "        }    #T_fcc4996e_5a1c_11e9_aef2_c49deda6369arow3_col4 {\n",
       "            background-color:  #fff7fb;\n",
       "        }    #T_fcc4996e_5a1c_11e9_aef2_c49deda6369arow4_col4 {\n",
       "            background-color:  #023858;\n",
       "        }    #T_fcc4996e_5a1c_11e9_aef2_c49deda6369arow5_col4 {\n",
       "            background-color:  #023858;\n",
       "        }</style>  \n",
       "<table id=\"T_fcc4996e_5a1c_11e9_aef2_c49deda6369a\" > \n",
       "<thead>    <tr> \n",
       "        <th class=\"blank level0\" ></th> \n",
       "        <th class=\"col_heading level0 col0\" >comments</th> \n",
       "        <th class=\"col_heading level0 col1\" >date</th> \n",
       "        <th class=\"col_heading level0 col2\" >id</th> \n",
       "        <th class=\"col_heading level0 col3\" >listing_id</th> \n",
       "        <th class=\"col_heading level0 col4\" >reviewer_id</th> \n",
       "        <th class=\"col_heading level0 col5\" >reviewer_name</th> \n",
       "        <th class=\"col_heading level0 col6\" >rowsource</th> \n",
       "        <th class=\"col_heading level0 col7\" >_merge</th> \n",
       "    </tr></thead> \n",
       "<tbody>    <tr> \n",
       "        <th id=\"T_fcc4996e_5a1c_11e9_aef2_c49deda6369alevel0_row0\" class=\"row_heading level0 row0\" >6558</th> \n",
       "        <td id=\"T_fcc4996e_5a1c_11e9_aef2_c49deda6369arow0_col0\" class=\"data row0 col0\" >Nice neighborhood with a lot of local life and restaurants. Check in was simple and I was never bothered. </td> \n",
       "        <td id=\"T_fcc4996e_5a1c_11e9_aef2_c49deda6369arow0_col1\" class=\"data row0 col1\" >2015-05-15</td> \n",
       "        <td id=\"T_fcc4996e_5a1c_11e9_aef2_c49deda6369arow0_col2\" class=\"data row0 col2\" >32216803</td> \n",
       "        <td id=\"T_fcc4996e_5a1c_11e9_aef2_c49deda6369arow0_col3\" class=\"data row0 col3\" >1529321</td> \n",
       "        <td id=\"T_fcc4996e_5a1c_11e9_aef2_c49deda6369arow0_col4\" class=\"data row0 col4\" >30877683</td> \n",
       "        <td id=\"T_fcc4996e_5a1c_11e9_aef2_c49deda6369arow0_col5\" class=\"data row0 col5\" >Jonathan</td> \n",
       "        <td id=\"T_fcc4996e_5a1c_11e9_aef2_c49deda6369arow0_col6\" class=\"data row0 col6\" >data\\boston_airbnb_open_data\\reviews.csv</td> \n",
       "        <td id=\"T_fcc4996e_5a1c_11e9_aef2_c49deda6369arow0_col7\" class=\"data row0 col7\" >both</td> \n",
       "    </tr>    <tr> \n",
       "        <th id=\"T_fcc4996e_5a1c_11e9_aef2_c49deda6369alevel0_row1\" class=\"row_heading level0 row1\" >6559</th> \n",
       "        <td id=\"T_fcc4996e_5a1c_11e9_aef2_c49deda6369arow1_col0\" class=\"data row1 col0\" >A+ treatment all the way, you are an adult in a friendly part of town. Nice room and choice of two bathrooms.</td> \n",
       "        <td id=\"T_fcc4996e_5a1c_11e9_aef2_c49deda6369arow1_col1\" class=\"data row1 col1\" >2015-05-15</td> \n",
       "        <td id=\"T_fcc4996e_5a1c_11e9_aef2_c49deda6369arow1_col2\" class=\"data row1 col2\" >32223055</td> \n",
       "        <td id=\"T_fcc4996e_5a1c_11e9_aef2_c49deda6369arow1_col3\" class=\"data row1 col3\" >1529321</td> \n",
       "        <td id=\"T_fcc4996e_5a1c_11e9_aef2_c49deda6369arow1_col4\" class=\"data row1 col4\" >30877683</td> \n",
       "        <td id=\"T_fcc4996e_5a1c_11e9_aef2_c49deda6369arow1_col5\" class=\"data row1 col5\" >Jonathan</td> \n",
       "        <td id=\"T_fcc4996e_5a1c_11e9_aef2_c49deda6369arow1_col6\" class=\"data row1 col6\" >data\\boston_airbnb_open_data\\reviews.csv</td> \n",
       "        <td id=\"T_fcc4996e_5a1c_11e9_aef2_c49deda6369arow1_col7\" class=\"data row1 col7\" >both</td> \n",
       "    </tr>    <tr> \n",
       "        <th id=\"T_fcc4996e_5a1c_11e9_aef2_c49deda6369alevel0_row2\" class=\"row_heading level0 row2\" >29370</th> \n",
       "        <td id=\"T_fcc4996e_5a1c_11e9_aef2_c49deda6369arow2_col0\" class=\"data row2 col0\" >The reservation was canceled 23 days before arrival. This is an automated posting.</td> \n",
       "        <td id=\"T_fcc4996e_5a1c_11e9_aef2_c49deda6369arow2_col1\" class=\"data row2 col1\" >2014-09-08</td> \n",
       "        <td id=\"T_fcc4996e_5a1c_11e9_aef2_c49deda6369arow2_col2\" class=\"data row2 col2\" >19256952</td> \n",
       "        <td id=\"T_fcc4996e_5a1c_11e9_aef2_c49deda6369arow2_col3\" class=\"data row2 col3\" >568234</td> \n",
       "        <td id=\"T_fcc4996e_5a1c_11e9_aef2_c49deda6369arow2_col4\" class=\"data row2 col4\" >16199611</td> \n",
       "        <td id=\"T_fcc4996e_5a1c_11e9_aef2_c49deda6369arow2_col5\" class=\"data row2 col5\" >Lyn</td> \n",
       "        <td id=\"T_fcc4996e_5a1c_11e9_aef2_c49deda6369arow2_col6\" class=\"data row2 col6\" >data\\boston_airbnb_open_data\\reviews.csv</td> \n",
       "        <td id=\"T_fcc4996e_5a1c_11e9_aef2_c49deda6369arow2_col7\" class=\"data row2 col7\" >both</td> \n",
       "    </tr>    <tr> \n",
       "        <th id=\"T_fcc4996e_5a1c_11e9_aef2_c49deda6369alevel0_row3\" class=\"row_heading level0 row3\" >29371</th> \n",
       "        <td id=\"T_fcc4996e_5a1c_11e9_aef2_c49deda6369arow3_col0\" class=\"data row3 col0\" >The reservation was canceled 24 days before arrival. This is an automated posting.</td> \n",
       "        <td id=\"T_fcc4996e_5a1c_11e9_aef2_c49deda6369arow3_col1\" class=\"data row3 col1\" >2014-09-08</td> \n",
       "        <td id=\"T_fcc4996e_5a1c_11e9_aef2_c49deda6369arow3_col2\" class=\"data row3 col2\" >19256954</td> \n",
       "        <td id=\"T_fcc4996e_5a1c_11e9_aef2_c49deda6369arow3_col3\" class=\"data row3 col3\" >568234</td> \n",
       "        <td id=\"T_fcc4996e_5a1c_11e9_aef2_c49deda6369arow3_col4\" class=\"data row3 col4\" >16199611</td> \n",
       "        <td id=\"T_fcc4996e_5a1c_11e9_aef2_c49deda6369arow3_col5\" class=\"data row3 col5\" >Lyn</td> \n",
       "        <td id=\"T_fcc4996e_5a1c_11e9_aef2_c49deda6369arow3_col6\" class=\"data row3 col6\" >data\\boston_airbnb_open_data\\reviews.csv</td> \n",
       "        <td id=\"T_fcc4996e_5a1c_11e9_aef2_c49deda6369arow3_col7\" class=\"data row3 col7\" >both</td> \n",
       "    </tr>    <tr> \n",
       "        <th id=\"T_fcc4996e_5a1c_11e9_aef2_c49deda6369alevel0_row4\" class=\"row_heading level0 row4\" >30826</th> \n",
       "        <td id=\"T_fcc4996e_5a1c_11e9_aef2_c49deda6369arow4_col0\" class=\"data row4 col0\" >My night at Aris house was perfect yet again! Thank you so much for hosting me Ari!!</td> \n",
       "        <td id=\"T_fcc4996e_5a1c_11e9_aef2_c49deda6369arow4_col1\" class=\"data row4 col1\" >2016-03-25</td> \n",
       "        <td id=\"T_fcc4996e_5a1c_11e9_aef2_c49deda6369arow4_col2\" class=\"data row4 col2\" >66858887</td> \n",
       "        <td id=\"T_fcc4996e_5a1c_11e9_aef2_c49deda6369arow4_col3\" class=\"data row4 col3\" >4402209</td> \n",
       "        <td id=\"T_fcc4996e_5a1c_11e9_aef2_c49deda6369arow4_col4\" class=\"data row4 col4\" >63239764</td> \n",
       "        <td id=\"T_fcc4996e_5a1c_11e9_aef2_c49deda6369arow4_col5\" class=\"data row4 col5\" >Sandiya</td> \n",
       "        <td id=\"T_fcc4996e_5a1c_11e9_aef2_c49deda6369arow4_col6\" class=\"data row4 col6\" >data\\boston_airbnb_open_data\\reviews.csv</td> \n",
       "        <td id=\"T_fcc4996e_5a1c_11e9_aef2_c49deda6369arow4_col7\" class=\"data row4 col7\" >both</td> \n",
       "    </tr>    <tr> \n",
       "        <th id=\"T_fcc4996e_5a1c_11e9_aef2_c49deda6369alevel0_row5\" class=\"row_heading level0 row5\" >30827</th> \n",
       "        <td id=\"T_fcc4996e_5a1c_11e9_aef2_c49deda6369arow5_col0\" class=\"data row5 col0\" >The hosts communication was great,  the listing was exactly as described definitely stay at Aris house if you need a place in Boston.</td> \n",
       "        <td id=\"T_fcc4996e_5a1c_11e9_aef2_c49deda6369arow5_col1\" class=\"data row5 col1\" >2016-03-25</td> \n",
       "        <td id=\"T_fcc4996e_5a1c_11e9_aef2_c49deda6369arow5_col2\" class=\"data row5 col2\" >66963792</td> \n",
       "        <td id=\"T_fcc4996e_5a1c_11e9_aef2_c49deda6369arow5_col3\" class=\"data row5 col3\" >4402209</td> \n",
       "        <td id=\"T_fcc4996e_5a1c_11e9_aef2_c49deda6369arow5_col4\" class=\"data row5 col4\" >63239764</td> \n",
       "        <td id=\"T_fcc4996e_5a1c_11e9_aef2_c49deda6369arow5_col5\" class=\"data row5 col5\" >Sandiya</td> \n",
       "        <td id=\"T_fcc4996e_5a1c_11e9_aef2_c49deda6369arow5_col6\" class=\"data row5 col6\" >data\\boston_airbnb_open_data\\reviews.csv</td> \n",
       "        <td id=\"T_fcc4996e_5a1c_11e9_aef2_c49deda6369arow5_col7\" class=\"data row5 col7\" >both</td> \n",
       "    </tr></tbody> \n",
       "</table> "
      ],
      "text/plain": [
       "<pandas.io.formats.style.Styler at 0x180428a0048>"
      ]
     },
     "execution_count": 44,
     "metadata": {},
     "output_type": "execute_result"
    }
   ],
   "source": [
    "reviews.merge(reviews_duplicated.drop('duplicates', axis=1),\n",
    "              on=['listing_id', 'reviewer_id', 'date'], \n",
    "              how='left',\n",
    "              indicator=True)\\\n",
    "    .query(\"_merge=='both'\").head(6)\\\n",
    "    .style.background_gradient(subset=['reviewer_id'])"
   ]
  },
  {
   "cell_type": "markdown",
   "metadata": {},
   "source": [
    "> Granulated at the listing_id, reviewer_id, and date level. Some duplicates by automation. Some manual duplicates by reviewer with different commets for same date and listing."
   ]
  },
  {
   "cell_type": "markdown",
   "metadata": {},
   "source": [
    "**Granularity Findings**\n",
    "* The calendar dataset is granulated at the date, listing_id level.\n",
    "    * This dataset has duplicates for listing_id 12898806.\n",
    "* The listings dataset is granulated at the id level.\n",
    "    * No duplicates.\n",
    "* The reviews dataset is granulated at the date, listing_id, reviewer_id level.\n",
    "    * This dataset has some meaningful duplicates made by the reviewer and some automated duplicates."
   ]
  },
  {
   "cell_type": "markdown",
   "metadata": {},
   "source": [
    "### <li> Data Understanding: Testing Relationships"
   ]
  },
  {
   "cell_type": "markdown",
   "metadata": {},
   "source": [
    "#### Relationship Between Null Prices at calendar_last_scraped"
   ]
  },
  {
   "cell_type": "code",
   "execution_count": 45,
   "metadata": {},
   "outputs": [
    {
     "name": "stdout",
     "output_type": "stream",
     "text": [
      "Sampled 100 listing ids.\n"
     ]
    }
   ],
   "source": [
    "listing_sample = calendar[~calendar.price.isna()].sample(200).listing_id.unique()[:100]\n",
    "print(f\"Sampled {len(listing_sample)} listing ids.\")"
   ]
  },
  {
   "cell_type": "code",
   "execution_count": 46,
   "metadata": {},
   "outputs": [],
   "source": [
    "calendar_sample = calendar.query(f\"listing_id == {list(listing_sample)}\")"
   ]
  },
  {
   "cell_type": "code",
   "execution_count": 47,
   "metadata": {},
   "outputs": [],
   "source": [
    "airbnb_evaluation = calendar_sample.merge(listings,\n",
    "                      left_on='listing_id',\n",
    "                      right_on='id',\n",
    "                      how='inner',\n",
    "                      suffixes=['', '_last'])\n",
    "airbnb_evaluation.calendar_last_scraped = pd.to_datetime(airbnb_evaluation.calendar_last_scraped)"
   ]
  },
  {
   "cell_type": "code",
   "execution_count": 48,
   "metadata": {},
   "outputs": [
    {
     "data": {
      "text/plain": [
       "Index(['calendar_last_scraped', 'last_review', 'last_scraped'], dtype='object')"
      ]
     },
     "execution_count": 48,
     "metadata": {},
     "output_type": "execute_result"
    }
   ],
   "source": [
    "listings.columns[listings.columns.str.contains('last')]"
   ]
  },
  {
   "cell_type": "code",
   "execution_count": 49,
   "metadata": {
    "scrolled": false
   },
   "outputs": [
    {
     "data": {
      "text/html": [
       "<div>\n",
       "<style scoped>\n",
       "    .dataframe tbody tr th:only-of-type {\n",
       "        vertical-align: middle;\n",
       "    }\n",
       "\n",
       "    .dataframe tbody tr th {\n",
       "        vertical-align: top;\n",
       "    }\n",
       "\n",
       "    .dataframe thead th {\n",
       "        text-align: right;\n",
       "    }\n",
       "</style>\n",
       "<table border=\"1\" class=\"dataframe\">\n",
       "  <thead>\n",
       "    <tr style=\"text-align: right;\">\n",
       "      <th></th>\n",
       "      <th>listing_id</th>\n",
       "      <th>price</th>\n",
       "      <th>price_last</th>\n",
       "      <th>date</th>\n",
       "      <th>calendar_last_scraped</th>\n",
       "    </tr>\n",
       "  </thead>\n",
       "  <tbody>\n",
       "    <tr>\n",
       "      <th>364</th>\n",
       "      <td>8473851</td>\n",
       "      <td>NaN</td>\n",
       "      <td>$50.00</td>\n",
       "      <td>2016-09-06</td>\n",
       "      <td>2016-09-06</td>\n",
       "    </tr>\n",
       "    <tr>\n",
       "      <th>729</th>\n",
       "      <td>12806707</td>\n",
       "      <td>NaN</td>\n",
       "      <td>$60.00</td>\n",
       "      <td>2016-09-06</td>\n",
       "      <td>2016-09-06</td>\n",
       "    </tr>\n",
       "    <tr>\n",
       "      <th>1094</th>\n",
       "      <td>728238</td>\n",
       "      <td>NaN</td>\n",
       "      <td>$60.00</td>\n",
       "      <td>2016-09-06</td>\n",
       "      <td>2016-09-06</td>\n",
       "    </tr>\n",
       "    <tr>\n",
       "      <th>1459</th>\n",
       "      <td>4538423</td>\n",
       "      <td>NaN</td>\n",
       "      <td>$37.00</td>\n",
       "      <td>2016-09-06</td>\n",
       "      <td>2016-09-06</td>\n",
       "    </tr>\n",
       "    <tr>\n",
       "      <th>1824</th>\n",
       "      <td>1373520</td>\n",
       "      <td>NaN</td>\n",
       "      <td>$125.00</td>\n",
       "      <td>2016-09-06</td>\n",
       "      <td>2016-09-06</td>\n",
       "    </tr>\n",
       "  </tbody>\n",
       "</table>\n",
       "</div>"
      ],
      "text/plain": [
       "      listing_id  price price_last       date calendar_last_scraped\n",
       "364      8473851    NaN     $50.00 2016-09-06            2016-09-06\n",
       "729     12806707    NaN     $60.00 2016-09-06            2016-09-06\n",
       "1094      728238    NaN     $60.00 2016-09-06            2016-09-06\n",
       "1459     4538423    NaN     $37.00 2016-09-06            2016-09-06\n",
       "1824     1373520    NaN    $125.00 2016-09-06            2016-09-06"
      ]
     },
     "execution_count": 49,
     "metadata": {},
     "output_type": "execute_result"
    }
   ],
   "source": [
    "# attempting to create relationship between null prices price at calendar_last_scraped\n",
    "airbnb_evaluation[['listing_id', 'price', 'price_last', 'date', 'calendar_last_scraped']]\\\n",
    "    .query(\"date==calendar_last_scraped\").head()"
   ]
  },
  {
   "cell_type": "markdown",
   "metadata": {},
   "source": [
    "> **Findings**: No relationship. We cannot inputate using this method."
   ]
  },
  {
   "cell_type": "markdown",
   "metadata": {},
   "source": [
    "#### Testing Merge with rowsource and Geographical Columns"
   ]
  },
  {
   "cell_type": "code",
   "execution_count": 50,
   "metadata": {},
   "outputs": [],
   "source": [
    "geo_columns = list(airbnb_evaluation\\\n",
    "                    .select_dtypes(include=object)\\\n",
    "                    .columns[-10:][:-6]\\\n",
    "                    .drop(['space', 'street']))+['rowsource']"
   ]
  },
  {
   "cell_type": "code",
   "execution_count": 51,
   "metadata": {},
   "outputs": [
    {
     "data": {
      "text/plain": [
       "smart_location     state  rowsource                                \n",
       "Boston, MA         MA     data\\boston_airbnb_open_data\\calendar.csv    12410\n",
       "Jamaica Plain, MA  MA     data\\boston_airbnb_open_data\\calendar.csv      365\n",
       "Seattle, WA        WA     data\\seattle\\calendar.csv                    23725\n",
       "dtype: int64"
      ]
     },
     "execution_count": 51,
     "metadata": {},
     "output_type": "execute_result"
    }
   ],
   "source": [
    "airbnb_evaluation[geo_columns].groupby(geo_columns).size()"
   ]
  },
  {
   "cell_type": "markdown",
   "metadata": {},
   "source": [
    "> **Findings**: Merging was succesful at the listing_id and id level. We still have to check the integrity of the data on mergin. Were there duplicates introduced?"
   ]
  },
  {
   "cell_type": "markdown",
   "metadata": {},
   "source": [
    "#### Looking for Meaningful Relationship Between Listing and Reivews"
   ]
  },
  {
   "cell_type": "code",
   "execution_count": 52,
   "metadata": {
    "scrolled": true
   },
   "outputs": [
    {
     "data": {
      "text/html": [
       "<div>\n",
       "<style scoped>\n",
       "    .dataframe tbody tr th:only-of-type {\n",
       "        vertical-align: middle;\n",
       "    }\n",
       "\n",
       "    .dataframe tbody tr th {\n",
       "        vertical-align: top;\n",
       "    }\n",
       "\n",
       "    .dataframe thead th {\n",
       "        text-align: right;\n",
       "    }\n",
       "</style>\n",
       "<table border=\"1\" class=\"dataframe\">\n",
       "  <thead>\n",
       "    <tr style=\"text-align: right;\">\n",
       "      <th></th>\n",
       "      <th>listing_id</th>\n",
       "      <th>first_review</th>\n",
       "      <th>host_id</th>\n",
       "      <th>host_identity_verified</th>\n",
       "      <th>id</th>\n",
       "      <th>last_review</th>\n",
       "      <th>number_of_reviews</th>\n",
       "      <th>review_scores_accuracy</th>\n",
       "      <th>review_scores_checkin</th>\n",
       "      <th>review_scores_cleanliness</th>\n",
       "      <th>review_scores_communication</th>\n",
       "      <th>review_scores_location</th>\n",
       "      <th>review_scores_rating</th>\n",
       "      <th>review_scores_value</th>\n",
       "      <th>reviews_per_month</th>\n",
       "      <th>scrape_id</th>\n",
       "    </tr>\n",
       "  </thead>\n",
       "  <tbody>\n",
       "    <tr>\n",
       "      <th>0</th>\n",
       "      <td>8473851</td>\n",
       "      <td>2015-10-02</td>\n",
       "      <td>44625108</td>\n",
       "      <td>t</td>\n",
       "      <td>8473851</td>\n",
       "      <td>2016-08-14</td>\n",
       "      <td>14</td>\n",
       "      <td>10.0</td>\n",
       "      <td>10.0</td>\n",
       "      <td>10.0</td>\n",
       "      <td>10.0</td>\n",
       "      <td>9.0</td>\n",
       "      <td>99.0</td>\n",
       "      <td>10.0</td>\n",
       "      <td>1.23</td>\n",
       "      <td>20160906204935</td>\n",
       "    </tr>\n",
       "    <tr>\n",
       "      <th>1</th>\n",
       "      <td>8473851</td>\n",
       "      <td>2015-10-02</td>\n",
       "      <td>44625108</td>\n",
       "      <td>t</td>\n",
       "      <td>8473851</td>\n",
       "      <td>2016-08-14</td>\n",
       "      <td>14</td>\n",
       "      <td>10.0</td>\n",
       "      <td>10.0</td>\n",
       "      <td>10.0</td>\n",
       "      <td>10.0</td>\n",
       "      <td>9.0</td>\n",
       "      <td>99.0</td>\n",
       "      <td>10.0</td>\n",
       "      <td>1.23</td>\n",
       "      <td>20160906204935</td>\n",
       "    </tr>\n",
       "    <tr>\n",
       "      <th>2</th>\n",
       "      <td>8473851</td>\n",
       "      <td>2015-10-02</td>\n",
       "      <td>44625108</td>\n",
       "      <td>t</td>\n",
       "      <td>8473851</td>\n",
       "      <td>2016-08-14</td>\n",
       "      <td>14</td>\n",
       "      <td>10.0</td>\n",
       "      <td>10.0</td>\n",
       "      <td>10.0</td>\n",
       "      <td>10.0</td>\n",
       "      <td>9.0</td>\n",
       "      <td>99.0</td>\n",
       "      <td>10.0</td>\n",
       "      <td>1.23</td>\n",
       "      <td>20160906204935</td>\n",
       "    </tr>\n",
       "    <tr>\n",
       "      <th>3</th>\n",
       "      <td>8473851</td>\n",
       "      <td>2015-10-02</td>\n",
       "      <td>44625108</td>\n",
       "      <td>t</td>\n",
       "      <td>8473851</td>\n",
       "      <td>2016-08-14</td>\n",
       "      <td>14</td>\n",
       "      <td>10.0</td>\n",
       "      <td>10.0</td>\n",
       "      <td>10.0</td>\n",
       "      <td>10.0</td>\n",
       "      <td>9.0</td>\n",
       "      <td>99.0</td>\n",
       "      <td>10.0</td>\n",
       "      <td>1.23</td>\n",
       "      <td>20160906204935</td>\n",
       "    </tr>\n",
       "    <tr>\n",
       "      <th>4</th>\n",
       "      <td>8473851</td>\n",
       "      <td>2015-10-02</td>\n",
       "      <td>44625108</td>\n",
       "      <td>t</td>\n",
       "      <td>8473851</td>\n",
       "      <td>2016-08-14</td>\n",
       "      <td>14</td>\n",
       "      <td>10.0</td>\n",
       "      <td>10.0</td>\n",
       "      <td>10.0</td>\n",
       "      <td>10.0</td>\n",
       "      <td>9.0</td>\n",
       "      <td>99.0</td>\n",
       "      <td>10.0</td>\n",
       "      <td>1.23</td>\n",
       "      <td>20160906204935</td>\n",
       "    </tr>\n",
       "  </tbody>\n",
       "</table>\n",
       "</div>"
      ],
      "text/plain": [
       "   listing_id first_review   host_id host_identity_verified       id  \\\n",
       "0     8473851   2015-10-02  44625108                      t  8473851   \n",
       "1     8473851   2015-10-02  44625108                      t  8473851   \n",
       "2     8473851   2015-10-02  44625108                      t  8473851   \n",
       "3     8473851   2015-10-02  44625108                      t  8473851   \n",
       "4     8473851   2015-10-02  44625108                      t  8473851   \n",
       "\n",
       "  last_review  number_of_reviews  review_scores_accuracy  \\\n",
       "0  2016-08-14                 14                    10.0   \n",
       "1  2016-08-14                 14                    10.0   \n",
       "2  2016-08-14                 14                    10.0   \n",
       "3  2016-08-14                 14                    10.0   \n",
       "4  2016-08-14                 14                    10.0   \n",
       "\n",
       "   review_scores_checkin  review_scores_cleanliness  \\\n",
       "0                   10.0                       10.0   \n",
       "1                   10.0                       10.0   \n",
       "2                   10.0                       10.0   \n",
       "3                   10.0                       10.0   \n",
       "4                   10.0                       10.0   \n",
       "\n",
       "   review_scores_communication  review_scores_location  review_scores_rating  \\\n",
       "0                         10.0                     9.0                  99.0   \n",
       "1                         10.0                     9.0                  99.0   \n",
       "2                         10.0                     9.0                  99.0   \n",
       "3                         10.0                     9.0                  99.0   \n",
       "4                         10.0                     9.0                  99.0   \n",
       "\n",
       "   review_scores_value  reviews_per_month       scrape_id  \n",
       "0                 10.0               1.23  20160906204935  \n",
       "1                 10.0               1.23  20160906204935  \n",
       "2                 10.0               1.23  20160906204935  \n",
       "3                 10.0               1.23  20160906204935  \n",
       "4                 10.0               1.23  20160906204935  "
      ]
     },
     "execution_count": 52,
     "metadata": {},
     "output_type": "execute_result"
    }
   ],
   "source": [
    "airbnb_evaluation.filter(regex='revi|id').head()"
   ]
  },
  {
   "cell_type": "code",
   "execution_count": 53,
   "metadata": {
    "scrolled": true
   },
   "outputs": [
    {
     "data": {
      "text/html": [
       "<div>\n",
       "<style scoped>\n",
       "    .dataframe tbody tr th:only-of-type {\n",
       "        vertical-align: middle;\n",
       "    }\n",
       "\n",
       "    .dataframe tbody tr th {\n",
       "        vertical-align: top;\n",
       "    }\n",
       "\n",
       "    .dataframe thead th {\n",
       "        text-align: right;\n",
       "    }\n",
       "</style>\n",
       "<table border=\"1\" class=\"dataframe\">\n",
       "  <thead>\n",
       "    <tr style=\"text-align: right;\">\n",
       "      <th></th>\n",
       "      <th>comments</th>\n",
       "      <th>date</th>\n",
       "      <th>id</th>\n",
       "      <th>listing_id</th>\n",
       "      <th>reviewer_id</th>\n",
       "      <th>reviewer_name</th>\n",
       "      <th>rowsource</th>\n",
       "    </tr>\n",
       "  </thead>\n",
       "  <tbody>\n",
       "    <tr>\n",
       "      <th>0</th>\n",
       "      <td>My stay at islam's place was really cool! Good...</td>\n",
       "      <td>2013-05-21</td>\n",
       "      <td>4724140</td>\n",
       "      <td>1178162</td>\n",
       "      <td>4298113</td>\n",
       "      <td>Olivier</td>\n",
       "      <td>data\\boston_airbnb_open_data\\reviews.csv</td>\n",
       "    </tr>\n",
       "    <tr>\n",
       "      <th>1</th>\n",
       "      <td>Great location for both airport and city - gre...</td>\n",
       "      <td>2013-05-29</td>\n",
       "      <td>4869189</td>\n",
       "      <td>1178162</td>\n",
       "      <td>6452964</td>\n",
       "      <td>Charlotte</td>\n",
       "      <td>data\\boston_airbnb_open_data\\reviews.csv</td>\n",
       "    </tr>\n",
       "    <tr>\n",
       "      <th>2</th>\n",
       "      <td>We really enjoyed our stay at Islams house. Fr...</td>\n",
       "      <td>2013-06-06</td>\n",
       "      <td>5003196</td>\n",
       "      <td>1178162</td>\n",
       "      <td>6449554</td>\n",
       "      <td>Sebastian</td>\n",
       "      <td>data\\boston_airbnb_open_data\\reviews.csv</td>\n",
       "    </tr>\n",
       "    <tr>\n",
       "      <th>3</th>\n",
       "      <td>The room was nice and clean and so were the co...</td>\n",
       "      <td>2013-06-15</td>\n",
       "      <td>5150351</td>\n",
       "      <td>1178162</td>\n",
       "      <td>2215611</td>\n",
       "      <td>Marine</td>\n",
       "      <td>data\\boston_airbnb_open_data\\reviews.csv</td>\n",
       "    </tr>\n",
       "    <tr>\n",
       "      <th>4</th>\n",
       "      <td>Great location. Just 5 mins walk from the Airp...</td>\n",
       "      <td>2013-06-16</td>\n",
       "      <td>5171140</td>\n",
       "      <td>1178162</td>\n",
       "      <td>6848427</td>\n",
       "      <td>Andrew</td>\n",
       "      <td>data\\boston_airbnb_open_data\\reviews.csv</td>\n",
       "    </tr>\n",
       "  </tbody>\n",
       "</table>\n",
       "</div>"
      ],
      "text/plain": [
       "                                            comments        date       id  \\\n",
       "0  My stay at islam's place was really cool! Good...  2013-05-21  4724140   \n",
       "1  Great location for both airport and city - gre...  2013-05-29  4869189   \n",
       "2  We really enjoyed our stay at Islams house. Fr...  2013-06-06  5003196   \n",
       "3  The room was nice and clean and so were the co...  2013-06-15  5150351   \n",
       "4  Great location. Just 5 mins walk from the Airp...  2013-06-16  5171140   \n",
       "\n",
       "   listing_id  reviewer_id reviewer_name  \\\n",
       "0     1178162      4298113       Olivier   \n",
       "1     1178162      6452964     Charlotte   \n",
       "2     1178162      6449554     Sebastian   \n",
       "3     1178162      2215611        Marine   \n",
       "4     1178162      6848427        Andrew   \n",
       "\n",
       "                                  rowsource  \n",
       "0  data\\boston_airbnb_open_data\\reviews.csv  \n",
       "1  data\\boston_airbnb_open_data\\reviews.csv  \n",
       "2  data\\boston_airbnb_open_data\\reviews.csv  \n",
       "3  data\\boston_airbnb_open_data\\reviews.csv  \n",
       "4  data\\boston_airbnb_open_data\\reviews.csv  "
      ]
     },
     "execution_count": 53,
     "metadata": {},
     "output_type": "execute_result"
    }
   ],
   "source": [
    "reviews.head()"
   ]
  },
  {
   "cell_type": "markdown",
   "metadata": {},
   "source": [
    "> **Findings**: There was no meaninful relationship related to the business questions. The listings already have ratings in it. Therefore, I don't see the need for sentiment analysis here.  Thus, this dataset will be ingored for the rest of the analysis."
   ]
  },
  {
   "cell_type": "markdown",
   "metadata": {},
   "source": [
    "## Data Handling: Preparing Data for Analysis"
   ]
  },
  {
   "cell_type": "code",
   "execution_count": 54,
   "metadata": {
    "scrolled": false
   },
   "outputs": [],
   "source": [
    "# column additions fro scatter and monthly comparisons\n",
    "calendar['date_num'] = calendar.date.rank(method='dense')\n",
    "calendar['month_name'] = calendar.date.apply(lambda x: x.month_name())\n",
    "max_date = str(calendar.date.max().date())\n",
    "min_date = str(calendar.date.min().date())"
   ]
  },
  {
   "cell_type": "markdown",
   "metadata": {},
   "source": [
    "### <li> Preparing Data for Analysis: Calendar Null Analysis"
   ]
  },
  {
   "cell_type": "markdown",
   "metadata": {},
   "source": [
    "#### Nan Price Removal Impact"
   ]
  },
  {
   "cell_type": "code",
   "execution_count": 55,
   "metadata": {},
   "outputs": [
    {
     "data": {
      "text/html": [
       "<div>\n",
       "<style scoped>\n",
       "    .dataframe tbody tr th:only-of-type {\n",
       "        vertical-align: middle;\n",
       "    }\n",
       "\n",
       "    .dataframe tbody tr th {\n",
       "        vertical-align: top;\n",
       "    }\n",
       "\n",
       "    .dataframe thead th {\n",
       "        text-align: right;\n",
       "    }\n",
       "</style>\n",
       "<table border=\"1\" class=\"dataframe\">\n",
       "  <thead>\n",
       "    <tr style=\"text-align: right;\">\n",
       "      <th></th>\n",
       "      <th>row_count</th>\n",
       "      <th>pct_total</th>\n",
       "    </tr>\n",
       "    <tr>\n",
       "      <th>nan_grp</th>\n",
       "      <th></th>\n",
       "      <th></th>\n",
       "    </tr>\n",
       "  </thead>\n",
       "  <tbody>\n",
       "    <tr>\n",
       "      <th>MissingValue</th>\n",
       "      <td>1124881</td>\n",
       "      <td>41.624335</td>\n",
       "    </tr>\n",
       "    <tr>\n",
       "      <th>ProvidedValue</th>\n",
       "      <td>1577579</td>\n",
       "      <td>58.375665</td>\n",
       "    </tr>\n",
       "  </tbody>\n",
       "</table>\n",
       "</div>"
      ],
      "text/plain": [
       "               row_count  pct_total\n",
       "nan_grp                            \n",
       "MissingValue     1124881  41.624335\n",
       "ProvidedValue    1577579  58.375665"
      ]
     },
     "execution_count": 55,
     "metadata": {},
     "output_type": "execute_result"
    }
   ],
   "source": [
    "calendar.groupby('nan_grp').size().to_frame('row_count')\\\n",
    "        .assign(pct_total=lambda x: x.row_count/x.row_count.sum()*100)"
   ]
  },
  {
   "cell_type": "code",
   "execution_count": 56,
   "metadata": {},
   "outputs": [],
   "source": [
    "def null_bar_by(column):\n",
    "    calendar.groupby([column, 'nan_grp']).size().to_frame('row_count')\\\n",
    "        .assign(pct_total=lambda x: x.row_count/x.row_count.sum()*100)\\\n",
    "        .reset_index().query(\"nan_grp=='MissingValue'\")\\\n",
    "        .plot.barh(x=column, y='pct_total', \n",
    "                   legend=False, figsize=(10, 4),\n",
    "                   title=f\"Missing Prices from {min_date} to {max_date}\");\n",
    "    plt.xlabel('% Missing Prices of Grand Total');"
   ]
  },
  {
   "cell_type": "code",
   "execution_count": 57,
   "metadata": {},
   "outputs": [
    {
     "data": {
      "image/png": "[encoded data removed]",
      "text/plain": [
       "<Figure size 720x288 with 1 Axes>"
      ]
     },
     "metadata": {},
     "output_type": "display_data"
    }
   ],
   "source": [
    "null_bar_by('rowsource')"
   ]
  },
  {
   "cell_type": "code",
   "execution_count": 58,
   "metadata": {},
   "outputs": [
    {
     "data": {
      "image/png": "[encoded data removed]",
      "text/plain": [
       "<Figure size 720x288 with 1 Axes>"
      ]
     },
     "metadata": {},
     "output_type": "display_data"
    }
   ],
   "source": [
    "null_bar_by('month_name')"
   ]
  },
  {
   "cell_type": "code",
   "execution_count": 59,
   "metadata": {},
   "outputs": [],
   "source": [
    "calendar_price_bymonth = calendar.reset_index(drop=True)\\\n",
    "    .pivot(columns='month_name', values='price')"
   ]
  },
  {
   "cell_type": "code",
   "execution_count": 60,
   "metadata": {
    "scrolled": true
   },
   "outputs": [
    {
     "data": {
      "image/png": "[encoded data removed]",
      "text/plain": [
       "<Figure size 1008x360 with 1 Axes>"
      ]
     },
     "metadata": {},
     "output_type": "display_data"
    }
   ],
   "source": [
    "calendar_price_bymonth\\\n",
    "    .plot.hist(bins=200, \n",
    "               figsize=(14, 5), \n",
    "               logy=True,\n",
    "               alpha=.5,\n",
    "               title=f'Monthly Price (log) Distributions from {min_date} to {max_date}');"
   ]
  },
  {
   "cell_type": "code",
   "execution_count": 61,
   "metadata": {},
   "outputs": [
    {
     "data": {
      "image/png": "[encoded data removed]",
      "text/plain": [
       "<Figure size 1008x360 with 1 Axes>"
      ]
     },
     "metadata": {},
     "output_type": "display_data"
    }
   ],
   "source": [
    "calendar_price_bymonth\\\n",
    "    .plot.box(figsize=(14, 5),\n",
    "              title=f'Monthly Price Distributions from {min_date} to {max_date}');"
   ]
  },
  {
   "cell_type": "code",
   "execution_count": 62,
   "metadata": {},
   "outputs": [],
   "source": [
    "calendar_price_bysource = calendar.reset_index(drop=True)\\\n",
    "    .pivot(columns='rowsource', values='price')"
   ]
  },
  {
   "cell_type": "code",
   "execution_count": 63,
   "metadata": {},
   "outputs": [
    {
     "data": {
      "image/png": "[encoded data removed]",
      "text/plain": [
       "<Figure size 1008x360 with 1 Axes>"
      ]
     },
     "metadata": {},
     "output_type": "display_data"
    }
   ],
   "source": [
    "calendar_price_bysource\\\n",
    "    .plot.hist(bins=200, \n",
    "               figsize=(14, 5), \n",
    "               logy=True,\n",
    "               alpha=.5,\n",
    "               title=f'Monthly Price (log) Distributions from {min_date} to {max_date}');"
   ]
  },
  {
   "cell_type": "code",
   "execution_count": 66,
   "metadata": {},
   "outputs": [
    {
     "ename": "KeyboardInterrupt",
     "evalue": "",
     "output_type": "error",
     "traceback": [
      "\u001b[1;31m---------------------------------------------------------------------------\u001b[0m",
      "\u001b[1;31mKeyboardInterrupt\u001b[0m                         Traceback (most recent call last)",
      "\u001b[1;32m<ipython-input-66-97bb9b73ba44>\u001b[0m in \u001b[0;36m<module>\u001b[1;34m()\u001b[0m\n\u001b[0;32m      4\u001b[0m                 \u001b[0my\u001b[0m\u001b[1;33m=\u001b[0m\u001b[1;34m'price'\u001b[0m\u001b[1;33m,\u001b[0m\u001b[1;33m\u001b[0m\u001b[0m\n\u001b[0;32m      5\u001b[0m                 \u001b[0mhue\u001b[0m\u001b[1;33m=\u001b[0m\u001b[1;34m'rowsource'\u001b[0m\u001b[1;33m,\u001b[0m\u001b[1;33m\u001b[0m\u001b[0m\n\u001b[1;32m----> 6\u001b[1;33m                 data=calendar);\n\u001b[0m",
      "\u001b[1;32m~\\Anaconda3\\lib\\site-packages\\seaborn\\regression.py\u001b[0m in \u001b[0;36mlmplot\u001b[1;34m(x, y, data, hue, col, row, palette, col_wrap, size, aspect, markers, sharex, sharey, hue_order, col_order, row_order, legend, legend_out, x_estimator, x_bins, x_ci, scatter, fit_reg, ci, n_boot, units, order, logistic, lowess, robust, logx, x_partial, y_partial, truncate, x_jitter, y_jitter, scatter_kws, line_kws)\u001b[0m\n\u001b[0;32m    588\u001b[0m         \u001b[0mscatter_kws\u001b[0m\u001b[1;33m=\u001b[0m\u001b[0mscatter_kws\u001b[0m\u001b[1;33m,\u001b[0m \u001b[0mline_kws\u001b[0m\u001b[1;33m=\u001b[0m\u001b[0mline_kws\u001b[0m\u001b[1;33m,\u001b[0m\u001b[1;33m\u001b[0m\u001b[0m\n\u001b[0;32m    589\u001b[0m         )\n\u001b[1;32m--> 590\u001b[1;33m     \u001b[0mfacets\u001b[0m\u001b[1;33m.\u001b[0m\u001b[0mmap_dataframe\u001b[0m\u001b[1;33m(\u001b[0m\u001b[0mregplot\u001b[0m\u001b[1;33m,\u001b[0m \u001b[0mx\u001b[0m\u001b[1;33m,\u001b[0m \u001b[0my\u001b[0m\u001b[1;33m,\u001b[0m \u001b[1;33m**\u001b[0m\u001b[0mregplot_kws\u001b[0m\u001b[1;33m)\u001b[0m\u001b[1;33m\u001b[0m\u001b[0m\n\u001b[0m\u001b[0;32m    591\u001b[0m \u001b[1;33m\u001b[0m\u001b[0m\n\u001b[0;32m    592\u001b[0m     \u001b[1;31m# Add a legend\u001b[0m\u001b[1;33m\u001b[0m\u001b[1;33m\u001b[0m\u001b[0m\n",
      "\u001b[1;32m~\\Anaconda3\\lib\\site-packages\\seaborn\\axisgrid.py\u001b[0m in \u001b[0;36mmap_dataframe\u001b[1;34m(self, func, *args, **kwargs)\u001b[0m\n\u001b[0;32m    807\u001b[0m \u001b[1;33m\u001b[0m\u001b[0m\n\u001b[0;32m    808\u001b[0m             \u001b[1;31m# Draw the plot\u001b[0m\u001b[1;33m\u001b[0m\u001b[1;33m\u001b[0m\u001b[0m\n\u001b[1;32m--> 809\u001b[1;33m             \u001b[0mself\u001b[0m\u001b[1;33m.\u001b[0m\u001b[0m_facet_plot\u001b[0m\u001b[1;33m(\u001b[0m\u001b[0mfunc\u001b[0m\u001b[1;33m,\u001b[0m \u001b[0max\u001b[0m\u001b[1;33m,\u001b[0m \u001b[0margs\u001b[0m\u001b[1;33m,\u001b[0m \u001b[0mkwargs\u001b[0m\u001b[1;33m)\u001b[0m\u001b[1;33m\u001b[0m\u001b[0m\n\u001b[0m\u001b[0;32m    810\u001b[0m \u001b[1;33m\u001b[0m\u001b[0m\n\u001b[0;32m    811\u001b[0m         \u001b[1;31m# Finalize the annotations and layout\u001b[0m\u001b[1;33m\u001b[0m\u001b[1;33m\u001b[0m\u001b[0m\n",
      "\u001b[1;32m~\\Anaconda3\\lib\\site-packages\\seaborn\\axisgrid.py\u001b[0m in \u001b[0;36m_facet_plot\u001b[1;34m(self, func, ax, plot_args, plot_kwargs)\u001b[0m\n\u001b[0;32m    825\u001b[0m \u001b[1;33m\u001b[0m\u001b[0m\n\u001b[0;32m    826\u001b[0m         \u001b[1;31m# Draw the plot\u001b[0m\u001b[1;33m\u001b[0m\u001b[1;33m\u001b[0m\u001b[0m\n\u001b[1;32m--> 827\u001b[1;33m         \u001b[0mfunc\u001b[0m\u001b[1;33m(\u001b[0m\u001b[1;33m*\u001b[0m\u001b[0mplot_args\u001b[0m\u001b[1;33m,\u001b[0m \u001b[1;33m**\u001b[0m\u001b[0mplot_kwargs\u001b[0m\u001b[1;33m)\u001b[0m\u001b[1;33m\u001b[0m\u001b[0m\n\u001b[0m\u001b[0;32m    828\u001b[0m \u001b[1;33m\u001b[0m\u001b[0m\n\u001b[0;32m    829\u001b[0m         \u001b[1;31m# Sort out the supporting information\u001b[0m\u001b[1;33m\u001b[0m\u001b[1;33m\u001b[0m\u001b[0m\n",
      "\u001b[1;32m~\\Anaconda3\\lib\\site-packages\\seaborn\\regression.py\u001b[0m in \u001b[0;36mregplot\u001b[1;34m(x, y, data, x_estimator, x_bins, x_ci, scatter, fit_reg, ci, n_boot, units, order, logistic, lowess, robust, logx, x_partial, y_partial, truncate, dropna, x_jitter, y_jitter, label, color, marker, scatter_kws, line_kws, ax)\u001b[0m\n\u001b[0;32m    788\u001b[0m     \u001b[0mscatter_kws\u001b[0m\u001b[1;33m[\u001b[0m\u001b[1;34m\"marker\"\u001b[0m\u001b[1;33m]\u001b[0m \u001b[1;33m=\u001b[0m \u001b[0mmarker\u001b[0m\u001b[1;33m\u001b[0m\u001b[0m\n\u001b[0;32m    789\u001b[0m     \u001b[0mline_kws\u001b[0m \u001b[1;33m=\u001b[0m \u001b[1;33m{\u001b[0m\u001b[1;33m}\u001b[0m \u001b[1;32mif\u001b[0m \u001b[0mline_kws\u001b[0m \u001b[1;32mis\u001b[0m \u001b[1;32mNone\u001b[0m \u001b[1;32melse\u001b[0m \u001b[0mcopy\u001b[0m\u001b[1;33m.\u001b[0m\u001b[0mcopy\u001b[0m\u001b[1;33m(\u001b[0m\u001b[0mline_kws\u001b[0m\u001b[1;33m)\u001b[0m\u001b[1;33m\u001b[0m\u001b[0m\n\u001b[1;32m--> 790\u001b[1;33m     \u001b[0mplotter\u001b[0m\u001b[1;33m.\u001b[0m\u001b[0mplot\u001b[0m\u001b[1;33m(\u001b[0m\u001b[0max\u001b[0m\u001b[1;33m,\u001b[0m \u001b[0mscatter_kws\u001b[0m\u001b[1;33m,\u001b[0m \u001b[0mline_kws\u001b[0m\u001b[1;33m)\u001b[0m\u001b[1;33m\u001b[0m\u001b[0m\n\u001b[0m\u001b[0;32m    791\u001b[0m     \u001b[1;32mreturn\u001b[0m \u001b[0max\u001b[0m\u001b[1;33m\u001b[0m\u001b[0m\n\u001b[0;32m    792\u001b[0m \u001b[1;33m\u001b[0m\u001b[0m\n",
      "\u001b[1;32m~\\Anaconda3\\lib\\site-packages\\seaborn\\regression.py\u001b[0m in \u001b[0;36mplot\u001b[1;34m(self, ax, scatter_kws, line_kws)\u001b[0m\n\u001b[0;32m    340\u001b[0m             \u001b[0mself\u001b[0m\u001b[1;33m.\u001b[0m\u001b[0mscatterplot\u001b[0m\u001b[1;33m(\u001b[0m\u001b[0max\u001b[0m\u001b[1;33m,\u001b[0m \u001b[0mscatter_kws\u001b[0m\u001b[1;33m)\u001b[0m\u001b[1;33m\u001b[0m\u001b[0m\n\u001b[0;32m    341\u001b[0m         \u001b[1;32mif\u001b[0m \u001b[0mself\u001b[0m\u001b[1;33m.\u001b[0m\u001b[0mfit_reg\u001b[0m\u001b[1;33m:\u001b[0m\u001b[1;33m\u001b[0m\u001b[0m\n\u001b[1;32m--> 342\u001b[1;33m             \u001b[0mself\u001b[0m\u001b[1;33m.\u001b[0m\u001b[0mlineplot\u001b[0m\u001b[1;33m(\u001b[0m\u001b[0max\u001b[0m\u001b[1;33m,\u001b[0m \u001b[0mline_kws\u001b[0m\u001b[1;33m)\u001b[0m\u001b[1;33m\u001b[0m\u001b[0m\n\u001b[0m\u001b[0;32m    343\u001b[0m \u001b[1;33m\u001b[0m\u001b[0m\n\u001b[0;32m    344\u001b[0m         \u001b[1;31m# Label the axes\u001b[0m\u001b[1;33m\u001b[0m\u001b[1;33m\u001b[0m\u001b[0m\n",
      "\u001b[1;32m~\\Anaconda3\\lib\\site-packages\\seaborn\\regression.py\u001b[0m in \u001b[0;36mlineplot\u001b[1;34m(self, ax, kws)\u001b[0m\n\u001b[0;32m    385\u001b[0m \u001b[1;33m\u001b[0m\u001b[0m\n\u001b[0;32m    386\u001b[0m         \u001b[1;31m# Fit the regression model\u001b[0m\u001b[1;33m\u001b[0m\u001b[1;33m\u001b[0m\u001b[0m\n\u001b[1;32m--> 387\u001b[1;33m         \u001b[0mgrid\u001b[0m\u001b[1;33m,\u001b[0m \u001b[0myhat\u001b[0m\u001b[1;33m,\u001b[0m \u001b[0merr_bands\u001b[0m \u001b[1;33m=\u001b[0m \u001b[0mself\u001b[0m\u001b[1;33m.\u001b[0m\u001b[0mfit_regression\u001b[0m\u001b[1;33m(\u001b[0m\u001b[0max\u001b[0m\u001b[1;33m)\u001b[0m\u001b[1;33m\u001b[0m\u001b[0m\n\u001b[0m\u001b[0;32m    388\u001b[0m \u001b[1;33m\u001b[0m\u001b[0m\n\u001b[0;32m    389\u001b[0m         \u001b[1;31m# Get set default aesthetics\u001b[0m\u001b[1;33m\u001b[0m\u001b[1;33m\u001b[0m\u001b[0m\n",
      "\u001b[1;32m~\\Anaconda3\\lib\\site-packages\\seaborn\\regression.py\u001b[0m in \u001b[0;36mfit_regression\u001b[1;34m(self, ax, x_range, grid)\u001b[0m\n\u001b[0;32m    208\u001b[0m             \u001b[0myhat\u001b[0m\u001b[1;33m,\u001b[0m \u001b[0myhat_boots\u001b[0m \u001b[1;33m=\u001b[0m \u001b[0mself\u001b[0m\u001b[1;33m.\u001b[0m\u001b[0mfit_logx\u001b[0m\u001b[1;33m(\u001b[0m\u001b[0mgrid\u001b[0m\u001b[1;33m)\u001b[0m\u001b[1;33m\u001b[0m\u001b[0m\n\u001b[0;32m    209\u001b[0m         \u001b[1;32melse\u001b[0m\u001b[1;33m:\u001b[0m\u001b[1;33m\u001b[0m\u001b[0m\n\u001b[1;32m--> 210\u001b[1;33m             \u001b[0myhat\u001b[0m\u001b[1;33m,\u001b[0m \u001b[0myhat_boots\u001b[0m \u001b[1;33m=\u001b[0m \u001b[0mself\u001b[0m\u001b[1;33m.\u001b[0m\u001b[0mfit_fast\u001b[0m\u001b[1;33m(\u001b[0m\u001b[0mgrid\u001b[0m\u001b[1;33m)\u001b[0m\u001b[1;33m\u001b[0m\u001b[0m\n\u001b[0m\u001b[0;32m    211\u001b[0m \u001b[1;33m\u001b[0m\u001b[0m\n\u001b[0;32m    212\u001b[0m         \u001b[1;31m# Compute the confidence interval at each grid point\u001b[0m\u001b[1;33m\u001b[0m\u001b[1;33m\u001b[0m\u001b[0m\n",
      "\u001b[1;32m~\\Anaconda3\\lib\\site-packages\\seaborn\\regression.py\u001b[0m in \u001b[0;36mfit_fast\u001b[1;34m(self, grid)\u001b[0m\n\u001b[0;32m    228\u001b[0m \u001b[1;33m\u001b[0m\u001b[0m\n\u001b[0;32m    229\u001b[0m         beta_boots = algo.bootstrap(X, y, func=reg_func,\n\u001b[1;32m--> 230\u001b[1;33m                                     n_boot=self.n_boot, units=self.units).T\n\u001b[0m\u001b[0;32m    231\u001b[0m         \u001b[0myhat_boots\u001b[0m \u001b[1;33m=\u001b[0m \u001b[0mgrid\u001b[0m\u001b[1;33m.\u001b[0m\u001b[0mdot\u001b[0m\u001b[1;33m(\u001b[0m\u001b[0mbeta_boots\u001b[0m\u001b[1;33m)\u001b[0m\u001b[1;33m.\u001b[0m\u001b[0mT\u001b[0m\u001b[1;33m\u001b[0m\u001b[0m\n\u001b[0;32m    232\u001b[0m         \u001b[1;32mreturn\u001b[0m \u001b[0myhat\u001b[0m\u001b[1;33m,\u001b[0m \u001b[0myhat_boots\u001b[0m\u001b[1;33m\u001b[0m\u001b[0m\n",
      "\u001b[1;32m~\\Anaconda3\\lib\\site-packages\\seaborn\\algorithms.py\u001b[0m in \u001b[0;36mbootstrap\u001b[1;34m(*args, **kwargs)\u001b[0m\n\u001b[0;32m     73\u001b[0m     \u001b[1;32mfor\u001b[0m \u001b[0mi\u001b[0m \u001b[1;32min\u001b[0m \u001b[0mrange\u001b[0m\u001b[1;33m(\u001b[0m\u001b[0mint\u001b[0m\u001b[1;33m(\u001b[0m\u001b[0mn_boot\u001b[0m\u001b[1;33m)\u001b[0m\u001b[1;33m)\u001b[0m\u001b[1;33m:\u001b[0m\u001b[1;33m\u001b[0m\u001b[0m\n\u001b[0;32m     74\u001b[0m         \u001b[0mresampler\u001b[0m \u001b[1;33m=\u001b[0m \u001b[0mrs\u001b[0m\u001b[1;33m.\u001b[0m\u001b[0mrandint\u001b[0m\u001b[1;33m(\u001b[0m\u001b[1;36m0\u001b[0m\u001b[1;33m,\u001b[0m \u001b[0mn\u001b[0m\u001b[1;33m,\u001b[0m \u001b[0mn\u001b[0m\u001b[1;33m)\u001b[0m\u001b[1;33m\u001b[0m\u001b[0m\n\u001b[1;32m---> 75\u001b[1;33m         \u001b[0msample\u001b[0m \u001b[1;33m=\u001b[0m \u001b[1;33m[\u001b[0m\u001b[0ma\u001b[0m\u001b[1;33m.\u001b[0m\u001b[0mtake\u001b[0m\u001b[1;33m(\u001b[0m\u001b[0mresampler\u001b[0m\u001b[1;33m,\u001b[0m \u001b[0maxis\u001b[0m\u001b[1;33m=\u001b[0m\u001b[1;36m0\u001b[0m\u001b[1;33m)\u001b[0m \u001b[1;32mfor\u001b[0m \u001b[0ma\u001b[0m \u001b[1;32min\u001b[0m \u001b[0margs\u001b[0m\u001b[1;33m]\u001b[0m\u001b[1;33m\u001b[0m\u001b[0m\n\u001b[0m\u001b[0;32m     76\u001b[0m         \u001b[0mboot_dist\u001b[0m\u001b[1;33m.\u001b[0m\u001b[0mappend\u001b[0m\u001b[1;33m(\u001b[0m\u001b[0mfunc\u001b[0m\u001b[1;33m(\u001b[0m\u001b[1;33m*\u001b[0m\u001b[0msample\u001b[0m\u001b[1;33m,\u001b[0m \u001b[1;33m**\u001b[0m\u001b[0mfunc_kwargs\u001b[0m\u001b[1;33m)\u001b[0m\u001b[1;33m)\u001b[0m\u001b[1;33m\u001b[0m\u001b[0m\n\u001b[0;32m     77\u001b[0m     \u001b[1;32mreturn\u001b[0m \u001b[0mnp\u001b[0m\u001b[1;33m.\u001b[0m\u001b[0marray\u001b[0m\u001b[1;33m(\u001b[0m\u001b[0mboot_dist\u001b[0m\u001b[1;33m)\u001b[0m\u001b[1;33m\u001b[0m\u001b[0m\n",
      "\u001b[1;32m~\\Anaconda3\\lib\\site-packages\\seaborn\\algorithms.py\u001b[0m in \u001b[0;36m<listcomp>\u001b[1;34m(.0)\u001b[0m\n\u001b[0;32m     73\u001b[0m     \u001b[1;32mfor\u001b[0m \u001b[0mi\u001b[0m \u001b[1;32min\u001b[0m \u001b[0mrange\u001b[0m\u001b[1;33m(\u001b[0m\u001b[0mint\u001b[0m\u001b[1;33m(\u001b[0m\u001b[0mn_boot\u001b[0m\u001b[1;33m)\u001b[0m\u001b[1;33m)\u001b[0m\u001b[1;33m:\u001b[0m\u001b[1;33m\u001b[0m\u001b[0m\n\u001b[0;32m     74\u001b[0m         \u001b[0mresampler\u001b[0m \u001b[1;33m=\u001b[0m \u001b[0mrs\u001b[0m\u001b[1;33m.\u001b[0m\u001b[0mrandint\u001b[0m\u001b[1;33m(\u001b[0m\u001b[1;36m0\u001b[0m\u001b[1;33m,\u001b[0m \u001b[0mn\u001b[0m\u001b[1;33m,\u001b[0m \u001b[0mn\u001b[0m\u001b[1;33m)\u001b[0m\u001b[1;33m\u001b[0m\u001b[0m\n\u001b[1;32m---> 75\u001b[1;33m         \u001b[0msample\u001b[0m \u001b[1;33m=\u001b[0m \u001b[1;33m[\u001b[0m\u001b[0ma\u001b[0m\u001b[1;33m.\u001b[0m\u001b[0mtake\u001b[0m\u001b[1;33m(\u001b[0m\u001b[0mresampler\u001b[0m\u001b[1;33m,\u001b[0m \u001b[0maxis\u001b[0m\u001b[1;33m=\u001b[0m\u001b[1;36m0\u001b[0m\u001b[1;33m)\u001b[0m \u001b[1;32mfor\u001b[0m \u001b[0ma\u001b[0m \u001b[1;32min\u001b[0m \u001b[0margs\u001b[0m\u001b[1;33m]\u001b[0m\u001b[1;33m\u001b[0m\u001b[0m\n\u001b[0m\u001b[0;32m     76\u001b[0m         \u001b[0mboot_dist\u001b[0m\u001b[1;33m.\u001b[0m\u001b[0mappend\u001b[0m\u001b[1;33m(\u001b[0m\u001b[0mfunc\u001b[0m\u001b[1;33m(\u001b[0m\u001b[1;33m*\u001b[0m\u001b[0msample\u001b[0m\u001b[1;33m,\u001b[0m \u001b[1;33m**\u001b[0m\u001b[0mfunc_kwargs\u001b[0m\u001b[1;33m)\u001b[0m\u001b[1;33m)\u001b[0m\u001b[1;33m\u001b[0m\u001b[0m\n\u001b[0;32m     77\u001b[0m     \u001b[1;32mreturn\u001b[0m \u001b[0mnp\u001b[0m\u001b[1;33m.\u001b[0m\u001b[0marray\u001b[0m\u001b[1;33m(\u001b[0m\u001b[0mboot_dist\u001b[0m\u001b[1;33m)\u001b[0m\u001b[1;33m\u001b[0m\u001b[0m\n",
      "\u001b[1;31mKeyboardInterrupt\u001b[0m: "
     ]
    },
    {
     "data": {
      "image/png": "[encoded data removed]",
      "text/plain": [
       "<Figure size 1008x576 with 1 Axes>"
      ]
     },
     "metadata": {},
     "output_type": "display_data"
    },
    {
     "data": {
      "image/png": "[encoded data removed]",
      "text/plain": [
       "<Figure size 360x360 with 1 Axes>"
      ]
     },
     "metadata": {},
     "output_type": "display_data"
    }
   ],
   "source": [
    "plt.figure(figsize=(14, 8));\n",
    "plt.title('Prices Vs Dates Without Imputation')\n",
    "sns.lmplot(x='date_num', \n",
    "                y='price', \n",
    "                hue='rowsource', \n",
    "                data=calendar);"
   ]
  },
  {
   "cell_type": "markdown",
   "metadata": {},
   "source": [
    "> **Price Imputation Decision**: \n",
    "* Given that the prices are skew to the left, the imputation approach will be the median method on a daily basis, which is not influenced by outliers.\n",
    "* Given that we were going to remove 42% of the data because of Null prices, I am attempting to mitigate the loss of information by imputing the median on a daily basis, but I am leaving a category for those values that were imputated for the model to recognize those. Perhaps it will be beneficial.\n",
    "* Another idea is to pass a test set that was not imputated to see if the imputation caused overfitting. I will be able to know what was imputated by looking at the imputed_price column."
   ]
  },
  {
   "cell_type": "markdown",
   "metadata": {},
   "source": [
    "### <li> Preparing Data for Analysis: Listings Null Analysis"
   ]
  },
  {
   "cell_type": "markdown",
   "metadata": {},
   "source": [
    "#### Listings Columns With Nulls"
   ]
  },
  {
   "cell_type": "code",
   "execution_count": 67,
   "metadata": {},
   "outputs": [
    {
     "name": "stdout",
     "output_type": "stream",
     "text": [
      "['host_listings_count', 'city', 'host_total_listings_count', 'host_thumbnail_url', 'host_since', 'host_picture_url', 'host_has_profile_pic', 'host_identity_verified', 'host_is_superhost', 'host_name', 'property_type', 'beds', 'market', 'bedrooms', 'host_location', 'bathrooms', 'zipcode', 'summary', 'host_neighbourhood', 'thumbnail_url', 'medium_url', 'xl_picture_url', 'neighbourhood', 'host_response_rate', 'host_response_time', 'host_acceptance_rate', 'reviews_per_month', 'last_review', 'first_review', 'review_scores_rating', 'review_scores_communication', 'review_scores_cleanliness', 'review_scores_location', 'review_scores_value', 'review_scores_checkin', 'review_scores_accuracy', 'space', 'cleaning_fee', 'host_about', 'transit', 'neighborhood_overview', 'notes', 'has_availability', 'jurisdiction_names', 'neighbourhood_group_cleansed', 'security_deposit', 'weekly_price', 'monthly_price', 'house_rules', 'access', 'interaction', 'square_feet']\n"
     ]
    }
   ],
   "source": [
    "# recalling columns with nulls from previous null analysis\n",
    "listing_null_columns = list(listing_nulls.index.drop('license'))\n",
    "print(listing_null_columns)"
   ]
  },
  {
   "cell_type": "markdown",
   "metadata": {},
   "source": [
    "#### Dropping Listings Columns With all Nulls"
   ]
  },
  {
   "cell_type": "code",
   "execution_count": 68,
   "metadata": {
    "scrolled": false
   },
   "outputs": [],
   "source": [
    "listings.dropna(how='all', axis=1, inplace=True)"
   ]
  },
  {
   "cell_type": "markdown",
   "metadata": {},
   "source": [
    "#### Listings Null Analysis"
   ]
  },
  {
   "cell_type": "code",
   "execution_count": 69,
   "metadata": {},
   "outputs": [],
   "source": [
    "t_columns = listings.shape[1]\n",
    "h_columns = listings.isnull().sum(axis=1)\n",
    "listings.loc[:, 'row_null_pct'] = h_columns/t_columns"
   ]
  },
  {
   "cell_type": "code",
   "execution_count": 70,
   "metadata": {},
   "outputs": [],
   "source": [
    "def listing_dist(df, bins, title):\n",
    "    upper_func = lambda x: x.state.str.upper()\n",
    "    df.assign(state=upper_func)[['state', 'row_null_pct']]\\\n",
    "        .reset_index()\\\n",
    "        .pivot(index='index',\n",
    "              columns='state',\n",
    "              values='row_null_pct')\\\n",
    "        .plot.hist(alpha=.5, \n",
    "                   bins=bins,\n",
    "                   figsize=(12, 5),\n",
    "                   title=title);"
   ]
  },
  {
   "cell_type": "code",
   "execution_count": 71,
   "metadata": {},
   "outputs": [
    {
     "data": {
      "image/png": "[encoded data removed]",
      "text/plain": [
       "<Figure size 864x360 with 1 Axes>"
      ]
     },
     "metadata": {},
     "output_type": "display_data"
    }
   ],
   "source": [
    "listing_dist(listings, 30, 'Original Row Null Distribution')               "
   ]
  },
  {
   "cell_type": "markdown",
   "metadata": {},
   "source": [
    "> **Row Null Removal Decision**:\n",
    "  * Will remove any row that contains more than 30 % of null values\n",
    "  * Will attempt to imputate anything with less than 30 % of null values\n",
    "  * What we cannot imputate will be feeded to the model as null dummies"
   ]
  },
  {
   "cell_type": "markdown",
   "metadata": {},
   "source": [
    "#### Removal of Listing Records"
   ]
  },
  {
   "cell_type": "code",
   "execution_count": 72,
   "metadata": {},
   "outputs": [],
   "source": [
    "# removal threshold\n",
    "row_remove = listings.row_null_pct <= .30\n",
    "\n",
    "# removing rows\n",
    "listings_row_clean = listings[row_remove]"
   ]
  },
  {
   "cell_type": "code",
   "execution_count": 73,
   "metadata": {},
   "outputs": [
    {
     "data": {
      "image/png": "[encoded data removed]",
      "text/plain": [
       "<Figure size 864x360 with 1 Axes>"
      ]
     },
     "metadata": {},
     "output_type": "display_data"
    }
   ],
   "source": [
    "listing_dist(listings_row_clean, 20, 'Ater Drop +.30 Row Null Distribution')"
   ]
  },
  {
   "cell_type": "markdown",
   "metadata": {},
   "source": [
    "> **Row Null Removal Results**\n",
    "* The distribution of null still looks skew. But it is better than before.\n",
    "* The next step is imputations of null values to see if we can make this distribution look more normal."
   ]
  },
  {
   "cell_type": "markdown",
   "metadata": {},
   "source": [
    "#### Imputation of Listing Records"
   ]
  },
  {
   "cell_type": "code",
   "execution_count": 74,
   "metadata": {},
   "outputs": [
    {
     "data": {
      "text/plain": [
       "['access',\n",
       " 'bathrooms',\n",
       " 'bedrooms',\n",
       " 'beds',\n",
       " 'city',\n",
       " 'cleaning_fee',\n",
       " 'first_review',\n",
       " 'has_availability',\n",
       " 'host_about',\n",
       " 'host_acceptance_rate',\n",
       " 'host_location',\n",
       " 'host_neighbourhood',\n",
       " 'host_response_rate',\n",
       " 'host_response_time',\n",
       " 'house_rules',\n",
       " 'interaction',\n",
       " 'jurisdiction_names',\n",
       " 'last_review',\n",
       " 'market',\n",
       " 'medium_url',\n",
       " 'monthly_price',\n",
       " 'neighborhood_overview',\n",
       " 'neighbourhood',\n",
       " 'neighbourhood_group_cleansed',\n",
       " 'notes',\n",
       " 'property_type',\n",
       " 'review_scores_accuracy',\n",
       " 'review_scores_checkin',\n",
       " 'review_scores_cleanliness',\n",
       " 'review_scores_communication',\n",
       " 'review_scores_location',\n",
       " 'review_scores_rating',\n",
       " 'review_scores_value',\n",
       " 'reviews_per_month',\n",
       " 'security_deposit',\n",
       " 'space',\n",
       " 'square_feet',\n",
       " 'summary',\n",
       " 'thumbnail_url',\n",
       " 'transit',\n",
       " 'weekly_price',\n",
       " 'xl_picture_url',\n",
       " 'zipcode']"
      ]
     },
     "execution_count": 74,
     "metadata": {},
     "output_type": "execute_result"
    }
   ],
   "source": [
    "listings_row_clean.isnull().sum().where(lambda x: x>0).dropna().index.tolist()"
   ]
  },
  {
   "cell_type": "markdown",
   "metadata": {},
   "source": [
    "##### <ol> Investigating Access"
   ]
  },
  {
   "cell_type": "code",
   "execution_count": 75,
   "metadata": {
    "scrolled": false
   },
   "outputs": [
    {
     "data": {
      "text/html": [
       "<div>\n",
       "<style scoped>\n",
       "    .dataframe tbody tr th:only-of-type {\n",
       "        vertical-align: middle;\n",
       "    }\n",
       "\n",
       "    .dataframe tbody tr th {\n",
       "        vertical-align: top;\n",
       "    }\n",
       "\n",
       "    .dataframe thead th {\n",
       "        text-align: right;\n",
       "    }\n",
       "</style>\n",
       "<table border=\"1\" class=\"dataframe\">\n",
       "  <thead>\n",
       "    <tr style=\"text-align: right;\">\n",
       "      <th></th>\n",
       "      <th>access</th>\n",
       "    </tr>\n",
       "  </thead>\n",
       "  <tbody>\n",
       "    <tr>\n",
       "      <th>0</th>\n",
       "      <td>You will have access to 2 bedrooms, a living r...</td>\n",
       "    </tr>\n",
       "    <tr>\n",
       "      <th>1</th>\n",
       "      <td>Apt has one more bedroom (which I use) and lar...</td>\n",
       "    </tr>\n",
       "    <tr>\n",
       "      <th>2</th>\n",
       "      <td>I am living in the apartment during your stay,...</td>\n",
       "    </tr>\n",
       "    <tr>\n",
       "      <th>3</th>\n",
       "      <td>The basement has a washer dryer and gym area. ...</td>\n",
       "    </tr>\n",
       "    <tr>\n",
       "      <th>4</th>\n",
       "      <td>You will have access to the front and side por...</td>\n",
       "    </tr>\n",
       "    <tr>\n",
       "      <th>5</th>\n",
       "      <td>Guests are welcome to share our living room an...</td>\n",
       "    </tr>\n",
       "    <tr>\n",
       "      <th>6</th>\n",
       "      <td>I have an electronic keypad so arrival time ca...</td>\n",
       "    </tr>\n",
       "    <tr>\n",
       "      <th>7</th>\n",
       "      <td>Amenities include an evening snack upon arriva...</td>\n",
       "    </tr>\n",
       "    <tr>\n",
       "      <th>8</th>\n",
       "      <td>NaN</td>\n",
       "    </tr>\n",
       "    <tr>\n",
       "      <th>9</th>\n",
       "      <td>NaN</td>\n",
       "    </tr>\n",
       "  </tbody>\n",
       "</table>\n",
       "</div>"
      ],
      "text/plain": [
       "                                              access\n",
       "0  You will have access to 2 bedrooms, a living r...\n",
       "1  Apt has one more bedroom (which I use) and lar...\n",
       "2  I am living in the apartment during your stay,...\n",
       "3  The basement has a washer dryer and gym area. ...\n",
       "4  You will have access to the front and side por...\n",
       "5  Guests are welcome to share our living room an...\n",
       "6  I have an electronic keypad so arrival time ca...\n",
       "7  Amenities include an evening snack upon arriva...\n",
       "8                                                NaN\n",
       "9                                                NaN"
      ]
     },
     "execution_count": 75,
     "metadata": {},
     "output_type": "execute_result"
    }
   ],
   "source": [
    "listings_row_clean[['access']].head(10)"
   ]
  },
  {
   "cell_type": "markdown",
   "metadata": {},
   "source": [
    "#####  <ol> Converting Access to AccessInfoProvided"
   ]
  },
  {
   "cell_type": "code",
   "execution_count": 77,
   "metadata": {},
   "outputs": [
    {
     "ename": "AttributeError",
     "evalue": "'DataFrame' object has no attribute 'access'",
     "output_type": "error",
     "traceback": [
      "\u001b[1;31m---------------------------------------------------------------------------\u001b[0m",
      "\u001b[1;31mAttributeError\u001b[0m                            Traceback (most recent call last)",
      "\u001b[1;32m<ipython-input-77-e63335671c33>\u001b[0m in \u001b[0;36m<module>\u001b[1;34m()\u001b[0m\n\u001b[0;32m      1\u001b[0m \u001b[1;31m# creating the new column for provided access information\u001b[0m\u001b[1;33m\u001b[0m\u001b[1;33m\u001b[0m\u001b[0m\n\u001b[1;32m----> 2\u001b[1;33m \u001b[0mlistings_row_clean\u001b[0m\u001b[1;33m.\u001b[0m\u001b[0mloc\u001b[0m\u001b[1;33m[\u001b[0m\u001b[1;33m:\u001b[0m\u001b[1;33m,\u001b[0m \u001b[1;34m'AccessInfoProvided'\u001b[0m\u001b[1;33m]\u001b[0m \u001b[1;33m=\u001b[0m \u001b[0mlistings_row_clean\u001b[0m\u001b[1;33m.\u001b[0m\u001b[0maccess\u001b[0m    \u001b[1;33m.\u001b[0m\u001b[0mwhere\u001b[0m\u001b[1;33m(\u001b[0m\u001b[1;32mlambda\u001b[0m \u001b[0mx\u001b[0m\u001b[1;33m:\u001b[0m \u001b[0mx\u001b[0m\u001b[1;33m.\u001b[0m\u001b[0misnull\u001b[0m\u001b[1;33m(\u001b[0m\u001b[1;33m)\u001b[0m\u001b[1;33m,\u001b[0m \u001b[1;36m1\u001b[0m\u001b[1;33m)\u001b[0m\u001b[1;33m.\u001b[0m\u001b[0mfillna\u001b[0m\u001b[1;33m(\u001b[0m\u001b[1;36m0\u001b[0m\u001b[1;33m)\u001b[0m\u001b[1;33m\u001b[0m\u001b[0m\n\u001b[0m\u001b[0;32m      3\u001b[0m \u001b[1;33m\u001b[0m\u001b[0m\n\u001b[0;32m      4\u001b[0m \u001b[1;31m# dropping the source of the new column\u001b[0m\u001b[1;33m\u001b[0m\u001b[1;33m\u001b[0m\u001b[0m\n\u001b[0;32m      5\u001b[0m \u001b[0mlistings_row_clean\u001b[0m\u001b[1;33m.\u001b[0m\u001b[0mdrop\u001b[0m\u001b[1;33m(\u001b[0m\u001b[1;34m'access'\u001b[0m\u001b[1;33m,\u001b[0m \u001b[0maxis\u001b[0m\u001b[1;33m=\u001b[0m\u001b[1;36m1\u001b[0m\u001b[1;33m,\u001b[0m \u001b[0minplace\u001b[0m\u001b[1;33m=\u001b[0m\u001b[1;32mTrue\u001b[0m\u001b[1;33m)\u001b[0m\u001b[1;33m\u001b[0m\u001b[0m\n",
      "\u001b[1;32m~\\Anaconda3\\lib\\site-packages\\pandas\\core\\generic.py\u001b[0m in \u001b[0;36m__getattr__\u001b[1;34m(self, name)\u001b[0m\n\u001b[0;32m   4370\u001b[0m             \u001b[1;32mif\u001b[0m \u001b[0mself\u001b[0m\u001b[1;33m.\u001b[0m\u001b[0m_info_axis\u001b[0m\u001b[1;33m.\u001b[0m\u001b[0m_can_hold_identifiers_and_holds_name\u001b[0m\u001b[1;33m(\u001b[0m\u001b[0mname\u001b[0m\u001b[1;33m)\u001b[0m\u001b[1;33m:\u001b[0m\u001b[1;33m\u001b[0m\u001b[0m\n\u001b[0;32m   4371\u001b[0m                 \u001b[1;32mreturn\u001b[0m \u001b[0mself\u001b[0m\u001b[1;33m[\u001b[0m\u001b[0mname\u001b[0m\u001b[1;33m]\u001b[0m\u001b[1;33m\u001b[0m\u001b[0m\n\u001b[1;32m-> 4372\u001b[1;33m             \u001b[1;32mreturn\u001b[0m \u001b[0mobject\u001b[0m\u001b[1;33m.\u001b[0m\u001b[0m__getattribute__\u001b[0m\u001b[1;33m(\u001b[0m\u001b[0mself\u001b[0m\u001b[1;33m,\u001b[0m \u001b[0mname\u001b[0m\u001b[1;33m)\u001b[0m\u001b[1;33m\u001b[0m\u001b[0m\n\u001b[0m\u001b[0;32m   4373\u001b[0m \u001b[1;33m\u001b[0m\u001b[0m\n\u001b[0;32m   4374\u001b[0m     \u001b[1;32mdef\u001b[0m \u001b[0m__setattr__\u001b[0m\u001b[1;33m(\u001b[0m\u001b[0mself\u001b[0m\u001b[1;33m,\u001b[0m \u001b[0mname\u001b[0m\u001b[1;33m,\u001b[0m \u001b[0mvalue\u001b[0m\u001b[1;33m)\u001b[0m\u001b[1;33m:\u001b[0m\u001b[1;33m\u001b[0m\u001b[0m\n",
      "\u001b[1;31mAttributeError\u001b[0m: 'DataFrame' object has no attribute 'access'"
     ]
    }
   ],
   "source": [
    "# creating the new column for provided access information\n",
    "listings_row_clean.loc[:, 'AccessInfoProvided'] = listings_row_clean.access\\\n",
    "    .where(lambda x: x.isnull(), 1).fillna(0)\n",
    "\n",
    "# dropping the source of the new column\n",
    "listings_row_clean.drop('access', axis=1, inplace=True)"
   ]
  },
  {
   "cell_type": "markdown",
   "metadata": {},
   "source": [
    "##### <ol> Investigating Bathrooms"
   ]
  },
  {
   "cell_type": "code",
   "execution_count": 101,
   "metadata": {},
   "outputs": [
    {
     "data": {
      "text/html": [
       "<div>\n",
       "<style scoped>\n",
       "    .dataframe tbody tr th:only-of-type {\n",
       "        vertical-align: middle;\n",
       "    }\n",
       "\n",
       "    .dataframe tbody tr th {\n",
       "        vertical-align: top;\n",
       "    }\n",
       "\n",
       "    .dataframe thead th {\n",
       "        text-align: right;\n",
       "    }\n",
       "</style>\n",
       "<table border=\"1\" class=\"dataframe\">\n",
       "  <thead>\n",
       "    <tr style=\"text-align: right;\">\n",
       "      <th></th>\n",
       "      <th></th>\n",
       "      <th>bathrooms</th>\n",
       "    </tr>\n",
       "    <tr>\n",
       "      <th>bedrooms</th>\n",
       "      <th></th>\n",
       "      <th></th>\n",
       "    </tr>\n",
       "  </thead>\n",
       "  <tbody>\n",
       "    <tr>\n",
       "      <th>0.0</th>\n",
       "      <th>0</th>\n",
       "      <td>1.0</td>\n",
       "    </tr>\n",
       "    <tr>\n",
       "      <th>1.0</th>\n",
       "      <th>0</th>\n",
       "      <td>1.0</td>\n",
       "    </tr>\n",
       "    <tr>\n",
       "      <th>2.0</th>\n",
       "      <th>0</th>\n",
       "      <td>1.0</td>\n",
       "    </tr>\n",
       "    <tr>\n",
       "      <th>3.0</th>\n",
       "      <th>0</th>\n",
       "      <td>2.0</td>\n",
       "    </tr>\n",
       "    <tr>\n",
       "      <th>4.0</th>\n",
       "      <th>0</th>\n",
       "      <td>2.0</td>\n",
       "    </tr>\n",
       "    <tr>\n",
       "      <th>5.0</th>\n",
       "      <th>0</th>\n",
       "      <td>3.5</td>\n",
       "    </tr>\n",
       "    <tr>\n",
       "      <th rowspan=\"2\" valign=\"top\">6.0</th>\n",
       "      <th>0</th>\n",
       "      <td>3.0</td>\n",
       "    </tr>\n",
       "    <tr>\n",
       "      <th>1</th>\n",
       "      <td>3.5</td>\n",
       "    </tr>\n",
       "    <tr>\n",
       "      <th>7.0</th>\n",
       "      <th>0</th>\n",
       "      <td>4.0</td>\n",
       "    </tr>\n",
       "  </tbody>\n",
       "</table>\n",
       "</div>"
      ],
      "text/plain": [
       "            bathrooms\n",
       "bedrooms             \n",
       "0.0      0        1.0\n",
       "1.0      0        1.0\n",
       "2.0      0        1.0\n",
       "3.0      0        2.0\n",
       "4.0      0        2.0\n",
       "5.0      0        3.5\n",
       "6.0      0        3.0\n",
       "         1        3.5\n",
       "7.0      0        4.0"
      ]
     },
     "execution_count": 101,
     "metadata": {},
     "output_type": "execute_result"
    }
   ],
   "source": [
    "bathroom_to_impute = listings_row_clean.groupby('bedrooms').bathrooms\n",
    "bathroom_to_impute = bathroom_to_impute.apply(lambda x: x.mode()).to_frame()\n",
    "bathroom_to_impute"
   ]
  },
  {
   "cell_type": "code",
   "execution_count": 84,
   "metadata": {},
   "outputs": [
    {
     "data": {
      "text/plain": [
       "array([1.  , 2.  , 2.5 , 3.  ,  nan, 3.25, 4.  ])"
      ]
     },
     "execution_count": 84,
     "metadata": {},
     "output_type": "execute_result"
    }
   ],
   "source": [
    "listings_row_clean.groupby(['bedrooms']).bathrooms.transform('median').unique()"
   ]
  },
  {
   "cell_type": "code",
   "execution_count": 92,
   "metadata": {},
   "outputs": [
    {
     "data": {
      "text/html": [
       "<div>\n",
       "<style scoped>\n",
       "    .dataframe tbody tr th:only-of-type {\n",
       "        vertical-align: middle;\n",
       "    }\n",
       "\n",
       "    .dataframe tbody tr th {\n",
       "        vertical-align: top;\n",
       "    }\n",
       "\n",
       "    .dataframe thead th {\n",
       "        text-align: right;\n",
       "    }\n",
       "</style>\n",
       "<table border=\"1\" class=\"dataframe\">\n",
       "  <thead>\n",
       "    <tr style=\"text-align: right;\">\n",
       "      <th></th>\n",
       "      <th></th>\n",
       "      <th>listings</th>\n",
       "    </tr>\n",
       "    <tr>\n",
       "      <th>bedrooms</th>\n",
       "      <th>bathrooms</th>\n",
       "      <th></th>\n",
       "    </tr>\n",
       "  </thead>\n",
       "  <tbody>\n",
       "    <tr>\n",
       "      <th rowspan=\"5\" valign=\"top\">0.0</th>\n",
       "      <th>0.0</th>\n",
       "      <td>3</td>\n",
       "    </tr>\n",
       "    <tr>\n",
       "      <th>0.5</th>\n",
       "      <td>3</td>\n",
       "    </tr>\n",
       "    <tr>\n",
       "      <th>1.0</th>\n",
       "      <td>641</td>\n",
       "    </tr>\n",
       "    <tr>\n",
       "      <th>1.5</th>\n",
       "      <td>4</td>\n",
       "    </tr>\n",
       "    <tr>\n",
       "      <th>3.5</th>\n",
       "      <td>1</td>\n",
       "    </tr>\n",
       "    <tr>\n",
       "      <th rowspan=\"12\" valign=\"top\">1.0</th>\n",
       "      <th>0.0</th>\n",
       "      <td>18</td>\n",
       "    </tr>\n",
       "    <tr>\n",
       "      <th>0.5</th>\n",
       "      <td>35</td>\n",
       "    </tr>\n",
       "    <tr>\n",
       "      <th>1.0</th>\n",
       "      <td>4072</td>\n",
       "    </tr>\n",
       "    <tr>\n",
       "      <th>1.5</th>\n",
       "      <td>277</td>\n",
       "    </tr>\n",
       "    <tr>\n",
       "      <th>2.0</th>\n",
       "      <td>211</td>\n",
       "    </tr>\n",
       "    <tr>\n",
       "      <th>2.5</th>\n",
       "      <td>44</td>\n",
       "    </tr>\n",
       "    <tr>\n",
       "      <th>3.0</th>\n",
       "      <td>19</td>\n",
       "    </tr>\n",
       "    <tr>\n",
       "      <th>3.5</th>\n",
       "      <td>15</td>\n",
       "    </tr>\n",
       "    <tr>\n",
       "      <th>4.5</th>\n",
       "      <td>1</td>\n",
       "    </tr>\n",
       "    <tr>\n",
       "      <th>5.0</th>\n",
       "      <td>6</td>\n",
       "    </tr>\n",
       "    <tr>\n",
       "      <th>6.0</th>\n",
       "      <td>4</td>\n",
       "    </tr>\n",
       "    <tr>\n",
       "      <th>8.0</th>\n",
       "      <td>2</td>\n",
       "    </tr>\n",
       "    <tr>\n",
       "      <th rowspan=\"6\" valign=\"top\">2.0</th>\n",
       "      <th>1.0</th>\n",
       "      <td>719</td>\n",
       "    </tr>\n",
       "    <tr>\n",
       "      <th>1.5</th>\n",
       "      <td>109</td>\n",
       "    </tr>\n",
       "    <tr>\n",
       "      <th>2.0</th>\n",
       "      <td>439</td>\n",
       "    </tr>\n",
       "    <tr>\n",
       "      <th>2.5</th>\n",
       "      <td>51</td>\n",
       "    </tr>\n",
       "    <tr>\n",
       "      <th>3.0</th>\n",
       "      <td>3</td>\n",
       "    </tr>\n",
       "    <tr>\n",
       "      <th>5.0</th>\n",
       "      <td>1</td>\n",
       "    </tr>\n",
       "    <tr>\n",
       "      <th rowspan=\"7\" valign=\"top\">3.0</th>\n",
       "      <th>1.0</th>\n",
       "      <td>98</td>\n",
       "    </tr>\n",
       "    <tr>\n",
       "      <th>1.5</th>\n",
       "      <td>53</td>\n",
       "    </tr>\n",
       "    <tr>\n",
       "      <th>2.0</th>\n",
       "      <td>153</td>\n",
       "    </tr>\n",
       "    <tr>\n",
       "      <th>2.5</th>\n",
       "      <td>77</td>\n",
       "    </tr>\n",
       "    <tr>\n",
       "      <th>3.0</th>\n",
       "      <td>32</td>\n",
       "    </tr>\n",
       "    <tr>\n",
       "      <th>3.5</th>\n",
       "      <td>19</td>\n",
       "    </tr>\n",
       "    <tr>\n",
       "      <th>4.0</th>\n",
       "      <td>2</td>\n",
       "    </tr>\n",
       "    <tr>\n",
       "      <th rowspan=\"7\" valign=\"top\">4.0</th>\n",
       "      <th>1.0</th>\n",
       "      <td>11</td>\n",
       "    </tr>\n",
       "    <tr>\n",
       "      <th>1.5</th>\n",
       "      <td>7</td>\n",
       "    </tr>\n",
       "    <tr>\n",
       "      <th>2.0</th>\n",
       "      <td>35</td>\n",
       "    </tr>\n",
       "    <tr>\n",
       "      <th>2.5</th>\n",
       "      <td>16</td>\n",
       "    </tr>\n",
       "    <tr>\n",
       "      <th>3.0</th>\n",
       "      <td>21</td>\n",
       "    </tr>\n",
       "    <tr>\n",
       "      <th>3.5</th>\n",
       "      <td>20</td>\n",
       "    </tr>\n",
       "    <tr>\n",
       "      <th>4.0</th>\n",
       "      <td>4</td>\n",
       "    </tr>\n",
       "    <tr>\n",
       "      <th rowspan=\"8\" valign=\"top\">5.0</th>\n",
       "      <th>1.0</th>\n",
       "      <td>2</td>\n",
       "    </tr>\n",
       "    <tr>\n",
       "      <th>1.5</th>\n",
       "      <td>3</td>\n",
       "    </tr>\n",
       "    <tr>\n",
       "      <th>2.0</th>\n",
       "      <td>7</td>\n",
       "    </tr>\n",
       "    <tr>\n",
       "      <th>2.5</th>\n",
       "      <td>3</td>\n",
       "    </tr>\n",
       "    <tr>\n",
       "      <th>3.0</th>\n",
       "      <td>7</td>\n",
       "    </tr>\n",
       "    <tr>\n",
       "      <th>3.5</th>\n",
       "      <td>13</td>\n",
       "    </tr>\n",
       "    <tr>\n",
       "      <th>4.0</th>\n",
       "      <td>2</td>\n",
       "    </tr>\n",
       "    <tr>\n",
       "      <th>4.5</th>\n",
       "      <td>3</td>\n",
       "    </tr>\n",
       "    <tr>\n",
       "      <th rowspan=\"4\" valign=\"top\">6.0</th>\n",
       "      <th>2.0</th>\n",
       "      <td>1</td>\n",
       "    </tr>\n",
       "    <tr>\n",
       "      <th>3.0</th>\n",
       "      <td>2</td>\n",
       "    </tr>\n",
       "    <tr>\n",
       "      <th>3.5</th>\n",
       "      <td>2</td>\n",
       "    </tr>\n",
       "    <tr>\n",
       "      <th>4.0</th>\n",
       "      <td>1</td>\n",
       "    </tr>\n",
       "    <tr>\n",
       "      <th>7.0</th>\n",
       "      <th>4.0</th>\n",
       "      <td>1</td>\n",
       "    </tr>\n",
       "  </tbody>\n",
       "</table>\n",
       "</div>"
      ],
      "text/plain": [
       "                    listings\n",
       "bedrooms bathrooms          \n",
       "0.0      0.0               3\n",
       "         0.5               3\n",
       "         1.0             641\n",
       "         1.5               4\n",
       "         3.5               1\n",
       "1.0      0.0              18\n",
       "         0.5              35\n",
       "         1.0            4072\n",
       "         1.5             277\n",
       "         2.0             211\n",
       "         2.5              44\n",
       "         3.0              19\n",
       "         3.5              15\n",
       "         4.5               1\n",
       "         5.0               6\n",
       "         6.0               4\n",
       "         8.0               2\n",
       "2.0      1.0             719\n",
       "         1.5             109\n",
       "         2.0             439\n",
       "         2.5              51\n",
       "         3.0               3\n",
       "         5.0               1\n",
       "3.0      1.0              98\n",
       "         1.5              53\n",
       "         2.0             153\n",
       "         2.5              77\n",
       "         3.0              32\n",
       "         3.5              19\n",
       "         4.0               2\n",
       "4.0      1.0              11\n",
       "         1.5               7\n",
       "         2.0              35\n",
       "         2.5              16\n",
       "         3.0              21\n",
       "         3.5              20\n",
       "         4.0               4\n",
       "5.0      1.0               2\n",
       "         1.5               3\n",
       "         2.0               7\n",
       "         2.5               3\n",
       "         3.0               7\n",
       "         3.5              13\n",
       "         4.0               2\n",
       "         4.5               3\n",
       "6.0      2.0               1\n",
       "         3.0               2\n",
       "         3.5               2\n",
       "         4.0               1\n",
       "7.0      4.0               1"
      ]
     },
     "execution_count": 92,
     "metadata": {},
     "output_type": "execute_result"
    }
   ],
   "source": [
    "listings_row_clean.groupby(['bedrooms', 'bathrooms']).size().to_frame('listings')"
   ]
  },
  {
   "cell_type": "markdown",
   "metadata": {},
   "source": [
    "### <li> Preparing Data for Analysis: Starting Calendar Imputations"
   ]
  },
  {
   "cell_type": "code",
   "execution_count": 64,
   "metadata": {},
   "outputs": [],
   "source": [
    "calendar_imputed = calendar.copy()"
   ]
  },
  {
   "cell_type": "markdown",
   "metadata": {},
   "source": [
    "#### Null Price Imputations"
   ]
  },
  {
   "cell_type": "code",
   "execution_count": 65,
   "metadata": {},
   "outputs": [],
   "source": [
    "filter_bos_cond = (calendar.rowsource == 'data\\\\boston_airbnb_open_data\\\\calendar.csv')\n",
    "filter_sea_cond = (calendar.rowsource == 'data\\\\seattle\\\\calendar.csv')"
   ]
  },
  {
   "cell_type": "markdown",
   "metadata": {},
   "source": [
    "##### <ol> Boston Imputation"
   ]
  },
  {
   "cell_type": "code",
   "execution_count": 66,
   "metadata": {},
   "outputs": [
    {
     "data": {
      "text/plain": [
       "count    1801.000000\n",
       "mean      190.804553\n",
       "std       182.108034\n",
       "min        20.000000\n",
       "25%        80.000000\n",
       "50%       150.000000\n",
       "75%       249.000000\n",
       "max      4000.000000\n",
       "Name: price, dtype: float64"
      ]
     },
     "execution_count": 66,
     "metadata": {},
     "output_type": "execute_result"
    }
   ],
   "source": [
    "calendar[filter_bos_cond].query(\"date == '2017-09-05'\").price.describe()"
   ]
  },
  {
   "cell_type": "code",
   "execution_count": 84,
   "metadata": {},
   "outputs": [],
   "source": [
    "# daily medians to impute for boston\n",
    "bos_medians = calendar[filter_bos_cond].groupby(['rowsource', 'date']).price.transform('median')\n",
    "\n",
    "# boston price imputation\n",
    "calendar_imputed.loc[filter_bos_cond, 'price'] = calendar[filter_bos_cond].price.fillna(bos_medians)"
   ]
  },
  {
   "cell_type": "code",
   "execution_count": 85,
   "metadata": {},
   "outputs": [
    {
     "data": {
      "text/html": [
       "<div>\n",
       "<style scoped>\n",
       "    .dataframe tbody tr th:only-of-type {\n",
       "        vertical-align: middle;\n",
       "    }\n",
       "\n",
       "    .dataframe tbody tr th {\n",
       "        vertical-align: top;\n",
       "    }\n",
       "\n",
       "    .dataframe thead th {\n",
       "        text-align: right;\n",
       "    }\n",
       "</style>\n",
       "<table border=\"1\" class=\"dataframe\">\n",
       "  <thead>\n",
       "    <tr style=\"text-align: right;\">\n",
       "      <th></th>\n",
       "      <th>available</th>\n",
       "      <th>date</th>\n",
       "      <th>listing_id</th>\n",
       "      <th>price</th>\n",
       "      <th>rowsource</th>\n",
       "      <th>nan_grp</th>\n",
       "      <th>source_grp</th>\n",
       "      <th>date_num</th>\n",
       "      <th>month_name</th>\n",
       "    </tr>\n",
       "  </thead>\n",
       "  <tbody>\n",
       "    <tr>\n",
       "      <th>0</th>\n",
       "      <td>f</td>\n",
       "      <td>2017-09-05</td>\n",
       "      <td>12147973</td>\n",
       "      <td>150.0</td>\n",
       "      <td>data\\boston_airbnb_open_data\\calendar.csv</td>\n",
       "      <td>MissingValue</td>\n",
       "      <td>data\\boston_airbnb_open_data\\calendar.csv - Mi...</td>\n",
       "      <td>611.0</td>\n",
       "      <td>September</td>\n",
       "    </tr>\n",
       "  </tbody>\n",
       "</table>\n",
       "</div>"
      ],
      "text/plain": [
       "  available       date  listing_id  price  \\\n",
       "0         f 2017-09-05    12147973  150.0   \n",
       "\n",
       "                                   rowsource       nan_grp  \\\n",
       "0  data\\boston_airbnb_open_data\\calendar.csv  MissingValue   \n",
       "\n",
       "                                          source_grp  date_num month_name  \n",
       "0  data\\boston_airbnb_open_data\\calendar.csv - Mi...     611.0  September  "
      ]
     },
     "execution_count": 85,
     "metadata": {},
     "output_type": "execute_result"
    }
   ],
   "source": [
    "# Validating imputation\n",
    "calendar_imputed.query(\"date=='2017-09-05' and nan_grp=='MissingValue'\").head(1)"
   ]
  },
  {
   "cell_type": "markdown",
   "metadata": {},
   "source": [
    "##### <ol> Seattle Imputation"
   ]
  },
  {
   "cell_type": "code",
   "execution_count": 77,
   "metadata": {},
   "outputs": [
    {
     "data": {
      "text/plain": [
       "count    2544.000000\n",
       "mean      142.087264\n",
       "std       109.675987\n",
       "min        20.000000\n",
       "25%        75.000000\n",
       "50%       110.000000\n",
       "75%       170.000000\n",
       "max      1450.000000\n",
       "Name: price, dtype: float64"
      ]
     },
     "execution_count": 77,
     "metadata": {},
     "output_type": "execute_result"
    }
   ],
   "source": [
    "calendar[filter_sea_cond].query(\"date == '2016-09-05'\").price.describe()"
   ]
  },
  {
   "cell_type": "code",
   "execution_count": 86,
   "metadata": {},
   "outputs": [],
   "source": [
    "# daily medians to impute for boston\n",
    "sea_medians = calendar[filter_sea_cond].groupby(['rowsource', 'date']).price.transform('median')\n",
    "\n",
    "# boston price imputation\n",
    "calendar_imputed.loc[filter_sea_cond, 'price'] = calendar[filter_sea_cond].price.fillna(sea_medians)"
   ]
  },
  {
   "cell_type": "code",
   "execution_count": 87,
   "metadata": {},
   "outputs": [
    {
     "data": {
      "text/html": [
       "<div>\n",
       "<style scoped>\n",
       "    .dataframe tbody tr th:only-of-type {\n",
       "        vertical-align: middle;\n",
       "    }\n",
       "\n",
       "    .dataframe tbody tr th {\n",
       "        vertical-align: top;\n",
       "    }\n",
       "\n",
       "    .dataframe thead th {\n",
       "        text-align: right;\n",
       "    }\n",
       "</style>\n",
       "<table border=\"1\" class=\"dataframe\">\n",
       "  <thead>\n",
       "    <tr style=\"text-align: right;\">\n",
       "      <th></th>\n",
       "      <th>available</th>\n",
       "      <th>date</th>\n",
       "      <th>listing_id</th>\n",
       "      <th>price</th>\n",
       "      <th>rowsource</th>\n",
       "      <th>nan_grp</th>\n",
       "      <th>source_grp</th>\n",
       "      <th>date_num</th>\n",
       "      <th>month_name</th>\n",
       "    </tr>\n",
       "  </thead>\n",
       "  <tbody>\n",
       "    <tr>\n",
       "      <th>2800</th>\n",
       "      <td>f</td>\n",
       "      <td>2016-09-05</td>\n",
       "      <td>856550</td>\n",
       "      <td>110.0</td>\n",
       "      <td>data\\seattle\\calendar.csv</td>\n",
       "      <td>MissingValue</td>\n",
       "      <td>data\\seattle\\calendar.csv - MissingValue</td>\n",
       "      <td>246.0</td>\n",
       "      <td>September</td>\n",
       "    </tr>\n",
       "  </tbody>\n",
       "</table>\n",
       "</div>"
      ],
      "text/plain": [
       "     available       date  listing_id  price                  rowsource  \\\n",
       "2800         f 2016-09-05      856550  110.0  data\\seattle\\calendar.csv   \n",
       "\n",
       "           nan_grp                                source_grp  date_num  \\\n",
       "2800  MissingValue  data\\seattle\\calendar.csv - MissingValue     246.0   \n",
       "\n",
       "     month_name  \n",
       "2800  September  "
      ]
     },
     "execution_count": 87,
     "metadata": {},
     "output_type": "execute_result"
    }
   ],
   "source": [
    "# Validating imputation\n",
    "calendar_imputed.query(\"date=='2016-09-05' and nan_grp=='MissingValue'\").head(1)"
   ]
  },
  {
   "cell_type": "markdown",
   "metadata": {},
   "source": [
    "##### <ol> imputed_price Category"
   ]
  },
  {
   "cell_type": "code",
   "execution_count": 90,
   "metadata": {},
   "outputs": [],
   "source": [
    "# mapping the labels for the imputed_price category\n",
    "imputed_price = {'MissingValue': 1, 'ProvidedValue': 0}\n",
    "\n",
    "# creating category\n",
    "calendar_imputed['imputed_price'] = calendar_imputed.nan_grp.map(imputed_price)"
   ]
  },
  {
   "cell_type": "code",
   "execution_count": 95,
   "metadata": {},
   "outputs": [
    {
     "data": {
      "text/plain": [
       "array(['MissingValue'], dtype=object)"
      ]
     },
     "execution_count": 95,
     "metadata": {},
     "output_type": "execute_result"
    }
   ],
   "source": [
    "# validating imputed_price category\n",
    "calendar_imputed.query(\"imputed_price==1\").nan_grp.unique()"
   ]
  },
  {
   "cell_type": "code",
   "execution_count": 97,
   "metadata": {},
   "outputs": [],
   "source": [
    "# dropping nan_grp and other unecessary columns\n",
    "drop_from_calendar = ['rowsource', 'nan_grp', 'source_grp']\n",
    "calendar_imputed.drop(drop_from_calendar, axis=1, inplace=True)"
   ]
  },
  {
   "cell_type": "code",
   "execution_count": 98,
   "metadata": {},
   "outputs": [
    {
     "data": {
      "text/html": [
       "<div>\n",
       "<style scoped>\n",
       "    .dataframe tbody tr th:only-of-type {\n",
       "        vertical-align: middle;\n",
       "    }\n",
       "\n",
       "    .dataframe tbody tr th {\n",
       "        vertical-align: top;\n",
       "    }\n",
       "\n",
       "    .dataframe thead th {\n",
       "        text-align: right;\n",
       "    }\n",
       "</style>\n",
       "<table border=\"1\" class=\"dataframe\">\n",
       "  <thead>\n",
       "    <tr style=\"text-align: right;\">\n",
       "      <th></th>\n",
       "      <th>available</th>\n",
       "      <th>date</th>\n",
       "      <th>listing_id</th>\n",
       "      <th>price</th>\n",
       "      <th>date_num</th>\n",
       "      <th>month_name</th>\n",
       "      <th>imputed_price</th>\n",
       "    </tr>\n",
       "  </thead>\n",
       "  <tbody>\n",
       "    <tr>\n",
       "      <th>0</th>\n",
       "      <td>f</td>\n",
       "      <td>2017-09-05</td>\n",
       "      <td>12147973</td>\n",
       "      <td>150.0</td>\n",
       "      <td>611.0</td>\n",
       "      <td>September</td>\n",
       "      <td>1</td>\n",
       "    </tr>\n",
       "    <tr>\n",
       "      <th>1</th>\n",
       "      <td>f</td>\n",
       "      <td>2017-09-04</td>\n",
       "      <td>12147973</td>\n",
       "      <td>150.0</td>\n",
       "      <td>610.0</td>\n",
       "      <td>September</td>\n",
       "      <td>1</td>\n",
       "    </tr>\n",
       "    <tr>\n",
       "      <th>2</th>\n",
       "      <td>f</td>\n",
       "      <td>2017-09-03</td>\n",
       "      <td>12147973</td>\n",
       "      <td>150.0</td>\n",
       "      <td>609.0</td>\n",
       "      <td>September</td>\n",
       "      <td>1</td>\n",
       "    </tr>\n",
       "    <tr>\n",
       "      <th>3</th>\n",
       "      <td>f</td>\n",
       "      <td>2017-09-02</td>\n",
       "      <td>12147973</td>\n",
       "      <td>150.0</td>\n",
       "      <td>608.0</td>\n",
       "      <td>September</td>\n",
       "      <td>1</td>\n",
       "    </tr>\n",
       "    <tr>\n",
       "      <th>4</th>\n",
       "      <td>f</td>\n",
       "      <td>2017-09-01</td>\n",
       "      <td>12147973</td>\n",
       "      <td>150.0</td>\n",
       "      <td>607.0</td>\n",
       "      <td>September</td>\n",
       "      <td>1</td>\n",
       "    </tr>\n",
       "  </tbody>\n",
       "</table>\n",
       "</div>"
      ],
      "text/plain": [
       "  available       date  listing_id  price  date_num month_name  imputed_price\n",
       "0         f 2017-09-05    12147973  150.0     611.0  September              1\n",
       "1         f 2017-09-04    12147973  150.0     610.0  September              1\n",
       "2         f 2017-09-03    12147973  150.0     609.0  September              1\n",
       "3         f 2017-09-02    12147973  150.0     608.0  September              1\n",
       "4         f 2017-09-01    12147973  150.0     607.0  September              1"
      ]
     },
     "execution_count": 98,
     "metadata": {},
     "output_type": "execute_result"
    }
   ],
   "source": [
    "calendar_imputed.head()"
   ]
  },
  {
   "cell_type": "markdown",
   "metadata": {},
   "source": [
    "# Analysis & Visualizations"
   ]
  },
  {
   "cell_type": "markdown",
   "metadata": {},
   "source": [
    "# Modeling & Visualizations"
   ]
  },
  {
   "cell_type": "markdown",
   "metadata": {},
   "source": [
    "# Evaluating Results"
   ]
  },
  {
   "cell_type": "markdown",
   "metadata": {},
   "source": [
    "# Conclussion"
   ]
  },
  {
   "cell_type": "code",
   "execution_count": null,
   "metadata": {},
   "outputs": [],
   "source": []
  },
  {
   "cell_type": "code",
   "execution_count": 217,
   "metadata": {},
   "outputs": [
    {
     "data": {
      "text/plain": [
       "0"
      ]
     },
     "execution_count": 217,
     "metadata": {},
     "output_type": "execute_result"
    }
   ],
   "source": [
    "os.system(\"git add .\")"
   ]
  },
  {
   "cell_type": "code",
   "execution_count": 218,
   "metadata": {},
   "outputs": [
    {
     "data": {
      "text/plain": [
       "0"
      ]
     },
     "execution_count": 218,
     "metadata": {},
     "output_type": "execute_result"
    }
   ],
   "source": [
    "os.system('git commit -m \"Understading review and listing relationship\"')"
   ]
  },
  {
   "cell_type": "code",
   "execution_count": 219,
   "metadata": {
    "scrolled": true
   },
   "outputs": [
    {
     "data": {
      "text/plain": [
       "0"
      ]
     },
     "execution_count": 219,
     "metadata": {},
     "output_type": "execute_result"
    }
   ],
   "source": [
    "os.system(\"git push\")"
   ]
  },
  {
   "cell_type": "code",
   "execution_count": null,
   "metadata": {},
   "outputs": [],
   "source": []
  }
 ],
 "metadata": {
  "kernelspec": {
   "display_name": "Python 3",
   "language": "python",
   "name": "python3"
  },
  "language_info": {
   "codemirror_mode": {
    "name": "ipython",
    "version": 3
   },
   "file_extension": ".py",
   "mimetype": "text/x-python",
   "name": "python",
   "nbconvert_exporter": "python",
   "pygments_lexer": "ipython3",
   "version": "3.6.5"
  }
 },
 "nbformat": 4,
 "nbformat_minor": 2
}
